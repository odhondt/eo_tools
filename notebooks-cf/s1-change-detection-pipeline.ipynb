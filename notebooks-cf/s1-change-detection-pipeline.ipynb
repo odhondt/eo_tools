{
 "cells": [
  {
   "cell_type": "code",
   "execution_count": null,
   "metadata": {},
   "outputs": [],
   "source": [
    "%load_ext autoreload\n",
    "%autoreload 2\n",
    "import logging\n",
    "logging.basicConfig(level=logging.INFO)\n",
    "import matplotlib.pyplot as plt\n",
    "\n",
    "import geopandas as gpd\n",
    "from eodag import EODataAccessGateway\n",
    "import rioxarray as riox\n",
    "import numpy as np\n",
    "\n",
    "# credentials need to be stored in the following file (see EODAG docs)\n",
    "confpath = \"/data/eodag_config.yml\"\n",
    "dag = EODataAccessGateway(user_conf_file_path=confpath)\n",
    "# make sure cop_dataspace will be used \n",
    "dag.set_preferred_provider(\"cop_dataspace\")\n",
    "log = logging.getLogger(__name__)"
   ]
  },
  {
   "cell_type": "markdown",
   "metadata": {},
   "source": [
    "## Set up parameters and output dir\n",
    "\n",
    "### Important\n",
    "- The products must be **unzipped** either manually or by using `extract=True` in the download call. \n",
    "- In the following products, only IW1 and IW2 are relevant as IW3 contains only water pixels."
   ]
  },
  {
   "cell_type": "code",
   "execution_count": null,
   "metadata": {},
   "outputs": [],
   "source": [
    "# change to your custom locations\n",
    "data_dir = \"/data/S1\"\n",
    "\n",
    "ids = [\n",
    " \"S1A_IW_SLC__1SDV_20230904T063730_20230904T063757_050174_0609E3_DAA1\", \n",
    " \"S1A_IW_SLC__1SDV_20230916T063730_20230916T063757_050349_060FCD_6814\"\n",
    "]\n",
    "primary_dir = f\"{data_dir}/{ids[0]}.SAFE\"\n",
    "secondary_dir = f\"{data_dir}/{ids[1]}.SAFE\"\n",
    "outputs_prefix=\"/data/res/test-change-detection-pipeline\""
   ]
  },
  {
   "cell_type": "markdown",
   "metadata": {},
   "source": [
    "## Download S-1 products"
   ]
  },
  {
   "cell_type": "code",
   "execution_count": null,
   "metadata": {},
   "outputs": [],
   "source": [
    "# load a geometry\n",
    "file_aoi = \"../data/Morocco_AOI.geojson\"\n",
    "shp = gpd.read_file(file_aoi).geometry[0]\n",
    "\n",
    "search_criteria = {\n",
    "    \"productType\": \"S1_SAR_SLC\",\n",
    "    \"start\": \"2023-09-03\",\n",
    "    \"end\": \"2023-09-17\",\n",
    "    \"geom\": shp\n",
    "}\n",
    "\n",
    "results, _ = dag.search(**search_criteria)\n",
    "to_dl = [it for it in results if it.properties[\"id\"] in ids]\n",
    "print(f\"{len(to_dl)} products to download\")\n",
    "# dag.download_all(to_dl, outputs_prefix=\"/data/S1/\", extract=False)"
   ]
  },
  {
   "cell_type": "markdown",
   "metadata": {},
   "source": [
    "## Pre-process InSAR pair"
   ]
  },
  {
   "cell_type": "code",
   "execution_count": null,
   "metadata": {},
   "outputs": [],
   "source": [
    "from eo_tools.S1.process import prepare_insar\n",
    "\n",
    "out_dir = prepare_insar(\n",
    "    dir_prm=primary_dir,\n",
    "    dir_sec=secondary_dir,\n",
    "    outputs_prefix=outputs_prefix,\n",
    "    aoi_name=None,\n",
    "    shp=shp,\n",
    "    pol=\"full\",\n",
    "    subswaths=[\"IW1\", \"IW2\", \"IW3\"],\n",
    "    cal_type=\"sigma\",\n",
    "    apply_fast_esd=False,\n",
    "    dem_upsampling=1.8,\n",
    "    dem_force_download=False,\n",
    "    dem_buffer_arc_sec=40,\n",
    "    warp_kernel=\"bicubic\",\n",
    ")"
   ]
  },
  {
   "cell_type": "markdown",
   "metadata": {},
   "source": [
    "## Define a simple amplitude change detection function"
   ]
  },
  {
   "cell_type": "code",
   "execution_count": null,
   "metadata": {},
   "outputs": [],
   "source": [
    "def change_detection(file_amp_prm, file_amp_sec, file_out):\n",
    "    log.info(\"Smoothing amplitudes\")\n",
    "    amp_prm = riox.open_rasterio(file_amp_prm)[0].rolling(x=7, y=7, center=True).mean()\n",
    "    amp_sec = riox.open_rasterio(file_amp_sec)[0].rolling(x=7, y=7, center=True).mean()\n",
    "    log.info(\"Incoherent changes\")\n",
    "    ch = np.log(amp_prm+1e-10) - np.log(amp_sec+1e-10)\n",
    "    ch.rio.to_raster(file_out)"
   ]
  },
  {
   "cell_type": "markdown",
   "metadata": {},
   "source": [
    "## Apply processing chains: coherence and change detection"
   ]
  },
  {
   "cell_type": "code",
   "execution_count": null,
   "metadata": {},
   "outputs": [],
   "source": [
    "from eo_tools.S1.process import coherence, amplitude\n",
    "from eo_tools.S1.process import apply_to_patterns_for_pair, apply_to_patterns_for_single\n",
    "from pathlib import Path\n",
    "\n",
    "out_dir = f\"{outputs_prefix}/S1_InSAR_2023-09-04-063730__2023-09-16-063730/sar\"\n",
    "geo_dir = Path(out_dir).parent\n",
    "\n",
    "# compute interferometric coherence\n",
    "apply_to_patterns_for_pair(\n",
    "    coherence,\n",
    "    out_dir=out_dir,\n",
    "    file_prm_prefix=\"slc_prm\",\n",
    "    file_sec_prefix=\"slc_sec\",\n",
    "    file_out_prefix=\"coh\",\n",
    "    box_size=[3, 10],\n",
    "    multilook=[1, 4],\n",
    ")\n",
    "\n",
    "# compute primary amplitude\n",
    "apply_to_patterns_for_single(\n",
    "    amplitude,\n",
    "    out_dir=out_dir,\n",
    "    file_in_prefix=\"slc_prm\",\n",
    "    file_out_prefix=\"amp_prm\",\n",
    "    multilook=[2, 8],\n",
    ")\n",
    "\n",
    "# compute secondary amplitude\n",
    "apply_to_patterns_for_single(\n",
    "    amplitude,\n",
    "    out_dir=out_dir,\n",
    "    file_in_prefix=\"slc_sec\",\n",
    "    file_out_prefix=\"amp_sec\",\n",
    "    multilook=[2, 8],\n",
    ")\n",
    "\n",
    "# compute incoherent changes\n",
    "apply_to_patterns_for_pair(\n",
    "    change_detection,\n",
    "    out_dir=out_dir,\n",
    "    file_prm_prefix=\"amp_prm\",\n",
    "    file_sec_prefix=\"amp_sec\",\n",
    "    file_out_prefix=\"change\",\n",
    ")"
   ]
  },
  {
   "cell_type": "markdown",
   "metadata": {},
   "source": [
    "## Apply geocoding, merge and crop subswaths"
   ]
  },
  {
   "cell_type": "code",
   "execution_count": null,
   "metadata": {},
   "outputs": [],
   "source": [
    "from eo_tools.S1.process import geocode_and_merge_iw\n",
    "geo_dir = Path(out_dir).parent\n",
    "geocode_and_merge_iw(geo_dir, shp=shp, var_names=[\"coh\",\"change\"])"
   ]
  },
  {
   "cell_type": "markdown",
   "metadata": {},
   "source": [
    "## Visualize"
   ]
  },
  {
   "cell_type": "code",
   "execution_count": null,
   "metadata": {},
   "outputs": [],
   "source": [
    "arr_amp = riox.open_rasterio(f\"{geo_dir}/change_vv.tif\", masked=True)[0]\n",
    "arr_amp.plot.imshow(vmin=-0.25, vmax=0.25, cmap=\"RdBu_r\")"
   ]
  },
  {
   "cell_type": "code",
   "execution_count": null,
   "metadata": {},
   "outputs": [],
   "source": [
    "arr_amp = riox.open_rasterio(f\"{geo_dir}/change_vh.tif\", masked=True)[0]\n",
    "arr_amp.plot.imshow(vmin=-0.25, vmax=0.25, cmap=\"RdBu_r\")"
   ]
  },
  {
   "cell_type": "code",
   "execution_count": null,
   "metadata": {},
   "outputs": [],
   "source": [
    "arr_coh = riox.open_rasterio(f\"{geo_dir}/coh_vv.tif\", masked=True)[0]\n",
    "arr_coh.plot.imshow(vmin=0,vmax=1, cmap=\"gray\")"
   ]
  },
  {
   "cell_type": "code",
   "execution_count": null,
   "metadata": {},
   "outputs": [],
   "source": [
    "arr_coh = riox.open_rasterio(f\"{geo_dir}/coh_vh.tif\", masked=True)[0]\n",
    "arr_coh.plot.imshow(vmin=0,vmax=1, cmap=\"gray\")"
   ]
  }
 ],
 "metadata": {
  "kernelspec": {
   "display_name": "Python 3",
   "language": "python",
   "name": "python3"
  },
  "language_info": {
   "codemirror_mode": {
    "name": "ipython",
    "version": 3
   },
   "file_extension": ".py",
   "mimetype": "text/x-python",
   "name": "python",
   "nbconvert_exporter": "python",
   "pygments_lexer": "ipython3",
   "version": "3.12.5"
  }
 },
 "nbformat": 4,
 "nbformat_minor": 2
}
