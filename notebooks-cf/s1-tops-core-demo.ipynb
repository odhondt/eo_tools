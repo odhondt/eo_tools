{
 "cells": [
  {
   "cell_type": "code",
   "execution_count": null,
   "metadata": {},
   "outputs": [],
   "source": [
    "%load_ext autoreload\n",
    "%autoreload 2\n",
    "\n",
    "from eo_tools.S1.core import S1IWSwath\n",
    "from eo_tools.S1.core import align, coregister\n",
    "from eo_tools.S1.core import resample\n",
    "\n",
    "import xarray as xr\n",
    "import rioxarray as riox\n",
    "from rioxarray.merge import merge_arrays\n",
    "from eo_tools.auxils import remove\n",
    "\n",
    "from eo_tools.S1.util import presum\n",
    "import numpy as np\n",
    "import os\n",
    "\n",
    "import logging\n",
    "\n",
    "log = logging.getLogger(__name__)\n",
    "logging.basicConfig(level=logging.INFO)"
   ]
  },
  {
   "cell_type": "markdown",
   "metadata": {},
   "source": [
    "# Parameter setup"
   ]
  },
  {
   "cell_type": "code",
   "execution_count": null,
   "metadata": {},
   "outputs": [],
   "source": [
    "# change with directory containing your S1 products\n",
    "data_dir = \"/data/S1\"\n",
    "# change with directory containing the results\n",
    "out_dir = \"/data/res/test-core-functions\"\n",
    "if not os.path.isdir(out_dir):\n",
    "    os.mkdir(out_dir)\n",
    "\n",
    "# replace with already downloaded and unzipped products \n",
    "primary_dir = f\"{data_dir}/S1A_IW_SLC__1SDV_20230904T063730_20230904T063757_050174_0609E3_DAA1.SAFE\"\n",
    "secondary_dir = f\"{data_dir}/S1A_IW_SLC__1SDV_20230916T063730_20230916T063757_050349_060FCD_6814.SAFE\"\n",
    "\n",
    "# subswath to process\n",
    "iw = 1\n",
    "# polarization\n",
    "pol = \"vv\"\n",
    "# DEM upsampling\n",
    "up = 1.8\n",
    "\n",
    "min_burst = 3\n",
    "max_burst = 6"
   ]
  },
  {
   "cell_type": "markdown",
   "metadata": {},
   "source": [
    "# Process individual bursts"
   ]
  },
  {
   "cell_type": "code",
   "execution_count": null,
   "metadata": {},
   "outputs": [],
   "source": [
    "ifgs = []\n",
    "lut = []\n",
    "dems = []\n",
    "\n",
    "prm = S1IWSwath(primary_dir, iw=iw, pol=pol)\n",
    "sec = S1IWSwath(secondary_dir, iw=iw, pol=pol)\n",
    "overlap = np.round(prm.compute_burst_overlap(2)).astype(int)\n",
    "\n",
    "for burst_idx in range(min_burst, max_burst + 1):\n",
    "    log.info(f\"---- Processing burst {burst_idx} ----\")\n",
    "\n",
    "    # compute geocoding LUTs for master and slave bursts\n",
    "    file_dem = prm.fetch_dem_burst(burst_idx, dir_dem=\"/data/tmp\", force_download=True)\n",
    "    az_p2g, rg_p2g, _ = prm.geocode_burst(\n",
    "        file_dem, burst_idx=burst_idx, dem_upsampling=up\n",
    "    )\n",
    "    az_s2g, rg_s2g, _ = sec.geocode_burst(\n",
    "        file_dem, burst_idx=burst_idx, dem_upsampling=up\n",
    "    )\n",
    "\n",
    "    # read primary and secondary burst raster\n",
    "    arr_p = prm.read_burst(burst_idx, True)\n",
    "    arr_s = sec.read_burst(burst_idx, True)\n",
    "    \n",
    "    # radiometric calibration \n",
    "    cal_p = prm.calibration_factor(burst_idx, cal_type=\"beta\")\n",
    "    arr_p /= cal_p\n",
    "    cal_s = sec.calibration_factor(burst_idx, cal_type=\"beta\")\n",
    "    arr_s /= cal_s\n",
    "\n",
    "    # deramp secondary\n",
    "    pdb_s = sec.deramp_burst(burst_idx)\n",
    "    arr_s_de = arr_s * np.exp(1j * pdb_s).astype(np.complex64)\n",
    "\n",
    "    # project slave LUT into master grid\n",
    "    az_s2p, rg_s2p = coregister(arr_p, az_p2g, rg_p2g, az_s2g, rg_s2g)\n",
    "\n",
    "    # warp raster slave and deramping phase\n",
    "    arr_s2p = align(arr_s_de, az_s2p, rg_s2p, kernel=\"bicubic\")\n",
    "    pdb_s2p = align(pdb_s, az_s2p, rg_s2p, kernel=\"bicubic\")\n",
    "\n",
    "    # reramp slave\n",
    "    arr_s2p = arr_s2p * np.exp(-1j * pdb_s2p).astype(np.complex64)\n",
    "\n",
    "    # compute topographic phases\n",
    "    rg_p = np.zeros(arr_s.shape[0])[:, None] + np.arange(0, arr_s.shape[1])\n",
    "    pht_p = prm.phi_topo(rg_p).reshape(*arr_p.shape)\n",
    "    pht_s = sec.phi_topo(rg_s2p.ravel()).reshape(*arr_p.shape)\n",
    "    pha_topo = np.exp(-1j * (pht_p - pht_s)).astype(np.complex64)\n",
    "\n",
    "    # interferogram without topographic phase\n",
    "    ifg = arr_s2p.conj() * arr_p * pha_topo.conj()\n",
    "\n",
    "    # normalize complex coherences\n",
    "    ifgs.append(ifg)\n",
    "    lut.append((az_p2g, rg_p2g))\n",
    "    dems.append(file_dem)"
   ]
  },
  {
   "cell_type": "markdown",
   "metadata": {},
   "source": [
    "# Apply fast ESD to correct phase jumps"
   ]
  },
  {
   "cell_type": "code",
   "execution_count": null,
   "metadata": {},
   "outputs": [],
   "source": [
    "from eo_tools.S1.core import fast_esd\n",
    "fast_esd(ifgs, overlap)"
   ]
  },
  {
   "cell_type": "markdown",
   "metadata": {},
   "source": [
    "# Stitch bursts in a single image"
   ]
  },
  {
   "cell_type": "code",
   "execution_count": null,
   "metadata": {},
   "outputs": [],
   "source": [
    "from eo_tools.S1.core import stitch_bursts\n",
    "img = stitch_bursts(ifgs, overlap)"
   ]
  },
  {
   "cell_type": "markdown",
   "metadata": {},
   "source": [
    "# Reproject and merge complex interferograms"
   ]
  },
  {
   "cell_type": "code",
   "execution_count": null,
   "metadata": {},
   "outputs": [],
   "source": [
    "mlt_az = 2\n",
    "mlt_rg = 8\n",
    "\n",
    "off = 0\n",
    "H = int(overlap / 2)\n",
    "phi_out = presum(img, mlt_az, mlt_rg)\n",
    "naz = ifgs[0].shape[0]\n",
    "list_ifg = []\n",
    "files_to_remove = []\n",
    "for i in range(min_burst, max_burst + 1):\n",
    "    log.info(f\"Resample burst {i}\")\n",
    "    az_mst, rg_mst = lut[i - min_burst]\n",
    "    file_dem = dems[i - min_burst]\n",
    "    cnd = (az_mst >= H - 4) & (az_mst < naz - H + 4)\n",
    "    az_mst2 = az_mst.copy()\n",
    "    rg_mst2 = rg_mst.copy()\n",
    "    az_mst2[~cnd] = np.nan\n",
    "    rg_mst2[~cnd] = np.nan\n",
    "\n",
    "    file_ifg = f\"{out_dir}/remap_burst_{i}_ifg.tif\"\n",
    "    files_to_remove.append(file_ifg)\n",
    "\n",
    "    # does the job but not very elegant\n",
    "    if i == min_burst:\n",
    "        off2 = off\n",
    "    else:\n",
    "        off2 = off - H\n",
    "    resample(\n",
    "        phi_out,\n",
    "        file_dem,\n",
    "        file_ifg,\n",
    "        (az_mst2 + off2) / mlt_az,\n",
    "        (rg_mst2) / mlt_rg,\n",
    "        kernel=\"bicubic\",\n",
    "    )\n",
    "    if i == min_burst:\n",
    "        off += naz - H\n",
    "    else:\n",
    "        off += naz - 2 * H\n",
    "\n",
    "    list_ifg.append(riox.open_rasterio(file_ifg))\n",
    "\n",
    "merged_ifg = merge_arrays(list_ifg)\n",
    "merged_ifg.rio.to_raster(f\"{out_dir}/merged_ifg.tif\")\n",
    "\n",
    "for fname in files_to_remove:\n",
    "    remove(fname)"
   ]
  },
  {
   "cell_type": "markdown",
   "metadata": {},
   "source": [
    "# Compute phase"
   ]
  },
  {
   "cell_type": "code",
   "execution_count": null,
   "metadata": {},
   "outputs": [],
   "source": [
    "# avoid metadata being lost in arithmetic opetations\n",
    "file_phi = f\"{out_dir}/merged_phi.tif\"\n",
    "xr.set_options(keep_attrs=True)\n",
    "ifg = riox.open_rasterio(f\"{out_dir}/merged_ifg.tif\")\n",
    "phi = np.arctan2(ifg[1], ifg[0])\n",
    "phi.rio.to_raster(file_phi, nodata=0)"
   ]
  },
  {
   "cell_type": "markdown",
   "metadata": {},
   "source": [
    "# Visualize interferogram"
   ]
  },
  {
   "cell_type": "code",
   "execution_count": null,
   "metadata": {},
   "outputs": [],
   "source": [
    "arr_phi = riox.open_rasterio(file_phi, masked=True)[0]\n",
    "arr_phi.plot.imshow(vmin=-np.pi,vmax=np.pi, cmap=\"twilight\")"
   ]
  }
 ],
 "metadata": {
  "kernelspec": {
   "display_name": "Python 3",
   "language": "python",
   "name": "python3"
  },
  "language_info": {
   "codemirror_mode": {
    "name": "ipython",
    "version": 3
   },
   "file_extension": ".py",
   "mimetype": "text/x-python",
   "name": "python",
   "nbconvert_exporter": "python",
   "pygments_lexer": "ipython3",
   "version": "3.12.5"
  }
 },
 "nbformat": 4,
 "nbformat_minor": 2
}
