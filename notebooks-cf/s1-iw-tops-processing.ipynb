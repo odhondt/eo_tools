{
    "cells": [
        {
            "cell_type": "code",
            "execution_count": null,
            "metadata": {},
            "outputs": [],
            "source": [
                "%load_ext autoreload\n",
                "%autoreload 2\n",
                "import logging\n",
                "logging.basicConfig(level=logging.INFO)\n",
                "import matplotlib.pyplot as plt\n",
                "\n",
                "import geopandas as gpd\n",
                "from eodag import EODataAccessGateway\n",
                "import rioxarray as riox\n",
                "\n",
                "# credentials need to be stored in the following file (see EODAG docs)\n",
                "confpath = \"/data/eodag_config.yml\"\n",
                "dag = EODataAccessGateway(user_conf_file_path=confpath)\n",
                "# make sure cop_dataspace will be used \n",
                "dag.set_preferred_provider(\"cop_dataspace\")\n",
                "logging.basicConfig(level=logging.INFO)"
            ]
        },
        {
            "cell_type": "markdown",
            "metadata": {},
            "source": [
                "# Set up parameters and output dir\n",
                "\n",
                "- In the following products, only IW1 and IW2 are relevant -- IW3 contains only water pixels."
            ]
        },
        {
            "cell_type": "code",
            "execution_count": 1,
            "metadata": {},
            "outputs": [],
            "source": [
                "# change these to your directories\n",
                "data_dir = \"/data/S1\"\n",
                "out_dir = f\"/data/res/Morocco-earthquake-2023-iw1\"\n",
                "\n",
                "# for this demo, we will use these products\n",
                "ids = [\n",
                " \"S1A_IW_SLC__1SDV_20230904T063730_20230904T063757_050174_0609E3_DAA1\", \n",
                " \"S1A_IW_SLC__1SDV_20230916T063730_20230916T063757_050349_060FCD_6814\"\n",
                "]\n",
                "primary_path = f\"{data_dir}/{ids[0]}.zip\"\n",
                "secondary_path = f\"{data_dir}/{ids[1]}.zip\"\n",
                "iw = 1 # subswath\n",
                "pol = \"vv\" # polarization (\"vv\"or \"vh\")\n",
                "min_burst = 3\n",
                "max_burst = 6 # Set to None to process all (warning: memory hungry)"
            ]
        },
        {
            "cell_type": "markdown",
            "metadata": {},
            "source": [
                "# Download S-1 products"
            ]
        },
        {
            "cell_type": "code",
            "execution_count": null,
            "metadata": {},
            "outputs": [],
            "source": [
                "# load a geometry\n",
                "aoi_file = \"https://raw.githubusercontent.com/odhondt/eo_tools/refs/heads/main/data/Morocco_AOI.geojson\"\n",
                "shp = gpd.read_file(aoi_file).geometry[0]\n",
                "search_criteria = {\n",
                "    \"productType\": \"S1_SAR_SLC\",\n",
                "    \"start\": \"2023-09-03\",\n",
                "    \"end\": \"2023-09-17\",\n",
                "    \"geom\": shp\n",
                "}\n",
                "\n",
                "results = dag.search(**search_criteria)\n",
                "to_dl = [it for it in results if it.properties[\"id\"] in ids]\n",
                "print(f\"{len(to_dl)} products to download\")\n",
                "dag.download_all(to_dl, output_dir=data_dir, extract=False)"
            ]
        },
        {
            "cell_type": "markdown",
            "metadata": {},
            "source": [
                "# Pre-process InSAR pair"
            ]
        },
        {
            "cell_type": "code",
            "execution_count": null,
            "metadata": {},
            "outputs": [],
            "source": [
                "from eo_tools.S1.process import preprocess_insar_iw\n",
                "\n",
                "preprocess_insar_iw(\n",
                "    primary_path,\n",
                "    secondary_path,\n",
                "    out_dir,\n",
                "    iw=iw,\n",
                "    pol=pol,\n",
                "    min_burst=min_burst,\n",
                "    max_burst=max_burst,\n",
                "    dem_upsampling=1.8,\n",
                "    apply_fast_esd=True,\n",
                "    dem_force_download=False\n",
                ")"
            ]
        },
        {
            "cell_type": "markdown",
            "metadata": {},
            "source": [
                "# Apply geocoding using lookup tables"
            ]
        },
        {
            "cell_type": "code",
            "execution_count": null,
            "metadata": {},
            "outputs": [],
            "source": [
                "from eo_tools.S1.process import sar2geo, coherence, amplitude\n",
                "\n",
                "prm_file = f\"{out_dir}/primary.tif\"\n",
                "sec_file = f\"{out_dir}/secondary.tif\"\n",
                "amp_file = f\"{out_dir}/amp.tif\"\n",
                "coh_file = f\"{out_dir}/coh.tif\"\n",
                "phi_geo_file = f\"{out_dir}/phi_geo.tif\"\n",
                "amp_geo_file = f\"{out_dir}/amp_geo.tif\"\n",
                "coh_geo_file = f\"{out_dir}/coh_geo.tif\"\n",
                "lut_file = f\"{out_dir}/lut.tif\"\n",
                "# computing amplitude and complex coherence  in the radar geometry\n",
                "coherence(\n",
                "    prm_file, sec_file, coh_file, box_size=[3, 3], multilook=[1, 4], magnitude=False\n",
                ")\n",
                "amplitude(prm_file, amp_file, multilook=[2, 8])\n",
                "\n",
                "# combined multilooking and geocoding\n",
                "# interferometric coherence\n",
                "sar2geo(\n",
                "    coh_file,\n",
                "    lut_file,\n",
                "    coh_geo_file,\n",
                "    kernel=\"bicubic\",\n",
                "    write_phase=False,\n",
                "    magnitude_only=True,\n",
                ")\n",
                "\n",
                "# interferometric phase\n",
                "sar2geo(\n",
                "    coh_file,\n",
                "    lut_file,\n",
                "    phi_geo_file,\n",
                "    kernel=\"bicubic\",\n",
                "    write_phase=True,\n",
                "    magnitude_only=False,\n",
                ")\n",
                "\n",
                "# amplitude of the primary image\n",
                "sar2geo(\n",
                "    amp_file,\n",
                "    lut_file,\n",
                "    amp_geo_file,\n",
                "    kernel=\"bicubic\",\n",
                "    write_phase=False,\n",
                "    magnitude_only=False,\n",
                ")"
            ]
        },
        {
            "cell_type": "markdown",
            "metadata": {},
            "source": [
                "# Visualize"
            ]
        },
        {
            "cell_type": "code",
            "execution_count": null,
            "metadata": {},
            "outputs": [],
            "source": [
                "arr_amp = riox.open_rasterio(amp_geo_file, masked=True)[0]\n",
                "arr_amp.plot.imshow(vmin=0,vmax=1, cmap=\"gray\")"
            ]
        },
        {
            "cell_type": "code",
            "execution_count": null,
            "metadata": {},
            "outputs": [],
            "source": [
                "arr_coh = riox.open_rasterio(coh_geo_file, masked=True)[0]\n",
                "arr_coh.plot.imshow(vmin=0,vmax=1, cmap=\"gray\")"
            ]
        },
        {
            "cell_type": "code",
            "execution_count": null,
            "metadata": {},
            "outputs": [],
            "source": [
                "arr_phi = riox.open_rasterio(phi_geo_file, masked=True)[0]\n",
                "arr_phi.plot.imshow(vmin=-3.14,vmax=3.14, cmap=\"twilight\")"
            ]
        }
    ],
    "metadata": {
        "kernelspec": {
            "display_name": "Python 3",
            "language": "python",
            "name": "python3"
        },
        "language_info": {
            "codemirror_mode": {
                "name": "ipython",
                "version": 3
            },
            "file_extension": ".py",
            "mimetype": "text/x-python",
            "name": "python",
            "nbconvert_exporter": "python",
            "pygments_lexer": "ipython3",
            "version": "3.12.8"
        }
    },
    "nbformat": 4,
    "nbformat_minor": 2
}
