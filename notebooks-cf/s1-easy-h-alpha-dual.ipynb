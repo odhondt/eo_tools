{
 "cells": [
  {
   "cell_type": "code",
   "execution_count": null,
   "metadata": {},
   "outputs": [],
   "source": [
    "%load_ext autoreload\n",
    "%autoreload 2\n",
    "import logging\n",
    "logging.basicConfig(level=logging.INFO)\n",
    "\n",
    "import geopandas as gpd\n",
    "from eodag import EODataAccessGateway\n",
    "\n",
    "# credentials need to be stored in the following file (see EODAG docs)\n",
    "confpath = \"/data/eodag_config.yml\"\n",
    "dag = EODataAccessGateway(user_conf_file_path=confpath)\n",
    "# make sure cop_dataspace will be used \n",
    "dag.set_preferred_provider(\"cop_dataspace\")\n",
    "logging.basicConfig(level=logging.INFO)"
   ]
  },
  {
   "cell_type": "markdown",
   "metadata": {},
   "source": [
    "# Set up parameters and output dir"
   ]
  },
  {
   "cell_type": "code",
   "execution_count": null,
   "metadata": {},
   "outputs": [],
   "source": [
    "# change to your custom locations\n",
    "data_dir = \"/data/S1\"\n",
    "\n",
    "ids = [\n",
    "    \"S1C_IW_SLC__1SDV_20250401T174601_20250401T174629_001703_002E2A_4DC9\",\n",
    "]\n",
    "slc_path = f\"{data_dir}/{ids[0]}.zip\"\n",
    "output_dir=\"/data/res/test-h-alpha-processor\""
   ]
  },
  {
   "cell_type": "markdown",
   "metadata": {},
   "source": [
    "# Download S-1 products"
   ]
  },
  {
   "cell_type": "code",
   "execution_count": null,
   "metadata": {},
   "outputs": [],
   "source": [
    "# load a geometry\n",
    "aoi_file = \"../data/Andorra_tiny.geojson\"\n",
    "shp = gpd.read_file(aoi_file).geometry[0]\n",
    "\n",
    "search_criteria = {\n",
    "    \"productType\": \"S1_SAR_SLC\",\n",
    "    \"start\": \"2025-03-30\",\n",
    "    \"end\": \"2025-04-30\",\n",
    "    \"geom\": shp\n",
    "}\n",
    "\n",
    "results = dag.search(**search_criteria)\n",
    "to_dl = [it for it in results if it.properties[\"id\"] in ids]\n",
    "print(f\"{len(to_dl)} products to download\")\n",
    "dag.download_all(to_dl, output_dir=\"/data/S1/\", extract=False)"
   ]
  },
  {
   "cell_type": "markdown",
   "metadata": {},
   "source": [
    "# Process data"
   ]
  },
  {
   "cell_type": "code",
   "execution_count": null,
   "metadata": {},
   "outputs": [],
   "source": [
    "from eo_tools.S1.process import process_h_alpha_dual\n",
    "\n",
    "out_dir_ha = process_h_alpha_dual(\n",
    "    slc_path=slc_path,\n",
    "    output_dir=output_dir,\n",
    "    aoi_name=\"beta_cal\",\n",
    "    shp=shp,\n",
    "    write_vv_amplitude=True,\n",
    "    write_vh_amplitude=True,\n",
    "    subswaths=[\"IW1\", \"IW2\", \"IW3\"],\n",
    "    dem_upsampling=1.8,\n",
    "    dem_force_download=False,\n",
    "    dem_buffer_arc_sec=40,\n",
    "    multilook=[1, 4],\n",
    "    warp_kernel=\"bicubic\",\n",
    "    cal_type=\"beta\",\n",
    "    clip_to_shape=False,\n",
    "    # TODO: remove\n",
    "    skip_preprocessing=True\n",
    ")"
   ]
  },
  {
   "cell_type": "code",
   "execution_count": null,
   "metadata": {},
   "outputs": [],
   "source": [
    "import rioxarray as riox\n",
    "arr = riox.open_rasterio(f\"{out_dir_ha}/amp_vv.tif\", masked=True)[0]\n",
    "arr.plot.imshow(vmin=0, vmax=1, cmap=\"gray\")"
   ]
  },
  {
   "cell_type": "code",
   "execution_count": null,
   "metadata": {},
   "outputs": [],
   "source": [
    "import rioxarray as riox\n",
    "arr = riox.open_rasterio(f\"{out_dir_ha}/H.tif\", masked=True)[0]\n",
    "arr.plot.imshow(vmin=0, vmax=1, cmap=\"gray\")"
   ]
  },
  {
   "cell_type": "code",
   "execution_count": null,
   "metadata": {},
   "outputs": [],
   "source": [
    "import rioxarray as riox\n",
    "arr = riox.open_rasterio(f\"{out_dir_ha}/alpha.tif\", masked=True)[0]\n",
    "arr.plot.imshow(vmin=0, vmax=90, cmap=\"gray\")"
   ]
  }
 ],
 "metadata": {
  "kernelspec": {
   "display_name": "Python 3",
   "language": "python",
   "name": "python3"
  },
  "language_info": {
   "codemirror_mode": {
    "name": "ipython",
    "version": 3
   },
   "file_extension": ".py",
   "mimetype": "text/x-python",
   "name": "python",
   "nbconvert_exporter": "python",
   "pygments_lexer": "ipython3",
   "version": "3.12.10"
  }
 },
 "nbformat": 4,
 "nbformat_minor": 2
}
