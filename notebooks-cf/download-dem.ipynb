{
 "cells": [
  {
   "cell_type": "code",
   "execution_count": 1,
   "metadata": {},
   "outputs": [],
   "source": [
    "%load_ext autoreload\n",
    "%autoreload 2\n",
    "\n",
    "import geopandas as gpd\n",
    "from eo_tools.dem import retrieve_dem\n",
    "import logging\n",
    "\n",
    "logging.basicConfig(level=logging.INFO)"
   ]
  },
  {
   "cell_type": "markdown",
   "metadata": {},
   "source": [
    "# Download"
   ]
  },
  {
   "cell_type": "code",
   "execution_count": 2,
   "metadata": {},
   "outputs": [
    {
     "name": "stderr",
     "output_type": "stream",
     "text": [
      "INFO:eo_tools.dem:Retrieve DEM\n"
     ]
    }
   ],
   "source": [
    "# load a geometry\n",
    "aoi_name = \"Morocco_AOI\"\n",
    "# aoi_name = \"Bretagne_AOI\"\n",
    "file_aoi = f\"../data/{aoi_name}.geojson\"\n",
    "shp = gpd.read_file(file_aoi).geometry[0]\n",
    "dem_file = f\"/data/res/cop-dem-glo-30_{aoi_name}.tif\"\n",
    "retrieve_dem(shp, dem_file)"
   ]
  }
 ],
 "metadata": {
  "kernelspec": {
   "display_name": "Python 3",
   "language": "python",
   "name": "python3"
  },
  "language_info": {
   "codemirror_mode": {
    "name": "ipython",
    "version": 3
   },
   "file_extension": ".py",
   "mimetype": "text/x-python",
   "name": "python",
   "nbconvert_exporter": "python",
   "pygments_lexer": "ipython3",
   "version": "3.12.3"
  },
  "orig_nbformat": 4
 },
 "nbformat": 4,
 "nbformat_minor": 2
}
