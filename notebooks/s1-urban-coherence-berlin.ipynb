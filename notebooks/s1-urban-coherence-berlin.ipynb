{
 "cells": [
  {
   "cell_type": "code",
   "execution_count": null,
   "metadata": {},
   "outputs": [],
   "source": [
    "%load_ext autoreload\n",
    "%autoreload 2\n",
    "import logging\n",
    "logging.basicConfig(level=logging.INFO)\n",
    "import matplotlib.pyplot as plt\n",
    "\n",
    "import geopandas as gpd\n",
    "from eodag import EODataAccessGateway\n",
    "import rioxarray as riox\n",
    "import numpy as np\n",
    "import folium\n",
    "from folium import LayerControl\n",
    "from eo_tools_dev.util import show_cog\n",
    "from pathlib import Path\n",
    "\n",
    "# credentials need to be stored in the following file (see EODAG docs)\n",
    "confpath = \"/data/eodag_config.yml\"\n",
    "dag = EODataAccessGateway(user_conf_file_path=confpath)\n",
    "# make sure cop_dataspace will be used \n",
    "dag.set_preferred_provider(\"cop_dataspace\")\n",
    "log = logging.getLogger(__name__)"
   ]
  },
  {
   "cell_type": "markdown",
   "metadata": {},
   "source": [
    "## Set up parameters and output dir"
   ]
  },
  {
   "cell_type": "code",
   "execution_count": null,
   "metadata": {},
   "outputs": [],
   "source": [
    "# change to your custom locations\n",
    "data_dir = \"/data/S1\"\n",
    "outputs_prefix=\"/data/res/urban-berlin\"\n",
    "file_aoi = \"../data/Berlin.geojson\"\n",
    "shp = gpd.read_file(file_aoi).geometry[0]\n",
    "pth_search_results = \"../data/search_Potsdam_2016_2024.geojson\"\n",
    "s = dag.deserialize(pth_search_results)\n",
    "prm_ids = [s[0].properties['id'], s[2].properties['id']]\n",
    "sec_ids = [s[1].properties['id'], s[3].properties['id']]\n"
   ]
  },
  {
   "cell_type": "markdown",
   "metadata": {},
   "source": [
    "## Pre-process InSAR pairs"
   ]
  },
  {
   "cell_type": "code",
   "execution_count": null,
   "metadata": {},
   "outputs": [],
   "source": [
    "# from eo_tools.S1.process import process_insar\n",
    "# for prm, sec in zip(prm_ids, sec_ids):\n",
    "#     primary_dir = f\"{data_dir}/{prm}.zip\"\n",
    "#     secondary_dir = f\"{data_dir}/{sec}.zip\"\n",
    "#     out_dir = process_insar(\n",
    "#         dir_prm=primary_dir,\n",
    "#         dir_sec=secondary_dir,\n",
    "#         outputs_prefix=outputs_prefix,\n",
    "#         aoi_name=None,\n",
    "#         shp=shp,\n",
    "#         pol=\"full\",\n",
    "#         write_coherence=True,\n",
    "#         write_interferogram=False,        \n",
    "#         write_primary_amplitude=True,\n",
    "#         write_secondary_amplitude=True,\n",
    "#         apply_fast_esd=False,\n",
    "#         dem_upsampling=1.8,\n",
    "#         dem_force_download=False,\n",
    "#         dem_buffer_arc_sec=40,\n",
    "#         boxcar_coherence=[5, 5],\n",
    "#         filter_ifg=True,\n",
    "#         multilook=[1, 4],\n",
    "#         warp_kernel=\"bicubic\",\n",
    "#         cal_type=\"sigma\",\n",
    "#         clip_to_shape=True,\n",
    "#     )"
   ]
  },
  {
   "cell_type": "code",
   "execution_count": null,
   "metadata": {},
   "outputs": [],
   "source": [
    "from eo_tools.S1.process import (\n",
    "    geocode_and_merge_iw,\n",
    "    coherence,\n",
    "    apply_to_patterns_for_pair,\n",
    ")\n",
    "\n",
    "out_dir_2016 = list(Path.glob(Path(outputs_prefix), \"S1*2016*\"))[0] / \"sar\"\n",
    "out_dir_2024 = list(Path.glob(Path(outputs_prefix), \"S1*2024*\"))[0] / \"sar\"\n",
    "out_dirs = [out_dir_2016, out_dir_2024]\n",
    "for prm, sec, out_dir in zip(prm_ids, sec_ids, out_dirs):\n",
    "    primary_dir = f\"{data_dir}/{prm}.zip\"\n",
    "    secondary_dir = f\"{data_dir}/{sec}.zip\"\n",
    "    # compute interferometric coherence\n",
    "    log.info(f\"processing {out_dir.parent.name}\")\n",
    "\n",
    "    apply_to_patterns_for_pair(\n",
    "        coherence,\n",
    "        out_dir=out_dir,\n",
    "        file_prm_prefix=\"slc_prm\",\n",
    "        file_sec_prefix=\"slc_sec\",\n",
    "        file_out_prefix=\"coh\",\n",
    "        # box_size=[3, 11],\n",
    "        box_size=[5, 5],\n",
    "        multilook=[1, 4],\n",
    "    )\n",
    "\n",
    "    geo_dir = Path(out_dir).parent\n",
    "    geocode_and_merge_iw(input_dir=geo_dir, var_names=[\"coh\"], shp=shp, pol=\"full\")"
   ]
  },
  {
   "cell_type": "markdown",
   "metadata": {},
   "source": [
    "## Compute coherence changes"
   ]
  },
  {
   "cell_type": "code",
   "execution_count": null,
   "metadata": {},
   "outputs": [],
   "source": [
    "# Coherence changes\n",
    "import rioxarray as riox\n",
    "coh_2016_files = Path(outputs_prefix).glob(\"S1*2016*/coh*.tif\")\n",
    "coh_2024_files = Path(outputs_prefix).glob(\"S1*2024*/coh*.tif\")\n",
    "for f1, f2 in zip(coh_2016_files, coh_2024_files):\n",
    "    c1 = riox.open_rasterio(f1)[0]#.rolling(x=3, y=3, center=True).mean()\n",
    "    c2 = riox.open_rasterio(f2)[0]#.rolling(x=3, y=3, center=True).mean()\n",
    "    pol = Path(f1).stem.split(\"_\")[1]\n",
    "    file_out = f\"{f1.parent}/diff_coh_{pol}.tif\"\n",
    "    # df = c2 - c1.rio.reproject_match(c2)\n",
    "    df = np.log(c2.clip(1e-8)) - np.log(c1.clip(1e-8)).rio.reproject_match(c2)\n",
    "    df.rio.to_raster(file_out)"
   ]
  },
  {
   "cell_type": "code",
   "execution_count": null,
   "metadata": {},
   "outputs": [],
   "source": [
    "# Coherence changes\n",
    "import rioxarray as riox\n",
    "amp_2016_files = Path(outputs_prefix).glob(\"S1*2016*/amp_prm*.tif\")\n",
    "amp_2024_files = Path(outputs_prefix).glob(\"S1*2024*/amp_prm*.tif\")\n",
    "for f1, f2 in zip(amp_2016_files, amp_2024_files):\n",
    "    c1 = riox.open_rasterio(f1)[0].rolling(x=5, y=5, center=True).mean()\n",
    "    c2 = riox.open_rasterio(f2)[0].rolling(x=5, y=5, center=True).mean()\n",
    "    pol = Path(f1).stem.split(\"_\")[2]\n",
    "    file_out = f\"{f1.parent}/diff_amp_{pol}.tif\"\n",
    "    df = np.log(c2.clip(1e-8)) - np.log(c1.clip(1e-8)).rio.reproject_match(c2)\n",
    "    df.rio.to_raster(file_out)"
   ]
  },
  {
   "cell_type": "markdown",
   "metadata": {},
   "source": [
    "## Visualize\n",
    "Click on top right icon to hide/show layers"
   ]
  },
  {
   "cell_type": "code",
   "execution_count": null,
   "metadata": {},
   "outputs": [],
   "source": [
    "from pathlib import Path\n",
    "dir_products = Path(outputs_prefix).glob(\"S1*\")\n",
    "\n",
    "m = folium.Map()\n",
    "\n",
    "tile = folium.TileLayer(\n",
    "        tiles = 'https://server.arcgisonline.com/ArcGIS/rest/services/World_Imagery/MapServer/tile/{z}/{y}/{x}',\n",
    "        attr = 'Esri',\n",
    "        name = 'Esri Satellite',\n",
    "        overlay = False,\n",
    "        control = True\n",
    "       ).add_to(m)\n",
    "\n",
    "import os\n",
    "for d in dir_products:\n",
    "    # _ = show_cog(f\"{d}/coh_vh.tif\", m, rescale=\"0,1\", resampling=\"nearest\")\n",
    "    # _ = show_cog(f\"{d}/coh_vh.tif\", m, rescale=\"0.2,0.8\", resampling=\"nearest\", expression=\"(2/(b1+1)-1)\")\n",
    "    _ = show_cog(f\"{d}/coh_vh.tif\", m, rescale=\"0.2,0.8\", resampling=\"nearest\")\n",
    "    # _ = show_cog(f\"{d}/coh_vv.tif\", m, rescale=\"0,1\")\n",
    "    # _ = show_cog(f\"{d}/amp_prm_vv.tif\", m, rescale=\"0,0.7\", resampling=\"bilinear\")\n",
    "    # if os.path.exists(f\"{d}/diff_coh_vv.tif\"):\n",
    "        # _ = show_cog(f\"{d}/diff_coh_vv.tif\", m, rescale=\"0.2,0.5\")\n",
    "    # if os.path.exists(f\"{d}/diff_coh_vh.tif\"):\n",
    "        # _ = show_cog(f\"{d}/diff_coh_vh.tif\", m, rescale=\"-2,2\", colormap_name=\"rdbu\")\n",
    "\n",
    "    # if os.path.exists(f\"{d}/diff_amp_vv.tif\"):\n",
    "    #     _ = show_cog(f\"{d}/diff_amp_vv.tif\", m, rescale=\"-1,1\", colormap_name=\"rdbu\")\n",
    "    # _ = show_cog(f\"{d}/amp_prm_vh.tif\", m, rescale=\"0,1\")\n",
    "LayerControl().add_to(m)\n",
    "m"
   ]
  },
  {
   "cell_type": "code",
   "execution_count": null,
   "metadata": {},
   "outputs": [],
   "source": []
  }
 ],
 "metadata": {
  "kernelspec": {
   "display_name": "Python 3",
   "language": "python",
   "name": "python3"
  },
  "language_info": {
   "codemirror_mode": {
    "name": "ipython",
    "version": 3
   },
   "file_extension": ".py",
   "mimetype": "text/x-python",
   "name": "python",
   "nbconvert_exporter": "python",
   "pygments_lexer": "ipython3",
   "version": "3.12.5"
  }
 },
 "nbformat": 4,
 "nbformat_minor": 2
}
