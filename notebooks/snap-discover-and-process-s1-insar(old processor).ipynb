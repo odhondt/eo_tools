{
 "cells": [
  {
   "cell_type": "markdown",
   "metadata": {},
   "source": [
    "# Discover & Process Sentinel-1 InSAR pairs\n",
    "\n",
    "- The provider used for this notebook is `cop_dataspace`\n",
    "- A free account needs to be created at https://dataspace.copernicus.eu/\n",
    "- The credentials need to be configured as explained here https://eodag.readthedocs.io/en/stable/getting_started_guide/configure.html"
   ]
  },
  {
   "cell_type": "code",
   "execution_count": null,
   "metadata": {},
   "outputs": [],
   "source": [
    "%load_ext autoreload\n",
    "%autoreload 2\n",
    "\n",
    "from eo_tools.util import explore_products\n",
    "from eo_tools.util import show_insar_coh, show_insar_phi, show_sar_int\n",
    "from eo_tools.util import TileServerManager\n",
    "from eo_tools.S1.snap import process_InSAR\n",
    "import geopandas as gpd\n",
    "import folium\n",
    "import folium.plugins\n",
    "import logging\n",
    "import os\n",
    "\n",
    "from eodag import EODataAccessGateway\n",
    "\n",
    "# credentials need to be stored in the following file (see EODAG docs)\n",
    "confpath = \"/data/eodag_config.yml\"\n",
    "dag = EODataAccessGateway(user_conf_file_path=confpath)\n",
    "# make sure cop_dataspace will be used \n",
    "dag.set_preferred_provider(\"cop_dataspace\")\n",
    "logging.basicConfig(level=logging.INFO)"
   ]
  },
  {
   "cell_type": "markdown",
   "metadata": {},
   "source": [
    "## Select an area of interest\n",
    "\n",
    "- Select a drawing tool (polygon, circle or rectangle)\n",
    "- Draw the AOI on the map\n",
    "- Click \"Export\" on the right to save the GeoJSON file"
   ]
  },
  {
   "cell_type": "code",
   "execution_count": null,
   "metadata": {},
   "outputs": [],
   "source": [
    "map_select = folium.Map()\n",
    "folium.plugins.Draw(\n",
    "    export=True,\n",
    "    draw_options={\n",
    "        \"polyline\": False,\n",
    "        \"circlemarker\": False,\n",
    "        \"marker\": False,\n",
    "    },\n",
    ").add_to(map_select)\n",
    "map_select"
   ]
  },
  {
   "cell_type": "markdown",
   "metadata": {},
   "source": [
    "## Search"
   ]
  },
  {
   "cell_type": "code",
   "execution_count": null,
   "metadata": {},
   "outputs": [],
   "source": [
    "# load a geometry\n",
    "file_aoi = \"../data/Morocco_AOI.geojson\"\n",
    "shp = gpd.read_file(file_aoi).geometry[0]\n",
    "search_criteria = {\n",
    "    \"productType\": \"S1_SAR_SLC\",\n",
    "    \"start\": \"2023-09-01\",\n",
    "    \"end\": \"2023-09-20\",\n",
    "    \"geom\": shp\n",
    "}\n",
    "results, _ = dag.search(**search_criteria)"
   ]
  },
  {
   "cell_type": "markdown",
   "metadata": {},
   "source": [
    "## Visualize by groups\n",
    "\n",
    "- For InSAR, products must be overlapping and from the same relative orbit.\n",
    "- They also have to be of the same ascending / descending configuration.\n",
    "- The following function can be used to visually find such products "
   ]
  },
  {
   "cell_type": "code",
   "execution_count": null,
   "metadata": {},
   "outputs": [],
   "source": [
    "explore_products(results, shp)"
   ]
  },
  {
   "cell_type": "markdown",
   "metadata": {},
   "source": [
    "## Download"
   ]
  },
  {
   "cell_type": "code",
   "execution_count": null,
   "metadata": {},
   "outputs": [],
   "source": [
    "# fill indices of products to download\n",
    "indices_to_download = [1, 0]\n",
    "to_download = [results[i] for i in indices_to_download]\n",
    "\n",
    "# if the data has already been downloaded, just re-run the cell to get the product paths\n",
    "dl = dag.download_all(to_download, outputs_prefix=\"/data/S1/\", extract=False)"
   ]
  },
  {
   "cell_type": "markdown",
   "metadata": {},
   "source": [
    "# Process"
   ]
  },
  {
   "cell_type": "code",
   "execution_count": null,
   "metadata": {},
   "outputs": [],
   "source": [
    "# extract paths for processing\n",
    "insar_dirs = process_InSAR(\n",
    "    dl[0],\n",
    "    dl[1],\n",
    "    outputs_prefix=\"/data/res\",\n",
    "    tmp_dir=\"/data/tmp\",\n",
    "    aoi_name = \"Morocco\",\n",
    "    shp=shp,\n",
    "    pol=\"VV\",\n",
    "    coh_only=False,\n",
    "    intensity=False,\n",
    "    clear_tmp_files=True,\n",
    "    resume=True,\n",
    "    apply_ESD=True,\n",
    ")"
   ]
  },
  {
   "cell_type": "markdown",
   "metadata": {},
   "source": [
    "# Visualize outputs on a folium map"
   ]
  },
  {
   "cell_type": "code",
   "execution_count": null,
   "metadata": {},
   "outputs": [],
   "source": [
    "TileServerManager.start()"
   ]
  },
  {
   "cell_type": "code",
   "execution_count": null,
   "metadata": {},
   "outputs": [],
   "source": [
    "show_sar_int(insar_dirs[0])"
   ]
  },
  {
   "cell_type": "code",
   "execution_count": null,
   "metadata": {},
   "outputs": [],
   "source": [
    "show_insar_phi(insar_dirs[0])"
   ]
  },
  {
   "cell_type": "code",
   "execution_count": null,
   "metadata": {},
   "outputs": [],
   "source": [
    "show_insar_coh(insar_dirs[0])"
   ]
  },
  {
   "cell_type": "code",
   "execution_count": null,
   "metadata": {},
   "outputs": [],
   "source": [
    "TileServerManager.stop()"
   ]
  }
 ],
 "metadata": {
  "kernelspec": {
   "display_name": "Python 3",
   "language": "python",
   "name": "python3"
  },
  "language_info": {
   "codemirror_mode": {
    "name": "ipython",
    "version": 3
   },
   "file_extension": ".py",
   "mimetype": "text/x-python",
   "name": "python",
   "nbconvert_exporter": "python",
   "pygments_lexer": "ipython3",
   "version": "3.12.3"
  },
  "orig_nbformat": 4
 },
 "nbformat": 4,
 "nbformat_minor": 2
}
