{
 "cells": [
  {
   "cell_type": "code",
   "execution_count": null,
   "metadata": {},
   "outputs": [],
   "source": [
    "import numpy as np\n",
    "from numba import njit, prange\n",
    "import matplotlib.pyplot as plt\n",
    "from skimage.data import coffee"
   ]
  },
  {
   "cell_type": "code",
   "execution_count": null,
   "metadata": {},
   "outputs": [],
   "source": [
    "img = coffee().mean(2)\n",
    "\n",
    "# @njit(inline=\"always\")\n",
    "\n",
    "\n",
    "# TODO: complex and muli-channel images?\n",
    "@njit(parallel=True, nogil=True, fastmath=False)\n",
    "def remap(img, rr, cc):\n",
    "    def ker(x):\n",
    "        ax = np.abs(x)\n",
    "        # if (ax >= 0) & (ax < 1):\n",
    "        if ax < 1:\n",
    "            return 1.5 * ax**3 - 2.5 * ax**2 + 1\n",
    "        elif (ax >= 1) & (ax < 2):\n",
    "            return -0.5 * ax**3 + 2.5 * ax**2 - 4 * ax + 2\n",
    "        else:\n",
    "            return 0.0\n",
    "\n",
    "    if rr.shape != cc.shape:\n",
    "        raise ValueError(\"Coordinate arrays must have the same shape.\")\n",
    "\n",
    "    print(\"alloc\")\n",
    "    arr_out = np.full_like(rr, np.nan, dtype=img.dtype)\n",
    "    naz, nrg = img.shape\n",
    "\n",
    "    print(\"loop\")\n",
    "    # for idx, (r, c) in enumerate(zip(rr.flat, cc.flat)):\n",
    "    for idx in prange(len(rr.flat)):\n",
    "        r = rr.flat[idx]\n",
    "        c = cc.flat[idx]\n",
    "        rmin = np.floor(r) - 1\n",
    "        rmax = np.ceil(r) + 1\n",
    "        cmin = np.floor(c) - 1\n",
    "        cmax = np.ceil(c) + 1\n",
    "\n",
    "        val = 0.0\n",
    "        is_in_image = (\n",
    "            (r >= 0) & (r < img.shape[0]) & (c >= 0) & (c < img.shape[1])\n",
    "        )\n",
    "        if np.isnan(r) | np.isnan(c):\n",
    "            continue\n",
    "        if not is_in_image:\n",
    "            continue\n",
    "        for i in range(int(rmin), int(rmax) + 1):\n",
    "            for j in range(int(cmin), int(cmax) + 1):\n",
    "                # using nearest neighbor on image border\n",
    "                i2 = np.minimum(np.maximum(0, i), naz - 1)\n",
    "                j2 = np.minimum(np.maximum(0, j), nrg - 1)\n",
    "                val += ker(r - i) * ker(c - j) * img[i2, j2]\n",
    "        \n",
    "        arr_out.flat[idx] = val \n",
    "    return arr_out\n",
    "\n",
    "naz, nrg = img.shape\n",
    "\n",
    "# rr = np.random.rand(256, 256) * (naz - 1)\n",
    "# cc = np.random.rand(256, 256) * (nrg - 1)\n",
    "\n",
    "# rr = np.ones(50) * 10\n",
    "# cc = np.ones(50) * 10\n",
    "\n",
    "# rr[0] = np.nan\n",
    "scale = 20.0\n",
    "rr, cc = np.mgrid[:scale*naz, :scale*nrg].astype(\"float32\")\n",
    "rr /= scale\n",
    "cc /= scale\n",
    "\n",
    "# re = remap(img, rr, cc)\n"
   ]
  },
  {
   "cell_type": "code",
   "execution_count": null,
   "metadata": {},
   "outputs": [],
   "source": [
    "re = remap(img, rr, cc)\n"
   ]
  },
  {
   "cell_type": "code",
   "execution_count": null,
   "metadata": {},
   "outputs": [],
   "source": [
    "plt.figure(figsize=(10, 10))\n",
    "plt.imshow(re, interpolation=\"none\")\n",
    "plt.colorbar(fraction=0.046, pad=0.04)"
   ]
  },
  {
   "cell_type": "code",
   "execution_count": null,
   "metadata": {},
   "outputs": [],
   "source": []
  }
 ],
 "metadata": {
  "kernelspec": {
   "display_name": "Python 3",
   "language": "python",
   "name": "python3"
  },
  "language_info": {
   "codemirror_mode": {
    "name": "ipython",
    "version": 3
   },
   "file_extension": ".py",
   "mimetype": "text/x-python",
   "name": "python",
   "nbconvert_exporter": "python",
   "pygments_lexer": "ipython3",
   "version": "3.12.3"
  }
 },
 "nbformat": 4,
 "nbformat_minor": 2
}
