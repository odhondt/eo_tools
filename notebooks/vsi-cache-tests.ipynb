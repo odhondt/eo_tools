{
 "cells": [
  {
   "cell_type": "code",
   "execution_count": null,
   "metadata": {},
   "outputs": [],
   "source": [
    "import numpy as np\n",
    "import rasterio\n",
    "from eo_tools.util import show_cog\n",
    "\n",
    "import matplotlib.pyplot as plt\n",
    "import geopandas as gpd"
   ]
  },
  {
   "cell_type": "code",
   "execution_count": null,
   "metadata": {},
   "outputs": [],
   "source": [
    "from shapely import geometry\n",
    "\n",
    "file_aoi = \"../data/Bretagne_AOI.geojson\"\n",
    "gdf = gpd.read_file(file_aoi)\n",
    "shp = gdf.geometry[0]"
   ]
  },
  {
   "cell_type": "code",
   "execution_count": null,
   "metadata": {},
   "outputs": [],
   "source": [
    "import rasterio.transform\n",
    "\n",
    "\n",
    "naz = np.random.randint(64)\n",
    "nrg = np.random.randint(32)\n",
    "\n",
    "img = np.int32(np.random.rand(naz, nrg) > 0.5)\n",
    "\n",
    "fout = f\"/data/tmp/fout.tif\"\n",
    "profile = {\n",
    "    \"width\": nrg,\n",
    "    \"height\": naz,\n",
    "    \"count\": 1,\n",
    "    \"dtype\": img.dtype.name,\n",
    "    \"transform\": rasterio.transform.from_bounds(*shp.bounds, nrg, naz),\n",
    "    \"crs\": gdf.crs,\n",
    "    \"driver\": \"GTiff\",\n",
    "}\n",
    "with rasterio.open(fout, \"w\", **profile) as dst:\n",
    "    dst.write(img, 1)"
   ]
  },
  {
   "cell_type": "code",
   "execution_count": null,
   "metadata": {},
   "outputs": [],
   "source": [
    "print(naz, nrg)\n",
    "from eo_tools.util import ttcog_get_info\n",
    "show_cog(fout, rescale=\"0,1\")"
   ]
  }
 ],
 "metadata": {
  "kernelspec": {
   "display_name": "Python 3",
   "language": "python",
   "name": "python3"
  },
  "language_info": {
   "codemirror_mode": {
    "name": "ipython",
    "version": 3
   },
   "file_extension": ".py",
   "mimetype": "text/x-python",
   "name": "python",
   "nbconvert_exporter": "python",
   "pygments_lexer": "ipython3",
   "version": "3.12.3"
  }
 },
 "nbformat": 4,
 "nbformat_minor": 2
}
