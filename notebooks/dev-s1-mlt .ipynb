{
 "cells": [
  {
   "cell_type": "code",
   "execution_count": null,
   "metadata": {},
   "outputs": [],
   "source": [
    "%load_ext autoreload\n",
    "%autoreload 2\n",
    "import logging\n",
    "logging.basicConfig(level=logging.INFO)\n",
    "import matplotlib.pyplot as plt\n",
    "\n",
    "# from folium import LayerControl\n",
    "from eo_tools_dev.util import show_insar_coh, show_insar_phi, show_sar_int\n",
    "import geopandas as gpd\n",
    "from eodag import EODataAccessGateway\n",
    "\n",
    "# credentials need to be stored in the following file (see EODAG docs)\n",
    "confpath = \"/data/eodag_config.yml\"\n",
    "dag = EODataAccessGateway(user_conf_file_path=confpath)\n",
    "# make sure cop_dataspace will be used \n",
    "dag.set_preferred_provider(\"cop_dataspace\")\n",
    "logging.basicConfig(level=logging.INFO)"
   ]
  },
  {
   "cell_type": "markdown",
   "metadata": {},
   "source": [
    "# Set up parameters and output dir\n",
    "\n",
    "## Important\n",
    "- The products must be **unzipped** either manually or by using `extract=True` in the download call. \n",
    "- In the following products, only IW1 and IW2 are relevant as IW3 contains only water pixels."
   ]
  },
  {
   "cell_type": "code",
   "execution_count": null,
   "metadata": {},
   "outputs": [],
   "source": [
    "# change to your custom locations\n",
    "data_dir = \"/data/S1\"\n",
    "out_dir = f\"/data/res/dev-mlt\"\n",
    "# out_dir = f\"/data/res/Morocco-earthquake-2023-iw1\"\n",
    "\n",
    "ids = [\n",
    " \"S1A_IW_SLC__1SDV_20230904T063730_20230904T063757_050174_0609E3_DAA1\", \n",
    " \"S1A_IW_SLC__1SDV_20230916T063730_20230916T063757_050349_060FCD_6814\"\n",
    "]\n",
    "primary_dir = f\"{data_dir}/{ids[0]}.SAFE\"\n",
    "secondary_dir = f\"{data_dir}/{ids[1]}.SAFE\"\n",
    "\n",
    "iw = 1 # subswath\n",
    "pol = \"vv\" # polarization (\"vv\"or \"vh\")\n",
    "min_burst = 3\n",
    "max_burst = 4 # Set to None to process all (warning: memory hungry)"
   ]
  },
  {
   "cell_type": "markdown",
   "metadata": {},
   "source": [
    "# Download S-1 products"
   ]
  },
  {
   "cell_type": "code",
   "execution_count": null,
   "metadata": {},
   "outputs": [],
   "source": [
    "# load a geometry\n",
    "file_aoi = \"../data/Morocco_AOI.geojson\"\n",
    "shp = gpd.read_file(file_aoi).geometry[0]\n",
    "\n",
    "search_criteria = {\n",
    "    \"productType\": \"S1_SAR_SLC\",\n",
    "    \"start\": \"2023-09-03\",\n",
    "    \"end\": \"2023-09-17\",\n",
    "    \"geom\": shp\n",
    "}\n",
    "\n",
    "results, _ = dag.search(**search_criteria)\n",
    "to_dl = [it for it in results if it.properties[\"id\"] in ids]\n",
    "print(f\"{len(to_dl)} products to download\")\n",
    "# dag.download_all(to_dl, outputs_prefix=\"/data/S1/\", extract=False)"
   ]
  },
  {
   "cell_type": "markdown",
   "metadata": {},
   "source": [
    "# Pre-process InSAR pair"
   ]
  },
  {
   "cell_type": "code",
   "execution_count": null,
   "metadata": {},
   "outputs": [],
   "source": [
    "from eo_tools.S1.process import preprocess_insar_iw\n",
    "\n",
    "# TODO: use downloaded products\n",
    "preprocess_insar_iw(\n",
    "    primary_dir,\n",
    "    secondary_dir,\n",
    "    out_dir,\n",
    "    iw=iw,\n",
    "    pol=pol,\n",
    "    min_burst=min_burst,\n",
    "    max_burst=max_burst,\n",
    "    dem_upsampling=1.8,\n",
    "    apply_fast_esd=True,\n",
    "    dem_force_download=True\n",
    ")"
   ]
  },
  {
   "cell_type": "markdown",
   "metadata": {},
   "source": [
    "# Apply geocoding using lookup tables"
   ]
  },
  {
   "cell_type": "code",
   "execution_count": null,
   "metadata": {},
   "outputs": [],
   "source": [
    "from eo_tools.S1.process import sar2geo, coherence, amplitude\n",
    "file_prm = f\"{out_dir}/primary.tif\"\n",
    "file_sec = f\"{out_dir}/secondary.tif\"\n",
    "file_amp = f\"{out_dir}/amp.tif\"\n",
    "file_coh = f\"{out_dir}/coh.tif\"\n",
    "file_phi_geo = f\"{out_dir}/phi_geo.tif\"\n",
    "file_amp_geo = f\"{out_dir}/amp_geo.tif\"\n",
    "file_coh_geo = f\"{out_dir}/coh_geo.tif\"\n",
    "file_lut = f\"{out_dir}/lut.tif\"\n",
    "# computing amplitude and complex coherence  in the radar geometry\n",
    "coherence(file_prm, file_sec, file_coh, box_size=[3,10], multilook= [5, 5],magnitude=False)"
   ]
  },
  {
   "cell_type": "code",
   "execution_count": null,
   "metadata": {},
   "outputs": [],
   "source": [
    "import rioxarray as riox\n",
    "from rasterio.enums import Resampling\n",
    "coh = riox.open_rasterio(file_coh)[0]\n",
    "abs(coh).plot.imshow()"
   ]
  },
  {
   "cell_type": "code",
   "execution_count": null,
   "metadata": {},
   "outputs": [],
   "source": [
    "# coh.rio.write_transform(inplace=True)\n",
    "# print(coh.rio.transform()*Affine.scale(3,4))\n",
    "from eo_tools.S1.util import presum\n",
    "import xarray as xr\n",
    "arr_pre = presum(coh.data, 3, 4)\n",
    "da = xr.DataArray(\n",
    "        data=arr_pre[None],\n",
    "            dims=(\"band\", \"y\", \"x\"),\n",
    "        )\n",
    "\n",
    "da.rio.write_transform(da.rio.transform() * Affine.scale(4, 3), inplace=True)"
   ]
  },
  {
   "cell_type": "code",
   "execution_count": null,
   "metadata": {},
   "outputs": [],
   "source": [
    "abs(da[0]).plot.imshow()\n",
    "da.rio.transform()\n",
    "da.rio.to_raster(\"/tmp/toto.tif\")"
   ]
  },
  {
   "cell_type": "code",
   "execution_count": null,
   "metadata": {},
   "outputs": [],
   "source": [
    "import rasterio\n",
    "with rasterio.open(\"/tmp/toto.tif\") as ds:\n",
    "    # arr = ds.read(1)\n",
    "    print(ds.profile)"
   ]
  },
  {
   "cell_type": "code",
   "execution_count": null,
   "metadata": {},
   "outputs": [],
   "source": [
    "# from affine import Affine\n",
    "# print(coh.rio.transform() * Affine.scale(3,4)) \n",
    "# coh2 = coh.rio.write_transform(coh.rio.transform() * Affine.scale(3,4))\n",
    "# print(coh2.rio.transform())"
   ]
  },
  {
   "cell_type": "code",
   "execution_count": null,
   "metadata": {},
   "outputs": [],
   "source": [
    "from eo_tools.S1.process import sar2geo, coherence, amplitude\n",
    "file_prm = f\"{out_dir}/primary.tif\"\n",
    "file_sec = f\"{out_dir}/secondary.tif\"\n",
    "file_amp = f\"{out_dir}/amp.tif\"\n",
    "file_coh = f\"{out_dir}/coh.tif\"\n",
    "file_phi_geo = f\"{out_dir}/phi_geo.tif\"\n",
    "file_amp_geo = f\"{out_dir}/amp_geo.tif\"\n",
    "file_coh_geo = f\"{out_dir}/coh_geo.tif\"\n",
    "file_lut = f\"{out_dir}/lut.tif\"\n",
    "# computing amplitude and complex coherence  in the radar geometry\n",
    "coherence(file_prm, file_sec, file_coh, box_size=[3,10], magnitude=False)\n",
    "amplitude(file_prm, file_amp)\n",
    "\n",
    "# combined multilooking and geocoding\n",
    "# interferometric coherence\n",
    "sar2geo(file_coh, file_lut, file_coh_geo, 1, 4, \"bicubic\", write_phase=False, magnitude_only=True)\n",
    "\n",
    "# interferometric phase\n",
    "sar2geo(file_coh, file_lut, file_phi_geo, 1, 4, \"bicubic\", write_phase=True)\n",
    "\n",
    "# amplitude of the primary image\n",
    "sar2geo(file_amp, file_lut, file_amp_geo, 2, 8, \"bicubic\", False, True)"
   ]
  },
  {
   "cell_type": "markdown",
   "metadata": {},
   "source": [
    "# Visualize outputs on a folium map"
   ]
  },
  {
   "cell_type": "code",
   "execution_count": null,
   "metadata": {},
   "outputs": [],
   "source": [
    "show_sar_int(file_amp_geo)"
   ]
  },
  {
   "cell_type": "code",
   "execution_count": null,
   "metadata": {},
   "outputs": [],
   "source": [
    "show_insar_phi(file_phi_geo)"
   ]
  },
  {
   "cell_type": "code",
   "execution_count": null,
   "metadata": {},
   "outputs": [],
   "source": [
    "show_insar_coh(file_coh_geo)"
   ]
  }
 ],
 "metadata": {
  "kernelspec": {
   "display_name": "Python 3",
   "language": "python",
   "name": "python3"
  },
  "language_info": {
   "codemirror_mode": {
    "name": "ipython",
    "version": 3
   },
   "file_extension": ".py",
   "mimetype": "text/x-python",
   "name": "python",
   "nbconvert_exporter": "python",
   "pygments_lexer": "ipython3",
   "version": "3.12.5"
  }
 },
 "nbformat": 4,
 "nbformat_minor": 2
}
