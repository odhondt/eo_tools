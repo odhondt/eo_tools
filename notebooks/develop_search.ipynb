{
 "cells": [
  {
   "cell_type": "code",
   "execution_count": null,
   "metadata": {},
   "outputs": [],
   "source": [
    "%load_ext autoreload\n",
    "%autoreload 2\n",
    "\n",
    "from sentinelsat import SentinelAPI, read_geojson, geojson_to_wkt\n",
    "import geopandas as gpd\n",
    "import pandas as pd\n",
    "import json\n",
    "import folium\n",
    "from folium import Map, Polygon\n",
    "from shapely import intersection_all\n",
    "from shapely.geometry import mapping\n",
    "import shapely\n",
    "\n",
    "import numpy as np"
   ]
  },
  {
   "cell_type": "markdown",
   "metadata": {},
   "source": [
    "## Search"
   ]
  },
  {
   "cell_type": "code",
   "execution_count": null,
   "metadata": {},
   "outputs": [],
   "source": [
    "file_aoi = \"/data/aoi_bretagne.geojson\"\n",
    "gj_aoi = read_geojson(file_aoi)\n",
    "aoi = geojson_to_wkt(gj_aoi[\"features\"][0])\n",
    "with open(\"/data/creds.json\") as f:\n",
    "    creds = json.load(f)\n",
    "api = SentinelAPI(creds[\"username\"], creds[\"password\"])\n",
    "products = api.query(\n",
    "    aoi,\n",
    "    producttype=\"SLC\",\n",
    "    date=(\"20220110\", \"20220430\"),\n",
    "    #  orbitdirection='ASCENDING',\n",
    "    limit=50,\n",
    ")\n",
    "gdf = api.to_geodataframe(products).reset_index(names='id')"
   ]
  },
  {
   "cell_type": "markdown",
   "metadata": {},
   "source": [
    "## group and display"
   ]
  },
  {
   "cell_type": "code",
   "execution_count": null,
   "metadata": {},
   "outputs": [],
   "source": [
    "map_ = Map()\n",
    "grouped = gdf.groupby([\"relativeorbitnumber\", \"slicenumber\"])\n",
    "groups = list(grouped.groups.keys())\n",
    "ll = gdf.total_bounds.reshape(2, 2)\n",
    "bbox = list(map(lambda x: [x[1], x[0]], ll))\n",
    "for g in groups:\n",
    "    # convert Multipolygons to Polygons\n",
    "    dfg = grouped.get_group(g).explode(index_parts=False).to_crs(\"EPSG:4236\")\n",
    "\n",
    "    # find the intersection of all geometries\n",
    "    inter = intersection_all(dfg.geometry)\n",
    "\n",
    "    # a collection is required for folium styling props\n",
    "    gj = {}\n",
    "    gj[\"type\"] = \"FeatureCollection\"\n",
    "    gj[\"features\"] = []\n",
    "    item = mapping(inter)\n",
    "    item[\"properties\"] = {}\n",
    "    if all(dfg.orbitdirection == \"ASCENDING\"):\n",
    "        item[\"properties\"][\"color\"] = \"cadetblue\"\n",
    "    elif all(dfg.orbitdirection == \"DESCENDING\"):\n",
    "        item[\"properties\"][\"color\"] = \"orange\"\n",
    "    else:\n",
    "        # not sure if this may happen\n",
    "        item[\"properties\"][\"color\"] = \"red\"\n",
    "    gj[\"features\"].append(item)\n",
    "    folium_products = folium.GeoJson(\n",
    "        data=gj,\n",
    "        style_function=lambda x: {\n",
    "            \"fillColor\": \"lightblue\",\n",
    "            \"color\": x[\"properties\"][\"color\"],\n",
    "        }\n",
    "    )\n",
    "    folium_aoi = folium.GeoJson(\n",
    "        data=gj_aoi,\n",
    "        style_function=lambda x: {\n",
    "            \"fillColor\": \"none\",\n",
    "            \"color\": \"grey\",\n",
    "        }\n",
    "    )\n",
    "    date_ts = dfg[\"beginposition\"].dt.strftime(\"%Y-%m-%d %X\")\n",
    "    date_str = \"<br>\".join(date_ts.index.astype(str).str.cat(date_ts.values, sep=\": \"))\n",
    "    folium.Tooltip(f\"index: date<br>{date_str}\").add_to(folium_products)\n",
    "    folium.Tooltip(f\"Area of Interest\").add_to(folium_aoi)\n",
    "    folium_products.add_to(map_)\n",
    "    folium_aoi.add_to(map_)\n",
    "    # print(inter)\n",
    "map_.fit_bounds(bbox)\n",
    "map_"
   ]
  },
  {
   "cell_type": "markdown",
   "metadata": {},
   "source": [
    "## download"
   ]
  },
  {
   "cell_type": "code",
   "execution_count": null,
   "metadata": {},
   "outputs": [],
   "source": [
    "# fill indices of products to download\n",
    "indices_to_download = [8, 13]\n",
    "ids = gdf['id'][indices_to_download]\n",
    "dl = api.download_all_quicklooks(ids, directory_path='/data/S1/')"
   ]
  },
  {
   "cell_type": "code",
   "execution_count": null,
   "metadata": {},
   "outputs": [],
   "source": [
    "# extract paths for processing\n",
    "file_paths = [item[1]['path'] for item in dl[0].items()]"
   ]
  }
 ],
 "metadata": {
  "kernelspec": {
   "display_name": "Python 3",
   "language": "python",
   "name": "python3"
  },
  "language_info": {
   "codemirror_mode": {
    "name": "ipython",
    "version": 3
   },
   "file_extension": ".py",
   "mimetype": "text/x-python",
   "name": "python",
   "nbconvert_exporter": "python",
   "pygments_lexer": "ipython3",
   "version": "3.11.5"
  },
  "orig_nbformat": 4
 },
 "nbformat": 4,
 "nbformat_minor": 2
}
