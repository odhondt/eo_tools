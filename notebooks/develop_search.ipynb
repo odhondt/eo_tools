{
 "cells": [
  {
   "cell_type": "code",
   "execution_count": null,
   "metadata": {},
   "outputs": [],
   "source": [
    "%load_ext autoreload\n",
    "%autoreload 2\n",
    "\n",
    "from sentinelsat import SentinelAPI, read_geojson, geojson_to_wkt\n",
    "import geopandas as gpd\n",
    "import pandas as pd\n",
    "import json\n",
    "import folium\n",
    "from folium import Map, Polygon\n",
    "from shapely import intersection_all\n",
    "from shapely.geometry import mapping\n",
    "import shapely\n",
    "\n",
    "import numpy as np"
   ]
  },
  {
   "cell_type": "code",
   "execution_count": null,
   "metadata": {},
   "outputs": [],
   "source": [
    "# aoi = Vector('/data/aoi_bretagne.geojson')\n",
    "# infiles = [\n",
    "#     \"/data/S1/S1A_IW_SLC__1SDV_20230826T180527_20230826T180554_050050_0605B2_E768.zip\",\n",
    "#     \"/data/S1/S1A_IW_SLC__1SDV_20230814T180526_20230814T180553_049875_05FFB4_7D92.zip\",\n",
    "# ]\n",
    "file_aoi = \"/data/aoi_bretagne.geojson\"\n",
    "aoi = geojson_to_wkt(read_geojson(file_aoi)[\"features\"][0])\n",
    "with open(\"/data/creds.json\") as f:\n",
    "    creds = json.load(f)\n",
    "api = SentinelAPI(creds[\"username\"], creds[\"password\"])\n",
    "products = api.query(\n",
    "    aoi,\n",
    "    producttype=\"SLC\",\n",
    "    date=(\"20220110\", \"20220430\"),\n",
    "    #  orbitdirection='ASCENDING',\n",
    "    limit=50,\n",
    ")\n",
    "gdf = api.to_geodataframe(products)\n",
    "gdf_ = gdf.loc[:, [\"title\", \"geometry\", \"summary\", \"relativeorbitnumber\", \"slicenumber\"]].reset_index()"
   ]
  },
  {
   "cell_type": "code",
   "execution_count": null,
   "metadata": {},
   "outputs": [],
   "source": [
    "map_ = Map()\n",
    "grouped = gdf.groupby([\"relativeorbitnumber\", \"slicenumber\"])\n",
    "groups = list(grouped.groups.keys())\n",
    "for g in groups:\n",
    "    # convert Multipolygons to Polygons\n",
    "    dfg = grouped.get_group(g).explode(index_parts=False).to_crs(\"EPSG:4236\")\n",
    "    # find the common part of all geometries\n",
    "    inter = shapely.ops.transform(lambda x, y: (y, x), intersection_all(dfg.geometry))\n",
    "    folium_geo = Polygon(mapping(inter)[\"coordinates\"], style_function=lambda x: {\"fillColor\": \"orange\"})\n",
    "    folium.Tooltip(dfg['summary']).add_to(folium_geo)\n",
    "    folium_geo.add_to(map_)\n",
    "    # print(inter)\n",
    "map_"
   ]
  }
 ],
 "metadata": {
  "kernelspec": {
   "display_name": "Python 3",
   "language": "python",
   "name": "python3"
  },
  "language_info": {
   "codemirror_mode": {
    "name": "ipython",
    "version": 3
   },
   "file_extension": ".py",
   "mimetype": "text/x-python",
   "name": "python",
   "nbconvert_exporter": "python",
   "pygments_lexer": "ipython3",
   "version": "3.11.5"
  },
  "orig_nbformat": 4
 },
 "nbformat": 4,
 "nbformat_minor": 2
}
