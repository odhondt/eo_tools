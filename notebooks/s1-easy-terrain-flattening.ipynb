{
 "cells": [
  {
   "cell_type": "code",
   "execution_count": null,
   "metadata": {},
   "outputs": [],
   "source": [
    "%load_ext autoreload\n",
    "%autoreload 2\n",
    "import logging\n",
    "logging.basicConfig(level=logging.INFO)\n",
    "\n",
    "import geopandas as gpd\n",
    "from eodag import EODataAccessGateway\n",
    "\n",
    "# credentials need to be stored in the following file (see EODAG docs)\n",
    "confpath = \"/data/eodag_config.yml\"\n",
    "dag = EODataAccessGateway(user_conf_file_path=confpath)\n",
    "# make sure cop_dataspace will be used \n",
    "dag.set_preferred_provider(\"cop_dataspace\")\n",
    "log = logging.getLogger(__name__)"
   ]
  },
  {
   "cell_type": "code",
   "execution_count": 2,
   "metadata": {},
   "outputs": [],
   "source": [
    "# change to your custom locations\n",
    "data_dir = \"/data/S1\"\n",
    "ids = ['S1A_IW_SLC__1SDV_20181228T050448_20181228T050515_025221_02C9BE_1E22']\n",
    "primary_path = f\"{data_dir}/{ids[0]}.zip\"\n",
    "output_dir_flattened=\"/data/res/etna-flattened\"\n",
    "output_dir_beta=\"/data/res/etna-beta\""
   ]
  },
  {
   "cell_type": "markdown",
   "metadata": {},
   "source": [
    "## Download S-1 products"
   ]
  },
  {
   "cell_type": "code",
   "execution_count": null,
   "metadata": {},
   "outputs": [],
   "source": [
    "# load a geometry\n",
    "# aoi_file = \"../data/Etna.geojson\"\n",
    "aoi_file = \"https://raw.githubusercontent.com/odhondt/eo_tools/refs/heads/main/data/Etna.geojson\"\n",
    "shp = gpd.read_file(aoi_file).geometry[0]\n",
    "\n",
    "search_criteria = {\n",
    "    \"productType\": \"S1_SAR_SLC\",\n",
    "    \"start\": \"2018-12-22\",\n",
    "    \"end\": \"2018-12-29\",\n",
    "    \"geom\": shp\n",
    "}\n",
    "\n",
    "results = dag.search(**search_criteria)\n",
    "to_dl = [it for it in results if it.properties[\"id\"] in ids]\n",
    "print(f\"{len(to_dl)} products to download\")\n",
    "dag.download_all(to_dl, output_dir=\"/data/S1/\", extract=False)"
   ]
  },
  {
   "cell_type": "markdown",
   "metadata": {},
   "source": [
    "## Geocoding with terrain flattening"
   ]
  },
  {
   "cell_type": "code",
   "execution_count": null,
   "metadata": {},
   "outputs": [],
   "source": [
    "from eo_tools.S1.process import process_slc\n",
    "\n",
    "out_dir_flattened = process_slc(\n",
    "    slc_path=primary_path,\n",
    "    output_dir=output_dir_flattened,\n",
    "    aoi_name=None,\n",
    "    shp=shp,\n",
    "    pol=\"vv\",\n",
    "    subswaths=[\"IW1\", \"IW2\", \"IW3\"],\n",
    "    dem_upsampling=1.8,\n",
    "    dem_force_download=False,\n",
    "    dem_buffer_arc_sec=40,\n",
    "    multilook=[1, 4],\n",
    "    warp_kernel=\"bicubic\",\n",
    "    cal_type=\"terrain\",\n",
    "    clip_to_shape=True,\n",
    ")"
   ]
  },
  {
   "cell_type": "markdown",
   "metadata": {},
   "source": [
    "## Geocoding with beta nought for comparison"
   ]
  },
  {
   "cell_type": "code",
   "execution_count": null,
   "metadata": {},
   "outputs": [],
   "source": [
    "from eo_tools.S1.process import process_slc\n",
    "\n",
    "out_dir_beta = process_slc(\n",
    "    slc_path=primary_path,\n",
    "    output_dir=output_dir_beta,\n",
    "    aoi_name=None,\n",
    "    shp=shp,\n",
    "    pol=\"vv\",\n",
    "    subswaths=[\"IW1\", \"IW2\", \"IW3\"],\n",
    "    dem_upsampling=1.8,\n",
    "    dem_force_download=False,\n",
    "    dem_buffer_arc_sec=40,\n",
    "    multilook=[1, 4],\n",
    "    warp_kernel=\"bicubic\",\n",
    "    cal_type=\"beta\",\n",
    "    clip_to_shape=True,\n",
    ")"
   ]
  },
  {
   "cell_type": "markdown",
   "metadata": {},
   "source": [
    "# Display results"
   ]
  },
  {
   "cell_type": "code",
   "execution_count": null,
   "metadata": {},
   "outputs": [],
   "source": [
    "from folium import Map, LayerControl\n",
    "from eo_tools_dev.util import show_cog\n",
    "\n",
    "m = Map()\n",
    "_ = show_cog(f\"{out_dir_beta}/amp_vv.tif\", m, rescale=f\"0, 1\")\n",
    "_ = show_cog(f\"{out_dir_flattened}/amp_vv.tif\", m, rescale=f\"0, 1\")\n",
    "LayerControl().add_to(m)\n",
    "m"
   ]
  }
 ],
 "metadata": {
  "kernelspec": {
   "display_name": "Python 3",
   "language": "python",
   "name": "python3"
  },
  "language_info": {
   "codemirror_mode": {
    "name": "ipython",
    "version": 3
   },
   "file_extension": ".py",
   "mimetype": "text/x-python",
   "name": "python",
   "nbconvert_exporter": "python",
   "pygments_lexer": "ipython3",
   "version": "3.12.8"
  }
 },
 "nbformat": 4,
 "nbformat_minor": 2
}
