{
 "cells": [
  {
   "cell_type": "code",
   "execution_count": 1,
   "metadata": {},
   "outputs": [],
   "source": [
    "from pathlib import Path\n",
    "from eo_tools.S1.core import read_metadata\n",
    "import numpy as np\n",
    "from scipy.interpolate import RegularGridInterpolator\n",
    "from eo_tools.S1.core import S1IWSwath"
   ]
  },
  {
   "cell_type": "code",
   "execution_count": 2,
   "metadata": {},
   "outputs": [],
   "source": [
    "dir_slc = '/data/S1/S1A_IW_SLC__1SDV_20240410T180524_20240410T180551_053375_067920_A0F7/S1A_IW_SLC__1SDV_20240410T180524_20240410T180551_053375_067920_A0F7.SAFE'\n",
    "#dir_out = '/data/res/test-slc-proc/S1_2024-04-10-180524'\n",
    "safe_dir = dir_slc\n",
    "iw = 1\n",
    "pol = \"vv\""
   ]
  },
  {
   "cell_type": "code",
   "execution_count": 3,
   "metadata": {},
   "outputs": [],
   "source": [
    "# read calibration file\n",
    "dir_cal = Path(safe_dir) / \"annotation\" / \"calibration\"\n",
    "pth_cal = dir_cal.glob(f\"calibration*iw{iw}*{pol}*.xml\")\n",
    "try:\n",
    "    pth_cal = list(pth_cal)[0]\n",
    "except IndexError:\n",
    "    raise FileNotFoundError(\"Calibration file is missing.\")"
   ]
  },
  {
   "cell_type": "code",
   "execution_count": 6,
   "metadata": {},
   "outputs": [],
   "source": [
    "cal_meta = read_metadata(pth_cal)['calibration']\n",
    "# parse calibration grids\n",
    "cal_list = cal_meta[\"calibrationVectorList\"][\"calibrationVector\"]\n",
    "str_cols = cal_list[0][\"pixel\"][\"#text\"]\n",
    "cols = np.array(list(map(int, str_cols.split(\" \"))), dtype=int)\n",
    "grid_sigma = np.zeros((len(cal_list), len(cols)), dtype = \"float64\")\n",
    "grid_gamma= np.zeros((len(cal_list), len(cols)), dtype = \"float64\")\n",
    "list_lines = []\n",
    "for i, it in enumerate(cal_list):\n",
    "    list_lines.append(int(it[\"line\"]))\n",
    "    str_sigma = it[\"sigmaNought\"][\"#text\"]\n",
    "    line_sigma = list(map(float, str_sigma.split(\" \")))\n",
    "    grid_sigma[i] = line_sigma\n",
    "\n",
    "    str_gamma = it[\"gamma\"][\"#text\"]\n",
    "    line_gamma = list(map(float, str_gamma.split(\" \")))\n",
    "    grid_gamma[i] = line_gamma\n",
    "rows = np.array(list_lines, dtype=int)\n",
    "swath = S1IWSwath(dir_slc, iw=1, pol=\"vv\") \n",
    "naz = swath.lines_per_burst\n",
    "nrg = swath.samples_per_burst\n",
    "grid_arr_rg, grid_arr_az = np.meshgrid(np.arange(nrg), np.arange(naz))\n",
    "grid_cal_rg, grid_cal_az = np.meshgrid(cols, rows)\n",
    "interp = RegularGridInterpolator((rows, cols), grid_gamma, method=\"linear\")\n",
    "img = interp((grid_arr_az, grid_arr_rg))"
   ]
  },
  {
   "cell_type": "code",
   "execution_count": null,
   "metadata": {},
   "outputs": [],
   "source": []
  },
  {
   "cell_type": "code",
   "execution_count": null,
   "metadata": {},
   "outputs": [],
   "source": [
    "import matplotlib.pyplot as plt\n",
    "plt.figure(figsize=(10, 10))\n",
    "plt.imshow(grid_arr_az, interpolation=\"none\")\n",
    "# plt.colorbar(fraction=0.046, pad=0.04)"
   ]
  },
  {
   "cell_type": "code",
   "execution_count": null,
   "metadata": {},
   "outputs": [],
   "source": [
    "plt.figure(figsize=(10, 10))\n",
    "plt.imshow(img, interpolation=\"none\")\n",
    "plt.colorbar(fraction=0.046, pad=0.04)"
   ]
  }
 ],
 "metadata": {
  "kernelspec": {
   "display_name": "Python 3",
   "language": "python",
   "name": "python3"
  },
  "language_info": {
   "codemirror_mode": {
    "name": "ipython",
    "version": 3
   },
   "file_extension": ".py",
   "mimetype": "text/x-python",
   "name": "python",
   "nbconvert_exporter": "python",
   "pygments_lexer": "ipython3",
   "version": "3.12.5"
  }
 },
 "nbformat": 4,
 "nbformat_minor": 2
}
