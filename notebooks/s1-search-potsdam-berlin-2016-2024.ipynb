{
 "cells": [
  {
   "cell_type": "code",
   "execution_count": null,
   "metadata": {},
   "outputs": [],
   "source": [
    "%load_ext autoreload\n",
    "%autoreload 2\n",
    "import logging\n",
    "logging.basicConfig(level=logging.INFO)\n",
    "import matplotlib.pyplot as plt\n",
    "\n",
    "import geopandas as gpd\n",
    "from eodag import EODataAccessGateway\n",
    "\n",
    "# credentials need to be stored in the following file (see EODAG docs)\n",
    "confpath = \"/data/eodag_config.yml\"\n",
    "dag = EODataAccessGateway(user_conf_file_path=confpath)\n",
    "# make sure cop_dataspace will be used \n",
    "dag.set_preferred_provider(\"cop_dataspace\")\n",
    "log = logging.getLogger(__name__)"
   ]
  },
  {
   "cell_type": "markdown",
   "metadata": {},
   "source": [
    "## 2024 search"
   ]
  },
  {
   "cell_type": "code",
   "execution_count": null,
   "metadata": {},
   "outputs": [],
   "source": [
    "# load a geometry\n",
    "file_aoi = \"../data/Potsdam.geojson\"\n",
    "shp = gpd.read_file(file_aoi).geometry[0]\n",
    "search_criteria = {\n",
    "    # \"productType\": \"S2_MSI_L1C\",\n",
    "    \"productType\": \"S1_SAR_SLC\",\n",
    "    \"start\": \"2024-09-01\",\n",
    "    \"end\": \"2024-10-09\",\n",
    "    \"geom\": shp\n",
    "}\n",
    "results_2024 = dag.search_all(**search_criteria).filter_property(relativeOrbitNumber=146)"
   ]
  },
  {
   "cell_type": "code",
   "execution_count": null,
   "metadata": {},
   "outputs": [],
   "source": [
    "from eo_tools.util import explore_products\n",
    "explore_products(results_2024, shp)"
   ]
  },
  {
   "cell_type": "code",
   "execution_count": null,
   "metadata": {},
   "outputs": [],
   "source": [
    "# re-enter indices after a new search\n",
    "indices_2024 = [0, 2]\n",
    "list_2024 = [results_2024[i] for i in indices_2024]"
   ]
  },
  {
   "cell_type": "markdown",
   "metadata": {},
   "source": [
    "## 2016 search"
   ]
  },
  {
   "cell_type": "code",
   "execution_count": null,
   "metadata": {},
   "outputs": [],
   "source": [
    "# load a geometry\n",
    "file_aoi = \"../data/Potsdam.geojson\"\n",
    "shp = gpd.read_file(file_aoi).geometry[0]\n",
    "search_criteria = {\n",
    "    # \"productType\": \"S2_MSI_L1C\",\n",
    "    \"productType\": \"S1_SAR_SLC\",\n",
    "    \"start\": \"2016-09-01\",\n",
    "    \"end\": \"2016-10-09\",\n",
    "    \"geom\": shp\n",
    "}\n",
    "results_2016 = dag.search_all(**search_criteria).filter_property(relativeOrbitNumber=146)"
   ]
  },
  {
   "cell_type": "code",
   "execution_count": null,
   "metadata": {},
   "outputs": [],
   "source": [
    "from eo_tools.util import explore_products\n",
    "explore_products(results_2016, shp)"
   ]
  },
  {
   "cell_type": "code",
   "execution_count": null,
   "metadata": {},
   "outputs": [],
   "source": [
    "# re-enter indices after a new search\n",
    "indices_2016 = [2, 1]\n",
    "list_2016 = [results_2016[i] for i in indices_2016]"
   ]
  },
  {
   "cell_type": "markdown",
   "metadata": {},
   "source": [
    "## Save GeoJSON of selected products"
   ]
  },
  {
   "cell_type": "code",
   "execution_count": null,
   "metadata": {},
   "outputs": [],
   "source": [
    "# serialize search to import in another notebook\n",
    "from eodag import SearchResult\n",
    "s = SearchResult(list_2016 + list_2024)\n",
    "pth_search_results = \"../data/search_Potsdam_2016_2024.geojson\"\n",
    "dag.serialize(s, pth_search_results)"
   ]
  },
  {
   "cell_type": "markdown",
   "metadata": {},
   "source": [
    "## Download\n",
    "Use carefully: This will instantly remove the old files from disk and take a long time to download."
   ]
  },
  {
   "cell_type": "code",
   "execution_count": null,
   "metadata": {},
   "outputs": [],
   "source": [
    "# warning: take a long time!\n",
    "# dag.download_all(list_2016+list_2024, outputs_prefix=data_dir, extract=False)"
   ]
  }
 ],
 "metadata": {
  "kernelspec": {
   "display_name": "Python 3",
   "language": "python",
   "name": "python3"
  },
  "language_info": {
   "codemirror_mode": {
    "name": "ipython",
    "version": 3
   },
   "file_extension": ".py",
   "mimetype": "text/x-python",
   "name": "python",
   "nbconvert_exporter": "python",
   "pygments_lexer": "ipython3",
   "version": "3.12.5"
  }
 },
 "nbformat": 4,
 "nbformat_minor": 2
}
