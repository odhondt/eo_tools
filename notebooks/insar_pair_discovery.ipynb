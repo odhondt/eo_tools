{
 "cells": [
  {
   "cell_type": "markdown",
   "metadata": {},
   "source": [
    "# Discovering Sentinel-1 candidate pairs for InSAR"
   ]
  },
  {
   "cell_type": "code",
   "execution_count": null,
   "metadata": {},
   "outputs": [],
   "source": [
    "%load_ext autoreload\n",
    "%autoreload 2\n",
    "\n",
    "import json\n",
    "\n",
    "from eo_tools.util import visualize_S1_products_for_insar\n",
    "from eo_tools.util import visualize_insar_phase, visualize_insar_coh, visualize_sar_intensity\n",
    "from eo_tools.S1 import process_InSAR\n",
    "import geopandas as gpd\n",
    "import folium\n",
    "import folium.plugins\n",
    "import logging\n",
    "\n",
    "from json import dumps\n",
    "\n",
    "from eodag import EODataAccessGateway\n",
    "confpath = \"/data/eodag_config.yml\"\n",
    "dag = EODataAccessGateway(user_conf_file_path=confpath)\n",
    "# make sure cop_dataspace will be used \n",
    "dag.set_preferred_provider(\"cop_dataspace\")\n",
    "logging.basicConfig(level=logging.INFO)"
   ]
  },
  {
   "cell_type": "markdown",
   "metadata": {},
   "source": [
    "## Select an area of interest\n",
    "\n",
    "- Select a drawing tool (polygon, circle or rectangle)\n",
    "- Draw the AOI on the map\n",
    "- Click \"Export\" on the right to save the GeoJSON file"
   ]
  },
  {
   "cell_type": "code",
   "execution_count": null,
   "metadata": {},
   "outputs": [],
   "source": [
    "map_select = folium.Map()\n",
    "folium.plugins.Draw(\n",
    "    export=True,\n",
    "    draw_options={\n",
    "        \"polyline\": False,\n",
    "        \"circlemarker\": False,\n",
    "        \"marker\": False,\n",
    "    },\n",
    ").add_to(map_select)\n",
    "map_select"
   ]
  },
  {
   "cell_type": "markdown",
   "metadata": {},
   "source": [
    "## Search"
   ]
  },
  {
   "cell_type": "code",
   "execution_count": null,
   "metadata": {},
   "outputs": [],
   "source": [
    "# load a geometry\n",
    "file_aoi = \"/data/aoi_Maroc.geojson\"\n",
    "# file_aoi = \"/data/aoi_bretagne.geojson\"\n",
    "# gj_aoi = read_geojson(file_aoi)\n",
    "# aoi = geojson_to_wkt(gj_aoi[\"features\"][0])\n",
    "shp = gpd.read_file(file_aoi).geometry[0]\n",
    "# testing data search\n",
    "search_criteria = {\n",
    "    # \"productType\": \"S2_MSI_L1C\",\n",
    "    \"productType\": \"S1_SAR_SLC\",\n",
    "    \"start\": \"2021-03-01\",\n",
    "    \"end\": \"2021-03-05\",\n",
    "    \"geom\": shp\n",
    "}\n",
    "results, _ = dag.search(**search_criteria)"
   ]
  },
  {
   "cell_type": "code",
   "execution_count": null,
   "metadata": {},
   "outputs": [],
   "source": [
    "results[0].properties.keys()"
   ]
  },
  {
   "cell_type": "code",
   "execution_count": null,
   "metadata": {},
   "outputs": [],
   "source": [
    "gj = results.as_geojson_object()\n",
    "gdf = gpd.read_file(dumps(gj))"
   ]
  },
  {
   "cell_type": "code",
   "execution_count": null,
   "metadata": {},
   "outputs": [],
   "source": [
    "print(gdf.iloc[1])"
   ]
  },
  {
   "cell_type": "code",
   "execution_count": null,
   "metadata": {},
   "outputs": [],
   "source": [
    "# gpd.read_file(results.as_geojson_object(), driver=\"GeoJSON\")\n",
    "# gpd.read_feather?"
   ]
  },
  {
   "cell_type": "code",
   "execution_count": null,
   "metadata": {},
   "outputs": [],
   "source": [
    "gpd.GeoDataFrame([p.as_dict() for p in products[0]])\n"
   ]
  },
  {
   "cell_type": "markdown",
   "metadata": {},
   "source": [
    "## Visualize by groups\n",
    "\n",
    "- For InSAR, products must be overlapping and from the same relative orbit.\n",
    "- They also have to be of the same ascending / descending configuration.\n",
    "- Choosing them from the same slice is the easiest though overlapping slices could be combined too."
   ]
  },
  {
   "cell_type": "code",
   "execution_count": null,
   "metadata": {},
   "outputs": [],
   "source": [
    "visualize_S1_products_for_insar(gdf, gj_aoi)"
   ]
  },
  {
   "cell_type": "markdown",
   "metadata": {},
   "source": [
    "## Download"
   ]
  },
  {
   "cell_type": "code",
   "execution_count": null,
   "metadata": {},
   "outputs": [],
   "source": [
    "# fill indices of products to download\n",
    "indices_to_download = [1, 5]\n",
    "ids = gdf['id'][indices_to_download]\n",
    "# dl = api.download_all_quicklooks(ids, directory_path='/data/S1/')\n",
    "dl = api.download_all(ids, directory_path='/data/S1/')"
   ]
  },
  {
   "cell_type": "markdown",
   "metadata": {},
   "source": [
    "# Process"
   ]
  },
  {
   "cell_type": "code",
   "execution_count": null,
   "metadata": {},
   "outputs": [],
   "source": [
    "# extract paths for processing\n",
    "file_paths = [item[1]['path'] for item in dl[0].items()]\n",
    "process_InSAR(\n",
    "    file_paths[0],\n",
    "    file_paths[1],\n",
    "    out_dir=\"/data/res\",\n",
    "    tmp_dir=\"/data/tmp\",\n",
    "    shp=shp,\n",
    "    pol=\"VV\",\n",
    "    coh_only=False,\n",
    "    intensity=True,\n",
    "    clear_tmp_files=True,\n",
    "    resume=False\n",
    ")"
   ]
  },
  {
   "cell_type": "code",
   "execution_count": null,
   "metadata": {},
   "outputs": [],
   "source": [
    "file_phase = \"/data/res/phi_VV_03Sep2023_15Sep2023_slice2_crop.tif\"\n",
    "visualize_insar_phase(file_phase)"
   ]
  },
  {
   "cell_type": "code",
   "execution_count": null,
   "metadata": {},
   "outputs": [],
   "source": [
    "file_coh = \"/data/res/coh_VV_03Sep2023_15Sep2023_slice2_crop.tif\"\n",
    "visualize_insar_coh(file_coh)"
   ]
  },
  {
   "cell_type": "code",
   "execution_count": null,
   "metadata": {},
   "outputs": [],
   "source": [
    "file_int = \"/data/res/int_VV_03Sep2023_slice2_crop.tif\"\n",
    "visualize_sar_intensity(file_int)"
   ]
  }
 ],
 "metadata": {
  "kernelspec": {
   "display_name": "Python 3",
   "language": "python",
   "name": "python3"
  },
  "language_info": {
   "codemirror_mode": {
    "name": "ipython",
    "version": 3
   },
   "file_extension": ".py",
   "mimetype": "text/x-python",
   "name": "python",
   "nbconvert_exporter": "python",
   "pygments_lexer": "ipython3",
   "version": "3.12.0"
  },
  "orig_nbformat": 4
 },
 "nbformat": 4,
 "nbformat_minor": 2
}
