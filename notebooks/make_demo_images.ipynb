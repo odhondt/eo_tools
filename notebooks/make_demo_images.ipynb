{
 "cells": [
  {
   "cell_type": "code",
   "execution_count": null,
   "metadata": {},
   "outputs": [],
   "source": [
    "%load_ext autoreload\n",
    "%autoreload 2\n",
    "import logging\n",
    "logging.basicConfig(level=logging.INFO)\n",
    "from eo_tools.util import show_insar_coh, show_insar_phi, show_cog, palette_phi\n",
    "import numpy as np\n",
    "from folium import Map, LayerControl"
   ]
  },
  {
   "cell_type": "code",
   "execution_count": null,
   "metadata": {},
   "outputs": [],
   "source": [
    "dir_1 = \"/data/res/test_other_pair_iw1\"\n",
    "dir_2 = \"/data/res/test_other_pair_iw2\"\n",
    "file_phi_1 = f\"{dir_1}/phi_geo.tif\"\n",
    "file_phi_2 = f\"{dir_2}/phi_geo.tif\"\n",
    "file_coh_1 = f\"{dir_1}/coh_geo.tif\"\n",
    "file_coh_2 = f\"{dir_2}/coh_geo.tif\"\n",
    "file_amp_1 = f\"{dir_1}/amp_geo.tif\"\n",
    "file_amp_2 = f\"{dir_2}/amp_geo.tif\""
   ]
  },
  {
   "cell_type": "code",
   "execution_count": null,
   "metadata": {},
   "outputs": [],
   "source": [
    "m = Map()\n",
    "rnd = np.random.rand() * 1e-8\n",
    "show_cog(file_phi_1, m,rescale=f\"{-np.pi+rnd}, {np.pi}\", colormap=palette_phi())\n",
    "show_cog(file_phi_2, m,rescale=f\"{-np.pi+rnd}, {np.pi}\", colormap=palette_phi())\n",
    "show_cog(file_coh_1, m,rescale=f\"{rnd}, 1\")\n",
    "show_cog(file_coh_2, m,rescale=f\"{rnd}, 1\")\n",
    "show_cog(file_amp_1, m,rescale=f\"{rnd}, 1\")\n",
    "show_cog(file_amp_2, m,rescale=f\"{rnd}, 1\")\n",
    "LayerControl().add_to(m)\n",
    "m"
   ]
  }
 ],
 "metadata": {
  "kernelspec": {
   "display_name": "Python 3",
   "language": "python",
   "name": "python3"
  },
  "language_info": {
   "codemirror_mode": {
    "name": "ipython",
    "version": 3
   },
   "file_extension": ".py",
   "mimetype": "text/x-python",
   "name": "python",
   "nbconvert_exporter": "python",
   "pygments_lexer": "ipython3",
   "version": "3.12.3"
  }
 },
 "nbformat": 4,
 "nbformat_minor": 2
}
