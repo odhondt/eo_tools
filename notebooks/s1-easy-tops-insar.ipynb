{
    "cells": [
        {
            "cell_type": "code",
            "execution_count": null,
            "metadata": {},
            "outputs": [],
            "source": [
                "%load_ext autoreload\n",
                "%autoreload 2\n",
                "import logging\n",
                "logging.basicConfig(level=logging.INFO)\n",
                "import matplotlib.pyplot as plt\n",
                "\n",
                "# from folium import LayerControl\n",
                "from eo_tools_dev.util import show_insar_coh, show_insar_phi, show_sar_int\n",
                "import geopandas as gpd\n",
                "from eodag import EODataAccessGateway\n",
                "\n",
                "# credentials need to be stored in the following file (see EODAG docs)\n",
                "confpath = \"/data/eodag_config.yml\"\n",
                "dag = EODataAccessGateway(user_conf_file_path=confpath)\n",
                "# make sure cop_dataspace will be used \n",
                "dag.set_preferred_provider(\"cop_dataspace\")\n",
                "logging.basicConfig(level=logging.INFO)"
            ]
        },
        {
            "cell_type": "markdown",
            "metadata": {},
            "source": [
                "# Set up parameters and output dir"
            ]
        },
        {
            "cell_type": "code",
            "execution_count": null,
            "metadata": {},
            "outputs": [],
            "source": [
                "# change to your custom locations\n",
                "data_dir = \"/data/S1\"\n",
                "\n",
                "ids = [\n",
                " \"S1A_IW_SLC__1SDV_20230904T063730_20230904T063757_050174_0609E3_DAA1\", \n",
                " \"S1A_IW_SLC__1SDV_20230916T063730_20230916T063757_050349_060FCD_6814\"\n",
                "]\n",
                "primary_dir = f\"{data_dir}/{ids[0]}.zip\"\n",
                "secondary_dir = f\"{data_dir}/{ids[1]}.zip\"\n",
                "outputs_prefix=\"/data/res/test-full-processor\""
            ]
        },
        {
            "cell_type": "code",
            "execution_count": null,
            "metadata": {},
            "outputs": [],
            "source": [
                "print(primary_dir)"
            ]
        },
        {
            "cell_type": "markdown",
            "metadata": {},
            "source": [
                "# Download S-1 products"
            ]
        },
        {
            "cell_type": "code",
            "execution_count": null,
            "metadata": {},
            "outputs": [],
            "source": [
                "# load a geometry\n",
                "file_aoi = \"../data/Morocco_AOI.geojson\"\n",
                "shp = gpd.read_file(file_aoi).geometry[0]\n",
                "\n",
                "search_criteria = {\n",
                "    \"productType\": \"S1_SAR_SLC\",\n",
                "    \"start\": \"2023-09-03\",\n",
                "    \"end\": \"2023-09-17\",\n",
                "    \"geom\": shp\n",
                "}\n",
                "\n",
                "results, _ = dag.search(**search_criteria)\n",
                "to_dl = [it for it in results if it.properties[\"id\"] in ids]\n",
                "print(f\"{len(to_dl)} products to download\")\n",
                "dag.download_all(to_dl, outputs_prefix=\"/data/S1/\", extract=False)"
            ]
        },
        {
            "cell_type": "markdown",
            "metadata": {},
            "source": [
                "# Pre-process InSAR pair"
            ]
        },
        {
            "cell_type": "code",
            "execution_count": 12,
            "metadata": {},
            "outputs": [],
            "source": [
                "from eo_tools.S1.process import process_insar\n",
                "\n",
                "out_dir = process_insar(\n",
                "    dir_prm=primary_dir,\n",
                "    dir_sec=secondary_dir,\n",
                "    outputs_prefix=outputs_prefix,\n",
                "    aoi_name=None,\n",
                "    shp=shp,\n",
                "    pol=\"vv\",\n",
                "    subswaths=[\"IW1\", \"IW2\", \"IW3\"],\n",
                "    write_coherence=True,\n",
                "    write_interferogram=True,\n",
                "    write_primary_amplitude=True,\n",
                "    write_secondary_amplitude=False,\n",
                "    apply_fast_esd=True,\n",
                "    dem_upsampling=1.8,\n",
                "    dem_force_download=False,\n",
                "    dem_buffer_arc_sec=40,\n",
                "    boxcar_coherence=[3, 3],\n",
                "    filter_ifg=True,\n",
                "    multilook=[1, 4],\n",
                "    warp_kernel=\"bicubic\",\n",
                "    clip_to_shape=True,\n",
                ")"
            ]
        },
        {
            "cell_type": "code",
            "execution_count": null,
            "metadata": {},
            "outputs": [],
            "source": [
                "show_insar_coh(f\"{out_dir}/coh_vv.tif\")"
            ]
        },
        {
            "cell_type": "code",
            "execution_count": null,
            "metadata": {},
            "outputs": [],
            "source": [
                "show_insar_phi(f\"{out_dir}/phi_vv.tif\")"
            ]
        },
        {
            "cell_type": "code",
            "execution_count": null,
            "metadata": {},
            "outputs": [],
            "source": [
                "show_sar_int(f\"{out_dir}/amp_prm_vv.tif\")"
            ]
        }
    ],
    "metadata": {
        "kernelspec": {
            "display_name": "Python 3",
            "language": "python",
            "name": "python3"
        },
        "language_info": {
            "codemirror_mode": {
                "name": "ipython",
                "version": 3
            },
            "file_extension": ".py",
            "mimetype": "text/x-python",
            "name": "python",
            "nbconvert_exporter": "python",
            "pygments_lexer": "ipython3",
            "version": "3.12.5"
        }
    },
    "nbformat": 4,
    "nbformat_minor": 2
}