{
 "cells": [
  {
   "cell_type": "code",
   "execution_count": null,
   "metadata": {},
   "outputs": [],
   "source": [
    "%load_ext autoreload\n",
    "%autoreload 2\n",
    "import logging\n",
    "logging.basicConfig(level=logging.INFO)\n",
    "import matplotlib.pyplot as plt\n",
    "\n",
    "# from folium import LayerControl\n",
    "from eo_tools_dev.util import show_insar_coh, show_insar_phi, show_sar_int\n",
    "import geopandas as gpd\n",
    "from eodag import EODataAccessGateway\n",
    "\n",
    "# credentials need to be stored in the following file (see EODAG docs)\n",
    "confpath = \"/data/eodag_config.yml\"\n",
    "dag = EODataAccessGateway(user_conf_file_path=confpath)\n",
    "# make sure cop_dataspace will be used \n",
    "dag.set_preferred_provider(\"cop_dataspace\")\n",
    "logging.basicConfig(level=logging.INFO)"
   ]
  },
  {
   "cell_type": "markdown",
   "metadata": {},
   "source": [
    "# Set up parameters and output dir\n",
    "\n",
    "## Important\n",
    "- The products must be **unzipped** either manually or by using `extract=True` in the download call. \n",
    "- In the following products, only IW1 and IW2 are relevant as IW3 contains only water pixels."
   ]
  },
  {
   "cell_type": "code",
   "execution_count": null,
   "metadata": {},
   "outputs": [],
   "source": [
    "# change to your custom locations\n",
    "data_dir = \"/data/S1\"\n",
    "\n",
    "ids = [\n",
    " \"S1A_IW_SLC__1SDV_20230904T063730_20230904T063757_050174_0609E3_DAA1\", \n",
    " \"S1A_IW_SLC__1SDV_20230916T063730_20230916T063757_050349_060FCD_6814\"\n",
    "]\n",
    "primary_dir = f\"{data_dir}/{ids[0]}.SAFE\"\n",
    "secondary_dir = f\"{data_dir}/{ids[1]}.SAFE\""
   ]
  },
  {
   "cell_type": "markdown",
   "metadata": {},
   "source": [
    "# Download S-1 products"
   ]
  },
  {
   "cell_type": "code",
   "execution_count": null,
   "metadata": {},
   "outputs": [],
   "source": [
    "# load a geometry\n",
    "file_aoi = \"../data/Morocco_small.geojson\"\n",
    "shp = gpd.read_file(file_aoi).geometry[0]\n",
    "\n",
    "# search_criteria = {\n",
    "#     \"productType\": \"S1_SAR_SLC\",\n",
    "#     \"start\": \"2023-09-03\",\n",
    "#     \"end\": \"2023-09-17\",\n",
    "#     \"geom\": shp\n",
    "# }\n",
    "\n",
    "# results, _ = dag.search(**search_criteria)\n",
    "# to_dl = [it for it in results if it.properties[\"id\"] in ids]\n",
    "# print(f\"{len(to_dl)} products to download\")\n",
    "# dag.download_all(to_dl, outputs_prefix=\"/data/S1/\", extract=False)"
   ]
  },
  {
   "cell_type": "markdown",
   "metadata": {},
   "source": [
    "# Pre-process InSAR pair"
   ]
  },
  {
   "cell_type": "code",
   "execution_count": null,
   "metadata": {},
   "outputs": [],
   "source": [
    "from eo_tools.S1.process import process_InSAR\n",
    "\n",
    "out_dir = process_InSAR(\n",
    "    dir_prm=primary_dir,\n",
    "    dir_sec=secondary_dir,\n",
    "    outputs_prefix=\"/data/res/test-new-processor\",\n",
    "    dir_tmp=\"/data/tmp\",\n",
    "    aoi_name=None,\n",
    "    shp=shp,\n",
    "    pol=\"vh\",\n",
    "    write_coherence=True,\n",
    "    write_interferogram=True,\n",
    "    write_primary_amplitude=True,\n",
    "    write_secondary_amplitude=True,\n",
    "    apply_ESD=True,\n",
    "    subswaths=[\"IW1\", \"IW2\", \"IW3\"],\n",
    "    dem_upsampling=1.8,\n",
    "    dem_force_download=True,\n",
    "    boxcar_coherence=[3, 10],\n",
    "    multilook=[1, 4],\n",
    "    kernel=\"bicubic\",\n",
    "    kernel_phase=\"nearest\",\n",
    "    clip_to_shape=False\n",
    ")"
   ]
  },
  {
   "cell_type": "code",
   "execution_count": null,
   "metadata": {},
   "outputs": [],
   "source": [
    "from eo_tools_dev.util import show_cog\n",
    "show_cog(f'/data/res/test-new-processor/', rescale=\"0,1\")"
   ]
  },
  {
   "cell_type": "code",
   "execution_count": null,
   "metadata": {},
   "outputs": [],
   "source": [
    "import rioxarray as riox\n",
    "arr = riox.open_rasterio(f'/data/res/test-new-processor/S1_InSAR_VH_2023-09-04-063730__2023-09-16-063730/phi_geo.tif', masked=True)"
   ]
  },
  {
   "cell_type": "code",
   "execution_count": null,
   "metadata": {},
   "outputs": [],
   "source": [
    "vars"
   ]
  },
  {
   "cell_type": "markdown",
   "metadata": {},
   "source": [
    "# DBG nodata"
   ]
  },
  {
   "cell_type": "code",
   "execution_count": null,
   "metadata": {},
   "outputs": [],
   "source": [
    "import rasterio as rio \n",
    "import rioxarray as riox\n",
    "import xarray as xr\n",
    "import numpy as np\n",
    "arr = np.random.rand(256,256) +  1j*np.random.rand(256,256)\n",
    "arr = arr.astype(\"complex64\")\n",
    "# with rio.open(\n",
    "#     '/tmp/new.tif',\n",
    "#     'w',\n",
    "#     driver='GTiff',\n",
    "#     height=arr.shape[0],\n",
    "#     width=arr.shape[1],\n",
    "#     count=1,\n",
    "#     dtype=\"complex64\",\n",
    "#     nodata=\"nan\"\n",
    "# ) as ds:\n",
    "#     ds.write(arr, 1)\n",
    "#     print(ds.profile)\n",
    "\n",
    "toto = xr.DataArray(data=arr[None],\n",
    "                dims=(\"band\", \"y\", \"x\"),)"
   ]
  },
  {
   "cell_type": "code",
   "execution_count": null,
   "metadata": {},
   "outputs": [],
   "source": [
    "# toto = riox.open_rasterio('/tmp/new.tif')\n",
    "# toto.rio.nodata\n",
    "toto"
   ]
  },
  {
   "cell_type": "code",
   "execution_count": null,
   "metadata": {},
   "outputs": [],
   "source": [
    "toto.rio.write_nodata(np.nan, inplace=True)"
   ]
  },
  {
   "cell_type": "code",
   "execution_count": null,
   "metadata": {},
   "outputs": [],
   "source": [
    "toto.rio.nodata"
   ]
  },
  {
   "cell_type": "code",
   "execution_count": null,
   "metadata": {},
   "outputs": [],
   "source": [
    "toto.rio.to_raster(\"toto.tif\")"
   ]
  },
  {
   "cell_type": "code",
   "execution_count": null,
   "metadata": {},
   "outputs": [],
   "source": [
    "riox.open_rasterio(\"toto.tif\")"
   ]
  },
  {
   "cell_type": "code",
   "execution_count": null,
   "metadata": {},
   "outputs": [],
   "source": []
  }
 ],
 "metadata": {
  "kernelspec": {
   "display_name": "Python 3",
   "language": "python",
   "name": "python3"
  },
  "language_info": {
   "codemirror_mode": {
    "name": "ipython",
    "version": 3
   },
   "file_extension": ".py",
   "mimetype": "text/x-python",
   "name": "python",
   "nbconvert_exporter": "python",
   "pygments_lexer": "ipython3",
   "version": "3.12.3"
  }
 },
 "nbformat": 4,
 "nbformat_minor": 2
}
