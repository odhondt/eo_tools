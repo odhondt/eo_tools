{
 "cells": [
  {
   "cell_type": "code",
   "execution_count": null,
   "metadata": {},
   "outputs": [],
   "source": [
    "%load_ext autoreload\n",
    "%autoreload 2\n",
    "import logging\n",
    "logging.basicConfig(level=logging.INFO)\n",
    "import matplotlib.pyplot as plt\n",
    "\n",
    "# from folium import LayerControl\n",
    "from eo_tools_dev.util import show_insar_coh, show_insar_phi, show_sar_int\n",
    "import geopandas as gpd\n",
    "from eodag import EODataAccessGateway\n",
    "\n",
    "# credentials need to be stored in the following file (see EODAG docs)\n",
    "confpath = \"/data/eodag_config.yml\"\n",
    "dag = EODataAccessGateway(user_conf_file_path=confpath)\n",
    "# make sure cop_dataspace will be used \n",
    "dag.set_preferred_provider(\"cop_dataspace\")\n",
    "logging.basicConfig(level=logging.INFO)"
   ]
  },
  {
   "cell_type": "markdown",
   "metadata": {},
   "source": [
    "# Set up parameters and output dir\n",
    "\n",
    "## Important\n",
    "- The products must be **unzipped** either manually or by using `extract=True` in the download call. \n",
    "- In the following products, only IW1 and IW2 are relevant as IW3 contains only water pixels."
   ]
  },
  {
   "cell_type": "code",
   "execution_count": null,
   "metadata": {},
   "outputs": [],
   "source": [
    "# change to your custom locations\n",
    "data_dir = \"/data/S1\"\n",
    "\n",
    "ids = [\n",
    " \"S1A_IW_SLC__1SDV_20230904T063730_20230904T063757_050174_0609E3_DAA1\", \n",
    " \"S1A_IW_SLC__1SDV_20230916T063730_20230916T063757_050349_060FCD_6814\"\n",
    "]\n",
    "primary_dir = f\"{data_dir}/{ids[0]}.SAFE\"\n",
    "secondary_dir = f\"{data_dir}/{ids[1]}.SAFE\"\n",
    "outputs_prefix=\"/data/res/test-full-processor\""
   ]
  },
  {
   "cell_type": "markdown",
   "metadata": {},
   "source": [
    "# Download S-1 products"
   ]
  },
  {
   "cell_type": "code",
   "execution_count": null,
   "metadata": {},
   "outputs": [],
   "source": [
    "# load a geometry\n",
    "file_aoi = \"../data/Morocco_tiny.geojson\"\n",
    "shp = gpd.read_file(file_aoi).geometry[0]\n",
    "\n",
    "search_criteria = {\n",
    "    \"productType\": \"S1_SAR_SLC\",\n",
    "    \"start\": \"2023-09-03\",\n",
    "    \"end\": \"2023-09-17\",\n",
    "    \"geom\": shp\n",
    "}\n",
    "\n",
    "results, _ = dag.search(**search_criteria)\n",
    "to_dl = [it for it in results if it.properties[\"id\"] in ids]\n",
    "print(f\"{len(to_dl)} products to download\")\n",
    "dag.download_all(to_dl, outputs_prefix=\"/data/S1/\", extract=False)"
   ]
  },
  {
   "cell_type": "markdown",
   "metadata": {},
   "source": [
    "# Pre-process InSAR pair"
   ]
  },
  {
   "cell_type": "code",
   "execution_count": null,
   "metadata": {},
   "outputs": [],
   "source": [
    "from eo_tools.S1.process import process_insar\n",
    "\n",
    "out_dir = process_insar(\n",
    "    dir_prm=primary_dir,\n",
    "    dir_sec=secondary_dir,\n",
    "    outputs_prefix=outputs_prefix,\n",
    "    aoi_name=None,\n",
    "    shp=shp,\n",
    "    pol=\"vh\",\n",
    "    write_coherence=True,\n",
    "    write_interferogram=True,\n",
    "    write_primary_amplitude=True,\n",
    "    write_secondary_amplitude=True,\n",
    "    apply_fast_esd=True,\n",
    "    subswaths=[\"IW1\", \"IW2\", \"IW3\"],\n",
    "    dem_upsampling=1.8,\n",
    "    dem_force_download=False,\n",
    "    dem_buffer_arc_sec=40,\n",
    "    boxcar_coherence=[3, 10],\n",
    "    multilook=[1, 4],\n",
    "    warp_kernel=\"bicubic\",\n",
    "    warp_kernel_phase=\"nearest\",\n",
    "    clip_to_shape=False\n",
    ")"
   ]
  },
  {
   "cell_type": "markdown",
   "metadata": {},
   "source": [
    "if not set, change the path in the next cell to:\n",
    "`\"/data/res/test-new-processor/S1_InSAR_2023-09-04-063730__2023-09-16-063730/phi_vh.tif\"`"
   ]
  },
  {
   "cell_type": "code",
   "execution_count": null,
   "metadata": {},
   "outputs": [],
   "source": [
    "show_insar_coh(\"/data/res/test-full-processor/S1_InSAR_2023-09-04-063730__2023-09-16-063730/coh_vh.tif\")"
   ]
  },
  {
   "cell_type": "code",
   "execution_count": null,
   "metadata": {},
   "outputs": [],
   "source": [
    "show_insar_phi(\"/data/res/test-full-processor/S1_InSAR_2023-09-04-063730__2023-09-16-063730/phi_vh.tif\")"
   ]
  },
  {
   "cell_type": "code",
   "execution_count": null,
   "metadata": {},
   "outputs": [],
   "source": [
    "show_sar_int(\"/data/res/test-full-processor/S1_InSAR_2023-09-04-063730__2023-09-16-063730/amp_prm_vh.tif\")"
   ]
  },
  {
   "cell_type": "code",
   "execution_count": null,
   "metadata": {},
   "outputs": [],
   "source": [
    "toto = \"/data/res/test-full-processor/S1_InSAR_2023-09-04-063730__2023-09-16-063730/sar/coh_vh_iw1_geo.tif\"\n",
    "import rasterio\n",
    "import rasterio\n",
    "with rasterio.open(toto) as ds:\n",
    "    # arr = ds.read(1)\n",
    "    print(ds.profile)\n",
    "    "
   ]
  }
 ],
 "metadata": {
  "kernelspec": {
   "display_name": "Python 3",
   "language": "python",
   "name": "python3"
  },
  "language_info": {
   "codemirror_mode": {
    "name": "ipython",
    "version": 3
   },
   "file_extension": ".py",
   "mimetype": "text/x-python",
   "name": "python",
   "nbconvert_exporter": "python",
   "pygments_lexer": "ipython3",
   "version": "3.12.3"
  }
 },
 "nbformat": 4,
 "nbformat_minor": 2
}
