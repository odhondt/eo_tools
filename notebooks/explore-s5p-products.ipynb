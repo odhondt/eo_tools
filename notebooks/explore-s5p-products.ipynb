{
 "cells": [
  {
   "cell_type": "code",
   "execution_count": null,
   "metadata": {},
   "outputs": [],
   "source": [
    "%load_ext autoreload\n",
    "%autoreload 2\n",
    "\n",
    "import geopandas as gpd\n",
    "import folium\n",
    "import folium.plugins\n",
    "import logging\n",
    "from eo_tools.util import explore_products, show_s2_color\n",
    "from eo_tools.S2 import process_s2_tiles\n",
    "from zipfile import ZipFile\n",
    "\n",
    "import matplotlib.pyplot as plt\n",
    "\n",
    "from eodag import EODataAccessGateway\n",
    "\n",
    "# credentials need to be stored in the following file (see EODAG docs)\n",
    "confpath = \"/data/eodag_config.yml\"\n",
    "dag = EODataAccessGateway(user_conf_file_path=confpath)\n",
    "# make sure cop_dataspace will be used \n",
    "dag.set_preferred_provider(\"cop_dataspace\")\n",
    "logging.basicConfig(level=logging.INFO)\n",
    "\n",
    "# change your data directories\n",
    "path_data = \"/data\"\n",
    "path_s5p = f\"{path_data}/S5P\"\n",
    "path_processed = f\"{path_data}/res\""
   ]
  },
  {
   "cell_type": "markdown",
   "metadata": {},
   "source": [
    "## Select an area of interest\n",
    "\n",
    "- Select a drawing tool (polygon, circle or rectangle)\n",
    "- Draw the AOI on the map\n",
    "- Click \"Export\" on the right to save the GeoJSON file"
   ]
  },
  {
   "cell_type": "code",
   "execution_count": null,
   "metadata": {},
   "outputs": [],
   "source": [
    "map_select = folium.Map()\n",
    "folium.plugins.Draw(\n",
    "    export=True,\n",
    "    draw_options={\n",
    "        \"polyline\": False,\n",
    "        \"circlemarker\": False,\n",
    "        \"marker\": False,\n",
    "    },\n",
    ").add_to(map_select)\n",
    "map_select"
   ]
  },
  {
   "cell_type": "markdown",
   "metadata": {},
   "source": [
    "# Search"
   ]
  },
  {
   "cell_type": "code",
   "execution_count": null,
   "metadata": {},
   "outputs": [],
   "source": [
    "# load a geometry\n",
    "# file_aoi = \"../data/Bretagne_AOI.geojson\"\n",
    "file_aoi = \"../data/Nevado-del-Ruiz.geojson\"\n",
    "shp = gpd.read_file(file_aoi).geometry[0]\n",
    "search_criteria = {\n",
    "    \"productType\": \"S5P_L2_SO2\",\n",
    "    \"start\": \"2024-02-04\",\n",
    "    \"end\": \"2024-02-06\",\n",
    "    \"geom\": shp\n",
    "}\n",
    "results = dag.search_all(**search_criteria)"
   ]
  },
  {
   "cell_type": "markdown",
   "metadata": {},
   "source": [
    "Getting unique dates to help with product exploration"
   ]
  },
  {
   "cell_type": "code",
   "execution_count": null,
   "metadata": {},
   "outputs": [],
   "source": [
    "def get_unique_dates(results):\n",
    "    import numpy as np\n",
    "\n",
    "    dates = []\n",
    "    for p in results:\n",
    "        dates.append(p.properties[\"startTimeFromAscendingNode\"])\n",
    "    return np.unique(dates).tolist()\n",
    "\n",
    "dates = get_unique_dates(results)\n",
    "print(f\"unique dates:\")\n",
    "print(\", \\n\".join(dates))"
   ]
  },
  {
   "cell_type": "markdown",
   "metadata": {},
   "source": [
    "# Visualize product footprints on a map"
   ]
  },
  {
   "cell_type": "code",
   "execution_count": null,
   "metadata": {},
   "outputs": [],
   "source": [
    "# show all results\n",
    "# explore_products(results, shp)\n",
    "\n",
    "# filter by date\n",
    "results_filtered = results.filter_date(\"2024-02-04T18:00\", \"2024-02-04T19:00\") \n",
    "explore_products(results_filtered, shp)"
   ]
  },
  {
   "cell_type": "markdown",
   "metadata": {},
   "source": [
    "# Download"
   ]
  },
  {
   "cell_type": "code",
   "execution_count": null,
   "metadata": {},
   "outputs": [],
   "source": [
    "# re-run to get only links\n",
    "dl = dag.download_all(results_filtered, outputs_prefix=path_s5p, extract=True, delete_archive=True)"
   ]
  },
  {
   "cell_type": "markdown",
   "metadata": {},
   "source": [
    "# Regridding and saving COG"
   ]
  },
  {
   "cell_type": "code",
   "execution_count": null,
   "metadata": {},
   "outputs": [],
   "source": [
    "from eo_tools.S5P import s5p_so2_to_cog\n",
    "file_re = s5p_so2_to_cog(dl[0], path_processed, res_km=5)"
   ]
  },
  {
   "cell_type": "code",
   "execution_count": null,
   "metadata": {},
   "outputs": [],
   "source": [
    "from eo_tools.util import show_cog\n",
    "show_cog(file_re, rescale=\"0,0.01\", colormap_name=\"reds\")"
   ]
  }
 ],
 "metadata": {
  "kernelspec": {
   "display_name": "Python 3",
   "language": "python",
   "name": "python3"
  },
  "language_info": {
   "codemirror_mode": {
    "name": "ipython",
    "version": 3
   },
   "file_extension": ".py",
   "mimetype": "text/x-python",
   "name": "python",
   "nbconvert_exporter": "python",
   "pygments_lexer": "ipython3",
   "version": "3.11.7"
  },
  "orig_nbformat": 4
 },
 "nbformat": 4,
 "nbformat_minor": 2
}
