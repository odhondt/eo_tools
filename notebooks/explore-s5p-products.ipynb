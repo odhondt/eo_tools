{
 "cells": [
  {
   "cell_type": "code",
   "execution_count": 1,
   "metadata": {},
   "outputs": [],
   "source": [
    "%load_ext autoreload\n",
    "%autoreload 2\n",
    "\n",
    "import geopandas as gpd\n",
    "import folium\n",
    "import folium.plugins\n",
    "import logging\n",
    "from eo_tools.util import explore_products, show_s2_color\n",
    "from eo_tools.S2 import process_s2_tiles\n",
    "from zipfile import ZipFile\n",
    "\n",
    "from eodag import EODataAccessGateway\n",
    "\n",
    "# credentials need to be stored in the following file (see EODAG docs)\n",
    "confpath = \"/data/eodag_config.yml\"\n",
    "dag = EODataAccessGateway(user_conf_file_path=confpath)\n",
    "# make sure cop_dataspace will be used \n",
    "dag.set_preferred_provider(\"cop_dataspace\")\n",
    "logging.basicConfig(level=logging.INFO)\n",
    "\n",
    "# change your data directories\n",
    "path_data = \"/data\"\n",
    "path_s5p = f\"{path_data}/S5P\"\n",
    "path_processed = f\"{path_data}/res\""
   ]
  },
  {
   "cell_type": "code",
   "execution_count": null,
   "metadata": {},
   "outputs": [],
   "source": [
    "\n",
    "# dag.discover_product_types()"
   ]
  },
  {
   "cell_type": "markdown",
   "metadata": {},
   "source": [
    "## Select an area of interest\n",
    "\n",
    "- Select a drawing tool (polygon, circle or rectangle)\n",
    "- Draw the AOI on the map\n",
    "- Click \"Export\" on the right to save the GeoJSON file"
   ]
  },
  {
   "cell_type": "code",
   "execution_count": null,
   "metadata": {},
   "outputs": [],
   "source": [
    "map_select = folium.Map()\n",
    "folium.plugins.Draw(\n",
    "    export=True,\n",
    "    draw_options={\n",
    "        \"polyline\": False,\n",
    "        \"circlemarker\": False,\n",
    "        \"marker\": False,\n",
    "    },\n",
    ").add_to(map_select)\n",
    "map_select"
   ]
  },
  {
   "cell_type": "markdown",
   "metadata": {},
   "source": [
    "# Search"
   ]
  },
  {
   "cell_type": "code",
   "execution_count": 2,
   "metadata": {},
   "outputs": [
    {
     "name": "stderr",
     "output_type": "stream",
     "text": [
      "INFO:eodag.core:Searching product type 'S5P_L2_SO2' on provider: cop_dataspace\n",
      "INFO:eodag.core:Iterate search over multiple pages: page #1\n",
      "INFO:eodag.search.qssearch:Sending search request: http://catalogue.dataspace.copernicus.eu/resto/api/collections/Sentinel5P/search.json?startDate=2024-02-04&completionDate=2024-02-06&geometry=POLYGON ((-75.4513 4.7997, -75.4513 4.9775, -75.1890 4.9775, -75.1890 4.7997, -75.4513 4.7997))&productType=L2__SO2___&maxRecords=1000&page=1&exactCount=1\n",
      "INFO:eodag.core:Found 4 result(s) on provider 'cop_dataspace'\n"
     ]
    }
   ],
   "source": [
    "# load a geometry\n",
    "# file_aoi = \"../data/Bretagne_AOI.geojson\"\n",
    "file_aoi = \"../data/Nevado-del-Ruiz.geojson\"\n",
    "shp = gpd.read_file(file_aoi).geometry[0]\n",
    "search_criteria = {\n",
    "    \"productType\": \"S5P_L2_SO2\",\n",
    "    \"start\": \"2024-02-04\",\n",
    "    \"end\": \"2024-02-06\",\n",
    "    \"geom\": shp\n",
    "}\n",
    "results = dag.search_all(**search_criteria)"
   ]
  },
  {
   "cell_type": "markdown",
   "metadata": {},
   "source": [
    "Getting unique dates to help with product exploration"
   ]
  },
  {
   "cell_type": "code",
   "execution_count": null,
   "metadata": {},
   "outputs": [],
   "source": [
    "def get_unique_dates(results):\n",
    "    import numpy as np\n",
    "\n",
    "    dates = []\n",
    "    for p in results:\n",
    "        dates.append(p.properties[\"startTimeFromAscendingNode\"])\n",
    "    return np.unique(dates).tolist()\n",
    "\n",
    "dates = get_unique_dates(results)\n",
    "print(f\"unique dates:\")\n",
    "print(\", \\n\".join(dates))"
   ]
  },
  {
   "cell_type": "markdown",
   "metadata": {},
   "source": [
    "# Visualize product footprints on a map"
   ]
  },
  {
   "cell_type": "code",
   "execution_count": 4,
   "metadata": {},
   "outputs": [
    {
     "name": "stderr",
     "output_type": "stream",
     "text": [
      "INFO:eodag.crunch.date:Finished filtering products. 1 resulting products\n"
     ]
    },
    {
     "data": {
      "text/html": [
       "<div style=\"width:100%;\"><div style=\"position:relative;width:100%;height:0;padding-bottom:60%;\"><span style=\"color:#565656\">Make this Notebook Trusted to load map: File -> Trust Notebook</span><iframe srcdoc=\"&lt;!DOCTYPE html&gt;\n",
       "&lt;html&gt;\n",
       "&lt;head&gt;\n",
       "    \n",
       "    &lt;meta http-equiv=&quot;content-type&quot; content=&quot;text/html; charset=UTF-8&quot; /&gt;\n",
       "    \n",
       "        &lt;script&gt;\n",
       "            L_NO_TOUCH = false;\n",
       "            L_DISABLE_3D = false;\n",
       "        &lt;/script&gt;\n",
       "    \n",
       "    &lt;style&gt;html, body {width: 100%;height: 100%;margin: 0;padding: 0;}&lt;/style&gt;\n",
       "    &lt;style&gt;#map {position:absolute;top:0;bottom:0;right:0;left:0;}&lt;/style&gt;\n",
       "    &lt;script src=&quot;https://cdn.jsdelivr.net/npm/leaflet@1.9.3/dist/leaflet.js&quot;&gt;&lt;/script&gt;\n",
       "    &lt;script src=&quot;https://code.jquery.com/jquery-3.7.1.min.js&quot;&gt;&lt;/script&gt;\n",
       "    &lt;script src=&quot;https://cdn.jsdelivr.net/npm/bootstrap@5.2.2/dist/js/bootstrap.bundle.min.js&quot;&gt;&lt;/script&gt;\n",
       "    &lt;script src=&quot;https://cdnjs.cloudflare.com/ajax/libs/Leaflet.awesome-markers/2.0.2/leaflet.awesome-markers.js&quot;&gt;&lt;/script&gt;\n",
       "    &lt;link rel=&quot;stylesheet&quot; href=&quot;https://cdn.jsdelivr.net/npm/leaflet@1.9.3/dist/leaflet.css&quot;/&gt;\n",
       "    &lt;link rel=&quot;stylesheet&quot; href=&quot;https://cdn.jsdelivr.net/npm/bootstrap@5.2.2/dist/css/bootstrap.min.css&quot;/&gt;\n",
       "    &lt;link rel=&quot;stylesheet&quot; href=&quot;https://netdna.bootstrapcdn.com/bootstrap/3.0.0/css/bootstrap.min.css&quot;/&gt;\n",
       "    &lt;link rel=&quot;stylesheet&quot; href=&quot;https://cdn.jsdelivr.net/npm/@fortawesome/fontawesome-free@6.2.0/css/all.min.css&quot;/&gt;\n",
       "    &lt;link rel=&quot;stylesheet&quot; href=&quot;https://cdnjs.cloudflare.com/ajax/libs/Leaflet.awesome-markers/2.0.2/leaflet.awesome-markers.css&quot;/&gt;\n",
       "    &lt;link rel=&quot;stylesheet&quot; href=&quot;https://cdn.jsdelivr.net/gh/python-visualization/folium/folium/templates/leaflet.awesome.rotate.min.css&quot;/&gt;\n",
       "    \n",
       "            &lt;meta name=&quot;viewport&quot; content=&quot;width=device-width,\n",
       "                initial-scale=1.0, maximum-scale=1.0, user-scalable=no&quot; /&gt;\n",
       "            &lt;style&gt;\n",
       "                #map_8ac3cf0d82d64855ad9000422c782064 {\n",
       "                    position: relative;\n",
       "                    width: 100.0%;\n",
       "                    height: 100.0%;\n",
       "                    left: 0.0%;\n",
       "                    top: 0.0%;\n",
       "                }\n",
       "                .leaflet-container { font-size: 1rem; }\n",
       "            &lt;/style&gt;\n",
       "        \n",
       "&lt;/head&gt;\n",
       "&lt;body&gt;\n",
       "    \n",
       "    \n",
       "            &lt;div class=&quot;folium-map&quot; id=&quot;map_8ac3cf0d82d64855ad9000422c782064&quot; &gt;&lt;/div&gt;\n",
       "        \n",
       "&lt;/body&gt;\n",
       "&lt;script&gt;\n",
       "    \n",
       "    \n",
       "            var map_8ac3cf0d82d64855ad9000422c782064 = L.map(\n",
       "                &quot;map_8ac3cf0d82d64855ad9000422c782064&quot;,\n",
       "                {\n",
       "                    center: [0.0, 0.0],\n",
       "                    crs: L.CRS.EPSG3857,\n",
       "                    zoom: 1,\n",
       "                    zoomControl: true,\n",
       "                    preferCanvas: false,\n",
       "                }\n",
       "            );\n",
       "\n",
       "            \n",
       "\n",
       "        \n",
       "    \n",
       "            var tile_layer_2cc3eff753b00a4bd754c6e3b3694856 = L.tileLayer(\n",
       "                &quot;https://tile.openstreetmap.org/{z}/{x}/{y}.png&quot;,\n",
       "                {&quot;attribution&quot;: &quot;\\u0026copy; \\u003ca href=\\&quot;https://www.openstreetmap.org/copyright\\&quot;\\u003eOpenStreetMap\\u003c/a\\u003e contributors&quot;, &quot;detectRetina&quot;: false, &quot;maxNativeZoom&quot;: 19, &quot;maxZoom&quot;: 19, &quot;minZoom&quot;: 0, &quot;noWrap&quot;: false, &quot;opacity&quot;: 1, &quot;subdomains&quot;: &quot;abc&quot;, &quot;tms&quot;: false}\n",
       "            );\n",
       "        \n",
       "    \n",
       "            tile_layer_2cc3eff753b00a4bd754c6e3b3694856.addTo(map_8ac3cf0d82d64855ad9000422c782064);\n",
       "        \n",
       "    \n",
       "        function geo_json_d28631def42bc0a278105267065a6640_styler(feature) {\n",
       "            switch(feature.id) {\n",
       "                default:\n",
       "                    return {&quot;color&quot;: &quot;black&quot;, &quot;fillColor&quot;: &quot;none&quot;};\n",
       "            }\n",
       "        }\n",
       "\n",
       "        function geo_json_d28631def42bc0a278105267065a6640_onEachFeature(feature, layer) {\n",
       "            layer.on({\n",
       "            });\n",
       "        };\n",
       "        var geo_json_d28631def42bc0a278105267065a6640 = L.geoJson(null, {\n",
       "                onEachFeature: geo_json_d28631def42bc0a278105267065a6640_onEachFeature,\n",
       "            \n",
       "                style: geo_json_d28631def42bc0a278105267065a6640_styler,\n",
       "        });\n",
       "\n",
       "        function geo_json_d28631def42bc0a278105267065a6640_add (data) {\n",
       "            geo_json_d28631def42bc0a278105267065a6640\n",
       "                .addData(data);\n",
       "        }\n",
       "            geo_json_d28631def42bc0a278105267065a6640_add({&quot;features&quot;: [{&quot;geometry&quot;: {&quot;coordinates&quot;: [[[-75.451316, 4.799707], [-75.451316, 4.977527], [-75.188983, 4.977527], [-75.188983, 4.799707], [-75.451316, 4.799707]]], &quot;type&quot;: &quot;Polygon&quot;}, &quot;id&quot;: &quot;0&quot;, &quot;type&quot;: &quot;Feature&quot;}], &quot;type&quot;: &quot;FeatureCollection&quot;});\n",
       "\n",
       "        \n",
       "    \n",
       "            geo_json_d28631def42bc0a278105267065a6640.bindTooltip(\n",
       "                `&lt;div&gt;\n",
       "                     Area of Interest\n",
       "                 &lt;/div&gt;`,\n",
       "                {&quot;sticky&quot;: true}\n",
       "            );\n",
       "        \n",
       "    \n",
       "            geo_json_d28631def42bc0a278105267065a6640.addTo(map_8ac3cf0d82d64855ad9000422c782064);\n",
       "        \n",
       "    \n",
       "\n",
       "        function geo_json_872546a81f3483bc3929b20832ac0b14_onEachFeature(feature, layer) {\n",
       "            layer.on({\n",
       "            });\n",
       "        };\n",
       "        var geo_json_872546a81f3483bc3929b20832ac0b14 = L.geoJson(null, {\n",
       "                onEachFeature: geo_json_872546a81f3483bc3929b20832ac0b14_onEachFeature,\n",
       "            \n",
       "        });\n",
       "\n",
       "        function geo_json_872546a81f3483bc3929b20832ac0b14_add (data) {\n",
       "            geo_json_872546a81f3483bc3929b20832ac0b14\n",
       "                .addData(data);\n",
       "        }\n",
       "            geo_json_872546a81f3483bc3929b20832ac0b14_add({&quot;coordinates&quot;: [[[-86.82888, 14.299306], [-86.403435, 12.861019], [-85.98996, 11.421019], [-85.58836, 9.9792385], [-85.19779, 8.535987], [-84.817986, 7.0912776], [-84.44848, 5.645221], [-84.088806, 4.198049], [-83.73836, 2.7498634], [-83.39713, 1.3007245], [-83.06482, -0.14932644], [-82.74086, -1.6000015], [-82.42511, -3.0513813], [-82.30092, -3.6320114], [-82.221306, -3.6019526], [-80.76481, -3.0517154], [-78.4007, -2.1667364], [-76.920204, -1.6290604], [-75.58824, -1.1663698], [-74.61682, -0.84673786], [-73.64839, -0.5466743], [-72.88364, -0.32449427], [-72.0703, -0.10345389], [-71.39066, 0.06889025], [-70.69313, 0.23401125], [-70.629906, 0.2483904], [-69.96254, 0.39423755], [-69.17896, 0.55176276], [-68.457344, 0.6839731], [-67.56538, 0.831039], [-66.69665, 0.9581373], [-65.551506, 1.1044177], [-64.34751, 1.237022], [-62.59357, 1.4024742], [-60.471355, 1.5763372], [-58.6421, 1.7150105], [-58.964138, 3.1639135], [-59.278374, 4.6135488], [-59.5852, 6.0637608], [-59.884537, 7.5144787], [-60.17674, 8.965631], [-60.462048, 10.417117], [-60.740486, 11.868908], [-61.012127, 13.320909], [-61.27732, 14.773025], [-61.535946, 16.2253], [-61.788193, 17.677488], [-62.034042, 19.129686], [-62.130543, 19.710548], [-62.2172, 19.709791], [-63.943214, 19.684586], [-66.50592, 19.603542], [-68.12313, 19.515802], [-69.57863, 19.403635], [-70.636894, 19.297424], [-71.68669, 19.16793], [-72.510765, 19.047626], [-73.38154, 18.901457], [-74.104294, 18.76472], [-74.84121, 18.610584], [-74.90776, 18.595926], [-75.60759, 18.434282], [-76.42322, 18.228504], [-77.16854, 18.024012], [-78.082306, 17.752068], [-78.96479, 17.468002], [-80.11831, 17.067383], [-81.32169, 16.618439], [-83.064064, 15.923287], [-85.168205, 15.031524], [-86.82888, 14.299306]]], &quot;type&quot;: &quot;Polygon&quot;});\n",
       "\n",
       "        \n",
       "    \n",
       "            geo_json_872546a81f3483bc3929b20832ac0b14.bindTooltip(\n",
       "                `&lt;div&gt;\n",
       "                     &lt;b&gt;Configuration:&lt;/b&gt;&lt;br&gt;None, Orbit: 0&lt;br&gt;&lt;b&gt;Product list (index / date):&lt;/b&gt;&lt;br&gt;0 / 2024-02-04 18:12:43\n",
       "                 &lt;/div&gt;`,\n",
       "                {&quot;sticky&quot;: true}\n",
       "            );\n",
       "        \n",
       "    \n",
       "            geo_json_872546a81f3483bc3929b20832ac0b14.addTo(map_8ac3cf0d82d64855ad9000422c782064);\n",
       "        \n",
       "    \n",
       "            var layer_control_4da7b136cc262946b49219ae5732d123_layers = {\n",
       "                base_layers : {\n",
       "                    &quot;openstreetmap&quot; : tile_layer_2cc3eff753b00a4bd754c6e3b3694856,\n",
       "                },\n",
       "                overlays :  {\n",
       "                    &quot;Area of Interest&quot; : geo_json_d28631def42bc0a278105267065a6640,\n",
       "                    &quot;Orbit 0, group 1&quot; : geo_json_872546a81f3483bc3929b20832ac0b14,\n",
       "                },\n",
       "            };\n",
       "            let layer_control_4da7b136cc262946b49219ae5732d123 = L.control.layers(\n",
       "                layer_control_4da7b136cc262946b49219ae5732d123_layers.base_layers,\n",
       "                layer_control_4da7b136cc262946b49219ae5732d123_layers.overlays,\n",
       "                {&quot;autoZIndex&quot;: true, &quot;collapsed&quot;: true, &quot;position&quot;: &quot;topright&quot;}\n",
       "            ).addTo(map_8ac3cf0d82d64855ad9000422c782064);\n",
       "\n",
       "        \n",
       "    \n",
       "            map_8ac3cf0d82d64855ad9000422c782064.fitBounds(\n",
       "                [[-3.6320114, -86.82888], [19.710548, -58.6421]],\n",
       "                {}\n",
       "            );\n",
       "        \n",
       "&lt;/script&gt;\n",
       "&lt;/html&gt;\" style=\"position:absolute;width:100%;height:100%;left:0;top:0;border:none !important;\" allowfullscreen webkitallowfullscreen mozallowfullscreen></iframe></div></div>"
      ],
      "text/plain": [
       "<folium.folium.Map at 0x7ff7aa5459d0>"
      ]
     },
     "execution_count": 4,
     "metadata": {},
     "output_type": "execute_result"
    }
   ],
   "source": [
    "# show all results\n",
    "# explore_products(results, shp)\n",
    "\n",
    "# filter by date\n",
    "results_filtered = results.filter_date(\"2024-02-04T18:00\", \"2024-02-04T19:00\") \n",
    "explore_products(results_filtered, shp)"
   ]
  },
  {
   "cell_type": "markdown",
   "metadata": {},
   "source": [
    "# Download"
   ]
  },
  {
   "cell_type": "code",
   "execution_count": 5,
   "metadata": {},
   "outputs": [
    {
     "name": "stderr",
     "output_type": "stream",
     "text": [
      "INFO:eodag.core:Downloading 1 products\n"
     ]
    },
    {
     "data": {
      "application/vnd.jupyter.widget-view+json": {
       "model_id": "678c89a03838402b8a0eb2dbcffba34f",
       "version_major": 2,
       "version_minor": 0
      },
      "text/plain": [
       "Downloaded products:   0%|          | 0/1 [00:00<?, ?product/s]"
      ]
     },
     "metadata": {},
     "output_type": "display_data"
    },
    {
     "data": {
      "application/vnd.jupyter.widget-view+json": {
       "model_id": "11b11d9349b1464299055e88c85440ee",
       "version_major": 2,
       "version_minor": 0
      },
      "text/plain": [
       "0.00B [00:00, ?B/s]"
      ]
     },
     "metadata": {},
     "output_type": "display_data"
    },
    {
     "name": "stderr",
     "output_type": "stream",
     "text": [
      "INFO:eodag.download.base:Download url: https://catalogue.dataspace.copernicus.eu/odata/v1/Products(3e64a246-dda9-4805-a2ea-f4b3ffc98f10)/$value\n",
      "INFO:eodag.download.base:Product already downloaded: /data/S5P/S5P_NRTI_L2__SO2____20240204T181248_20240204T181748_32707_03_020601_20240204T185817.zip\n",
      "INFO:eodag.download.base:Extraction cancelled, destination directory already exists and is not empty: /data/S5P/S5P_NRTI_L2__SO2____20240204T181248_20240204T181748_32707_03_020601_20240204T185817\n",
      "INFO:eodag.product:Remote location of the product is still available through its 'remote_location' property: https://catalogue.dataspace.copernicus.eu/odata/v1/Products(3e64a246-dda9-4805-a2ea-f4b3ffc98f10)/$value\n"
     ]
    }
   ],
   "source": [
    "# re-run to get only links\n",
    "dl = dag.download_all(results_filtered, outputs_prefix=path_s5p, extract=True, delete_archive=True)"
   ]
  },
  {
   "cell_type": "code",
   "execution_count": null,
   "metadata": {},
   "outputs": [],
   "source": [
    "dl"
   ]
  },
  {
   "cell_type": "code",
   "execution_count": null,
   "metadata": {},
   "outputs": [],
   "source": [
    "# zip_s5p = ZipFile(dl[0])\n",
    "# zip_s5p.extractall(path_s5p)\n",
    "# s5p_dir = dl[0].replace(\".zip\", \"\")"
   ]
  },
  {
   "cell_type": "code",
   "execution_count": 7,
   "metadata": {},
   "outputs": [
    {
     "data": {
      "text/plain": [
       "<bound method Mapping.keys of <xarray.Dataset>\n",
       "Dimensions:                                        (scanline: 357,\n",
       "                                                    ground_pixel: 450, time: 1,\n",
       "                                                    corner: 4, layer: 34)\n",
       "Coordinates:\n",
       "  * scanline                                       (scanline) float64 0.0 ......\n",
       "  * ground_pixel                                   (ground_pixel) float64 0.0...\n",
       "  * time                                           (time) datetime64[ns] 2024...\n",
       "  * corner                                         (corner) float64 0.0 ... 3.0\n",
       "  * layer                                          (layer) int32 0 1 2 ... 32 33\n",
       "Data variables:\n",
       "    latitude                                       (time, scanline, ground_pixel) float32 ...\n",
       "    longitude                                      (time, scanline, ground_pixel) float32 ...\n",
       "    delta_time                                     (time, scanline, ground_pixel) datetime64[ns] ...\n",
       "    time_utc                                       (time, scanline) object na...\n",
       "    qa_value                                       (time, scanline, ground_pixel) float32 ...\n",
       "    sulfurdioxide_total_vertical_column            (time, scanline, ground_pixel) float32 ...\n",
       "    sulfurdioxide_total_vertical_column_precision  (time, scanline, ground_pixel) float32 ...>"
      ]
     },
     "execution_count": 7,
     "metadata": {},
     "output_type": "execute_result"
    }
   ],
   "source": [
    "ds.keys"
   ]
  },
  {
   "cell_type": "code",
   "execution_count": 6,
   "metadata": {},
   "outputs": [],
   "source": [
    "import xarray as xr\n",
    "import rioxarray\n",
    "ds = xr.load_dataset(dl[0], group=\"PRODUCT\")\n",
    "# rioxarray.open_rasterio(dl[0])\n",
    "# ds.rio.to_raster(f\"{path_s5p}/toto.tif\")"
   ]
  },
  {
   "cell_type": "code",
   "execution_count": 10,
   "metadata": {},
   "outputs": [],
   "source": [
    "darr = ds.sulfurdioxide_total_vertical_column.values.ravel()\n",
    "lon = ds.longitude.values.ravel()\n",
    "lat = ds.latitude.values.ravel()"
   ]
  },
  {
   "cell_type": "code",
   "execution_count": 15,
   "metadata": {},
   "outputs": [],
   "source": [
    "import numpy as np\n",
    "minlon, maxlon = lon.min(), lon.max()\n",
    "minlat, maxlat = lat.min(), lat.max()\n",
    "\n",
    "x = np.linspace(minlon, minlat, 1000)\n",
    "y = np.linspace(minlon, minlat, 500)\n",
    "\n",
    "xx, yy = np.meshgrid(x, y)"
   ]
  },
  {
   "cell_type": "code",
   "execution_count": 16,
   "metadata": {},
   "outputs": [
    {
     "data": {
      "text/plain": [
       "<matplotlib.image.AxesImage at 0x7ff7a8aa7bd0>"
      ]
     },
     "execution_count": 16,
     "metadata": {},
     "output_type": "execute_result"
    },
    {
     "data": {
      "image/png": "[encoded data removed]",
      "text/plain": [
       "<Figure size 640x480 with 1 Axes>"
      ]
     },
     "metadata": {},
     "output_type": "display_data"
    }
   ],
   "source": [
    "import matplotlib.pyplot as plt\n",
    "plt.imshow(xx)"
   ]
  },
  {
   "cell_type": "code",
   "execution_count": 112,
   "metadata": {},
   "outputs": [
    {
     "data": {
      "text/plain": [
       "array([[            nan, -2.26686010e-04, -2.47482676e-04, ...,\n",
       "        -6.46862900e-05,  3.81750637e-04,  7.23176490e-05],\n",
       "       [            nan,  5.85821748e-04,  7.02739402e-04, ...,\n",
       "         1.86848367e-04,  2.46583746e-04,  3.40507599e-04],\n",
       "       [            nan, -4.91547216e-05, -3.47748610e-05, ...,\n",
       "        -1.02035709e-04,  3.94188392e-05, -2.63852300e-04],\n",
       "       ...,\n",
       "       [            nan, -1.70929328e-04, -1.32922942e-04, ...,\n",
       "         2.81536486e-04,  4.31523047e-04,  1.55312926e-04],\n",
       "       [            nan, -1.60405983e-03, -5.05701930e-04, ...,\n",
       "         6.84155326e-04,  6.05910027e-04,  9.09777300e-04],\n",
       "       [            nan, -2.00314345e-04, -1.09817390e-03, ...,\n",
       "         1.00489684e-04,  1.52461769e-04,  7.07483501e-04]], dtype=float32)"
      ]
     },
     "execution_count": 112,
     "metadata": {},
     "output_type": "execute_result"
    }
   ],
   "source": [
    "ds[\"sulfurdioxide_total_vertical_column\"].values[0,:,:]"
   ]
  },
  {
   "cell_type": "code",
   "execution_count": 111,
   "metadata": {},
   "outputs": [
    {
     "ename": "MissingDimensionsError",
     "evalue": "cannot set variable 'x' with 2-dimensional data without explicit dimension names. Pass a tuple of (dims, data) instead.",
     "output_type": "error",
     "traceback": [
      "\u001b[0;31m---------------------------------------------------------------------------\u001b[0m",
      "\u001b[0;31mMissingDimensionsError\u001b[0m                    Traceback (most recent call last)",
      "Cell \u001b[0;32mIn[111], line 1\u001b[0m\n\u001b[0;32m----> 1\u001b[0m da \u001b[38;5;241m=\u001b[39m \u001b[43mxr\u001b[49m\u001b[38;5;241;43m.\u001b[39;49m\u001b[43mDataArray\u001b[49m\u001b[43m(\u001b[49m\n\u001b[1;32m      2\u001b[0m \u001b[43m    \u001b[49m\u001b[43mdata\u001b[49m\u001b[38;5;241;43m=\u001b[39;49m\u001b[43mds\u001b[49m\u001b[43m[\u001b[49m\u001b[38;5;124;43m\"\u001b[39;49m\u001b[38;5;124;43msulfurdioxide_total_vertical_column\u001b[39;49m\u001b[38;5;124;43m\"\u001b[39;49m\u001b[43m]\u001b[49m\u001b[38;5;241;43m.\u001b[39;49m\u001b[43mdata\u001b[49m\u001b[43m[\u001b[49m\u001b[38;5;241;43m0\u001b[39;49m\u001b[43m]\u001b[49m\u001b[43m,\u001b[49m\n\u001b[1;32m      3\u001b[0m \u001b[43m    \u001b[49m\u001b[43mdims\u001b[49m\u001b[38;5;241;43m=\u001b[39;49m\u001b[43m[\u001b[49m\u001b[38;5;124;43m\"\u001b[39;49m\u001b[38;5;124;43mx\u001b[39;49m\u001b[38;5;124;43m\"\u001b[39;49m\u001b[43m,\u001b[49m\u001b[43m \u001b[49m\u001b[38;5;124;43m\"\u001b[39;49m\u001b[38;5;124;43my\u001b[39;49m\u001b[38;5;124;43m\"\u001b[39;49m\u001b[43m]\u001b[49m\u001b[43m,\u001b[49m\n\u001b[1;32m      4\u001b[0m \u001b[43m    \u001b[49m\u001b[38;5;66;43;03m# coords = dict(\u001b[39;49;00m\n\u001b[1;32m      5\u001b[0m \u001b[43m      \u001b[49m\u001b[38;5;66;43;03m# x = ([\"x\",\"y\"], ds[\"longitude\"].data[0]),\u001b[39;49;00m\n\u001b[1;32m      6\u001b[0m \u001b[43m      \u001b[49m\u001b[38;5;66;43;03m# y = ([\"x\",\"y\"], ds[\"latitude\"].data[0])\u001b[39;49;00m\n\u001b[1;32m      7\u001b[0m \u001b[43m    \u001b[49m\u001b[38;5;66;43;03m# )\u001b[39;49;00m\n\u001b[1;32m      8\u001b[0m \u001b[43m    \u001b[49m\u001b[38;5;66;43;03m# coords={\"x\": ds[\"scanline\"], \"y\": ds[\"ground_pixel\"], \"latitude\": ds[\"latitude\"], \"longitude\": ds[\"longitude\"]}\u001b[39;49;00m\n\u001b[1;32m      9\u001b[0m \u001b[43m    \u001b[49m\u001b[38;5;66;43;03m# coords = dict(\u001b[39;49;00m\n\u001b[1;32m     10\u001b[0m \u001b[43m    \u001b[49m\u001b[38;5;66;43;03m#   longitude = ([\"longitude\",\"latitude\"], ds[\"longitude\"].data[0]),\u001b[39;49;00m\n\u001b[1;32m     11\u001b[0m \u001b[43m    \u001b[49m\u001b[38;5;66;43;03m#   latitude = ([\"longitude\",\"latitude\"], ds[\"latitude\"].data[0])\u001b[39;49;00m\n\u001b[1;32m     12\u001b[0m \u001b[43m    \u001b[49m\u001b[38;5;66;43;03m# )\u001b[39;49;00m\n\u001b[1;32m     13\u001b[0m \u001b[43m    \u001b[49m\u001b[43mcoords\u001b[49m\u001b[38;5;241;43m=\u001b[39;49m\u001b[43m{\u001b[49m\u001b[38;5;124;43m\"\u001b[39;49m\u001b[38;5;124;43mx\u001b[39;49m\u001b[38;5;124;43m\"\u001b[39;49m\u001b[43m:\u001b[49m\u001b[43m \u001b[49m\u001b[43mds\u001b[49m\u001b[43m[\u001b[49m\u001b[38;5;124;43m\"\u001b[39;49m\u001b[38;5;124;43mlongitude\u001b[39;49m\u001b[38;5;124;43m\"\u001b[39;49m\u001b[43m]\u001b[49m\u001b[38;5;241;43m.\u001b[39;49m\u001b[43mvalues\u001b[49m\u001b[43m[\u001b[49m\u001b[38;5;241;43m0\u001b[39;49m\u001b[43m]\u001b[49m\u001b[43m,\u001b[49m\u001b[43m \u001b[49m\u001b[38;5;124;43m\"\u001b[39;49m\u001b[38;5;124;43my\u001b[39;49m\u001b[38;5;124;43m\"\u001b[39;49m\u001b[43m:\u001b[49m\u001b[43m \u001b[49m\u001b[43mds\u001b[49m\u001b[43m[\u001b[49m\u001b[38;5;124;43m\"\u001b[39;49m\u001b[38;5;124;43mlatitude\u001b[39;49m\u001b[38;5;124;43m\"\u001b[39;49m\u001b[43m]\u001b[49m\u001b[38;5;241;43m.\u001b[39;49m\u001b[43mvalues\u001b[49m\u001b[43m[\u001b[49m\u001b[38;5;241;43m0\u001b[39;49m\u001b[43m]\u001b[49m\u001b[43m}\u001b[49m\n\u001b[1;32m     14\u001b[0m \u001b[43m)\u001b[49m\n\u001b[1;32m     16\u001b[0m \u001b[38;5;66;03m# da = xr.DataArray(no2,\u001b[39;00m\n\u001b[1;32m     17\u001b[0m \u001b[38;5;66;03m#                   coords={'y': y, 'x': x},\u001b[39;00m\n\u001b[1;32m     18\u001b[0m \u001b[38;5;66;03m#                   dims=('y', 'x'),\u001b[39;00m\n\u001b[1;32m     19\u001b[0m \u001b[38;5;66;03m#                   attrs={'crs': 'EPSG:4326'})\u001b[39;00m\n",
      "File \u001b[0;32m~/micromamba/envs/eo_tools/lib/python3.11/site-packages/xarray/core/dataarray.py:443\u001b[0m, in \u001b[0;36mDataArray.__init__\u001b[0;34m(self, data, coords, dims, name, attrs, indexes, fastpath)\u001b[0m\n\u001b[1;32m    441\u001b[0m data \u001b[38;5;241m=\u001b[39m _check_data_shape(data, coords, dims)\n\u001b[1;32m    442\u001b[0m data \u001b[38;5;241m=\u001b[39m as_compatible_data(data)\n\u001b[0;32m--> 443\u001b[0m coords, dims \u001b[38;5;241m=\u001b[39m \u001b[43m_infer_coords_and_dims\u001b[49m\u001b[43m(\u001b[49m\u001b[43mdata\u001b[49m\u001b[38;5;241;43m.\u001b[39;49m\u001b[43mshape\u001b[49m\u001b[43m,\u001b[49m\u001b[43m \u001b[49m\u001b[43mcoords\u001b[49m\u001b[43m,\u001b[49m\u001b[43m \u001b[49m\u001b[43mdims\u001b[49m\u001b[43m)\u001b[49m\n\u001b[1;32m    444\u001b[0m variable \u001b[38;5;241m=\u001b[39m Variable(dims, data, attrs, fastpath\u001b[38;5;241m=\u001b[39m\u001b[38;5;28;01mTrue\u001b[39;00m)\n\u001b[1;32m    446\u001b[0m \u001b[38;5;28;01mif\u001b[39;00m \u001b[38;5;129;01mnot\u001b[39;00m \u001b[38;5;28misinstance\u001b[39m(coords, Coordinates):\n",
      "File \u001b[0;32m~/micromamba/envs/eo_tools/lib/python3.11/site-packages/xarray/core/dataarray.py:181\u001b[0m, in \u001b[0;36m_infer_coords_and_dims\u001b[0;34m(shape, coords, dims)\u001b[0m\n\u001b[1;32m    179\u001b[0m \u001b[38;5;28;01mif\u001b[39;00m utils\u001b[38;5;241m.\u001b[39mis_dict_like(coords):\n\u001b[1;32m    180\u001b[0m     \u001b[38;5;28;01mfor\u001b[39;00m k, v \u001b[38;5;129;01min\u001b[39;00m coords\u001b[38;5;241m.\u001b[39mitems():\n\u001b[0;32m--> 181\u001b[0m         new_coords[k] \u001b[38;5;241m=\u001b[39m \u001b[43mas_variable\u001b[49m\u001b[43m(\u001b[49m\u001b[43mv\u001b[49m\u001b[43m,\u001b[49m\u001b[43m \u001b[49m\u001b[43mname\u001b[49m\u001b[38;5;241;43m=\u001b[39;49m\u001b[43mk\u001b[49m\u001b[43m)\u001b[49m\n\u001b[1;32m    182\u001b[0m \u001b[38;5;28;01melif\u001b[39;00m coords \u001b[38;5;129;01mis\u001b[39;00m \u001b[38;5;129;01mnot\u001b[39;00m \u001b[38;5;28;01mNone\u001b[39;00m:\n\u001b[1;32m    183\u001b[0m     \u001b[38;5;28;01mfor\u001b[39;00m dim, coord \u001b[38;5;129;01min\u001b[39;00m \u001b[38;5;28mzip\u001b[39m(dims_tuple, coords):\n",
      "File \u001b[0;32m~/micromamba/envs/eo_tools/lib/python3.11/site-packages/xarray/core/variable.py:145\u001b[0m, in \u001b[0;36mas_variable\u001b[0;34m(obj, name)\u001b[0m\n\u001b[1;32m    143\u001b[0m     data: T_DuckArray \u001b[38;5;241m=\u001b[39m as_compatible_data(obj)\n\u001b[1;32m    144\u001b[0m     \u001b[38;5;28;01mif\u001b[39;00m data\u001b[38;5;241m.\u001b[39mndim \u001b[38;5;241m!=\u001b[39m \u001b[38;5;241m1\u001b[39m:\n\u001b[0;32m--> 145\u001b[0m         \u001b[38;5;28;01mraise\u001b[39;00m MissingDimensionsError(\n\u001b[1;32m    146\u001b[0m             \u001b[38;5;124mf\u001b[39m\u001b[38;5;124m\"\u001b[39m\u001b[38;5;124mcannot set variable \u001b[39m\u001b[38;5;132;01m{\u001b[39;00mname\u001b[38;5;132;01m!r}\u001b[39;00m\u001b[38;5;124m with \u001b[39m\u001b[38;5;132;01m{\u001b[39;00mdata\u001b[38;5;241m.\u001b[39mndim\u001b[38;5;132;01m!r}\u001b[39;00m\u001b[38;5;124m-dimensional data \u001b[39m\u001b[38;5;124m\"\u001b[39m\n\u001b[1;32m    147\u001b[0m             \u001b[38;5;124m\"\u001b[39m\u001b[38;5;124mwithout explicit dimension names. Pass a tuple of \u001b[39m\u001b[38;5;124m\"\u001b[39m\n\u001b[1;32m    148\u001b[0m             \u001b[38;5;124m\"\u001b[39m\u001b[38;5;124m(dims, data) instead.\u001b[39m\u001b[38;5;124m\"\u001b[39m\n\u001b[1;32m    149\u001b[0m         )\n\u001b[1;32m    150\u001b[0m     obj \u001b[38;5;241m=\u001b[39m Variable(name, data, fastpath\u001b[38;5;241m=\u001b[39m\u001b[38;5;28;01mTrue\u001b[39;00m)\n\u001b[1;32m    151\u001b[0m \u001b[38;5;28;01melse\u001b[39;00m:\n",
      "\u001b[0;31mMissingDimensionsError\u001b[0m: cannot set variable 'x' with 2-dimensional data without explicit dimension names. Pass a tuple of (dims, data) instead."
     ]
    }
   ],
   "source": [
    "da = xr.DataArray(\n",
    "    data=ds[\"sulfurdioxide_total_vertical_column\"].data[0],\n",
    "    dims=[\"x\", \"y\"],\n",
    "    # coords = dict(\n",
    "      # x = ([\"x\",\"y\"], ds[\"longitude\"].data[0]),\n",
    "      # y = ([\"x\",\"y\"], ds[\"latitude\"].data[0])\n",
    "    # )\n",
    "    # coords={\"x\": ds[\"scanline\"], \"y\": ds[\"ground_pixel\"], \"latitude\": ds[\"latitude\"], \"longitude\": ds[\"longitude\"]}\n",
    "    # coords = dict(\n",
    "    #   longitude = ([\"longitude\",\"latitude\"], ds[\"longitude\"].data[0]),\n",
    "    #   latitude = ([\"longitude\",\"latitude\"], ds[\"latitude\"].data[0])\n",
    "    # )\n",
    "    coords={\"x\": ds[\"longitude\"].values[0], \"y\": ds[\"latitude\"].values[0]}\n",
    ")\n",
    "\n",
    "# da = xr.DataArray(no2,\n",
    "#                   coords={'y': y, 'x': x},\n",
    "#                   dims=('y', 'x'),\n",
    "#                   attrs={'crs': 'EPSG:4326'})"
   ]
  },
  {
   "cell_type": "code",
   "execution_count": 68,
   "metadata": {},
   "outputs": [],
   "source": [
    "da = ds[\"sulfurdioxide_total_vertical_column\"]"
   ]
  },
  {
   "cell_type": "code",
   "execution_count": 109,
   "metadata": {},
   "outputs": [
    {
     "data": {
      "text/plain": [
       "(1, 357, 450)"
      ]
     },
     "execution_count": 109,
     "metadata": {},
     "output_type": "execute_result"
    }
   ],
   "source": [
    "ds.latitude.values.shape"
   ]
  },
  {
   "cell_type": "code",
   "execution_count": 105,
   "metadata": {},
   "outputs": [
    {
     "ename": "TypeError",
     "evalue": "only length-1 arrays can be converted to Python scalars",
     "output_type": "error",
     "traceback": [
      "\u001b[0;31m---------------------------------------------------------------------------\u001b[0m",
      "\u001b[0;31mTypeError\u001b[0m                                 Traceback (most recent call last)",
      "Cell \u001b[0;32mIn[105], line 2\u001b[0m\n\u001b[1;32m      1\u001b[0m da\u001b[38;5;241m.\u001b[39mrio\u001b[38;5;241m.\u001b[39mwrite_crs(\u001b[38;5;124m\"\u001b[39m\u001b[38;5;124mepsg:4326\u001b[39m\u001b[38;5;124m\"\u001b[39m, inplace\u001b[38;5;241m=\u001b[39m\u001b[38;5;28;01mTrue\u001b[39;00m)\n\u001b[0;32m----> 2\u001b[0m da_re \u001b[38;5;241m=\u001b[39m \u001b[43mda\u001b[49m\u001b[38;5;241;43m.\u001b[39;49m\u001b[43mrio\u001b[49m\u001b[38;5;241;43m.\u001b[39;49m\u001b[43mreproject\u001b[49m\u001b[43m(\u001b[49m\u001b[38;5;124;43m\"\u001b[39;49m\u001b[38;5;124;43mepsg:4326\u001b[39;49m\u001b[38;5;124;43m\"\u001b[39;49m\u001b[43m)\u001b[49m\n\u001b[1;32m      3\u001b[0m da_re\u001b[38;5;241m.\u001b[39mrio\u001b[38;5;241m.\u001b[39mto_raster(\u001b[38;5;124mf\u001b[39m\u001b[38;5;124m\"\u001b[39m\u001b[38;5;132;01m{\u001b[39;00mpath_s5p\u001b[38;5;132;01m}\u001b[39;00m\u001b[38;5;124m/toto.tif\u001b[39m\u001b[38;5;124m\"\u001b[39m)\n",
      "File \u001b[0;32m~/micromamba/envs/eo_tools/lib/python3.11/site-packages/rioxarray/raster_array.py:440\u001b[0m, in \u001b[0;36mRasterArray.reproject\u001b[0;34m(self, dst_crs, resolution, shape, transform, resampling, nodata, **kwargs)\u001b[0m\n\u001b[1;32m    437\u001b[0m     kwargs\u001b[38;5;241m.\u001b[39msetdefault(\u001b[38;5;124m\"\u001b[39m\u001b[38;5;124mgcps\u001b[39m\u001b[38;5;124m\"\u001b[39m, gcps)\n\u001b[1;32m    439\u001b[0m gcps_or_rpcs \u001b[38;5;241m=\u001b[39m \u001b[38;5;124m\"\u001b[39m\u001b[38;5;124mgcps\u001b[39m\u001b[38;5;124m\"\u001b[39m \u001b[38;5;129;01min\u001b[39;00m kwargs \u001b[38;5;129;01mor\u001b[39;00m \u001b[38;5;124m\"\u001b[39m\u001b[38;5;124mrpcs\u001b[39m\u001b[38;5;124m\"\u001b[39m \u001b[38;5;129;01min\u001b[39;00m kwargs\n\u001b[0;32m--> 440\u001b[0m src_affine \u001b[38;5;241m=\u001b[39m \u001b[38;5;28;01mNone\u001b[39;00m \u001b[38;5;28;01mif\u001b[39;00m gcps_or_rpcs \u001b[38;5;28;01melse\u001b[39;00m \u001b[38;5;28;43mself\u001b[39;49m\u001b[38;5;241;43m.\u001b[39;49m\u001b[43mtransform\u001b[49m\u001b[43m(\u001b[49m\u001b[43mrecalc\u001b[49m\u001b[38;5;241;43m=\u001b[39;49m\u001b[38;5;28;43;01mTrue\u001b[39;49;00m\u001b[43m)\u001b[49m\n\u001b[1;32m    441\u001b[0m \u001b[38;5;28;01mif\u001b[39;00m transform \u001b[38;5;129;01mis\u001b[39;00m \u001b[38;5;28;01mNone\u001b[39;00m:\n\u001b[1;32m    442\u001b[0m     dst_affine, dst_width, dst_height \u001b[38;5;241m=\u001b[39m _make_dst_affine(\n\u001b[1;32m    443\u001b[0m         \u001b[38;5;28mself\u001b[39m\u001b[38;5;241m.\u001b[39m_obj, \u001b[38;5;28mself\u001b[39m\u001b[38;5;241m.\u001b[39mcrs, dst_crs, resolution, shape, \u001b[38;5;241m*\u001b[39m\u001b[38;5;241m*\u001b[39mkwargs\n\u001b[1;32m    444\u001b[0m     )\n",
      "File \u001b[0;32m~/micromamba/envs/eo_tools/lib/python3.11/site-packages/rioxarray/rioxarray.py:656\u001b[0m, in \u001b[0;36mXRasterBase.transform\u001b[0;34m(self, recalc)\u001b[0m\n\u001b[1;32m    653\u001b[0m     \u001b[38;5;28;01mreturn\u001b[39;00m transform\n\u001b[1;32m    655\u001b[0m \u001b[38;5;28;01mtry\u001b[39;00m:\n\u001b[0;32m--> 656\u001b[0m     src_left, _, _, src_top \u001b[38;5;241m=\u001b[39m \u001b[38;5;28;43mself\u001b[39;49m\u001b[38;5;241;43m.\u001b[39;49m\u001b[43m_unordered_bounds\u001b[49m\u001b[43m(\u001b[49m\u001b[43mrecalc\u001b[49m\u001b[38;5;241;43m=\u001b[39;49m\u001b[43mrecalc\u001b[49m\u001b[43m)\u001b[49m\n\u001b[1;32m    657\u001b[0m     src_resolution_x, src_resolution_y \u001b[38;5;241m=\u001b[39m \u001b[38;5;28mself\u001b[39m\u001b[38;5;241m.\u001b[39mresolution(recalc\u001b[38;5;241m=\u001b[39mrecalc)\n\u001b[1;32m    658\u001b[0m \u001b[38;5;28;01mexcept\u001b[39;00m (DimensionMissingCoordinateError, DimensionError):\n",
      "File \u001b[0;32m~/micromamba/envs/eo_tools/lib/python3.11/site-packages/rioxarray/rioxarray.py:1028\u001b[0m, in \u001b[0;36mXRasterBase._unordered_bounds\u001b[0;34m(self, recalc)\u001b[0m\n\u001b[1;32m   1011\u001b[0m \u001b[38;5;28;01mdef\u001b[39;00m \u001b[38;5;21m_unordered_bounds\u001b[39m(\n\u001b[1;32m   1012\u001b[0m     \u001b[38;5;28mself\u001b[39m, recalc: \u001b[38;5;28mbool\u001b[39m \u001b[38;5;241m=\u001b[39m \u001b[38;5;28;01mFalse\u001b[39;00m\n\u001b[1;32m   1013\u001b[0m ) \u001b[38;5;241m-\u001b[39m\u001b[38;5;241m>\u001b[39m \u001b[38;5;28mtuple\u001b[39m[\u001b[38;5;28mfloat\u001b[39m, \u001b[38;5;28mfloat\u001b[39m, \u001b[38;5;28mfloat\u001b[39m, \u001b[38;5;28mfloat\u001b[39m]:\n\u001b[1;32m   1014\u001b[0m \u001b[38;5;250m    \u001b[39m\u001b[38;5;124;03m\"\"\"\u001b[39;00m\n\u001b[1;32m   1015\u001b[0m \u001b[38;5;124;03m    Unordered bounds.\u001b[39;00m\n\u001b[1;32m   1016\u001b[0m \n\u001b[0;32m   (...)\u001b[0m\n\u001b[1;32m   1026\u001b[0m \u001b[38;5;124;03m        Outermost coordinates of the `xarray.DataArray` | `xarray.Dataset`.\u001b[39;00m\n\u001b[1;32m   1027\u001b[0m \u001b[38;5;124;03m    \"\"\"\u001b[39;00m\n\u001b[0;32m-> 1028\u001b[0m     resolution_x, resolution_y \u001b[38;5;241m=\u001b[39m \u001b[38;5;28;43mself\u001b[39;49m\u001b[38;5;241;43m.\u001b[39;49m\u001b[43mresolution\u001b[49m\u001b[43m(\u001b[49m\u001b[43mrecalc\u001b[49m\u001b[38;5;241;43m=\u001b[39;49m\u001b[43mrecalc\u001b[49m\u001b[43m)\u001b[49m\n\u001b[1;32m   1030\u001b[0m     \u001b[38;5;28;01mtry\u001b[39;00m:\n\u001b[1;32m   1031\u001b[0m         \u001b[38;5;66;03m# attempt to get bounds from xarray coordinate values\u001b[39;00m\n\u001b[1;32m   1032\u001b[0m         left, bottom, right, top \u001b[38;5;241m=\u001b[39m \u001b[38;5;28mself\u001b[39m\u001b[38;5;241m.\u001b[39m_internal_bounds()\n",
      "File \u001b[0;32m~/micromamba/envs/eo_tools/lib/python3.11/site-packages/rioxarray/rioxarray.py:995\u001b[0m, in \u001b[0;36mXRasterBase.resolution\u001b[0;34m(self, recalc)\u001b[0m\n\u001b[1;32m    992\u001b[0m \u001b[38;5;66;03m# if the coordinates of the spatial dimensions are missing\u001b[39;00m\n\u001b[1;32m    993\u001b[0m \u001b[38;5;66;03m# use the cached transform resolution\u001b[39;00m\n\u001b[1;32m    994\u001b[0m \u001b[38;5;28;01mtry\u001b[39;00m:\n\u001b[0;32m--> 995\u001b[0m     left, bottom, right, top \u001b[38;5;241m=\u001b[39m \u001b[38;5;28;43mself\u001b[39;49m\u001b[38;5;241;43m.\u001b[39;49m\u001b[43m_internal_bounds\u001b[49m\u001b[43m(\u001b[49m\u001b[43m)\u001b[49m\n\u001b[1;32m    996\u001b[0m \u001b[38;5;28;01mexcept\u001b[39;00m DimensionMissingCoordinateError:\n\u001b[1;32m    997\u001b[0m     \u001b[38;5;28;01mif\u001b[39;00m transform \u001b[38;5;129;01mis\u001b[39;00m \u001b[38;5;28;01mNone\u001b[39;00m:\n",
      "File \u001b[0;32m~/micromamba/envs/eo_tools/lib/python3.11/site-packages/rioxarray/rioxarray.py:958\u001b[0m, in \u001b[0;36mXRasterBase._internal_bounds\u001b[0;34m(self)\u001b[0m\n\u001b[1;32m    956\u001b[0m     \u001b[38;5;28;01mraise\u001b[39;00m DimensionMissingCoordinateError(\u001b[38;5;124mf\u001b[39m\u001b[38;5;124m\"\u001b[39m\u001b[38;5;132;01m{\u001b[39;00m\u001b[38;5;28mself\u001b[39m\u001b[38;5;241m.\u001b[39my_dim\u001b[38;5;132;01m}\u001b[39;00m\u001b[38;5;124m missing coordinates.\u001b[39m\u001b[38;5;124m\"\u001b[39m)\n\u001b[1;32m    957\u001b[0m \u001b[38;5;28;01mtry\u001b[39;00m:\n\u001b[0;32m--> 958\u001b[0m     left \u001b[38;5;241m=\u001b[39m \u001b[38;5;28mfloat\u001b[39m(\u001b[38;5;28mself\u001b[39m\u001b[38;5;241m.\u001b[39m_obj[\u001b[38;5;28mself\u001b[39m\u001b[38;5;241m.\u001b[39mx_dim][\u001b[38;5;241m0\u001b[39m])\n\u001b[1;32m    959\u001b[0m     right \u001b[38;5;241m=\u001b[39m \u001b[38;5;28mfloat\u001b[39m(\u001b[38;5;28mself\u001b[39m\u001b[38;5;241m.\u001b[39m_obj[\u001b[38;5;28mself\u001b[39m\u001b[38;5;241m.\u001b[39mx_dim][\u001b[38;5;241m-\u001b[39m\u001b[38;5;241m1\u001b[39m])\n\u001b[1;32m    960\u001b[0m     top \u001b[38;5;241m=\u001b[39m \u001b[38;5;28mfloat\u001b[39m(\u001b[38;5;28mself\u001b[39m\u001b[38;5;241m.\u001b[39m_obj[\u001b[38;5;28mself\u001b[39m\u001b[38;5;241m.\u001b[39my_dim][\u001b[38;5;241m0\u001b[39m])\n",
      "File \u001b[0;32m~/micromamba/envs/eo_tools/lib/python3.11/site-packages/xarray/core/common.py:157\u001b[0m, in \u001b[0;36mAbstractArray.__float__\u001b[0;34m(self)\u001b[0m\n\u001b[1;32m    156\u001b[0m \u001b[38;5;28;01mdef\u001b[39;00m \u001b[38;5;21m__float__\u001b[39m(\u001b[38;5;28mself\u001b[39m: Any) \u001b[38;5;241m-\u001b[39m\u001b[38;5;241m>\u001b[39m \u001b[38;5;28mfloat\u001b[39m:\n\u001b[0;32m--> 157\u001b[0m     \u001b[38;5;28;01mreturn\u001b[39;00m \u001b[38;5;28mfloat\u001b[39m(\u001b[38;5;28mself\u001b[39m\u001b[38;5;241m.\u001b[39mvalues)\n",
      "\u001b[0;31mTypeError\u001b[0m: only length-1 arrays can be converted to Python scalars"
     ]
    }
   ],
   "source": [
    "da.rio.write_crs(\"epsg:4326\", inplace=True)\n",
    "da_re = da.rio.reproject(\"epsg:4326\")\n",
    "da_re.rio.to_raster(f\"{path_s5p}/toto.tif\")"
   ]
  },
  {
   "cell_type": "code",
   "execution_count": null,
   "metadata": {},
   "outputs": [],
   "source": [
    "da = ds[\"sulfurdioxide_total_vertical_column\"]"
   ]
  },
  {
   "cell_type": "code",
   "execution_count": null,
   "metadata": {},
   "outputs": [],
   "source": [
    "\n",
    "da.plot(vmin=0, vmax=0.01)"
   ]
  },
  {
   "cell_type": "code",
   "execution_count": null,
   "metadata": {},
   "outputs": [],
   "source": []
  }
 ],
 "metadata": {
  "kernelspec": {
   "display_name": "Python 3",
   "language": "python",
   "name": "python3"
  },
  "language_info": {
   "codemirror_mode": {
    "name": "ipython",
    "version": 3
   },
   "file_extension": ".py",
   "mimetype": "text/x-python",
   "name": "python",
   "nbconvert_exporter": "python",
   "pygments_lexer": "ipython3",
   "version": "3.11.7"
  },
  "orig_nbformat": 4
 },
 "nbformat": 4,
 "nbformat_minor": 2
}
