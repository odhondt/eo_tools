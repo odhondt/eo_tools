{
 "cells": [
  {
   "cell_type": "code",
   "execution_count": null,
   "metadata": {},
   "outputs": [],
   "source": [
    "%load_ext autoreload\n",
    "%autoreload 2\n",
    "import logging\n",
    "logging.basicConfig(level=logging.INFO)\n",
    "import matplotlib.pyplot as plt\n",
    "\n",
    "# from folium import LayerControl\n",
    "from eo_tools_dev.util import show_insar_coh, show_insar_phi, show_sar_int\n",
    "import geopandas as gpd\n",
    "from eodag import EODataAccessGateway\n",
    "\n",
    "# credentials need to be stored in the following file (see EODAG docs)\n",
    "confpath = \"/data/eodag_config.yml\"\n",
    "dag = EODataAccessGateway(user_conf_file_path=confpath)\n",
    "# make sure cop_dataspace will be used \n",
    "dag.set_preferred_provider(\"cop_dataspace\")\n",
    "logging.basicConfig(level=logging.INFO)"
   ]
  },
  {
   "cell_type": "markdown",
   "metadata": {},
   "source": [
    "# Set up parameters and output dir\n",
    "\n",
    "## Important\n",
    "- The products must be **unzipped** either manually or by using `extract=True` in the download call. \n",
    "- In the following products, only IW1 and IW2 are relevant as IW3 contains only water pixels."
   ]
  },
  {
   "cell_type": "code",
   "execution_count": null,
   "metadata": {},
   "outputs": [],
   "source": [
    "# change to your custom locations\n",
    "data_dir = \"/data/S1\"\n",
    "\n",
    "ids = ['S1A_IW_SLC__1SDV_20181228T050448_20181228T050515_025221_02C9BE_1E22',\n",
    " 'S1B_IW_SLC__1SDV_20181222T050400_20181222T050427_014150_01A4AE_4A45']\n",
    "primary_dir = f\"{data_dir}/{ids[0]}.SAFE\"\n",
    "secondary_dir = f\"{data_dir}/{ids[1]}.SAFE\"\n",
    "outputs_prefix=\"/data/res/dev-partial-overlap\"\n",
    "# "
   ]
  },
  {
   "cell_type": "markdown",
   "metadata": {},
   "source": [
    "# Download S-1 products"
   ]
  },
  {
   "cell_type": "code",
   "execution_count": null,
   "metadata": {},
   "outputs": [],
   "source": [
    "# load a geometry\n",
    "# file_aoi = \"../data/Etna.geojson\"\n",
    "# shp = gpd.read_file(file_aoi).geometry[0]\n",
    "\n",
    "# search_criteria = {\n",
    "#     \"productType\": \"S1_SAR_SLC\",\n",
    "#     \"start\": \"2018-12-22\",\n",
    "#     \"end\": \"2018-12-29\",\n",
    "#     \"geom\": shp\n",
    "# }\n",
    "\n",
    "# results, _ = dag.search(**search_criteria)"
   ]
  },
  {
   "cell_type": "code",
   "execution_count": null,
   "metadata": {},
   "outputs": [],
   "source": [
    "# from eo_tools.util import explore_products\n",
    "# explore_products(results, shp)"
   ]
  },
  {
   "cell_type": "code",
   "execution_count": null,
   "metadata": {},
   "outputs": [],
   "source": [
    "# indices_to_download = [2, 5]\n",
    "# to_dl = [results[i] for i in indices_to_download]\n",
    "# dag.download_all(to_dl, outputs_prefix=\"/data/S1/\", extract=False)"
   ]
  },
  {
   "cell_type": "code",
   "execution_count": null,
   "metadata": {},
   "outputs": [],
   "source": [
    "from eo_tools.S1.core import S1IWSwath\n",
    "from eo_tools.auxils import get_burst_geometry\n",
    "from eo_tools.util import _has_overlap\n",
    "# prm = S1IWSwath(primary_dir, iw=1, pol='vv')\n",
    "# sec = S1IWSwath(secondary_dir, iw=1, pol='vv')\n",
    "\n",
    "gdf_burst_prm = get_burst_geometry(\n",
    "    primary_dir, target_subswaths=[\"IW1\"], polarization=\"VV\"\n",
    ")\n",
    "gdf_burst_sec = get_burst_geometry(\n",
    "    secondary_dir, target_subswaths=[\"IW1\"], polarization=\"VV\"\n",
    ")\n"
   ]
  },
  {
   "cell_type": "code",
   "execution_count": null,
   "metadata": {},
   "outputs": [],
   "source": [
    "gdf_burst_prm\n",
    "# gdf_burst_sec"
   ]
  },
  {
   "cell_type": "code",
   "execution_count": null,
   "metadata": {},
   "outputs": [],
   "source": [
    "# gdf_burst_prm\n",
    "gdf_burst_sec"
   ]
  },
  {
   "cell_type": "code",
   "execution_count": null,
   "metadata": {},
   "outputs": [],
   "source": [
    "from folium import Map\n",
    "m = Map()\n",
    "gdf_burst_prm.explore(m=m)\n",
    "gdf_burst_sec.explore(m=m)"
   ]
  },
  {
   "cell_type": "markdown",
   "metadata": {},
   "source": [
    "# Pre-process InSAR pair"
   ]
  },
  {
   "cell_type": "code",
   "execution_count": null,
   "metadata": {},
   "outputs": [],
   "source": [
    "from eo_tools.S1.process import process_insar\n",
    "\n",
    "out_dir = process_insar(\n",
    "    dir_prm=primary_dir,\n",
    "    dir_sec=secondary_dir,\n",
    "    outputs_prefix=outputs_prefix,\n",
    "    aoi_name=None,\n",
    "    shp=shp,\n",
    "    pol=\"vv\",\n",
    "    subswaths=[\"IW1\", \"IW2\", \"IW3\"],\n",
    "    write_coherence=True,\n",
    "    write_interferogram=True,\n",
    "    write_primary_amplitude=True,\n",
    "    write_secondary_amplitude=False,\n",
    "    apply_fast_esd=True,\n",
    "    dem_upsampling=1.8,\n",
    "    dem_force_download=False,\n",
    "    dem_buffer_arc_sec=40,\n",
    "    boxcar_coherence=[3, 10],\n",
    "    filter_ifg=True,\n",
    "    multilook=[1, 4],\n",
    "    warp_kernel=\"bicubic\",\n",
    "    clip_to_shape=True,\n",
    ")"
   ]
  },
  {
   "cell_type": "code",
   "execution_count": null,
   "metadata": {},
   "outputs": [],
   "source": [
    "show_insar_coh(f\"{out_dir}/coh_vv.tif\")"
   ]
  },
  {
   "cell_type": "code",
   "execution_count": null,
   "metadata": {},
   "outputs": [],
   "source": [
    "show_insar_phi(f\"{out_dir}/phi_vv.tif\")"
   ]
  },
  {
   "cell_type": "code",
   "execution_count": null,
   "metadata": {},
   "outputs": [],
   "source": [
    "show_sar_int(f\"{out_dir}/amp_prm_vv.tif\")"
   ]
  },
  {
   "cell_type": "code",
   "execution_count": null,
   "metadata": {},
   "outputs": [],
   "source": []
  }
 ],
 "metadata": {
  "kernelspec": {
   "display_name": "Python 3",
   "language": "python",
   "name": "python3"
  },
  "language_info": {
   "codemirror_mode": {
    "name": "ipython",
    "version": 3
   },
   "file_extension": ".py",
   "mimetype": "text/x-python",
   "name": "python",
   "nbconvert_exporter": "python",
   "pygments_lexer": "ipython3",
   "version": "3.12.5"
  }
 },
 "nbformat": 4,
 "nbformat_minor": 2
}
