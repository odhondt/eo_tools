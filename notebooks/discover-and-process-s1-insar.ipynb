{
 "cells": [
  {
   "cell_type": "markdown",
   "metadata": {},
   "source": [
    "# Discover & Process Sentinel-1 InSAR pairs\n",
    "\n",
    "- The provider used for this notebook is `cop_dataspace`\n",
    "- A free account needs to be created at https://dataspace.copernicus.eu/\n",
    "- The credentials need to be configured as explained here https://eodag.readthedocs.io/en/stable/getting_started_guide/configure.html"
   ]
  },
  {
   "cell_type": "code",
   "execution_count": null,
   "metadata": {},
   "outputs": [],
   "source": [
    "%load_ext autoreload\n",
    "%autoreload 2\n",
    "\n",
    "from eo_tools.util import explore_products\n",
    "from eo_tools.util import visualize_insar_phase, visualize_insar_coh, visualize_sar_intensity\n",
    "from eo_tools.S1 import process_InSAR\n",
    "import geopandas as gpd\n",
    "import folium\n",
    "import folium.plugins\n",
    "import logging\n",
    "import os\n",
    "\n",
    "from eodag import EODataAccessGateway\n",
    "confpath = \"/data/eodag_config.yml\"\n",
    "dag = EODataAccessGateway(user_conf_file_path=confpath)\n",
    "# make sure cop_dataspace will be used \n",
    "dag.set_preferred_provider(\"cop_dataspace\")\n",
    "logging.basicConfig(level=logging.INFO)"
   ]
  },
  {
   "cell_type": "markdown",
   "metadata": {},
   "source": [
    "## Select an area of interest\n",
    "\n",
    "- Select a drawing tool (polygon, circle or rectangle)\n",
    "- Draw the AOI on the map\n",
    "- Click \"Export\" on the right to save the GeoJSON file"
   ]
  },
  {
   "cell_type": "code",
   "execution_count": null,
   "metadata": {},
   "outputs": [],
   "source": [
    "map_select = folium.Map()\n",
    "folium.plugins.Draw(\n",
    "    export=True,\n",
    "    draw_options={\n",
    "        \"polyline\": False,\n",
    "        \"circlemarker\": False,\n",
    "        \"marker\": False,\n",
    "    },\n",
    ").add_to(map_select)\n",
    "map_select"
   ]
  },
  {
   "cell_type": "markdown",
   "metadata": {},
   "source": [
    "## Search"
   ]
  },
  {
   "cell_type": "code",
   "execution_count": null,
   "metadata": {},
   "outputs": [],
   "source": [
    "# load a geometry\n",
    "file_aoi = \"../data/Morocco_AOI.geojson\"\n",
    "shp = gpd.read_file(file_aoi).geometry[0]\n",
    "search_criteria = {\n",
    "    \"productType\": \"S1_SAR_SLC\",\n",
    "    \"start\": \"2023-09-01\",\n",
    "    \"end\": \"2023-09-20\",\n",
    "    \"geom\": shp\n",
    "}\n",
    "results, _ = dag.search(**search_criteria)"
   ]
  },
  {
   "cell_type": "markdown",
   "metadata": {},
   "source": [
    "## Visualize by groups\n",
    "\n",
    "- For InSAR, products must be overlapping and from the same relative orbit.\n",
    "- They also have to be of the same ascending / descending configuration."
   ]
  },
  {
   "cell_type": "code",
   "execution_count": null,
   "metadata": {},
   "outputs": [],
   "source": [
    "# TODO: add filter on ascending / descending\n",
    "explore_products(results, shp)"
   ]
  },
  {
   "cell_type": "markdown",
   "metadata": {},
   "source": [
    "## Download"
   ]
  },
  {
   "cell_type": "code",
   "execution_count": null,
   "metadata": {},
   "outputs": [],
   "source": [
    "# fill indices of products to download\n",
    "indices_to_download = [3, 4]\n",
    "to_download = [results[i] for i in indices_to_download]\n",
    "\n",
    "# if the data has already been downloaded, just re-run the cell to get the product paths\n",
    "dl = dag.download_all(to_download, outputs_prefix=\"/data/S1/\", extract=False)"
   ]
  },
  {
   "cell_type": "markdown",
   "metadata": {},
   "source": [
    "# Process"
   ]
  },
  {
   "cell_type": "code",
   "execution_count": null,
   "metadata": {},
   "outputs": [],
   "source": [
    "# extract paths for processing\n",
    "insar_dirs = process_InSAR(\n",
    "    dl[0],\n",
    "    dl[1],\n",
    "    outputs_prefix=\"/data/res\",\n",
    "    tmp_dir=\"/data/tmp\",\n",
    "    aoi_name = \"Morocco\",\n",
    "    shp=shp,\n",
    "    pol=\"full\",\n",
    "    coh_only=False,\n",
    "    intensity=False,\n",
    "    clear_tmp_files=True,\n",
    "    resume=False\n",
    ")"
   ]
  },
  {
   "cell_type": "code",
   "execution_count": 3,
   "metadata": {},
   "outputs": [
    {
     "data": {
      "text/html": [
       "<div style=\"width:100%;\"><div style=\"position:relative;width:100%;height:0;padding-bottom:60%;\"><span style=\"color:#565656\">Make this Notebook Trusted to load map: File -> Trust Notebook</span><iframe srcdoc=\"&lt;!DOCTYPE html&gt;\n",
       "&lt;html&gt;\n",
       "&lt;head&gt;\n",
       "    \n",
       "    &lt;meta http-equiv=&quot;content-type&quot; content=&quot;text/html; charset=UTF-8&quot; /&gt;\n",
       "    \n",
       "        &lt;script&gt;\n",
       "            L_NO_TOUCH = false;\n",
       "            L_DISABLE_3D = false;\n",
       "        &lt;/script&gt;\n",
       "    \n",
       "    &lt;style&gt;html, body {width: 100%;height: 100%;margin: 0;padding: 0;}&lt;/style&gt;\n",
       "    &lt;style&gt;#map {position:absolute;top:0;bottom:0;right:0;left:0;}&lt;/style&gt;\n",
       "    &lt;script src=&quot;https://cdn.jsdelivr.net/npm/leaflet@1.9.3/dist/leaflet.js&quot;&gt;&lt;/script&gt;\n",
       "    &lt;script src=&quot;https://code.jquery.com/jquery-3.7.1.min.js&quot;&gt;&lt;/script&gt;\n",
       "    &lt;script src=&quot;https://cdn.jsdelivr.net/npm/bootstrap@5.2.2/dist/js/bootstrap.bundle.min.js&quot;&gt;&lt;/script&gt;\n",
       "    &lt;script src=&quot;https://cdnjs.cloudflare.com/ajax/libs/Leaflet.awesome-markers/2.0.2/leaflet.awesome-markers.js&quot;&gt;&lt;/script&gt;\n",
       "    &lt;link rel=&quot;stylesheet&quot; href=&quot;https://cdn.jsdelivr.net/npm/leaflet@1.9.3/dist/leaflet.css&quot;/&gt;\n",
       "    &lt;link rel=&quot;stylesheet&quot; href=&quot;https://cdn.jsdelivr.net/npm/bootstrap@5.2.2/dist/css/bootstrap.min.css&quot;/&gt;\n",
       "    &lt;link rel=&quot;stylesheet&quot; href=&quot;https://netdna.bootstrapcdn.com/bootstrap/3.0.0/css/bootstrap.min.css&quot;/&gt;\n",
       "    &lt;link rel=&quot;stylesheet&quot; href=&quot;https://cdn.jsdelivr.net/npm/@fortawesome/fontawesome-free@6.2.0/css/all.min.css&quot;/&gt;\n",
       "    &lt;link rel=&quot;stylesheet&quot; href=&quot;https://cdnjs.cloudflare.com/ajax/libs/Leaflet.awesome-markers/2.0.2/leaflet.awesome-markers.css&quot;/&gt;\n",
       "    &lt;link rel=&quot;stylesheet&quot; href=&quot;https://cdn.jsdelivr.net/gh/python-visualization/folium/folium/templates/leaflet.awesome.rotate.min.css&quot;/&gt;\n",
       "    \n",
       "            &lt;meta name=&quot;viewport&quot; content=&quot;width=device-width,\n",
       "                initial-scale=1.0, maximum-scale=1.0, user-scalable=no&quot; /&gt;\n",
       "            &lt;style&gt;\n",
       "                #map_37b751c2e775d4b344d21778c2ebcd10 {\n",
       "                    position: relative;\n",
       "                    width: 100.0%;\n",
       "                    height: 100.0%;\n",
       "                    left: 0.0%;\n",
       "                    top: 0.0%;\n",
       "                }\n",
       "                .leaflet-container { font-size: 1rem; }\n",
       "            &lt;/style&gt;\n",
       "        \n",
       "&lt;/head&gt;\n",
       "&lt;body&gt;\n",
       "    \n",
       "    \n",
       "            &lt;div class=&quot;folium-map&quot; id=&quot;map_37b751c2e775d4b344d21778c2ebcd10&quot; &gt;&lt;/div&gt;\n",
       "        \n",
       "&lt;/body&gt;\n",
       "&lt;script&gt;\n",
       "    \n",
       "    \n",
       "            var map_37b751c2e775d4b344d21778c2ebcd10 = L.map(\n",
       "                &quot;map_37b751c2e775d4b344d21778c2ebcd10&quot;,\n",
       "                {\n",
       "                    center: [30.983858181081246, -8.562076130049718],\n",
       "                    crs: L.CRS.EPSG3857,\n",
       "                    zoom: 9,\n",
       "                    zoomControl: true,\n",
       "                    preferCanvas: false,\n",
       "                }\n",
       "            );\n",
       "\n",
       "            \n",
       "\n",
       "        \n",
       "    \n",
       "            var tile_layer_e769890a415682f9a726c5f3878af096 = L.tileLayer(\n",
       "                &quot;https://tile.openstreetmap.org/{z}/{x}/{y}.png&quot;,\n",
       "                {&quot;attribution&quot;: &quot;\\u0026copy; \\u003ca href=\\&quot;https://www.openstreetmap.org/copyright\\&quot;\\u003eOpenStreetMap\\u003c/a\\u003e contributors&quot;, &quot;detectRetina&quot;: false, &quot;maxNativeZoom&quot;: 19, &quot;maxZoom&quot;: 19, &quot;minZoom&quot;: 0, &quot;noWrap&quot;: false, &quot;opacity&quot;: 1, &quot;subdomains&quot;: &quot;abc&quot;, &quot;tms&quot;: false}\n",
       "            );\n",
       "        \n",
       "    \n",
       "            tile_layer_e769890a415682f9a726c5f3878af096.addTo(map_37b751c2e775d4b344d21778c2ebcd10);\n",
       "        \n",
       "    \n",
       "            var tile_layer_7d6a0dfc8762772e48b2cf3ff9ab0a73 = L.tileLayer(\n",
       "                &quot;http://127.0.0.1:39805/api/tiles/{z}/{x}/{y}.png?\\u0026filename=%2Fdata%2Fres%2FS1_InSAR_VH_2023-09-03-183344__2023-09-15-183345_Morocco%2Fint_mst.tif\\u0026min=0\\u0026max=0.1238831875\\u0026n_colors=255\\u0026projection=EPSG%3A3857&quot;,\n",
       "                {&quot;attribution&quot;: &quot;Raster file served by \\u003ca href=\\u0027https://github.com/banesullivan/localtileserver\\u0027 target=\\u0027_blank\\u0027\\u003elocaltileserver\\u003c/a\\u003e.&quot;, &quot;detectRetina&quot;: false, &quot;maxNativeZoom&quot;: 18, &quot;maxZoom&quot;: 18, &quot;minZoom&quot;: 0, &quot;noWrap&quot;: false, &quot;opacity&quot;: 1, &quot;subdomains&quot;: &quot;abc&quot;, &quot;tms&quot;: false}\n",
       "            );\n",
       "        \n",
       "    \n",
       "            tile_layer_7d6a0dfc8762772e48b2cf3ff9ab0a73.addTo(map_37b751c2e775d4b344d21778c2ebcd10);\n",
       "        \n",
       "&lt;/script&gt;\n",
       "&lt;/html&gt;\" style=\"position:absolute;width:100%;height:100%;left:0;top:0;border:none !important;\" allowfullscreen webkitallowfullscreen mozallowfullscreen></iframe></div></div>"
      ],
      "text/plain": [
       "<folium.folium.Map at 0x7f343c481280>"
      ]
     },
     "execution_count": 3,
     "metadata": {},
     "output_type": "execute_result"
    }
   ],
   "source": [
    "visualize_sar_intensity('/data/res/S1_InSAR_VH_2023-09-03-183344__2023-09-15-183345_Morocco/')"
   ]
  },
  {
   "cell_type": "code",
   "execution_count": null,
   "metadata": {},
   "outputs": [],
   "source": []
  }
 ],
 "metadata": {
  "kernelspec": {
   "display_name": "Python 3",
   "language": "python",
   "name": "python3"
  },
  "language_info": {
   "codemirror_mode": {
    "name": "ipython",
    "version": 3
   },
   "file_extension": ".py",
   "mimetype": "text/x-python",
   "name": "python",
   "nbconvert_exporter": "python",
   "pygments_lexer": "ipython3",
   "version": "3.12.0"
  },
  "orig_nbformat": 4
 },
 "nbformat": 4,
 "nbformat_minor": 2
}
