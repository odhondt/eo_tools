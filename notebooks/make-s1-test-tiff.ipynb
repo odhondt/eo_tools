{
 "cells": [
  {
   "cell_type": "code",
   "execution_count": 1,
   "metadata": {},
   "outputs": [],
   "source": [
    "import xarray as xr\n",
    "import rioxarray as riox\n",
    "from pathlib import Path\n",
    "import numpy as np\n",
    "import os"
   ]
  },
  {
   "cell_type": "code",
   "execution_count": 2,
   "metadata": {},
   "outputs": [],
   "source": [
    "ids = [\n",
    " \"S1A_IW_SLC__1SDV_20230904T063730_20230904T063757_050174_0609E3_DAA1\", \n",
    " \"S1A_IW_SLC__1SDV_20230916T063730_20230916T063757_050349_060FCD_6814\"\n",
    "]\n",
    "\n",
    "dirs = [f\"/data/S1/{id_}.SAFE\" for id_ in ids]"
   ]
  },
  {
   "cell_type": "code",
   "execution_count": 39,
   "metadata": {},
   "outputs": [
    {
     "data": {
      "text/plain": [
       "['/data/S1/S1A_IW_SLC__1SDV_20230904T063730_20230904T063757_050174_0609E3_DAA1.SAFE',\n",
       " '/data/S1/S1A_IW_SLC__1SDV_20230916T063730_20230916T063757_050349_060FCD_6814.SAFE']"
      ]
     },
     "execution_count": 39,
     "metadata": {},
     "output_type": "execute_result"
    }
   ],
   "source": [
    "dirs"
   ]
  },
  {
   "cell_type": "code",
   "execution_count": 38,
   "metadata": {},
   "outputs": [],
   "source": [
    "for safe_dir in dirs:\n",
    "    iw=1\n",
    "    pol=\"vh\"\n",
    "\n",
    "    dir_tiff = Path(f\"{safe_dir}/measurement/\")\n",
    "    pth_tiff = dir_tiff.glob(f\"*iw{iw}*{pol}*.tiff\")\n",
    "    pth_tiff = list(pth_tiff)[0]\n",
    "\n",
    "    dir_xml = Path(f\"{safe_dir}/annotation/\")\n",
    "    pth_xml = dir_xml.glob(f\"*iw{iw}*{pol}*.xml\")\n",
    "    pth_xml = list(pth_xml)[0]\n",
    "    \n",
    "    dir_cal = Path(f\"{safe_dir}/annotation/calibration\")\n",
    "    pth_cal = dir_cal.glob(f\"calibration*iw{iw}*{pol}*.xml\")\n",
    "    pth_cal = list(pth_cal)[0]\n",
    "\n",
    "    p = Path(\"../data\").joinpath(*tiff_parts[3:-1])\n",
    "    if not os.path.isdir(p):\n",
    "        os.makedirs(p)\n",
    "    \n",
    "    # ds = riox.open_rasterio(pth_tiff, chunks=True, lock=False)\n",
    "    # ds_new = ds.copy(\"deep\")\n",
    "    # ds_new[0] = 0 + 1j*0 \n",
    "    # tiff_parts = pth_tiff.parts\n",
    "\n",
    "    # fout = Path(\"../data\").joinpath(*tiff_parts[3:])\n",
    "    # # Use compression to get much smaller dummy files\n",
    "    # ds_new.rio.to_raster(\n",
    "    #     fout,\n",
    "    #     driver=\"GTiff\",\n",
    "    #     compress=\"deflate\",\n",
    "    #     predictor=2,\n",
    "    #     tiled=True,\n",
    "    #     blockxsize=256,\n",
    "    #     blovkysize=256,\n",
    "    # )"
   ]
  },
  {
   "cell_type": "code",
   "execution_count": 32,
   "metadata": {},
   "outputs": [],
   "source": [
    "\n",
    "\n"
   ]
  },
  {
   "cell_type": "code",
   "execution_count": 34,
   "metadata": {},
   "outputs": [
    {
     "data": {
      "text/plain": [
       "False"
      ]
     },
     "execution_count": 34,
     "metadata": {},
     "output_type": "execute_result"
    }
   ],
   "source": []
  },
  {
   "cell_type": "code",
   "execution_count": null,
   "metadata": {},
   "outputs": [],
   "source": []
  }
 ],
 "metadata": {
  "kernelspec": {
   "display_name": "Python 3",
   "language": "python",
   "name": "python3"
  },
  "language_info": {
   "codemirror_mode": {
    "name": "ipython",
    "version": 3
   },
   "file_extension": ".py",
   "mimetype": "text/x-python",
   "name": "python",
   "nbconvert_exporter": "python",
   "pygments_lexer": "ipython3",
   "version": "3.12.3"
  }
 },
 "nbformat": 4,
 "nbformat_minor": 2
}
