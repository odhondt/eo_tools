{
 "cells": [
  {
   "cell_type": "code",
   "execution_count": null,
   "metadata": {},
   "outputs": [],
   "source": [
    "import xarray as xr\n",
    "import rioxarray as riox\n",
    "from pathlib import Path\n",
    "import numpy as np"
   ]
  },
  {
   "cell_type": "code",
   "execution_count": null,
   "metadata": {},
   "outputs": [],
   "source": [
    "ids = [\n",
    " \"S1A_IW_SLC__1SDV_20230904T063730_20230904T063757_050174_0609E3_DAA1\", \n",
    " \"S1A_IW_SLC__1SDV_20230916T063730_20230916T063757_050349_060FCD_6814\"\n",
    "]\n",
    "\n",
    "dirs = [f\"/data/S1/{id_}.SAFE\" for id_ in ids]"
   ]
  },
  {
   "cell_type": "code",
   "execution_count": null,
   "metadata": {},
   "outputs": [],
   "source": [
    "dir_tiff = Path(dirs[0])/\"measurement\"\n",
    "iw=1\n",
    "pol=\"vh\"\n",
    "pth_tiff = dir_tiff.glob(f\"*iw{iw}*{pol}*.tiff\")\n",
    "pth_tiff = list(pth_tiff)[0]\n",
    "# ds = xr.open_dataset(pth_tiff, engine=\"rasterio\", chunks=True, lock=False)\n",
    "ds = riox.open_rasterio(pth_tiff, chunks=True, lock=False)\n",
    "ds_new = ds.copy(\"deep\")\n",
    "ds_new[0] = 0 + 1j*0 \n",
    "ds_new.rio.to_raster(\n",
    "    \"/data/res/test.tiff\",\n",
    "    driver=\"GTiff\",\n",
    "    compress=\"deflate\",\n",
    "    predictor=2,\n",
    "    tiled=True,\n",
    "    blockxsize=256,\n",
    "    blovkysize=256,\n",
    ")"
   ]
  }
 ],
 "metadata": {
  "kernelspec": {
   "display_name": "Python 3",
   "language": "python",
   "name": "python3"
  },
  "language_info": {
   "codemirror_mode": {
    "name": "ipython",
    "version": 3
   },
   "file_extension": ".py",
   "mimetype": "text/x-python",
   "name": "python",
   "nbconvert_exporter": "python",
   "pygments_lexer": "ipython3",
   "version": "3.12.3"
  }
 },
 "nbformat": 4,
 "nbformat_minor": 2
}
