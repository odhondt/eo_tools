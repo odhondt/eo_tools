{
 "cells": [
  {
   "cell_type": "markdown",
   "metadata": {},
   "source": [
    "# Discovering Sentinel-1 candidate pairs for InSAR"
   ]
  },
  {
   "cell_type": "code",
   "execution_count": null,
   "metadata": {},
   "outputs": [],
   "source": [
    "%load_ext autoreload\n",
    "%autoreload 2\n",
    "\n",
    "import json\n",
    "\n",
    "import geopandas as gpd\n",
    "import folium\n",
    "import folium.plugins\n",
    "import logging\n",
    "from json import dumps\n",
    "\n",
    "from eodag import EODataAccessGateway\n",
    "confpath = \"/data/eodag_config.yml\"\n",
    "dag = EODataAccessGateway(user_conf_file_path=confpath)\n",
    "# make sure cop_dataspace will be used \n",
    "dag.set_preferred_provider(\"cop_dataspace\")\n",
    "logging.basicConfig(level=logging.INFO)"
   ]
  },
  {
   "cell_type": "markdown",
   "metadata": {},
   "source": [
    "## Search"
   ]
  },
  {
   "cell_type": "code",
   "execution_count": null,
   "metadata": {},
   "outputs": [],
   "source": [
    "# load a geometry\n",
    "file_aoi = \"/data/aoi_Maroc.geojson\"\n",
    "shp = gpd.read_file(file_aoi).geometry[0]\n",
    "# testing data search\n",
    "search_criteria = {\n",
    "    # \"productType\": \"S2_MSI_L1C\",\n",
    "    \"productType\": \"S1_SAR_SLC\",\n",
    "    \"start\": \"2021-03-01\",\n",
    "    \"end\": \"2021-03-30\",\n",
    "    \"geom\": shp\n",
    "}\n",
    "results, _ = dag.search(**search_criteria)"
   ]
  },
  {
   "cell_type": "code",
   "execution_count": null,
   "metadata": {},
   "outputs": [],
   "source": [
    "print(gdf.sample().columns)"
   ]
  },
  {
   "cell_type": "code",
   "execution_count": null,
   "metadata": {},
   "outputs": [],
   "source": [
    "# Convert results to geodataframe\n",
    "gj = results.as_geojson_object()\n",
    "gdf = gpd.read_file(dumps(gj))"
   ]
  },
  {
   "cell_type": "code",
   "execution_count": null,
   "metadata": {},
   "outputs": [],
   "source": [
    "print(gdf.iloc[1].keys())"
   ]
  },
  {
   "cell_type": "markdown",
   "metadata": {},
   "source": [
    "## Visualize by groups\n",
    "\n",
    "Let's group the products by\n",
    "- Relative orbit\n",
    "- Overlapping"
   ]
  },
  {
   "cell_type": "code",
   "execution_count": null,
   "metadata": {},
   "outputs": [],
   "source": [
    "# check for geometrical overlap\n",
    "def has_overlap(geom1, geom2, tolerance=0.01):\n",
    "    intersection = geom1.intersection(geom2)\n",
    "    return intersection.area / min(geom1.area, geom2.area) >= (1 - tolerance)\n",
    "\n",
    "# make groups of almost fully overlapping products\n",
    "def group_by_overlap(dfg):\n",
    "    init_list = list(dfg.index)\n",
    "    groups = []\n",
    "    while len(init_list) > 0:\n",
    "        geom_a = dfg.geometry.loc[init_list[0]]\n",
    "        grp = []\n",
    "        grp.append(init_list.pop(0))\n",
    "        i = 0\n",
    "        while i < len(init_list):\n",
    "            geom_b = dfg.geometry.loc[init_list[i]]\n",
    "            if has_overlap(geom_a, geom_b):\n",
    "                grp.append(init_list.pop(i))\n",
    "            else:\n",
    "                i += 1\n",
    "        groups.append(grp)\n",
    "    return groups\n"
   ]
  },
  {
   "cell_type": "code",
   "execution_count": null,
   "metadata": {},
   "outputs": [],
   "source": [
    "ll = gdf.total_bounds.reshape(2, 2)\n",
    "# folium inverts coordinates\n",
    "bbox = list(map(lambda x: [x[1], x[0]], ll))\n",
    "\n",
    "m = folium.Map()\n",
    "by_orbit = gdf.groupby('relativeOrbitNumber')\n",
    "group_indices = []\n",
    "for idx in by_orbit.groups:\n",
    "    dfg = by_orbit.get_group(idx).explode(index_parts=False)\n",
    "\n",
    "    # group overlapping\n",
    "    group_indices = group_by_overlap(dfg)    \n",
    "    for g in group_indices:\n",
    "        sel = gdf.loc[g]\n",
    "        folium.GeoJson(sel.unary_union).add_to(m)\n",
    "    \n",
    "    print(group_indices)\n",
    "m.fit_bounds(bbox)\n",
    "m"
   ]
  },
  {
   "cell_type": "code",
   "execution_count": null,
   "metadata": {},
   "outputs": [],
   "source": [
    "ll = gdf.total_bounds.reshape(2, 2)\n",
    "# folium inverts coordinates\n",
    "bbox = list(map(lambda x: [x[1], x[0]], ll))\n",
    "m = folium.Map()\n",
    "folium.GeoJson(sel.unary_union).add_to(m)\n",
    "# folium.GeoJson(sel.astype(str).to_json()).add_to(m)\n",
    "m.fit_bounds(bbox)\n",
    "m"
   ]
  },
  {
   "cell_type": "code",
   "execution_count": null,
   "metadata": {},
   "outputs": [],
   "source": [
    "import shapely\n"
   ]
  },
  {
   "cell_type": "code",
   "execution_count": null,
   "metadata": {},
   "outputs": [],
   "source": [
    "folium.Polygon?"
   ]
  },
  {
   "cell_type": "code",
   "execution_count": null,
   "metadata": {},
   "outputs": [],
   "source": []
  }
 ],
 "metadata": {
  "kernelspec": {
   "display_name": "Python 3",
   "language": "python",
   "name": "python3"
  },
  "language_info": {
   "codemirror_mode": {
    "name": "ipython",
    "version": 3
   },
   "file_extension": ".py",
   "mimetype": "text/x-python",
   "name": "python",
   "nbconvert_exporter": "python",
   "pygments_lexer": "ipython3",
   "version": "3.12.0"
  },
  "orig_nbformat": 4
 },
 "nbformat": 4,
 "nbformat_minor": 2
}
