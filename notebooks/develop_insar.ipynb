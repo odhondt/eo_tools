{
 "cells": [
  {
   "cell_type": "markdown",
   "metadata": {},
   "source": [
    "This notebook is only used for development.\n",
    "\n",
    "## TODO\n",
    "\n",
    "- [x] try masking and erode to remove bands\n",
    "- [x] write output as a COG\n",
    "- [x] crop to AOI"
   ]
  },
  {
   "cell_type": "code",
   "execution_count": 32,
   "metadata": {},
   "outputs": [
    {
     "name": "stdout",
     "output_type": "stream",
     "text": [
      "The autoreload extension is already loaded. To reload it, use:\n",
      "  %reload_ext autoreload\n"
     ]
    }
   ],
   "source": [
    "%load_ext autoreload\n",
    "%autoreload 2\n",
    "# import pyroSAR\n",
    "from pyroSAR.snap.auxil import Workflow, gpt, groupbyWorkers\n",
    "from pyroSAR import identify_many, identify\n",
    "from eo_tools.auxils import get_burst_geometry\n",
    "import geopandas as gpd\n",
    "import rasterio as rio\n",
    "import numpy as np\n",
    "from rasterio import merge, mask\n",
    "from rasterio.io import MemoryFile\n",
    "from rio_cogeo.cogeo import cog_translate\n",
    "from rio_cogeo.profiles import cog_profiles\n",
    "from scipy.ndimage import binary_erosion\n",
    "from glob import glob\n"
   ]
  },
  {
   "cell_type": "code",
   "execution_count": 2,
   "metadata": {},
   "outputs": [],
   "source": [
    "infiles = ['/data/S1/S1A_IW_SLC__1SDV_20230826T180527_20230826T180554_050050_0605B2_E768.zip',\n",
    "           '/data/S1/S1A_IW_SLC__1SDV_20230814T180526_20230814T180553_049875_05FFB4_7D92.zip']\n",
    "outdir = '/data/res/'\n",
    "aoi_path = '/data/aoi_bretagne.geojson'\n",
    "# graph_path = '../graph/TOPSAR Coreg Interferogram IW2 to GeoTiff.xml'\n",
    "# graph_path = '../graph/TOPSAR Coreg Coherence VV IW2 to GeoTiff.xml'\n",
    "graph_path = '../graph/TOPSAR_coh_geocode_IW_to_geotiff.xml'"
   ]
  },
  {
   "cell_type": "code",
   "execution_count": 3,
   "metadata": {},
   "outputs": [],
   "source": [
    "# let's find what iw and bursts intersect AOI\n",
    "df_geo = get_burst_geometry(infiles[0], \n",
    "                   target_subswaths=['IW1', 'IW2','IW3'], \n",
    "                   polarization='VV')\n",
    "aoi = gpd.read_file(aoi_path)"
   ]
  },
  {
   "cell_type": "code",
   "execution_count": 53,
   "metadata": {},
   "outputs": [
    {
     "name": "stdout",
     "output_type": "stream",
     "text": [
      "pyroSAR ID object of type BEAM_DIMAP\n",
      "acquisition_mode: IW\n",
      "cycleNumber: 300\n",
      "frameNumber: 394674\n",
      "lines: 4192\n",
      "orbit: A\n",
      "orbitNumber_abs: 50050\n",
      "orbitNumber_rel: 103\n",
      "polarizations: ['VV']\n",
      "product: SLC\n",
      "projection: +proj=longlat +datum=WGS84 +no_defs\n",
      "samples: 26057\n",
      "sensor: S1A\n",
      "spacing: (2.329562, 13.90313)\n",
      "start: 20230826T180537\n",
      "stop: 20230826T180546\n"
     ]
    }
   ],
   "source": [
    "ID = identify('/data/tmp/IW2_VV_26Aug2023_14Aug2023_slice_9_coreg.dim')\n",
    "print(ID)"
   ]
  },
  {
   "cell_type": "code",
   "execution_count": 46,
   "metadata": {},
   "outputs": [
    {
     "name": "stdout",
     "output_type": "stream",
     "text": [
      "IW3_VV_mst_26Aug2023\n",
      "IW3_VV_slv1_14Aug2023\n"
     ]
    }
   ],
   "source": [
    "from pathlib import Path\n",
    "paths = Path('/data/tmp/IW3_VV_26Aug2023_14Aug2023_slice_9_coreg.data/').glob('*.img')\n",
    "imgnames = set([p.stem[2:] for p in paths])\n",
    "for name in imgnames:\n",
    "    print(name)"
   ]
  },
  {
   "cell_type": "code",
   "execution_count": null,
   "metadata": {},
   "outputs": [],
   "source": [
    "df_sel = df_geo[df_geo.intersects(aoi.geometry[0])]\n",
    "unique_subswaths = df_sel['subswath'].unique()"
   ]
  },
  {
   "cell_type": "code",
   "execution_count": null,
   "metadata": {},
   "outputs": [],
   "source": [
    "wfl = Workflow(graph_path)\n",
    "wfl['Read'].parameters['file'] = infiles[0]\n",
    "wfl['Read(2)'].parameters['file'] = infiles[1]\n",
    "for subswath in unique_subswaths[:]:\n",
    "    print(f\"Subswath {subswath}, bursts {df_sel[df_sel['subswath']==subswath]['burst'].values}\")\n",
    "    wfl['TOPSAR-Split'].parameters['subswath'] = subswath\n",
    "    wfl['TOPSAR-Split(2)'].parameters['subswath'] = subswath\n",
    "    bursts = df_sel[df_sel['subswath']==subswath]['burst'].values\n",
    "    burst_min = bursts.min()\n",
    "    burst_max = bursts.max()\n",
    "    wfl['TOPSAR-Split'].parameters['firstBurstIndex'] = burst_min\n",
    "    wfl['TOPSAR-Split'].parameters['lastBurstIndex'] = burst_max\n",
    "    wfl['TOPSAR-Split(2)'].parameters['firstBurstIndex'] = burst_min\n",
    "    wfl['TOPSAR-Split(2)'].parameters['lastBurstIndex'] = burst_max\n",
    "    wfl['Write'].parameters['file'] = f\"{outdir}/{subswath}_COH_geo.tif\"\n",
    "    wfl.write('/tmp/graph.xml')\n",
    "    grp = groupbyWorkers('/tmp/graph.xml', n=1)\n",
    "    gpt('/tmp/graph.xml', groups=grp, tmpdir='/data/tmp/')\n",
    "\n",
    "    # remove dark edges\n",
    "    with rio.open(f\"{outdir}/{subswath}_COH_geo.tif\", 'r') as src:\n",
    "        prof = src.profile.copy()\n",
    "        print(prof)\n",
    "        prof.update({\"driver\": \"GTiff\",\n",
    "                \"nodata\": 0\n",
    "                 })\n",
    "        struct = np.ones((15,15))\n",
    "        with rio.open(f\"{outdir}/{subswath}_COH_geo_border.tif\", 'w', **prof) as dst:\n",
    "            for i in range(1, prof['count'] + 1):\n",
    "                band_src = src.read(i)\n",
    "                msk_src = band_src != 0\n",
    "                msk_dst = binary_erosion(msk_src, struct)\n",
    "                band_dst = band_src * msk_dst\n",
    "                dst.write(band_dst, i)"
   ]
  },
  {
   "cell_type": "code",
   "execution_count": null,
   "metadata": {},
   "outputs": [],
   "source": [
    "ds_iw2 = rio.open(f\"{outdir}/IW2_COH_geo_border.tif\")\n",
    "ds_iw3 = rio.open(f\"{outdir}/IW3_COH_geo_border.tif\")\n",
    "arr_merge, trans_merge = merge.merge([ds_iw2, ds_iw3])\n",
    "with rio.open(f\"{outdir}/IW2_COH_geo_border.tif\") as src:\n",
    "        out_meta = src.meta.copy()    \n",
    "out_meta.update({\n",
    "                 \"height\": arr_merge.shape[1],\n",
    "                 \"width\": arr_merge.shape[2],\n",
    "                 \"transform\": trans_merge,\n",
    "                 \"nodata\": 0\n",
    "                 })\n",
    "\n",
    "# crop without writing intermediate file\n",
    "with MemoryFile() as memfile:\n",
    "    with memfile.open(**out_meta) as mem:\n",
    "        # Populate the input file with numpy array\n",
    "        mem.write(arr_merge)\n",
    "        arr_crop, trans_crop = mask.mask(mem, [aoi.geometry[0]], crop=True)\n",
    "        prof_crop = mem.profile.copy() \n",
    "        prof_crop.update(\n",
    "                {\n",
    "                    \"transform\": trans_crop,\n",
    "                    \"width\": arr_crop.shape[2],\n",
    "                    \"height\": arr_crop.shape[1]\n",
    "                }\n",
    "             )\n",
    "\n",
    "# write as COG\n",
    "with MemoryFile() as memfile:\n",
    "    with memfile.open(**prof_crop) as mem:\n",
    "        mem.write(arr_crop)\n",
    "        dst_profile = cog_profiles.get(\"deflate\")\n",
    "        cog_translate(\n",
    "            mem,\n",
    "            f\"{outdir}/mergedRasters_masked.tif\",\n",
    "            dst_profile,\n",
    "            in_memory=True,\n",
    "            quiet=True,\n",
    "        )"
   ]
  },
  {
   "cell_type": "code",
   "execution_count": 24,
   "metadata": {},
   "outputs": [],
   "source": [
    "with rio.open(f\"{outdir}/IW2_COH_geo.tif\") as src:\n",
    "        out_meta = src.profile.copy()    \n",
    "        tags = src.tags(1).copy() "
   ]
  },
  {
   "cell_type": "code",
   "execution_count": 43,
   "metadata": {},
   "outputs": [],
   "source": []
  },
  {
   "cell_type": "code",
   "execution_count": 51,
   "metadata": {},
   "outputs": [
    {
     "name": "stdout",
     "output_type": "stream",
     "text": [
      "coh_IW1_VV_26Aug2023_14Aug2023_slnum_9\n"
     ]
    }
   ],
   "source": [
    "# output file name\n",
    "from datetime import datetime\n",
    "import calendar\n",
    "\n",
    "pol = 'VV'\n",
    "subswath = 'IW1'\n",
    "ids = identify_many(infiles)\n",
    "meta_mst = ids[0].scanMetadata()\n",
    "meta_slv = ids[1].scanMetadata()\n",
    "slnum = meta_mst['sliceNumber']\n",
    "orbnum = meta_mst['orbitNumber_rel']\n",
    "if meta_slv['sliceNumber'] != slnum:\n",
    "    raise ValueError('Images from two different slices')\n",
    "if meta_slv['orbitNumber_rel'] != orbnum:\n",
    "    raise ValueError('Images from two different orbits')\n",
    "datestr_mst = meta_mst['start']\n",
    "datestr_slv = meta_slv['start']\n",
    "date_mst = datetime.strptime(datestr_mst, \"%Y%m%dT%H%M%S\")\n",
    "date_slv = datetime.strptime(datestr_slv, \"%Y%m%dT%H%M%S\")\n",
    "calendar_mst = f'{date_mst.day}{calendar.month_abbr[date_mst.month]}{date_mst.year}'\n",
    "calendar_slv = f'{date_slv.day}{calendar.month_abbr[date_slv.month]}{date_slv.year}'\n",
    "out_name = f\"coh_{subswath}_{pol}_{calendar_mst}_{calendar_slv}_slnum_{slnum}\"\n",
    "# datetime('20230814T180526')\n",
    "print(out_name)"
   ]
  },
  {
   "cell_type": "code",
   "execution_count": 35,
   "metadata": {},
   "outputs": [],
   "source": [
    "tt = datetime.strptime('20230814T180526', \"%Y%m%dT%H%M%S\")"
   ]
  },
  {
   "cell_type": "code",
   "execution_count": 47,
   "metadata": {},
   "outputs": [],
   "source": [
    "from pyroSAR.snap.auxil import Par_BandMath\n",
    "Par_BandMath()"
   ]
  },
  {
   "cell_type": "code",
   "execution_count": 51,
   "metadata": {},
   "outputs": [
    {
     "data": {
      "text/plain": [
       "pyroSAR Node object 'BandMaths'"
      ]
     },
     "execution_count": 51,
     "metadata": {},
     "output_type": "execute_result"
    }
   ],
   "source": [
    "wfl_int = Workflow('../graph/MasterSlaveIntensity.xml')\n",
    "wfl_int['BandMaths'].parameters.add_equation()"
   ]
  },
  {
   "cell_type": "code",
   "execution_count": null,
   "metadata": {},
   "outputs": [],
   "source": []
  }
 ],
 "metadata": {
  "kernelspec": {
   "display_name": "Python 3",
   "language": "python",
   "name": "python3"
  },
  "language_info": {
   "codemirror_mode": {
    "name": "ipython",
    "version": 3
   },
   "file_extension": ".py",
   "mimetype": "text/x-python",
   "name": "python",
   "nbconvert_exporter": "python",
   "pygments_lexer": "ipython3",
   "version": "3.11.5"
  },
  "orig_nbformat": 4
 },
 "nbformat": 4,
 "nbformat_minor": 2
}
