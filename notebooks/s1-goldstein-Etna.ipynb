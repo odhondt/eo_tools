{
 "cells": [
  {
   "cell_type": "code",
   "execution_count": null,
   "metadata": {},
   "outputs": [],
   "source": [
    "%load_ext autoreload\n",
    "%autoreload 2\n",
    "import logging\n",
    "logging.basicConfig(level=logging.INFO)\n",
    "\n",
    "import geopandas as gpd\n",
    "from eodag import EODataAccessGateway\n",
    "import rioxarray as riox\n",
    "import folium\n",
    "from folium import LayerControl\n",
    "from eo_tools_dev.util import show_cog\n",
    "from eo_tools.S1.process import goldstein\n",
    "\n",
    "# credentials need to be stored in the following file (see EODAG docs)\n",
    "confpath = \"/data/eodag_config.yml\"\n",
    "dag = EODataAccessGateway(user_conf_file_path=confpath)\n",
    "# make sure cop_dataspace will be used \n",
    "dag.set_preferred_provider(\"cop_dataspace\")\n",
    "log = logging.getLogger(__name__)"
   ]
  },
  {
   "cell_type": "code",
   "execution_count": null,
   "metadata": {},
   "outputs": [],
   "source": [
    "# change to your custom locations\n",
    "data_dir = \"/data/S1\"\n",
    "\n",
    "ids = ['S1A_IW_SLC__1SDV_20181228T050448_20181228T050515_025221_02C9BE_1E22',\n",
    " 'S1B_IW_SLC__1SDV_20181222T050400_20181222T050427_014150_01A4AE_4A45']\n",
    "primary_path = f\"{data_dir}/{ids[0]}.zip\"\n",
    "secondary_path = f\"{data_dir}/{ids[1]}.zip\"\n",
    "output_dir=\"/data/res/goldstein-etna\""
   ]
  },
  {
   "cell_type": "markdown",
   "metadata": {},
   "source": [
    "## Download S-1 products"
   ]
  },
  {
   "cell_type": "code",
   "execution_count": null,
   "metadata": {},
   "outputs": [],
   "source": [
    "# load a geometry\n",
    "aoi_file = \"../data/Etna.geojson\"\n",
    "shp = gpd.read_file(aoi_file).geometry[0]\n",
    "\n",
    "search_criteria = {\n",
    "    \"productType\": \"S1_SAR_SLC\",\n",
    "    \"start\": \"2018-12-22\",\n",
    "    \"end\": \"2018-12-29\",\n",
    "    \"geom\": shp\n",
    "}\n",
    "\n",
    "results = dag.search(**search_criteria)\n",
    "to_dl = [it for it in results if it.properties[\"id\"] in ids]\n",
    "print(f\"{len(to_dl)} products to download\")\n",
    "dag.download_all(to_dl, output_dir=\"/data/S1/\", extract=False)"
   ]
  },
  {
   "cell_type": "markdown",
   "metadata": {},
   "source": [
    "## Pre-process InSAR pair"
   ]
  },
  {
   "cell_type": "code",
   "execution_count": null,
   "metadata": {},
   "outputs": [],
   "source": [
    "from eo_tools.S1.process import prepare_insar\n",
    "\n",
    "out_dir = prepare_insar(\n",
    "    prm_path=primary_path,\n",
    "    sec_path=secondary_path,\n",
    "    output_dir=output_dir,\n",
    "    aoi_name=None,\n",
    "    shp=shp,\n",
    "    pol=\"vv\",\n",
    "    subswaths=[\"IW1\", \"IW2\", \"IW3\"],\n",
    "    cal_type=\"beta\",\n",
    "    apply_fast_esd=True,\n",
    "    dem_upsampling=1.8,\n",
    "    dem_buffer_arc_sec=40,\n",
    "    warp_kernel=\"bicubic\",\n",
    ")"
   ]
  },
  {
   "cell_type": "markdown",
   "metadata": {},
   "source": [
    "## Apply processing chains: interferogram and Goldstein filter "
   ]
  },
  {
   "cell_type": "code",
   "execution_count": null,
   "metadata": {},
   "outputs": [],
   "source": [
    "from pathlib import Path\n",
    "out_dir = list(Path.glob(Path(output_dir), 'S1*'))[0] / 'sar'"
   ]
  },
  {
   "cell_type": "code",
   "execution_count": null,
   "metadata": {},
   "outputs": [],
   "source": [
    "from eo_tools.S1.process import interferogram\n",
    "from eo_tools.S1.process import apply_to_patterns_for_pair, apply_to_patterns_for_single\n",
    "from pathlib import Path\n",
    "geo_dir = Path(out_dir).parent\n",
    "\n",
    "# compute interferograms\n",
    "apply_to_patterns_for_pair(\n",
    "    interferogram,\n",
    "    out_dir=out_dir,\n",
    "    prm_file_prefix=\"slc_prm\",\n",
    "    sec_file_prefix=\"slc_sec\",\n",
    "    out_file_prefix=\"ifg0\",\n",
    "    multilook=[1,4]\n",
    ")\n",
    "\n",
    "# apply Goldstein filter\n",
    "apply_to_patterns_for_single(\n",
    "    goldstein,\n",
    "    out_dir=out_dir,\n",
    "    in_file_prefix=\"ifg0\",\n",
    "    out_file_prefix=\"ifg\",\n",
    "    alpha=0.7,\n",
    ")"
   ]
  },
  {
   "cell_type": "markdown",
   "metadata": {},
   "source": [
    "## Apply geocoding, merge and crop subswaths"
   ]
  },
  {
   "cell_type": "code",
   "execution_count": null,
   "metadata": {},
   "outputs": [],
   "source": [
    "from eo_tools.S1.process import geocode_and_merge_iw\n",
    "from pathlib import Path\n",
    "out_dir = list(Path.glob(Path(output_dir), 'S1*'))[0] / 'sar'\n",
    "geo_dir = Path(out_dir).parent\n",
    "geocode_and_merge_iw(geo_dir, shp=shp, var_names=[\"ifg0\", \"ifg\"], clip_to_shape=True)"
   ]
  },
  {
   "cell_type": "markdown",
   "metadata": {},
   "source": [
    "## Visualize\n",
    "Compare the filtered version with the orginal one.  \n",
    "Click on top right icon to hide/show layers.  \n"
   ]
  },
  {
   "cell_type": "code",
   "execution_count": null,
   "metadata": {},
   "outputs": [],
   "source": [
    "from eo_tools_dev.util import palette_phi\n",
    "m = folium.Map()\n",
    "_ = show_cog(f\"{geo_dir}/phi0_vv.tif\", m, rescale=\"-3.14,3.14\", colormap=palette_phi())\n",
    "_ = show_cog(f\"{geo_dir}/phi_vv.tif\", m, rescale=\"-3.14,3.14\", colormap=palette_phi(), resample=\"nearest\")\n",
    "LayerControl().add_to(m)\n",
    "m"
   ]
  }
 ],
 "metadata": {
  "kernelspec": {
   "display_name": "Python 3",
   "language": "python",
   "name": "python3"
  },
  "language_info": {
   "codemirror_mode": {
    "name": "ipython",
    "version": 3
   },
   "file_extension": ".py",
   "mimetype": "text/x-python",
   "name": "python",
   "nbconvert_exporter": "python",
   "pygments_lexer": "ipython3",
   "version": "3.12.8"
  }
 },
 "nbformat": 4,
 "nbformat_minor": 2
}
