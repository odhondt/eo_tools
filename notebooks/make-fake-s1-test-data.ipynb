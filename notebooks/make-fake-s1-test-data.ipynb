{
 "cells": [
  {
   "cell_type": "code",
   "execution_count": null,
   "metadata": {},
   "outputs": [],
   "source": [
    "%load_ext autoreload\n",
    "%autoreload 2\n",
    "import logging\n",
    "import matplotlib.pyplot as plt\n",
    "import numpy as np\n",
    "import rasterio\n",
    "import os\n",
    "from eo_tools.S1.core import S1IWSwath\n",
    "from pathlib import Path\n",
    "from glob import glob\n",
    "import shutil"
   ]
  },
  {
   "cell_type": "markdown",
   "metadata": {},
   "source": [
    "The goal of this notebook is to create \"fake\" Sentinel-1 SLC (that have only zeroes in raster data but valid metadata) from real products.\n",
    "\n",
    "This is very useful to run sanity tests on processing functions."
   ]
  },
  {
   "cell_type": "code",
   "execution_count": null,
   "metadata": {},
   "outputs": [],
   "source": [
    "# change to your custom locations\n",
    "data_dir = \"/data/S1\"\n",
    "out_dir = \"/data/res/s1-test-data\"\n",
    "\n",
    "ids = [\n",
    " \"S1A_IW_SLC__1SDV_20230904T063730_20230904T063757_050174_0609E3_DAA1\", \n",
    " \"S1A_IW_SLC__1SDV_20230916T063730_20230916T063757_050349_060FCD_6814\"\n",
    "]\n",
    "\n",
    "in_dirs = [f\"{data_dir}/{id_}.SAFE\" for id_ in ids] \n",
    "out_dirs = [f\"{out_dir}/{id_}.SAFE\" for id_ in ids] \n",
    "\n",
    "\n",
    "print(in_dirs, out_dirs)\n",
    "\n",
    "# copy everything but tiffs\n",
    "patterns = shutil.ignore_patterns(\"*.tiff\")\n",
    "for src, dst in zip(in_dirs, out_dirs):\n",
    "    shutil.copytree(src, dst,  ignore=patterns) # dirs_exist_ok=True,)"
   ]
  },
  {
   "cell_type": "code",
   "execution_count": 69,
   "metadata": {},
   "outputs": [
    {
     "name": "stdout",
     "output_type": "stream",
     "text": [
      "Creating zero raster for vv polarization of subswath 1 of product S1A_IW_SLC__1SDV_20230904T063730_20230904T063757_050174_0609E3_DAA1\n"
     ]
    },
    {
     "name": "stderr",
     "output_type": "stream",
     "text": [
      "/root/micromamba/envs/eo_tools/lib/python3.12/site-packages/rasterio/__init__.py:314: NotGeoreferencedWarning: The given matrix is equal to Affine.identity or its flipped counterpart. GDAL may ignore this matrix and save no geotransform without raising an error. This behavior is somewhat driver-specific.\n",
      "  dataset = writer(\n"
     ]
    },
    {
     "name": "stdout",
     "output_type": "stream",
     "text": [
      "Creating zero raster for vv polarization of subswath 2 of product S1A_IW_SLC__1SDV_20230904T063730_20230904T063757_050174_0609E3_DAA1\n"
     ]
    },
    {
     "name": "stderr",
     "output_type": "stream",
     "text": [
      "/root/micromamba/envs/eo_tools/lib/python3.12/site-packages/rasterio/__init__.py:314: NotGeoreferencedWarning: The given matrix is equal to Affine.identity or its flipped counterpart. GDAL may ignore this matrix and save no geotransform without raising an error. This behavior is somewhat driver-specific.\n",
      "  dataset = writer(\n"
     ]
    },
    {
     "name": "stdout",
     "output_type": "stream",
     "text": [
      "Creating zero raster for vv polarization of subswath 3 of product S1A_IW_SLC__1SDV_20230904T063730_20230904T063757_050174_0609E3_DAA1\n"
     ]
    },
    {
     "name": "stderr",
     "output_type": "stream",
     "text": [
      "/root/micromamba/envs/eo_tools/lib/python3.12/site-packages/rasterio/__init__.py:314: NotGeoreferencedWarning: The given matrix is equal to Affine.identity or its flipped counterpart. GDAL may ignore this matrix and save no geotransform without raising an error. This behavior is somewhat driver-specific.\n",
      "  dataset = writer(\n"
     ]
    },
    {
     "name": "stdout",
     "output_type": "stream",
     "text": [
      "Creating zero raster for vh polarization of subswath 1 of product S1A_IW_SLC__1SDV_20230904T063730_20230904T063757_050174_0609E3_DAA1\n"
     ]
    },
    {
     "name": "stderr",
     "output_type": "stream",
     "text": [
      "/root/micromamba/envs/eo_tools/lib/python3.12/site-packages/rasterio/__init__.py:314: NotGeoreferencedWarning: The given matrix is equal to Affine.identity or its flipped counterpart. GDAL may ignore this matrix and save no geotransform without raising an error. This behavior is somewhat driver-specific.\n",
      "  dataset = writer(\n"
     ]
    },
    {
     "name": "stdout",
     "output_type": "stream",
     "text": [
      "Creating zero raster for vh polarization of subswath 2 of product S1A_IW_SLC__1SDV_20230904T063730_20230904T063757_050174_0609E3_DAA1\n"
     ]
    },
    {
     "name": "stderr",
     "output_type": "stream",
     "text": [
      "/root/micromamba/envs/eo_tools/lib/python3.12/site-packages/rasterio/__init__.py:314: NotGeoreferencedWarning: The given matrix is equal to Affine.identity or its flipped counterpart. GDAL may ignore this matrix and save no geotransform without raising an error. This behavior is somewhat driver-specific.\n",
      "  dataset = writer(\n"
     ]
    },
    {
     "name": "stdout",
     "output_type": "stream",
     "text": [
      "Creating zero raster for vh polarization of subswath 3 of product S1A_IW_SLC__1SDV_20230904T063730_20230904T063757_050174_0609E3_DAA1\n"
     ]
    },
    {
     "name": "stderr",
     "output_type": "stream",
     "text": [
      "/root/micromamba/envs/eo_tools/lib/python3.12/site-packages/rasterio/__init__.py:314: NotGeoreferencedWarning: The given matrix is equal to Affine.identity or its flipped counterpart. GDAL may ignore this matrix and save no geotransform without raising an error. This behavior is somewhat driver-specific.\n",
      "  dataset = writer(\n"
     ]
    },
    {
     "name": "stdout",
     "output_type": "stream",
     "text": [
      "Creating zero raster for vv polarization of subswath 1 of product S1A_IW_SLC__1SDV_20230916T063730_20230916T063757_050349_060FCD_6814\n"
     ]
    },
    {
     "name": "stderr",
     "output_type": "stream",
     "text": [
      "/root/micromamba/envs/eo_tools/lib/python3.12/site-packages/rasterio/__init__.py:314: NotGeoreferencedWarning: The given matrix is equal to Affine.identity or its flipped counterpart. GDAL may ignore this matrix and save no geotransform without raising an error. This behavior is somewhat driver-specific.\n",
      "  dataset = writer(\n"
     ]
    },
    {
     "name": "stdout",
     "output_type": "stream",
     "text": [
      "Creating zero raster for vv polarization of subswath 2 of product S1A_IW_SLC__1SDV_20230916T063730_20230916T063757_050349_060FCD_6814\n"
     ]
    },
    {
     "name": "stderr",
     "output_type": "stream",
     "text": [
      "/root/micromamba/envs/eo_tools/lib/python3.12/site-packages/rasterio/__init__.py:314: NotGeoreferencedWarning: The given matrix is equal to Affine.identity or its flipped counterpart. GDAL may ignore this matrix and save no geotransform without raising an error. This behavior is somewhat driver-specific.\n",
      "  dataset = writer(\n"
     ]
    },
    {
     "name": "stdout",
     "output_type": "stream",
     "text": [
      "Creating zero raster for vv polarization of subswath 3 of product S1A_IW_SLC__1SDV_20230916T063730_20230916T063757_050349_060FCD_6814\n"
     ]
    },
    {
     "name": "stderr",
     "output_type": "stream",
     "text": [
      "/root/micromamba/envs/eo_tools/lib/python3.12/site-packages/rasterio/__init__.py:314: NotGeoreferencedWarning: The given matrix is equal to Affine.identity or its flipped counterpart. GDAL may ignore this matrix and save no geotransform without raising an error. This behavior is somewhat driver-specific.\n",
      "  dataset = writer(\n"
     ]
    },
    {
     "name": "stdout",
     "output_type": "stream",
     "text": [
      "Creating zero raster for vh polarization of subswath 1 of product S1A_IW_SLC__1SDV_20230916T063730_20230916T063757_050349_060FCD_6814\n"
     ]
    },
    {
     "name": "stderr",
     "output_type": "stream",
     "text": [
      "/root/micromamba/envs/eo_tools/lib/python3.12/site-packages/rasterio/__init__.py:314: NotGeoreferencedWarning: The given matrix is equal to Affine.identity or its flipped counterpart. GDAL may ignore this matrix and save no geotransform without raising an error. This behavior is somewhat driver-specific.\n",
      "  dataset = writer(\n"
     ]
    },
    {
     "name": "stdout",
     "output_type": "stream",
     "text": [
      "Creating zero raster for vh polarization of subswath 2 of product S1A_IW_SLC__1SDV_20230916T063730_20230916T063757_050349_060FCD_6814\n"
     ]
    },
    {
     "name": "stderr",
     "output_type": "stream",
     "text": [
      "/root/micromamba/envs/eo_tools/lib/python3.12/site-packages/rasterio/__init__.py:314: NotGeoreferencedWarning: The given matrix is equal to Affine.identity or its flipped counterpart. GDAL may ignore this matrix and save no geotransform without raising an error. This behavior is somewhat driver-specific.\n",
      "  dataset = writer(\n"
     ]
    },
    {
     "name": "stdout",
     "output_type": "stream",
     "text": [
      "Creating zero raster for vh polarization of subswath 3 of product S1A_IW_SLC__1SDV_20230916T063730_20230916T063757_050349_060FCD_6814\n"
     ]
    },
    {
     "name": "stderr",
     "output_type": "stream",
     "text": [
      "/root/micromamba/envs/eo_tools/lib/python3.12/site-packages/rasterio/__init__.py:314: NotGeoreferencedWarning: The given matrix is equal to Affine.identity or its flipped counterpart. GDAL may ignore this matrix and save no geotransform without raising an error. This behavior is somewhat driver-specific.\n",
      "  dataset = writer(\n"
     ]
    }
   ],
   "source": [
    "# TODO: for with zip(prm, sec), for pol, for iw\n",
    "in_dir = in_dirs[0]\n",
    "out_dir = out_dirs[1]\n",
    "\n",
    "pol = \"vv\"\n",
    "iw = 1\n",
    "\n",
    "for in_dir, out_dir in zip(in_dirs, out_dirs):\n",
    "    for pol in [\"vv\", \"vh\"]:\n",
    "        for iw in [1, 2, 3]:\n",
    "            print(\n",
    "                f\"Creating zero raster for {pol} polarization of subswath {iw} of product {Path(in_dir).stem}\"\n",
    "            )\n",
    "            swath = S1IWSwath(in_dir, iw=iw, pol=pol)\n",
    "\n",
    "            with rasterio.open(swath.pth_tiff) as src:\n",
    "                prof = src.profile.copy()\n",
    "\n",
    "            prof.update({\"compress\": \"zstd\"})\n",
    "            with rasterio.open(\n",
    "                f\"{out_dir}/measurement/{swath.pth_tiff.name}\", \"w\", **prof\n",
    "            ) as dst:\n",
    "                arr = np.zeros(\n",
    "                    (prof[\"count\"], prof[\"height\"], prof[\"width\"]), dtype=np.complex64\n",
    "                )\n",
    "                dst.write(arr)"
   ]
  },
  {
   "cell_type": "code",
   "execution_count": null,
   "metadata": {},
   "outputs": [],
   "source": []
  },
  {
   "cell_type": "code",
   "execution_count": null,
   "metadata": {},
   "outputs": [],
   "source": []
  },
  {
   "cell_type": "code",
   "execution_count": null,
   "metadata": {},
   "outputs": [],
   "source": []
  }
 ],
 "metadata": {
  "kernelspec": {
   "display_name": "Python 3",
   "language": "python",
   "name": "python3"
  },
  "language_info": {
   "codemirror_mode": {
    "name": "ipython",
    "version": 3
   },
   "file_extension": ".py",
   "mimetype": "text/x-python",
   "name": "python",
   "nbconvert_exporter": "python",
   "pygments_lexer": "ipython3",
   "version": "3.12.4"
  }
 },
 "nbformat": 4,
 "nbformat_minor": 2
}
