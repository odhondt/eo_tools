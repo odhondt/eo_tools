{
 "cells": [
  {
   "cell_type": "code",
   "execution_count": null,
   "metadata": {},
   "outputs": [],
   "source": [
    "%load_ext autoreload\n",
    "%autoreload 2\n",
    "from eo_tools.S1.core import S1IWSwath\n",
    "from eo_tools.S1.core import load_dem_coords, lla_to_ecef\n",
    "\n",
    "from eo_tools_dev.util import show_insar_phi\n",
    "\n",
    "from eo_tools.S1.util import presum\n",
    "import numpy as np\n",
    "import os\n",
    "import matplotlib.pyplot as plt\n",
    "\n",
    "import logging\n",
    "logging.basicConfig(level=logging.INFO)\n",
    "log = logging.getLogger(__name__)"
   ]
  },
  {
   "cell_type": "markdown",
   "metadata": {},
   "source": [
    "# Parameter setup"
   ]
  },
  {
   "cell_type": "code",
   "execution_count": null,
   "metadata": {},
   "outputs": [],
   "source": [
    "# change with directory containing your S1 products\n",
    "data_dir = \"/data/S1\"\n",
    "# change with directory containing the results\n",
    "out_dir = \"/data/res/test-rtc\"\n",
    "if not os.path.isdir(out_dir):\n",
    "    os.mkdir(out_dir)\n",
    "\n",
    "# replace with already downloaded and unzipped products (see the other notebooks to download such products)\n",
    "primary_dir = f\"{data_dir}/S1A_IW_SLC__1SDV_20230904T063730_20230904T063757_050174_0609E3_DAA1.zip\"\n",
    "secondary_dir = f\"{data_dir}/S1A_IW_SLC__1SDV_20230916T063730_20230916T063757_050349_060FCD_6814.zip\"\n",
    "\n",
    "# subswath to process\n",
    "iw = 1\n",
    "# polarization\n",
    "pol = \"vv\"\n",
    "# DEM upsampling\n",
    "up = 1.8\n",
    "\n",
    "min_burst = 4\n",
    "max_burst = 5"
   ]
  },
  {
   "cell_type": "markdown",
   "metadata": {},
   "source": [
    "# Process individual bursts"
   ]
  },
  {
   "cell_type": "code",
   "execution_count": null,
   "metadata": {},
   "outputs": [],
   "source": [
    "slc = []\n",
    "lut = []\n",
    "dems = []\n",
    "sigma_ts = []\n",
    "\n",
    "prm = S1IWSwath(primary_dir, iw=iw, pol=pol)\n",
    "sec = S1IWSwath(secondary_dir, iw=iw, pol=pol)\n",
    "overlap = np.round(prm.compute_burst_overlap(2)).astype(int)\n",
    "\n",
    "for burst_idx in range(min_burst, max_burst + 1):\n",
    "    # log.info(f\"---- Processing burst {burst_idx} ----\")\n",
    "\n",
    "    # compute geocoding LUTs for master and slave bursts\n",
    "    file_dem = prm.fetch_dem_burst(burst_idx, dir_dem=\"/data/tmp\", force_download=False)\n",
    "    az_p2g, rg_p2g, _, sigma_t = prm.geocode_burst(\n",
    "        file_dem, burst_idx=burst_idx, dem_upsampling=up\n",
    "    )\n",
    "\n",
    "    # read primary and secondary burst raster\n",
    "    arr_p = prm.read_burst(burst_idx, True)\n",
    "    \n",
    "    dem_coords = load_dem_coords(file_dem=file_dem, upscale_factor=up)\n",
    "    dem_x, dem_y, dem_z = lla_to_ecef(dem_coords[0], dem_coords[1], dem_coords[2], None)\n",
    "    # arr_p *= sigma_t\n",
    "\n",
    "    # radiometric calibration \n",
    "    cal_p = prm.calibration_factor(burst_idx, cal_type=\"beta\")\n",
    "    arr_p /= cal_p\n",
    "\n",
    "    slc.append(np.abs(arr_p))\n",
    "    sigma_ts.append(sigma_t)\n",
    "    lut.append((az_p2g, rg_p2g))\n",
    "    dems.append(file_dem)\n",
    "\n",
    "# import matplotlib.pyplot as plt\n",
    "# plt.figure(figsize=(10, 10))\n",
    "# plt.imshow(np.log(sigma_t[:,::4].clip(1e-8)), interpolation=\"bilinear\", vmin = -5, vmax=0)\n",
    "# plt.colorbar(fraction=0.046, pad=0.04)"
   ]
  },
  {
   "cell_type": "markdown",
   "metadata": {},
   "source": [
    "# Stitch bursts in a single image"
   ]
  },
  {
   "cell_type": "code",
   "execution_count": null,
   "metadata": {},
   "outputs": [],
   "source": [
    "from eo_tools.S1.core import stitch_bursts\n",
    "img = stitch_bursts(slc, overlap)\n",
    "sim = stitch_bursts(sigma_ts, overlap)"
   ]
  },
  {
   "cell_type": "code",
   "execution_count": null,
   "metadata": {},
   "outputs": [],
   "source": [
    "import matplotlib.pyplot as plt\n",
    "plt.figure(figsize=(10, 10))\n",
    "plt.imshow(sim[:,::4][2000:,:1000], interpolation=\"bilinear\", vmin=1, vmax=5, cmap=\"viridis\")\n",
    "# plt.imshow(sim[:,::4].clip(0, 1), interpolation=\"none\")#, vmin=0, vmax=100)\n",
    "# plt.imshow(sim[:,::4].clip(0, 200), interpolation=\"none\")#, vmin=0, vmax=100)\n",
    "plt.colorbar()"
   ]
  },
  {
   "cell_type": "code",
   "execution_count": null,
   "metadata": {},
   "outputs": [],
   "source": [
    "plt.figure(figsize=(10, 10))\n",
    "plt.imshow(img[:,::4], interpolation=\"bilinear\", vmin = 0, vmax=1)"
   ]
  },
  {
   "cell_type": "code",
   "execution_count": null,
   "metadata": {},
   "outputs": [],
   "source": [
    "import matplotlib.pyplot as plt\n",
    "plt.figure(figsize=(10, 10))\n",
    "plt.imshow(abs(img)[:,::4], interpolation=\"bilinear\", vmax=1)\n",
    "# plt.colorbar(fraction=0.046, pad=0.04)"
   ]
  },
  {
   "cell_type": "code",
   "execution_count": null,
   "metadata": {},
   "outputs": [],
   "source": [
    "import matplotlib.pyplot as plt\n",
    "plt.figure(figsize=(10, 10))\n",
    "plt.imshow((abs(img)*sim.clip(1e-10))[:,::4], interpolation=\"bilinear\", cmap=\"gray\", vmin=0, vmax=1)\n",
    "plt.title(\"Terrain compensated\")\n",
    "plt.axis('off')\n",
    "# plt.colorbar(fraction=0.03, pad=0.04)\n",
    "plt.figure(figsize=(10, 10))\n",
    "plt.imshow(np.abs(img[:,::4]), interpolation=\"bilinear\", cmap=\"gray\", vmin=0, vmax=1)\n",
    "plt.title(\"Original\")\n",
    "plt.axis('off')\n",
    "\n",
    "plt.figure(figsize=(10, 10))\n",
    "plt.imshow(sim[:,::4].clip(1e-10), interpolation=\"bilinear\", cmap=\"gray\", vmin=0, vmax=5)\n",
    "plt.axis('off')\n",
    "# plt.colorbar(fraction=0.01, pad=0.04)"
   ]
  },
  {
   "cell_type": "markdown",
   "metadata": {},
   "source": [
    "# Reproject and merge complex interferograms"
   ]
  },
  {
   "cell_type": "code",
   "execution_count": null,
   "metadata": {},
   "outputs": [],
   "source": [
    "from eo_tools.S1.core import resample\n",
    "import rioxarray as riox\n",
    "from rioxarray.merge import merge_arrays\n",
    "from eo_tools.auxils import remove\n",
    "\n",
    "mlt_az = 1\n",
    "mlt_rg = 4\n",
    "\n",
    "off = 0\n",
    "H = int(overlap / 2)\n",
    "img0 = img.copy()\n",
    "img0[sim>0] /= sim[sim>0]\n",
    "phi_out = presum(img0, mlt_az, mlt_rg).clip(1e-8,1)\n",
    "naz = sigma_ts[0].shape[0]\n",
    "list_ifg = []\n",
    "files_to_remove = []\n",
    "for i in range(min_burst, max_burst + 1):\n",
    "    log.info(f\"Resample burst {i}\")\n",
    "    az_mst, rg_mst = lut[i - min_burst]\n",
    "    file_dem = dems[i - min_burst]\n",
    "    cnd = (az_mst >= H - 4) & (az_mst < naz - H + 4)\n",
    "    az_mst2 = az_mst.copy()\n",
    "    rg_mst2 = rg_mst.copy()\n",
    "    az_mst2[~cnd] = np.nan\n",
    "    rg_mst2[~cnd] = np.nan\n",
    "\n",
    "    file_ifg = f\"{out_dir}/remap_burst_{i}_ifg.tif\"\n",
    "    files_to_remove.append(file_ifg)\n",
    "\n",
    "    if i == min_burst:\n",
    "        off2 = off\n",
    "    else:\n",
    "        off2 = off - H\n",
    "    resample(\n",
    "        phi_out,\n",
    "        file_dem,\n",
    "        file_ifg,\n",
    "        (az_mst2 + off2) / mlt_az,\n",
    "        (rg_mst2) / mlt_rg,\n",
    "        kernel=\"bicubic\",\n",
    "    )\n",
    "    if i == min_burst:\n",
    "        off += naz - H\n",
    "    else:\n",
    "        off += naz - 2 * H\n",
    "\n",
    "    list_ifg.append(riox.open_rasterio(file_ifg))\n",
    "\n",
    "merged_ifg = merge_arrays(list_ifg)\n",
    "# merged_ifg = merge_arrays(list_ifg, nodata=0, method=\"last\")\n",
    "merged_ifg.rio.to_raster(f\"{out_dir}/merged_img.tif\")\n",
    "print(files_to_remove)\n",
    "for fname in files_to_remove:\n",
    "    remove(fname)"
   ]
  },
  {
   "cell_type": "code",
   "execution_count": null,
   "metadata": {},
   "outputs": [],
   "source": [
    "# ds = riox.open_rasterio('/data/res/test-rtc/remap_burst_5_ifg.tif')\n",
    "ds = riox.open_rasterio('/data/res/test-rtc/merged_img.tif', masked=True)\n",
    "# ds[0].plot.imshow(vmin=0, vmax=1)\n",
    "ds[0].plot.imshow()"
   ]
  },
  {
   "cell_type": "markdown",
   "metadata": {},
   "source": [
    "# Compute phase"
   ]
  },
  {
   "cell_type": "code",
   "execution_count": null,
   "metadata": {},
   "outputs": [],
   "source": [
    "import xarray as xr\n",
    "# Finite no data value for TiTiler\n",
    "nodata = -9999\n",
    "# avoid metadata being lost in arithmetic opetations\n",
    "xr.set_options(keep_attrs=True)\n",
    "ifg = riox.open_rasterio(f\"{out_dir}/merged_ifg.tif\")\n",
    "phi = np.arctan2(ifg[1], ifg[0])\n",
    "phi = phi.fillna(nodata)\n",
    "phi.attrs[\"_FillValue\"] = nodata\n",
    "phi.rio.to_raster(f\"{out_dir}/merged_phi.tif\", nodata=nodata)"
   ]
  },
  {
   "cell_type": "markdown",
   "metadata": {},
   "source": [
    "# Visualize"
   ]
  },
  {
   "cell_type": "code",
   "execution_count": null,
   "metadata": {},
   "outputs": [],
   "source": [
    "show_insar_phi(f\"{out_dir}/merged_phi.tif\")"
   ]
  }
 ],
 "metadata": {
  "kernelspec": {
   "display_name": "Python 3",
   "language": "python",
   "name": "python3"
  },
  "language_info": {
   "codemirror_mode": {
    "name": "ipython",
    "version": 3
   },
   "file_extension": ".py",
   "mimetype": "text/x-python",
   "name": "python",
   "nbconvert_exporter": "python",
   "pygments_lexer": "ipython3",
   "version": "3.12.7"
  }
 },
 "nbformat": 4,
 "nbformat_minor": 2
}
