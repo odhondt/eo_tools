{
 "cells": [
  {
   "cell_type": "code",
   "execution_count": null,
   "metadata": {},
   "outputs": [],
   "source": [
    "# !pip install osm2geojson"
   ]
  },
  {
   "cell_type": "code",
   "execution_count": null,
   "metadata": {},
   "outputs": [],
   "source": [
    "%load_ext autoreload\n",
    "%autoreload 2\n",
    "\n",
    "\n",
    "import requests\n",
    "import json\n",
    "import geopandas as gpd\n",
    "import folium.plugins\n",
    "import logging\n",
    "from eo_tools.util import explore_products\n",
    "from osm2geojson import json2geojson\n",
    "\n",
    "from eodag import EODataAccessGateway\n",
    "confpath = \"/data/eodag_config.yml\"\n",
    "dag = EODataAccessGateway(user_conf_file_path=confpath)\n",
    "# make sure cop_dataspace will be used \n",
    "dag.set_preferred_provider(\"cop_dataspace\")\n",
    "logging.basicConfig(level=logging.INFO)\n",
    "from shapely.geometry import box\n"
   ]
  },
  {
   "cell_type": "code",
   "execution_count": null,
   "metadata": {},
   "outputs": [],
   "source": [
    "\n",
    "# Define the Overpass API endpoint\n",
    "overpass_url = \"http://overpass-api.de/api/interpreter\"\n",
    "\n",
    "# Define the Overpass QL query\n",
    "overpass_query = \"\"\"\n",
    "[out:json];\n",
    "area[\"ISO3166-1\"=\"FR\"]->.countryArea;\n",
    "relation[\"boundary\"=\"administrative\"][\"admin_level\"=\"4\"](area.countryArea);\n",
    "out body;\n",
    ">;\n",
    "out skel qt;\n",
    "\"\"\"\n",
    "\n",
    "# Make a request to the Overpass API\n",
    "response = requests.post(overpass_url, data={'data': overpass_query})\n",
    "\n",
    "# Check if the request was successful\n",
    "if response.status_code == 200:\n",
    "    # Parse the JSON response\n",
    "    data = response.json()\n",
    "    \n",
    "    # Optional: Pretty print the JSON response\n",
    "    # print(json.dumps(data, indent=2))\n",
    "else:\n",
    "    print(f\"Error: {response.status_code}\")"
   ]
  },
  {
   "cell_type": "code",
   "execution_count": null,
   "metadata": {},
   "outputs": [],
   "source": [
    "gj = json2geojson(data)\n",
    "gdf = gpd.GeoDataFrame.from_features(gj)"
   ]
  },
  {
   "cell_type": "code",
   "execution_count": null,
   "metadata": {},
   "outputs": [],
   "source": [
    "# TODO: cleaner way\n",
    "aoi_bretagne = gdf[gdf['id']==102740].geometry[6]"
   ]
  },
  {
   "cell_type": "code",
   "execution_count": null,
   "metadata": {},
   "outputs": [],
   "source": [
    "# load a geometry\n",
    "file_aoi = \"../data/Morocco_AOI.geojson\"\n",
    "shp = gpd.read_file(file_aoi).geometry[0]\n",
    "shp = box(*aoi_bretagne.bounds)\n",
    "search_criteria = {\n",
    "    # \"productType\": \"S2_MSI_L1C\",\n",
    "    \"productType\": \"S1_SAR_SLC\",\n",
    "    \"start\": \"2024-04-01\",\n",
    "    \"end\": \"2024-04-16\",\n",
    "    \"geom\": shp\n",
    "}\n",
    "results = dag.search_all(**search_criteria)"
   ]
  },
  {
   "cell_type": "code",
   "execution_count": null,
   "metadata": {},
   "outputs": [],
   "source": [
    "explore_products(results, aoi_bretagne)"
   ]
  },
  {
   "cell_type": "code",
   "execution_count": null,
   "metadata": {},
   "outputs": [],
   "source": [
    "# dag.download_all(results[16:17], outputs_prefix=\"/data/S1/\", extract=True)\n",
    "dir_slc = '/data/S1/S1A_IW_SLC__1SDV_20240410T180524_20240410T180551_053375_067920_A0F7/S1A_IW_SLC__1SDV_20240410T180524_20240410T180551_053375_067920_A0F7.SAFE'"
   ]
  },
  {
   "cell_type": "code",
   "execution_count": null,
   "metadata": {},
   "outputs": [],
   "source": [
    "from eo_tools.S1.process_single import process_slc\n",
    "\n",
    "process_slc(\n",
    "    dir_prm=dir_slc,\n",
    "    outputs_prefix=\"/data/res/test-slc-proc\",\n",
    "    shp=aoi_bretagne,\n",
    "    pol=\"vv\",\n",
    "    skip_preprocessing=True\n",
    ")"
   ]
  },
  {
   "cell_type": "code",
   "execution_count": null,
   "metadata": {},
   "outputs": [],
   "source": [
    "dir_out = '/data/res/test-slc-proc/S1_2024-04-10-180524'"
   ]
  },
  {
   "cell_type": "code",
   "execution_count": null,
   "metadata": {},
   "outputs": [],
   "source": [
    "from eo_tools_dev.util import show_sar_int, show_cog\n",
    "# show_sar_int(f\"{dir_out}/amp_prm_vv.tif\")\n",
    "show_cog(f\"{dir_out}/amp_prm_vv.tif\", rescale=\"0,1\", resampling=\"cubic\", expression=\"log(b1+1)\")"
   ]
  },
  {
   "cell_type": "code",
   "execution_count": null,
   "metadata": {},
   "outputs": [],
   "source": []
  }
 ],
 "metadata": {
  "kernelspec": {
   "display_name": "Python 3",
   "language": "python",
   "name": "python3"
  },
  "language_info": {
   "codemirror_mode": {
    "name": "ipython",
    "version": 3
   },
   "file_extension": ".py",
   "mimetype": "text/x-python",
   "name": "python",
   "nbconvert_exporter": "python",
   "pygments_lexer": "ipython3",
   "version": "3.12.5"
  },
  "orig_nbformat": 4
 },
 "nbformat": 4,
 "nbformat_minor": 2
}
