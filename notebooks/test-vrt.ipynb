{
 "cells": [
  {
   "cell_type": "code",
   "execution_count": null,
   "metadata": {},
   "outputs": [],
   "source": [
    "import numpy as np\n",
    "import rasterio\n",
    "from osgeo import gdal"
   ]
  },
  {
   "cell_type": "code",
   "execution_count": null,
   "metadata": {},
   "outputs": [],
   "source": [
    "from skimage.data import cat \n",
    "import matplotlib.pyplot as plt\n",
    "\n",
    "arr = cat().mean(2)\n",
    "\n",
    "path_in = \"/data/test.tif\"\n",
    "path_out = \"/data/test.vrt\"\n",
    "\n",
    "with rasterio.open(path_in, \"w\", width=1024, height=768, count=1, dtype=\"float32\") as ds:\n",
    "    ds.write(arr, 1)\n",
    "\n",
    "gdal.Translate(destName=path_out, srcDS=path_in, format=\"VRT\", srcWin=[200,200,500,100])\n",
    "\n",
    "\n",
    "with rasterio.open(path_out) as ds:\n",
    "    arr2 = ds.read(1)\n",
    "\n",
    "plt.imshow(arr2)\n"
   ]
  }
 ],
 "metadata": {
  "kernelspec": {
   "display_name": "Python 3",
   "language": "python",
   "name": "python3"
  },
  "language_info": {
   "codemirror_mode": {
    "name": "ipython",
    "version": 3
   },
   "file_extension": ".py",
   "mimetype": "text/x-python",
   "name": "python",
   "nbconvert_exporter": "python",
   "pygments_lexer": "ipython3",
   "version": "3.12.4"
  }
 },
 "nbformat": 4,
 "nbformat_minor": 2
}
