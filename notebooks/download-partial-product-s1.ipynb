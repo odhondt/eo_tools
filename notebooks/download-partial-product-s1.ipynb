{
 "cells": [
  {
   "cell_type": "code",
   "execution_count": null,
   "id": "e7d848ad",
   "metadata": {},
   "outputs": [],
   "source": [
    "%load_ext autoreload\n",
    "%autoreload 2\n",
    "from eo_tools.S1.download import download_partial_products, search_products\n",
    "from eo_tools.util import explore_products\n",
    "from eo_tools_dev.util import serve_map\n",
    "from pystac_client.client import Client\n",
    "import geopandas as gpd\n",
    "import json\n",
    "\n",
    "import logging\n",
    "logging.basicConfig(level=logging.INFO)\n",
    "log = logging.getLogger(__name__)"
   ]
  },
  {
   "cell_type": "code",
   "execution_count": null,
   "id": "364db0da",
   "metadata": {},
   "outputs": [],
   "source": [
    "data_dir = \"/data/S1/partial_dls/\"\n",
    "out_dir = \"/data/res/test_insar_partial/\"\n",
    "# use the creds created on CDSE website\n",
    "with open(\"/data/creds_s3.json\") as f:\n",
    "    cred = json.load(f)"
   ]
  },
  {
   "cell_type": "markdown",
   "id": "b49594b8",
   "metadata": {},
   "source": [
    "## Search products with STAC API"
   ]
  },
  {
   "cell_type": "code",
   "execution_count": null,
   "id": "f7f7606d",
   "metadata": {},
   "outputs": [],
   "source": [
    "# Search using STAC api\n",
    "catalog = Client.open(\"https://stac.dataspace.copernicus.eu/v1/\")\n",
    "aoi_file = \"../data/Nyamuragira.geojson\"\n",
    "shp = gpd.read_file(aoi_file).geometry[0]\n",
    "\n",
    "search_args = dict(\n",
    "    collections=[\"sentinel-1-slc\"],\n",
    "    intersects=shp,\n",
    "    datetime=[\"2025-01-04\", \"2025-10-09\"],\n",
    ")\n",
    "products = search_products(**search_args)"
   ]
  },
  {
   "cell_type": "code",
   "execution_count": null,
   "id": "90c747ba",
   "metadata": {},
   "outputs": [],
   "source": [
    "# m = explore_products(products=products, aoi=shp)\n",
    "# serve_map(m)"
   ]
  },
  {
   "cell_type": "code",
   "execution_count": null,
   "id": "6cccb9de",
   "metadata": {},
   "outputs": [],
   "source": [
    "# selecting recent pair\n",
    "sel = products[products.relativeOrbitNumber == 174].iloc[[1, 4]]\n",
    "ids = sel.id.values\n",
    "print(sel.id.values)"
   ]
  },
  {
   "cell_type": "code",
   "execution_count": null,
   "id": "8916a499",
   "metadata": {},
   "outputs": [],
   "source": [
    "download_partial_products(sel, shp, out_dir=data_dir ,aws_key=cred[\"username\"], aws_secret=cred[\"password\"])"
   ]
  }
 ],
 "metadata": {
  "kernelspec": {
   "display_name": "eo_tools",
   "language": "python",
   "name": "python3"
  },
  "language_info": {
   "codemirror_mode": {
    "name": "ipython",
    "version": 3
   },
   "file_extension": ".py",
   "mimetype": "text/x-python",
   "name": "python",
   "nbconvert_exporter": "python",
   "pygments_lexer": "ipython3",
   "version": "3.12.11"
  }
 },
 "nbformat": 4,
 "nbformat_minor": 5
}
