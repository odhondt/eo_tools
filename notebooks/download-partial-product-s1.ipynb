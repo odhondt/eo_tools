{
 "cells": [
  {
   "cell_type": "code",
   "execution_count": 2,
   "id": "e7d848ad",
   "metadata": {},
   "outputs": [],
   "source": [
    "%load_ext autoreload\n",
    "%autoreload 2\n",
    "from eo_tools.S1.download import download_partial_products, search_products\n",
    "from eo_tools.util import explore_products\n",
    "from eo_tools_dev.util import serve_map\n",
    "from pystac_client.client import Client\n",
    "import geopandas as gpd\n",
    "import json"
   ]
  },
  {
   "cell_type": "code",
   "execution_count": 3,
   "id": "364db0da",
   "metadata": {},
   "outputs": [],
   "source": [
    "out_dir = \"/data/res/test_partial_product/\"\n",
    "# use the creds created on CDSE website\n",
    "with open(\"/data/creds_s3.json\") as f:\n",
    "    cred = json.load(f)"
   ]
  },
  {
   "cell_type": "markdown",
   "id": "b49594b8",
   "metadata": {},
   "source": [
    "## Search products with STAC API"
   ]
  },
  {
   "cell_type": "code",
   "execution_count": 4,
   "id": "f7f7606d",
   "metadata": {},
   "outputs": [],
   "source": [
    "ids = [\n",
    "    \"S1A_IW_SLC__1SDV_20230904T063730_20230904T063757_050174_0609E3_DAA1\",\n",
    "    \"S1A_IW_SLC__1SDV_20230916T063730_20230916T063757_050349_060FCD_6814\",\n",
    "]\n",
    "\n",
    "\n",
    "# Search using STAC api\n",
    "catalog = Client.open(\"https://stac.dataspace.copernicus.eu/v1/\")\n",
    "aoi_file = \"../data/Morocco_AOI.geojson\"\n",
    "shp = gpd.read_file(aoi_file).geometry[0]\n",
    "# search = catalog.search(collections=[\"sentinel-1-slc\"], intersects=shp, datetime=[\"2023-09-03\", \"2023-09-16\"])#, ids=ids)\n",
    "# search = catalog.search(collections=[\"sentinel-1-slc\"], intersects=shp, max_items=2)\n",
    "\n",
    "search_args = dict(\n",
    "    collections=[\"sentinel-1-slc\"],\n",
    "    intersects=shp,\n",
    "    datetime=[\"2025-09-03\", \"2025-09-16\"],\n",
    ")\n",
    "gdf = search_products(**search_args)\n",
    "\n",
    "\n",
    "# items = list(search.items())"
   ]
  },
  {
   "cell_type": "code",
   "execution_count": 6,
   "id": "90c747ba",
   "metadata": {},
   "outputs": [
    {
     "name": "stdout",
     "output_type": "stream",
     "text": [
      "Serving map on http://localhost:8000/tmprymdmhqd.html\n"
     ]
    },
    {
     "name": "stderr",
     "output_type": "stream",
     "text": [
      "127.0.0.1 - - [08/Oct/2025 14:43:52] \"GET /tmprymdmhqd.html HTTP/1.1\" 200 -\n",
      "127.0.0.1 - - [08/Oct/2025 14:43:53] code 404, message File not found\n",
      "127.0.0.1 - - [08/Oct/2025 14:43:53] \"GET /favicon.ico HTTP/1.1\" 404 -\n"
     ]
    },
    {
     "name": "stdout",
     "output_type": "stream",
     "text": [
      "\n",
      "Server stopped by user.\n",
      "Temporary file deleted and server closed.\n"
     ]
    }
   ],
   "source": [
    "m = explore_products(gdf, shp)\n",
    "serve_map(m)"
   ]
  },
  {
   "cell_type": "code",
   "execution_count": null,
   "id": "6cccb9de",
   "metadata": {},
   "outputs": [],
   "source": [
    "gdf"
   ]
  },
  {
   "cell_type": "code",
   "execution_count": null,
   "id": "90ede0f1",
   "metadata": {},
   "outputs": [],
   "source": [
    "item=list(search.items())[0]"
   ]
  },
  {
   "cell_type": "code",
   "execution_count": null,
   "id": "ef5f8f95",
   "metadata": {},
   "outputs": [],
   "source": [
    "from datetime import datetime\n",
    "\n",
    "datetime.fromisoformat(item.properties[\"start_datetime\"])"
   ]
  },
  {
   "cell_type": "code",
   "execution_count": null,
   "id": "53584aba",
   "metadata": {},
   "outputs": [],
   "source": [
    "datetime.fromtimestamp"
   ]
  }
 ],
 "metadata": {
  "kernelspec": {
   "display_name": "eo_tools",
   "language": "python",
   "name": "python3"
  },
  "language_info": {
   "codemirror_mode": {
    "name": "ipython",
    "version": 3
   },
   "file_extension": ".py",
   "mimetype": "text/x-python",
   "name": "python",
   "nbconvert_exporter": "python",
   "pygments_lexer": "ipython3",
   "version": "3.12.11"
  }
 },
 "nbformat": 4,
 "nbformat_minor": 5
}
