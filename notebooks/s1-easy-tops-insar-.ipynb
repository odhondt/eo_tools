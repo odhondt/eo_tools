{
 "cells": [
  {
   "cell_type": "code",
   "execution_count": null,
   "metadata": {},
   "outputs": [],
   "source": [
    "%load_ext autoreload\n",
    "%autoreload 2\n",
    "import matplotlib.pyplot as plt\n",
    "from eo_tools.util import show_cog\n",
    "import logging\n",
    "logging.basicConfig(level=logging.INFO)\n",
    "import matplotlib.pyplot as plt\n",
    "\n",
    "# import numpy as np\n",
    "# from folium import LayerControl"
   ]
  },
  {
   "cell_type": "code",
   "execution_count": null,
   "metadata": {},
   "outputs": [],
   "source": [
    "data_dir = \"/data/S1\"\n",
    "primary_dir = f\"{data_dir}/S1A_IW_SLC__1SDV_20230903T183344_20230903T183412_050167_0609B4_100E.SAFE\"\n",
    "secondary_dir = f\"{data_dir}/S1A_IW_SLC__1SDV_20230915T183345_20230915T183413_050342_060F9F_85A4.SAFE\"\n",
    "# out_dir = f\"/data/res/test_new_proc\"\n",
    "out_dir = f\"/data/res/test_param_valid\"\n",
    "iw = 2\n",
    "pol = \"vv\"\n",
    "min_burst = 1\n",
    "max_burst = None"
   ]
  },
  {
   "cell_type": "code",
   "execution_count": null,
   "metadata": {},
   "outputs": [],
   "source": [
    "from eo_tools.S1.process import preprocess_insar_iw\n",
    "\n",
    "preprocess_insar_iw(\n",
    "    primary_dir,\n",
    "    secondary_dir,\n",
    "    out_dir,\n",
    "    iw=iw,\n",
    "    pol=pol,\n",
    "    min_burst=min_burst,\n",
    "    max_burst=max_burst,\n",
    ")"
   ]
  },
  {
   "cell_type": "code",
   "execution_count": null,
   "metadata": {},
   "outputs": [],
   "source": [
    "from eo_tools.S1.process import slc2geo, interferogram, coherence, amplitude\n",
    "file_prm = f\"{out_dir}/primary.tif\"\n",
    "file_sec = f\"{out_dir}/secondary.tif\"\n",
    "file_ifg = f\"{out_dir}/ifg.tif\"\n",
    "file_amp = f\"{out_dir}/amp.tif\"\n",
    "file_coh = f\"{out_dir}/coh.tif\"\n",
    "file_phi_geo = f\"{out_dir}/phi_geo.tif\"\n",
    "file_amp_geo = f\"{out_dir}/amp_geo.tif\"\n",
    "file_coh_geo = f\"{out_dir}/coh_geo.tif\"\n",
    "file_lut = f\"{out_dir}/lut.tif\"\n",
    "# computing outputs in the radar geometry\n",
    "interferogram(file_prm, file_sec, file_ifg)\n",
    "coherence(file_prm, file_sec, file_coh, box_size=5, magnitude=True)\n",
    "amplitude(file_prm, file_amp)\n",
    "\n",
    "# multilooking and geocoding\n",
    "slc2geo(file_ifg, file_lut, file_phi_geo, 2, 8, 3, True)\n",
    "slc2geo(file_coh, file_lut, file_coh_geo, 2, 8, 3, False)\n",
    "slc2geo(file_amp, file_lut, file_amp_geo, 2, 8, 3, False, True)"
   ]
  },
  {
   "cell_type": "code",
   "execution_count": null,
   "metadata": {},
   "outputs": [],
   "source": [
    "# import folium\n",
    "# m = Map()\n",
    "# tile = folium.TileLayer(\n",
    "#         tiles = 'https://server.arcgisonline.com/ArcGIS/rest/services/World_Imagery/MapServer/tile/{z}/{y}/{x}',\n",
    "#         attr = 'Esri',\n",
    "#         name = 'Esri Satellite',\n",
    "#         overlay = False,\n",
    "#         control = True\n",
    "#        ).add_to(m)\n",
    "\n",
    "# # hack: avoid titiler caching the tiles\n",
    "# scale_phi = np.pi + np.random.rand() * 1e-6\n",
    "# rnd_coh = np.random.rand() * 1e-6\n",
    "\n",
    "# show_cog(\"/data/res/test_merge_coh2.tif\", m,rescale=f\"0,{1+rnd_coh}\")\n",
    "# show_cog(\"/data/res/test_merge_phi2.tif\", m,rescale=f\"-{scale_phi}, {scale_phi}\",colormap=palette_phi())\n",
    "# LayerControl().add_to(m)\n",
    "# m"
   ]
  }
 ],
 "metadata": {
  "kernelspec": {
   "display_name": "Python 3",
   "language": "python",
   "name": "python3"
  },
  "language_info": {
   "codemirror_mode": {
    "name": "ipython",
    "version": 3
   },
   "file_extension": ".py",
   "mimetype": "text/x-python",
   "name": "python",
   "nbconvert_exporter": "python",
   "pygments_lexer": "ipython3",
   "version": "3.12.3"
  }
 },
 "nbformat": 4,
 "nbformat_minor": 2
}
