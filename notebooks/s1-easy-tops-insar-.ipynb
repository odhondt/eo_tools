{
 "cells": [
  {
   "cell_type": "code",
   "execution_count": null,
   "metadata": {},
   "outputs": [],
   "source": [
    "%load_ext autoreload\n",
    "%autoreload 2\n",
    "import matplotlib.pyplot as plt\n",
    "from eo_tools.S1.core import S1IWSwath, align, coregister\n",
    "from eo_tools.S1.util import presum, boxcar\n",
    "from eo_tools.util import show_cog\n",
    "import numpy as np\n",
    "import logging\n",
    "logging.basicConfig(level=logging.INFO)\n",
    "import matplotlib.pyplot as plt\n",
    "import numpy as np\n",
    "import rasterio\n",
    "\n",
    "from folium import LayerControl\n",
    "# import xarray as xr\n",
    "\n",
    "import logging\n",
    "\n",
    "log = logging.getLogger(__name__)"
   ]
  },
  {
   "cell_type": "code",
   "execution_count": null,
   "metadata": {},
   "outputs": [],
   "source": [
    "data_dir = \"/data/S1\"\n",
    "primary_dir = f\"{data_dir}/S1A_IW_SLC__1SDV_20230903T183344_20230903T183412_050167_0609B4_100E.SAFE\"\n",
    "secondary_dir = f\"{data_dir}/S1A_IW_SLC__1SDV_20230915T183345_20230915T183413_050342_060F9F_85A4.SAFE\"\n",
    "out_dir = f\"/data/res/test_new_proc\"\n",
    "iw = 1\n",
    "pol = \"vv\"\n",
    "up = 2\n",
    "\n",
    "burst_min = 1\n",
    "burst_max = 2"
   ]
  },
  {
   "cell_type": "code",
   "execution_count": null,
   "metadata": {},
   "outputs": [],
   "source": [
    "# import rasterio\n",
    "# with rasterio.open(\"/data/res/test_new_proc/primary.tif\") as ds:\n",
    "#     img = ds.read(1)\n",
    "# with rasterio.open(\"/data/res/test_new_proc/secondary.tif\") as ds:\n",
    "#     img2 = ds.read(1)\n",
    "\n",
    "# plt.figure(figsize=(10, 10))\n",
    "# plt.imshow(np.angle(img*img2.conj())[:,::8].T, interpolation=\"none\", vmax = 1)\n",
    "# plt.colorbar(fraction=0.046, pad=0.04)"
   ]
  },
  {
   "cell_type": "code",
   "execution_count": null,
   "metadata": {},
   "outputs": [],
   "source": [
    "from eo_tools.S1.process import preprocess_insar_iw\n",
    "preprocess_insar_iw(primary_dir, secondary_dir, out_dir, burst_min, burst_max)"
   ]
  },
  {
   "cell_type": "code",
   "execution_count": null,
   "metadata": {},
   "outputs": [],
   "source": [
    "from eo_tools.S1.process import slc2geo, interferogram, coherence\n",
    "file_prm = f\"{out_dir}/primary.tif\"\n",
    "file_sec = f\"{out_dir}/secondary.tif\"\n",
    "file_ifg = f\"{out_dir}/ifg_rdr.tif\"\n",
    "file_phi = f\"{out_dir}/phi_geo.tif\"\n",
    "file_coh_r = f\"{out_dir}/coh_rdr.tif\"\n",
    "file_coh = f\"{out_dir}/coh_geo.tif\"\n",
    "file_lut = f\"{out_dir}/lut.tif\"\n",
    "interferogram(file_prm, file_sec, file_ifg)\n",
    "coherence(file_prm, file_sec, file_coh_r, box_size=5, magnitude=True)\n",
    "slc2geo(file_ifg, file_lut, file_phi, 2, 8, 3, True)\n",
    "slc2geo(file_coh_r, file_lut, file_coh, 2, 8, 3, False)"
   ]
  },
  {
   "cell_type": "code",
   "execution_count": null,
   "metadata": {},
   "outputs": [],
   "source": [
    "import xarray as xr\n",
    "coh = xr.open_dataset(file_coh, engine=\"rasterio\")\n",
    "plt.figure(figsize=(10, 10))\n",
    "plt.imshow(coh[\"band_data\"][0], interpolation=\"none\")\n",
    "plt.colorbar(fraction=0.046, pad=0.04)"
   ]
  },
  {
   "cell_type": "code",
   "execution_count": null,
   "metadata": {},
   "outputs": [],
   "source": [
    "import xarray as xr\n",
    "phi = xr.open_dataset(file_phi, engine=\"rasterio\")\n",
    "plt.figure(figsize=(10, 10))\n",
    "plt.imshow(phi[\"band_data\"][0], interpolation=\"none\")\n",
    "plt.colorbar(fraction=0.046, pad=0.04)"
   ]
  },
  {
   "cell_type": "code",
   "execution_count": null,
   "metadata": {},
   "outputs": [],
   "source": [
    "# import folium\n",
    "# m = Map()\n",
    "# tile = folium.TileLayer(\n",
    "#         tiles = 'https://server.arcgisonline.com/ArcGIS/rest/services/World_Imagery/MapServer/tile/{z}/{y}/{x}',\n",
    "#         attr = 'Esri',\n",
    "#         name = 'Esri Satellite',\n",
    "#         overlay = False,\n",
    "#         control = True\n",
    "#        ).add_to(m)\n",
    "\n",
    "# # hack: avoid titiler caching the tiles\n",
    "# scale_phi = np.pi + np.random.rand() * 1e-6\n",
    "# rnd_coh = np.random.rand() * 1e-6\n",
    "\n",
    "# show_cog(\"/data/res/test_merge_coh2.tif\", m,rescale=f\"0,{1+rnd_coh}\")\n",
    "# show_cog(\"/data/res/test_merge_phi2.tif\", m,rescale=f\"-{scale_phi}, {scale_phi}\",colormap=palette_phi())\n",
    "# LayerControl().add_to(m)\n",
    "m"
   ]
  }
 ],
 "metadata": {
  "kernelspec": {
   "display_name": "Python 3",
   "language": "python",
   "name": "python3"
  },
  "language_info": {
   "codemirror_mode": {
    "name": "ipython",
    "version": 3
   },
   "file_extension": ".py",
   "mimetype": "text/x-python",
   "name": "python",
   "nbconvert_exporter": "python",
   "pygments_lexer": "ipython3",
   "version": "3.12.3"
  }
 },
 "nbformat": 4,
 "nbformat_minor": 2
}
