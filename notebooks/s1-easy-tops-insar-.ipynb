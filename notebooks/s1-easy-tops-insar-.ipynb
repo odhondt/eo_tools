{
 "cells": [
  {
   "cell_type": "code",
   "execution_count": null,
   "metadata": {},
   "outputs": [],
   "source": [
    "%load_ext autoreload\n",
    "%autoreload 2\n",
    "import matplotlib.pyplot as plt\n",
    "from eo_tools.S1.core import S1IWSwath, align, coregister\n",
    "from eo_tools.S1.util import presum, boxcar\n",
    "from eo_tools.util import show_cog\n",
    "import numpy as np\n",
    "import logging\n",
    "logging.basicConfig(level=logging.INFO)\n",
    "import matplotlib.pyplot as plt\n",
    "import numpy as np\n",
    "import rasterio\n",
    "\n",
    "from folium import LayerControl\n",
    "# import xarray as xr\n",
    "\n",
    "import logging\n",
    "\n",
    "log = logging.getLogger(__name__)"
   ]
  },
  {
   "cell_type": "code",
   "execution_count": null,
   "metadata": {},
   "outputs": [],
   "source": [
    "data_dir = \"/data/S1\"\n",
    "primary_dir = f\"{data_dir}/S1A_IW_SLC__1SDV_20230903T183344_20230903T183412_050167_0609B4_100E.SAFE\"\n",
    "secondary_dir = f\"{data_dir}/S1A_IW_SLC__1SDV_20230915T183345_20230915T183413_050342_060F9F_85A4.SAFE\"\n",
    "out_dir = f\"/data/res/test_new_proc\"\n",
    "iw = 1\n",
    "pol = \"vv\"\n",
    "up = 2\n",
    "\n",
    "burst_min = 1\n",
    "burst_max = 2"
   ]
  },
  {
   "cell_type": "code",
   "execution_count": null,
   "metadata": {},
   "outputs": [],
   "source": [
    "# import rasterio\n",
    "# with rasterio.open(\"/data/res/test_new_proc/primary.tif\") as ds:\n",
    "#     img = ds.read(1)\n",
    "# with rasterio.open(\"/data/res/test_new_proc/secondary.tif\") as ds:\n",
    "#     img2 = ds.read(1)\n",
    "\n",
    "# plt.figure(figsize=(10, 10))\n",
    "# plt.imshow(np.angle(img*img2.conj())[:,::8].T, interpolation=\"none\", vmax = 1)\n",
    "# plt.colorbar(fraction=0.046, pad=0.04)"
   ]
  },
  {
   "cell_type": "code",
   "execution_count": null,
   "metadata": {},
   "outputs": [],
   "source": [
    "from eo_tools.S1.process import preprocess_insar_iw\n",
    "preprocess_insar_iw(primary_dir, secondary_dir, out_dir, burst_min, burst_max)"
   ]
  },
  {
   "cell_type": "code",
   "execution_count": null,
   "metadata": {},
   "outputs": [],
   "source": [
    "from eo_tools.S1.process import slc2geo, interferogram, coherence\n",
    "file_prm = f\"{out_dir}/primary.tif\"\n",
    "file_sec = f\"{out_dir}/secondary.tif\"\n",
    "file_ifg = f\"{out_dir}/ifg_rdr.tif\"\n",
    "file_phi = f\"{out_dir}/phi_geo.tif\"\n",
    "file_coh_r = f\"{out_dir}/coh_rdr.tif\"\n",
    "file_coh = f\"{out_dir}/coh_geo.tif\"\n",
    "file_lut = f\"{out_dir}/lut.tif\"\n",
    "interferogram(file_prm, file_sec, file_ifg)\n",
    "coherence(file_prm, file_sec, file_coh_r, box_size=5, magnitude=True)\n",
    "slc2geo(file_ifg, file_lut, file_phi, 2, 8, 3, True)\n",
    "slc2geo(file_coh_r, file_lut, file_coh, 2, 8, 3, False)"
   ]
  },
  {
   "cell_type": "code",
   "execution_count": null,
   "metadata": {},
   "outputs": [],
   "source": [
    "import xarray as xr\n",
    "coh = xr.open_dataset(file_coh, engine=\"rasterio\")\n",
    "plt.figure(figsize=(10, 10))\n",
    "plt.imshow(coh[\"band_data\"][0], interpolation=\"none\")\n",
    "plt.colorbar(fraction=0.046, pad=0.04)"
   ]
  },
  {
   "cell_type": "code",
   "execution_count": null,
   "metadata": {},
   "outputs": [],
   "source": [
    "import xarray as xr\n",
    "phi = xr.open_dataset(file_phi, engine=\"rasterio\")\n",
    "plt.figure(figsize=(10, 10))\n",
    "plt.imshow(phi[\"band_data\"][0], interpolation=\"none\")\n",
    "plt.colorbar(fraction=0.046, pad=0.04)"
   ]
  },
  {
   "cell_type": "code",
   "execution_count": null,
   "metadata": {},
   "outputs": [],
   "source": [
    "def make_da_from_dem(arr, file_dem):\n",
    "\n",
    "    from rasterio.enums import Resampling\n",
    "\n",
    "    dem_ds = xr.open_dataset(file_dem, engine=\"rasterio\")\n",
    "    # new_width = dem_ds.rio.width * up\n",
    "    # new_height = dem_ds.rio.height * up\n",
    "    new_width = arr.shape[1]\n",
    "    new_height = arr.shape[0]\n",
    "\n",
    "    # upsample dem\n",
    "    dem_up_ds = dem_ds.rio.reproject(\n",
    "        dem_ds.rio.crs,\n",
    "        shape=(int(new_height), int(new_width)),\n",
    "        resampling=Resampling.bilinear,\n",
    "    )\n",
    "    da = xr.DataArray(\n",
    "        data=arr[None],\n",
    "        coords=dem_up_ds.coords,\n",
    "        dims=(\"band\", \"y\", \"x\"),\n",
    "        attrs=dem_up_ds.attrs,\n",
    "    )\n",
    "    da.attrs['_FillValue'] = np.nan\n",
    "    return da"
   ]
  },
  {
   "cell_type": "code",
   "execution_count": null,
   "metadata": {},
   "outputs": [],
   "source": [
    "# da = make_da_from_dem(az_p2g, file_dem, 2)\n",
    "# dem_ds.spatial_ref.GeoTransform, "
   ]
  },
  {
   "cell_type": "code",
   "execution_count": null,
   "metadata": {},
   "outputs": [],
   "source": [
    "prm = S1IWSwath(master_dir, iw=iw, pol=pol)\n",
    "sec = S1IWSwath(slave_dir, iw=iw, pol=pol)\n",
    "overlap = np.round(prm.compute_burst_overlap(2)).astype(int)\n",
    "\n",
    "lut_az = []\n",
    "lut_rg = []\n",
    "\n",
    "for burst_idx in range(1, 3):\n",
    "    log.info(f\"---- Processing burst {burst_idx} ----\")\n",
    "\n",
    "    # compute geocoding LUTs for master and slave bursts\n",
    "    file_dem = prm.fetch_dem_burst(burst_idx, dir_dem=\"/data/tmp\", force_download=False)\n",
    "    az_p2g, rg_p2g, _ = prm.geocode_burst(\n",
    "        file_dem, burst_idx=burst_idx, dem_upsampling=up\n",
    "    )\n",
    "    az_s2g, rg_s2g, _ = sec.geocode_burst(\n",
    "        file_dem, burst_idx=burst_idx, dem_upsampling=up\n",
    "    )\n",
    "\n",
    "    nl, nc = az_p2g.shape\n",
    "\n",
    "    # read primary and secondary burst raster\n",
    "    arr_p = prm.read_burst(burst_idx, True)\n",
    "    arr_s = sec.read_burst(burst_idx, True)\n",
    "\n",
    "    # deramp secondary\n",
    "    pdb_s = sec.deramp_burst(burst_idx)\n",
    "    arr_s_de = arr_s * np.exp(1j * pdb_s).astype(np.complex64)\n",
    "\n",
    "    # project slave LUT into master grid\n",
    "    az_s2p, rg_s2p = coregister(arr_p, az_p2g, rg_p2g, az_s2g, rg_s2g)\n",
    "\n",
    "    # warp raster slave and deramping phase\n",
    "    arr_s2p = align(arr_p, arr_s_de, az_s2p, rg_s2p, order=3)\n",
    "    pdb_s2p = align(arr_p, pdb_s, az_s2p, rg_s2p, order=3)\n",
    "\n",
    "    # reramp slave\n",
    "    arr_s2p = arr_s2p * np.exp(-1j * pdb_s2p).astype(np.complex64)\n",
    "\n",
    "    # compute topographic phases\n",
    "    rg_p = np.zeros(arr_s.shape[0])[:, None] + np.arange(0, arr_s.shape[1])\n",
    "    pht_p = prm.phi_topo(rg_p).reshape(*arr_p.shape)\n",
    "    pht_s = sec.phi_topo(rg_s2p.ravel()).reshape(*arr_p.shape)\n",
    "    pha_topo = np.exp(-1j * (pht_p - pht_s)).astype(np.complex64)\n",
    "\n",
    "    az_da = make_da_from_dem(az_p2g, file_dem)\n",
    "    rg_da = make_da_from_dem(rg_p2g, file_dem)\n",
    "    lut_az.append(az_da)\n",
    "    lut_rg.append(rg_da)\n",
    "\n",
    "    arr_s2p = arr_s2p * pha_topo\n",
    "\n",
    "\n",
    "# required:\n",
    "# slc stack made of all arr_p and arr_s2p\n",
    "\n",
    "# interferogram without topographic phase\n",
    "# ifg = (arr_s2p * arr_p.conj() * pha_topo).conj()\n",
    "\n",
    "# normalize complex coherences\n",
    "# pows = avg_ampl(arr_p, boxsiz) * avg_ampl(arr_s2p, boxsiz)\n",
    "# ifgs.append(boxcar(np.nan_to_num(ifg), boxsiz, boxsiz) / pows)\n",
    "# lut.append((az_p2g, rg_p2g))\n",
    "# dems.append(file_dem)"
   ]
  },
  {
   "cell_type": "code",
   "execution_count": null,
   "metadata": {},
   "outputs": [],
   "source": [
    "# from eo_tools.S1_dev import fast_esd\n",
    "# fast_esd(ifgs, overlap)"
   ]
  },
  {
   "cell_type": "code",
   "execution_count": null,
   "metadata": {},
   "outputs": [],
   "source": [
    "# from eo_tools.S1_dev import stitch_bursts\n",
    "# img = stitch_bursts(ifgs, overlap)"
   ]
  },
  {
   "cell_type": "code",
   "execution_count": null,
   "metadata": {},
   "outputs": [],
   "source": [
    "from eo_tools.S1.core import resample\n",
    "from eo_tools.util import palette_phi\n",
    "from folium import Map\n",
    "import rioxarray as riox\n",
    "from rioxarray.merge import merge_arrays\n",
    "# xr.set_options(keep_attrs=True)\n",
    "\n",
    "def merge_luts(luts_az, luts_rg):\n",
    "    off = 0\n",
    "    H = int(overlap / 2)\n",
    "    # phi_out = presum(np.nan_to_num(img), 2, 8)\n",
    "    naz = prm.lines_per_burst\n",
    "    to_merge_az = []\n",
    "    to_merge_rg = []\n",
    "    for i in range(len(lut_az)):\n",
    "        az_mst, rg_mst = luts_az[i].copy(), luts_rg[i].copy()\n",
    "        cnd = (az_mst >= H - 4) & (az_mst < naz - H + 4)\n",
    "        az_mst.data[~cnd] = np.nan\n",
    "        rg_mst.data[~cnd] = np.nan\n",
    "\n",
    "        # does the job but not very elegant\n",
    "        if i == 0:\n",
    "            off2 = off\n",
    "        else:\n",
    "            off2 = off - H\n",
    "        az_mst = az_mst + off2\n",
    "        if i == 0:\n",
    "            off += naz - H\n",
    "        else:\n",
    "            off += naz - 2 * H\n",
    "        to_merge_az.append(az_mst)\n",
    "        to_merge_rg.append(rg_mst)\n",
    "\n",
    "    merged_az = merge_arrays(to_merge_az)\n",
    "    merged_rg = merge_arrays(to_merge_rg)\n",
    "    merged_az.rio.to_raster(\"/data/res/test_merge_az.tif\")\n",
    "    merged_rg.rio.to_raster(\"/data/res/test_merge_rg.tif\")"
   ]
  },
  {
   "cell_type": "code",
   "execution_count": null,
   "metadata": {},
   "outputs": [],
   "source": [
    "# lut_az[0].rio.to_raster(\"/data/res/test_georef_az.tif\")"
   ]
  },
  {
   "cell_type": "code",
   "execution_count": null,
   "metadata": {},
   "outputs": [],
   "source": [
    "# plt.figure(figsize=(10, 10))\n",
    "# plt.imshow(az_mst[0], interpolation=\"none\")\n",
    "# plt.colorbar(fraction=0.046, pad=0.04)"
   ]
  },
  {
   "cell_type": "code",
   "execution_count": null,
   "metadata": {},
   "outputs": [],
   "source": [
    "import folium\n",
    "m = Map()\n",
    "tile = folium.TileLayer(\n",
    "        tiles = 'https://server.arcgisonline.com/ArcGIS/rest/services/World_Imagery/MapServer/tile/{z}/{y}/{x}',\n",
    "        attr = 'Esri',\n",
    "        name = 'Esri Satellite',\n",
    "        overlay = False,\n",
    "        control = True\n",
    "       ).add_to(m)\n",
    "\n",
    "# hack: avoid titiler caching the tiles\n",
    "rnd = np.random.rand() * 1e-6\n",
    "\n",
    "show_cog(\"/data/res/test_merge_az.tif\", m,rescale=f\"0,{3002+rnd}\")\n",
    "LayerControl().add_to(m)\n",
    "m"
   ]
  },
  {
   "cell_type": "code",
   "execution_count": null,
   "metadata": {},
   "outputs": [],
   "source": [
    "from eo_tools.S1_dev import resample\n",
    "from eo_tools.util import palette_phi\n",
    "from folium import Map\n",
    "import rioxarray as riox\n",
    "from rioxarray.merge import merge_arrays\n",
    "\n",
    "off = 0\n",
    "H = int(overlap / 2)\n",
    "phi_out = presum(np.nan_to_num(img), 2, 8)\n",
    "naz = ifgs[0].shape[0]\n",
    "list_ifg = []\n",
    "for i in range(len(ifgs)):\n",
    "    az_mst, rg_mst = lut[i]\n",
    "    file_dem = dems[i]\n",
    "    cnd = (az_mst >= H - 4) & (az_mst < naz - H + 4)\n",
    "    az_mst2 = az_mst.copy()\n",
    "    rg_mst2 = rg_mst.copy()\n",
    "    az_mst2[~cnd] = np.nan\n",
    "    rg_mst2[~cnd] = np.nan\n",
    "\n",
    "    file_ifg = f\"/data/res/test_remap_burst_{i}_ifg.tif\"\n",
    "\n",
    "    # does the job but not very elegant\n",
    "    if i == 0:\n",
    "        off2 = off\n",
    "    else:\n",
    "        off2 = off - H\n",
    "    resample(\n",
    "        phi_out,\n",
    "        file_dem,\n",
    "        file_ifg,\n",
    "        (az_mst2 + off2) / 2,\n",
    "        (rg_mst2) / 8,\n",
    "        order=3,\n",
    "    )\n",
    "    if i == 0:\n",
    "        off += naz - H\n",
    "    else:\n",
    "        off += naz - 2 * H\n",
    "\n",
    "    list_ifg.append(riox.open_rasterio(file_ifg))\n",
    "\n",
    "merged_ifg = merge_arrays(list_ifg)\n",
    "merged_ifg.rio.to_raster(\"/data/res/test_merge_ifg.tif\")"
   ]
  },
  {
   "cell_type": "code",
   "execution_count": null,
   "metadata": {},
   "outputs": [],
   "source": [
    "# compute phase and coherence\n",
    "\n",
    "# avoid metadata being lost in arithmetic opetations\n",
    "xr.set_options(keep_attrs=True)\n",
    "ifg = riox.open_rasterio(\"/data/res/test_merge_ifg.tif\")\n",
    "phi = np.arctan2(ifg[1], ifg[0])\n",
    "img = np.sum(np.square(ifg),0)\n",
    "phi.rio.to_raster(\"/data/res/test_merge_phi2.tif\", nodata=0)\n",
    "img.rio.to_raster(\"/data/res/test_merge_coh2.tif\", nodata=0)"
   ]
  },
  {
   "cell_type": "code",
   "execution_count": null,
   "metadata": {},
   "outputs": [],
   "source": [
    "import folium\n",
    "m = Map()\n",
    "tile = folium.TileLayer(\n",
    "        tiles = 'https://server.arcgisonline.com/ArcGIS/rest/services/World_Imagery/MapServer/tile/{z}/{y}/{x}',\n",
    "        attr = 'Esri',\n",
    "        name = 'Esri Satellite',\n",
    "        overlay = False,\n",
    "        control = True\n",
    "       ).add_to(m)\n",
    "\n",
    "# hack: avoid titiler caching the tiles\n",
    "scale_phi = np.pi + np.random.rand() * 1e-6\n",
    "rnd_coh = np.random.rand() * 1e-6\n",
    "\n",
    "show_cog(\"/data/res/test_merge_coh2.tif\", m,rescale=f\"0,{1+rnd_coh}\")\n",
    "show_cog(\"/data/res/test_merge_phi2.tif\", m,rescale=f\"-{scale_phi}, {scale_phi}\",colormap=palette_phi())\n",
    "LayerControl().add_to(m)\n",
    "m"
   ]
  },
  {
   "cell_type": "code",
   "execution_count": null,
   "metadata": {},
   "outputs": [],
   "source": [
    "file_dem"
   ]
  },
  {
   "cell_type": "code",
   "execution_count": null,
   "metadata": {},
   "outputs": [],
   "source": [
    "# xr.open_dataset(\"/data/res/pre_processed.nc\")\n",
    "# Open the existing NetCDF file in append mode\n",
    "# with xr.open_dataset('existing_file.nc', mode='a') as ds:\n",
    "    # Assuming `raster_data` is the raster data you want to write\n",
    "    # Assuming `desired_date` is the specific date where you want to write the raster\n",
    "\n",
    "    # Select the specific date and assign the raster data\n",
    "    # ds['raster_primary'].loc[desired_date] = raster_data\n",
    "\n",
    "    # Write the modified dataset back to the NetCDF file without loading it into memory\n",
    "    # ds.to_netcdf('existing_file.nc', mode='a', compute=False)\n"
   ]
  },
  {
   "cell_type": "code",
   "execution_count": null,
   "metadata": {},
   "outputs": [],
   "source": [
    "import numpy as np\n",
    "np.array(2.0, dtype=\"float32\")"
   ]
  },
  {
   "cell_type": "code",
   "execution_count": null,
   "metadata": {},
   "outputs": [],
   "source": []
  }
 ],
 "metadata": {
  "kernelspec": {
   "display_name": "Python 3",
   "language": "python",
   "name": "python3"
  },
  "language_info": {
   "codemirror_mode": {
    "name": "ipython",
    "version": 3
   },
   "file_extension": ".py",
   "mimetype": "text/x-python",
   "name": "python",
   "nbconvert_exporter": "python",
   "pygments_lexer": "ipython3",
   "version": "3.12.3"
  }
 },
 "nbformat": 4,
 "nbformat_minor": 2
}
