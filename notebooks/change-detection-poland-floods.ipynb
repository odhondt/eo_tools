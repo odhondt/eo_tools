{
 "cells": [
  {
   "cell_type": "code",
   "execution_count": null,
   "metadata": {},
   "outputs": [],
   "source": [
    "%load_ext autoreload\n",
    "%autoreload 2\n",
    "import logging\n",
    "logging.basicConfig(level=logging.INFO)\n",
    "import matplotlib.pyplot as plt\n",
    "\n",
    "import geopandas as gpd\n",
    "from eodag import EODataAccessGateway\n",
    "import rioxarray as riox\n",
    "import numpy as np\n",
    "import folium\n",
    "from folium import LayerControl\n",
    "from eo_tools_dev.util import show_cog\n",
    "\n",
    "# credentials need to be stored in the following file (see EODAG docs)\n",
    "confpath = \"/data/eodag_config.yml\"\n",
    "dag = EODataAccessGateway(user_conf_file_path=confpath)\n",
    "# make sure cop_dataspace will be used \n",
    "dag.set_preferred_provider(\"cop_dataspace\")\n",
    "log = logging.getLogger(__name__)"
   ]
  },
  {
   "cell_type": "markdown",
   "metadata": {},
   "source": [
    "## Set up parameters and output dir\n",
    "\n",
    "### Important\n",
    "- The products must be **unzipped** either manually or by using `extract=True` in the download call. \n",
    "- In the following products, only IW1 and IW2 are relevant as IW3 contains only water pixels."
   ]
  },
  {
   "cell_type": "code",
   "execution_count": null,
   "metadata": {},
   "outputs": [],
   "source": [
    "# change to your custom locations\n",
    "data_dir = \"/data/S1\"\n",
    "\n",
    "# ids = [\n",
    "#     'S1A_IW_SLC__1SDV_20240903T050122_20240903T050149_055496_06C55B_C466',\n",
    "#     'S1A_IW_SLC__1SDV_20240915T050123_20240915T050150_055671_06CC45_8AD7']\n",
    "ids = ['S1A_IW_SLC__1SDV_20240904T165208_20240904T165235_055518_06C62B_530B', 'S1A_IW_SLC__1SDV_20240916T165209_20240916T165236_055693_06CD1B_B4BB']\n",
    "primary_dir = f\"{data_dir}/{ids[0]}.SAFE\"\n",
    "secondary_dir = f\"{data_dir}/{ids[1]}.SAFE\"\n",
    "outputs_prefix=\"/data/res/flood-poland-2024\""
   ]
  },
  {
   "cell_type": "markdown",
   "metadata": {},
   "source": [
    "## Download S-1 products"
   ]
  },
  {
   "cell_type": "code",
   "execution_count": null,
   "metadata": {},
   "outputs": [],
   "source": [
    "# load a geometry\n",
    "file_aoi = \"/data/South_Poland.geojson\"\n",
    "shp = gpd.read_file(file_aoi).geometry[0]\n",
    "\n",
    "search_criteria = {\n",
    "    \"productType\": \"S1_SAR_SLC\",\n",
    "    \"start\": \"2024-09-01\",\n",
    "    \"end\": \"2024-09-17\",\n",
    "    \"geom\": shp\n",
    "}\n",
    "\n",
    "results, _ = dag.search(**search_criteria)\n",
    "to_dl = [it for it in results if it.properties[\"id\"] in ids]\n",
    "print(f\"{len(to_dl)} products to download\")\n",
    "dag.download_all(to_dl, outputs_prefix=\"/data/S1/\", extract=False)"
   ]
  },
  {
   "cell_type": "markdown",
   "metadata": {},
   "source": [
    "## Pre-process InSAR pair"
   ]
  },
  {
   "cell_type": "code",
   "execution_count": null,
   "metadata": {},
   "outputs": [],
   "source": [
    "from eo_tools.S1.process import prepare_insar\n",
    "\n",
    "out_dir = prepare_insar(\n",
    "    dir_prm=primary_dir,\n",
    "    dir_sec=secondary_dir,\n",
    "    outputs_prefix=outputs_prefix,\n",
    "    aoi_name=None,\n",
    "    shp=shp,\n",
    "    pol=\"full\",\n",
    "    subswaths=[\"IW1\", \"IW2\", \"IW3\"],\n",
    "    cal_type=\"sigma\",\n",
    "    apply_fast_esd=False,\n",
    "    dem_upsampling=1.8,\n",
    "    dem_force_download=False,\n",
    "    dem_buffer_arc_sec=40,\n",
    "    warp_kernel=\"bicubic\",\n",
    ")"
   ]
  },
  {
   "cell_type": "markdown",
   "metadata": {},
   "source": [
    "## Define a simple amplitude change detection function"
   ]
  },
  {
   "cell_type": "code",
   "execution_count": null,
   "metadata": {},
   "outputs": [],
   "source": [
    "def change_detection(file_amp_prm, file_amp_sec, file_out):\n",
    "    from ndsar import sarblf\n",
    "    amp_prm = riox.open_rasterio(file_amp_prm)[0]#.rolling(x=5, y=5, center=True).mean()\n",
    "    amp_sec = riox.open_rasterio(file_amp_sec)[0]#.rolling(x=5, y=5, center=True).mean()\n",
    "    # flt = amp_prm.data.copy()\n",
    "    # log.info(\"Smoothing amplitudes\")\n",
    "    # amp_prm.data = sarblf(amp_prm.data, 1.6, 0.8)\n",
    "    # amp_sec.data = sarblf(amp_sec.data, 1.6, 0.8)\n",
    "    log.info(\"Incoherent changes\")\n",
    "    ch = np.log(amp_prm+1e-10) - np.log(amp_sec+1e-10)\n",
    "    ch.rio.to_raster(file_out)"
   ]
  },
  {
   "cell_type": "markdown",
   "metadata": {},
   "source": [
    "1st pair:  \n",
    "`out_dir = f\"{outputs_prefix}/S1_InSAR_2024-09-03-050122__2024-09-15-050123/sar`\n",
    "2nd pair:  \n",
    "`/data/res/flood-poland-2024/S1_InSAR_2024-09-04-165208__2024-09-16-165209/sar`"
   ]
  },
  {
   "cell_type": "markdown",
   "metadata": {},
   "source": [
    "## Apply processing chains: coherence and change detection"
   ]
  },
  {
   "cell_type": "code",
   "execution_count": null,
   "metadata": {},
   "outputs": [],
   "source": [
    "from eo_tools.S1.process import coherence, amplitude\n",
    "from eo_tools.S1.process import apply_to_patterns_for_pair, apply_to_patterns_for_single\n",
    "from pathlib import Path\n",
    "\n",
    "# out_dir = f\"{outputs_prefix}/S1_InSAR_2024-09-03-050122__2024-09-15-050123/sar\"\n",
    "geo_dir = Path(out_dir).parent\n",
    "\n",
    "# compute interferometric coherence\n",
    "# apply_to_patterns_for_pair(\n",
    "#     coherence,\n",
    "#     out_dir=out_dir,\n",
    "#     file_prm_prefix=\"slc_prm\",\n",
    "#     file_sec_prefix=\"slc_sec\",\n",
    "#     file_out_prefix=\"coh\",\n",
    "#     box_size=[3, 10],\n",
    "#     multilook=[1, 4],\n",
    "# )\n",
    "\n",
    "# compute primary amplitude\n",
    "# apply_to_patterns_for_single(\n",
    "#     amplitude,\n",
    "#     out_dir=out_dir,\n",
    "#     file_in_prefix=\"slc_prm\",\n",
    "#     file_out_prefix=\"amp_prm\",\n",
    "#     multilook=[2, 8],\n",
    "# )\n",
    "\n",
    "# compute secondary amplitude\n",
    "# apply_to_patterns_for_single(\n",
    "#     amplitude,\n",
    "#     out_dir=out_dir,\n",
    "#     file_in_prefix=\"slc_sec\",\n",
    "#     file_out_prefix=\"amp_sec\",\n",
    "#     multilook=[2, 8],\n",
    "# )\n",
    "\n",
    "# compute incoherent changes\n",
    "apply_to_patterns_for_pair(\n",
    "    change_detection,\n",
    "    out_dir=out_dir,\n",
    "    file_prm_prefix=\"amp_sec\",\n",
    "    file_sec_prefix=\"amp_prm\",\n",
    "    file_out_prefix=\"change_noflt\",\n",
    ")"
   ]
  },
  {
   "cell_type": "markdown",
   "metadata": {},
   "source": [
    "## Apply geocoding, merge and crop subswaths"
   ]
  },
  {
   "cell_type": "code",
   "execution_count": null,
   "metadata": {},
   "outputs": [],
   "source": [
    "from pathlib import Path\n",
    "\n",
    "# out_dir = f\"{outputs_prefix}/S1_InSAR_2024-09-03-050122__2024-09-15-050123/sar\"\n",
    "geo_dir = Path(out_dir).parent\n",
    "from eo_tools.S1.process import geocode_and_merge_iw\n",
    "# geocode_and_merge_iw(geo_dir, shp=shp, var_names=[\"change\"], pol=\"vv\", clip_to_shape=False)\n",
    "# geocode_and_merge_iw(geo_dir, shp=shp, var_names=[\"coh\",\"change\", \"amp_prm\", \"amp_sec\"], clip_to_shape=False)\n",
    "geocode_and_merge_iw(geo_dir, shp=shp, var_names=[\"change_noflt\"], clip_to_shape=False)"
   ]
  },
  {
   "cell_type": "markdown",
   "metadata": {},
   "source": [
    "## Visualize\n",
    "Click on top right icon to hide/show layers"
   ]
  },
  {
   "cell_type": "code",
   "execution_count": null,
   "metadata": {},
   "outputs": [],
   "source": [
    "from folium import TileLayer\n",
    "m = folium.Map()\n",
    "\n",
    "# _ = show_cog(f\"{geo_dir}/coh_vv.tif\", m, rescale=\"0,1\")\n",
    "# _ = show_cog(f\"{geo_dir}/coh_vh.tif\", m, rescale=\"0,1\")\n",
    "# _ = show_cog(f\"{geo_dir}/amp_prm_vv.tif\", m, rescale=\"0,1\")\n",
    "# _ = show_cog(f\"{geo_dir}/amp_sec_vv.tif\", m, rescale=\"0,1\")\n",
    "_ = show_cog(f\"{geo_dir}/change_vv.tif\", m, rescale=\"-0.5,-0.0\", colormap_name=\"blues_r\", resampling=\"bilinear\")\n",
    "_ = show_cog(f\"{geo_dir}/change_flt_vv.tif\", m, rescale=\"-0.5,-0.0\", colormap_name=\"blues_r\", resampling=\"bilinear\")\n",
    "_ = show_cog(f\"{geo_dir}/change_noflt_vv.tif\", m, rescale=\"-0.5,-0.0\", colormap_name=\"blues_r\", resampling=\"bilinear\")\n",
    "# _ = show_cog(f\"{geo_dir}/change_noflt_vv.tif\", m, rescale=\"0,1\", colormap_name=\"blues_r\", resampling=\"bilinear\", expression=\"b1<-0.5\")\n",
    "# _ = show_cog(f\"{geo_dir}/change_vh.tif\", m, rescale=\"-1,0\", colormap_name=\"blues_r\")\n",
    "# _ = show_cog(f\"{geo_dir}/change_vh.tif\", m, rescale=\"-0.25,0.25\", colormap_name=\"rdbu_r\")\n",
    "LayerControl().add_to(m)\n",
    "m"
   ]
  },
  {
   "cell_type": "markdown",
   "metadata": {},
   "source": [
    "# Cropping a small window to adjust blf parameters"
   ]
  },
  {
   "cell_type": "code",
   "execution_count": null,
   "metadata": {},
   "outputs": [],
   "source": [
    "# from eo_tools_dev.util import ttcog_get_stats\n",
    "# ttcog_get_stats(f\"{geo_dir}/change_vv.tif\")"
   ]
  },
  {
   "cell_type": "code",
   "execution_count": null,
   "metadata": {},
   "outputs": [],
   "source": [
    "from glob import glob\n",
    "amp_files = glob(f\"{out_dir}/amp*.tif\")\n",
    "img = riox.open_rasterio(amp_files[0])"
   ]
  },
  {
   "cell_type": "code",
   "execution_count": null,
   "metadata": {},
   "outputs": [],
   "source": [
    "sub = img[0].copy()\n",
    "# sub = img[0,-2000:-1000,-2000:-1000].copy()"
   ]
  },
  {
   "cell_type": "code",
   "execution_count": null,
   "metadata": {},
   "outputs": [],
   "source": [
    "from ndsar import sarblf\n",
    "from scipy.ndimage import median_filter\n",
    "# flt = median_filter(sub.data.copy(), 2)\n",
    "flt = sub.data.copy()\n",
    "for _ in range(1):\n",
    "    flt = sarblf(flt, 1.6, 0.5)"
   ]
  },
  {
   "cell_type": "code",
   "execution_count": null,
   "metadata": {},
   "outputs": [],
   "source": [
    "import matplotlib.pyplot as plt\n",
    "plt.figure(figsize=(10, 10))\n",
    "plt.imshow(flt, interpolation=\"none\", vmin=0, vmax=.8, cmap=\"gray\")\n",
    "# plt.imshow(flt[600:, 600:], interpolation=\"none\", vmin=0, vmax=.5, cmap=\"gray\")\n",
    "# plt.imshow(sub.data, interpolation=\"none\", vmin=0, vmax=1)\n",
    "plt.colorbar(fraction=0.046, pad=0.04)"
   ]
  },
  {
   "cell_type": "code",
   "execution_count": null,
   "metadata": {},
   "outputs": [],
   "source": [
    "import matplotlib.pyplot as plt\n",
    "plt.figure(figsize=(10, 10))\n",
    "# plt.imshow(flt, interpolation=\"none\", vmin=0, vmax=1)\n",
    "plt.imshow(sub.data, interpolation=\"none\", vmin=0, vmax=.8, cmap=\"gray\")\n",
    "plt.colorbar(fraction=0.046, pad=0.04)"
   ]
  },
  {
   "cell_type": "code",
   "execution_count": null,
   "metadata": {},
   "outputs": [],
   "source": []
  }
 ],
 "metadata": {
  "kernelspec": {
   "display_name": "Python 3",
   "language": "python",
   "name": "python3"
  },
  "language_info": {
   "codemirror_mode": {
    "name": "ipython",
    "version": 3
   },
   "file_extension": ".py",
   "mimetype": "text/x-python",
   "name": "python",
   "nbconvert_exporter": "python",
   "pygments_lexer": "ipython3",
   "version": "3.12.5"
  }
 },
 "nbformat": 4,
 "nbformat_minor": 2
}
