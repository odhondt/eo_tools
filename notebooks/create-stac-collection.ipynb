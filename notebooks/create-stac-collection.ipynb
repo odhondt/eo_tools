{
 "cells": [
  {
   "cell_type": "code",
   "execution_count": null,
   "metadata": {},
   "outputs": [],
   "source": [
    "import pystac\n",
    "# from pystac import Collection, Item, Extent\n",
    "import httpx\n",
    "from datetime import datetime\n",
    "\n",
    "stac_endpoint = \"http://stac-fastapi:8081\""
   ]
  },
  {
   "cell_type": "code",
   "execution_count": null,
   "metadata": {},
   "outputs": [],
   "source": [
    "collections = httpx.get(f\"{stac_endpoint}/collections\").json()"
   ]
  },
  {
   "cell_type": "code",
   "execution_count": null,
   "metadata": {},
   "outputs": [],
   "source": [
    "bb = pystac.SpatialExtent(bboxes=[[-180, -90, 180, 90]])\n",
    "tt = pystac.TemporalExtent(intervals=[datetime(2022,1,1), None])\n",
    "\n",
    "coll = pystac.Collection(\n",
    "    id=\"my_collection\",\n",
    "    extent=pystac.Extent(spatial=bb, temporal=tt),\n",
    "    title=\"My collection\",\n",
    "    description=\"Bla bla bla\",\n",
    ")\n",
    "# coll.id = \"my_collection\""
   ]
  },
  {
   "cell_type": "code",
   "execution_count": null,
   "metadata": {},
   "outputs": [],
   "source": [
    "httpx.post(f\"{stac_endpoint}/collections\", json=coll.to_dict())"
   ]
  },
  {
   "cell_type": "code",
   "execution_count": null,
   "metadata": {},
   "outputs": [],
   "source": [
    "collections = httpx.get(f\"{stac_endpoint}/collections\").json()"
   ]
  },
  {
   "cell_type": "code",
   "execution_count": null,
   "metadata": {},
   "outputs": [],
   "source": [
    "collections"
   ]
  },
  {
   "cell_type": "code",
   "execution_count": null,
   "metadata": {},
   "outputs": [],
   "source": []
  }
 ],
 "metadata": {
  "kernelspec": {
   "display_name": "Python 3",
   "language": "python",
   "name": "python3"
  },
  "language_info": {
   "codemirror_mode": {
    "name": "ipython",
    "version": 3
   },
   "file_extension": ".py",
   "mimetype": "text/x-python",
   "name": "python",
   "nbconvert_exporter": "python",
   "pygments_lexer": "ipython3",
   "version": "3.11.7"
  }
 },
 "nbformat": 4,
 "nbformat_minor": 2
}
