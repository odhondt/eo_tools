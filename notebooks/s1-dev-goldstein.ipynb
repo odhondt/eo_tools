{
 "cells": [
  {
   "cell_type": "code",
   "execution_count": null,
   "metadata": {},
   "outputs": [],
   "source": [
    "%load_ext autoreload\n",
    "%autoreload 2\n",
    "import logging\n",
    "logging.basicConfig(level=logging.INFO)\n",
    "import matplotlib.pyplot as plt\n",
    "\n",
    "import geopandas as gpd\n",
    "from eodag import EODataAccessGateway\n",
    "import rioxarray as riox\n",
    "import numpy as np\n",
    "import folium\n",
    "from folium import LayerControl\n",
    "from eo_tools_dev.util import show_cog\n",
    "from eo_tools.S1.process import goldstein\n",
    "\n",
    "# credentials need to be stored in the following file (see EODAG docs)\n",
    "confpath = \"/data/eodag_config.yml\"\n",
    "dag = EODataAccessGateway(user_conf_file_path=confpath)\n",
    "# make sure cop_dataspace will be used \n",
    "dag.set_preferred_provider(\"cop_dataspace\")\n",
    "log = logging.getLogger(__name__)"
   ]
  },
  {
   "cell_type": "code",
   "execution_count": null,
   "metadata": {},
   "outputs": [],
   "source": [
    "# change to your custom locations\n",
    "data_dir = \"/data/S1\"\n",
    "\n",
    "ids = [\n",
    " \"S1A_IW_SLC__1SDV_20230904T063730_20230904T063757_050174_0609E3_DAA1\", \n",
    " \"S1A_IW_SLC__1SDV_20230916T063730_20230916T063757_050349_060FCD_6814\"\n",
    "]\n",
    "primary_dir = f\"{data_dir}/{ids[0]}.SAFE\"\n",
    "secondary_dir = f\"{data_dir}/{ids[1]}.SAFE\"\n",
    "outputs_prefix=\"/data/res/dev-goldstein\""
   ]
  },
  {
   "cell_type": "code",
   "execution_count": null,
   "metadata": {},
   "outputs": [],
   "source": [
    "# load a geometry\n",
    "file_aoi = \"../data/Morocco_small.geojson\"\n",
    "# file_aoi = \"../data/Morocco_AOI.geojson\"\n",
    "shp = gpd.read_file(file_aoi).geometry[0]"
   ]
  },
  {
   "cell_type": "markdown",
   "metadata": {},
   "source": [
    "## Pre-process InSAR pair"
   ]
  },
  {
   "cell_type": "code",
   "execution_count": null,
   "metadata": {},
   "outputs": [],
   "source": [
    "from eo_tools.S1.process import prepare_insar\n",
    "\n",
    "# out_dir = prepare_insar(\n",
    "#     dir_prm=primary_dir,\n",
    "#     dir_sec=secondary_dir,\n",
    "#     outputs_prefix=outputs_prefix,\n",
    "#     aoi_name=None,\n",
    "#     shp=shp,\n",
    "#     pol=\"full\",\n",
    "#     subswaths=[\"IW1\", \"IW2\", \"IW3\"],\n",
    "#     cal_type=\"sigma\",\n",
    "#     apply_fast_esd=False,\n",
    "#     dem_upsampling=1.8,\n",
    "#     dem_force_download=False,\n",
    "#     dem_buffer_arc_sec=40,\n",
    "#     warp_kernel=\"bicubic\",\n",
    "# )"
   ]
  },
  {
   "cell_type": "code",
   "execution_count": null,
   "metadata": {},
   "outputs": [],
   "source": [
    "from pathlib import Path\n",
    "out_dir = list(Path.glob(Path(outputs_prefix), \"S1*\"))[0] / \"sar\""
   ]
  },
  {
   "cell_type": "markdown",
   "metadata": {},
   "source": [
    "## Goldstein "
   ]
  },
  {
   "cell_type": "code",
   "execution_count": null,
   "metadata": {},
   "outputs": [],
   "source": [
    "import rasterio\n",
    "test_file = \"/data/test_file.tif\"\n",
    "test_arr = np.random.rand(4096, 4096) + 1j * np.random.rand(4096, 4096) \n",
    "prof = dict(width=4096, height=4096, count=1, dtype=\"complex64\")\n",
    "with rasterio.open(test_file, 'w', **prof) as ds:\n",
    "    ds.write(test_arr, 1)"
   ]
  },
  {
   "cell_type": "code",
   "execution_count": null,
   "metadata": {},
   "outputs": [],
   "source": [
    "test_file = \"/data/test_file.tif\"\n",
    "test_out = \"/data/test_out.tif\"\n",
    "goldstein(test_file, test_out)"
   ]
  },
  {
   "cell_type": "code",
   "execution_count": null,
   "metadata": {},
   "outputs": [],
   "source": [
    "import matplotlib.pyplot as plt\n",
    "plt.figure(figsize=(10, 10))\n",
    "# plt.imshow(ifg.real, interpolation=\"none\")\n",
    "# plt.imshow(arrout.real, interpolation=\"none\")\n",
    "plt.colorbar(fraction=0.046, pad=0.04)"
   ]
  },
  {
   "cell_type": "code",
   "execution_count": null,
   "metadata": {},
   "outputs": [],
   "source": [
    "np.random.rand(1)"
   ]
  },
  {
   "cell_type": "markdown",
   "metadata": {},
   "source": [
    "## Apply processing chains: coherence and change detection"
   ]
  },
  {
   "cell_type": "code",
   "execution_count": null,
   "metadata": {},
   "outputs": [],
   "source": [
    "from eo_tools.S1.process import interferogram\n",
    "from eo_tools.S1.process import apply_to_patterns_for_pair, apply_to_patterns_for_single\n",
    "from pathlib import Path\n",
    "\n",
    "geo_dir = Path(out_dir).parent\n",
    "\n",
    "# compute interferograms\n",
    "apply_to_patterns_for_pair(\n",
    "    interferogram,\n",
    "    out_dir=out_dir,\n",
    "    file_prm_prefix=\"slc_prm\",\n",
    "    file_sec_prefix=\"slc_sec\",\n",
    "    file_out_prefix=\"ifg0\",\n",
    "    multilook=[1,4]\n",
    ")\n",
    "\n",
    "# apply_to_patterns_for_single(\n",
    "#     goldstein,\n",
    "#     out_dir=out_dir,\n",
    "#     file_in_prefix=\"ifg0\",\n",
    "#     file_out_prefix=\"ifg\",\n",
    "#     alpha=0.5,\n",
    "#     overlap=14,\n",
    "# )"
   ]
  },
  {
   "cell_type": "markdown",
   "metadata": {},
   "source": [
    "## Apply geocoding, merge and crop subswaths"
   ]
  },
  {
   "cell_type": "code",
   "execution_count": null,
   "metadata": {},
   "outputs": [],
   "source": [
    "from eo_tools.S1.process import geocode_and_merge_iw\n",
    "geo_dir = Path(out_dir).parent\n",
    "geocode_and_merge_iw(geo_dir, shp=shp, var_names=[\"ifg0\", \"ifg\"], clip_to_shape=False)"
   ]
  },
  {
   "cell_type": "markdown",
   "metadata": {},
   "source": [
    "## Visualize\n",
    "Click on top right icon to hide/show layers"
   ]
  },
  {
   "cell_type": "code",
   "execution_count": null,
   "metadata": {},
   "outputs": [],
   "source": [
    "from eo_tools_dev.util import palette_phi\n",
    "m = folium.Map()\n",
    "_ = show_cog(f\"{geo_dir}/phi_vv.tif\", m, rescale=\"-3.14,3.14\", colormap=palette_phi())\n",
    "_ = show_cog(f\"{geo_dir}/phi0_vv.tif\", m, rescale=\"-3.14,3.14\", colormap=palette_phi())\n",
    "LayerControl().add_to(m)\n",
    "m"
   ]
  },
  {
   "cell_type": "code",
   "execution_count": null,
   "metadata": {},
   "outputs": [],
   "source": [
    "file_ifg_sar = out_dir / \"ifg0_vv_iw1.tif\"\n",
    "ifg_sar = riox.open_rasterio(file_ifg_sar)\n",
    "plt.figure(figsize=(10, 10))\n",
    "plt.imshow(np.angle(ifg_sar[0]), interpolation=\"none\")\n",
    "plt.colorbar(fraction=0.046, pad=0.04)\n"
   ]
  },
  {
   "cell_type": "code",
   "execution_count": null,
   "metadata": {},
   "outputs": [],
   "source": [
    "file_ifg_sar = out_dir / \"ifg_vv_iw1.tif\"\n",
    "ifg_sar_filt = riox.open_rasterio(file_ifg_sar)\n",
    "plt.figure(figsize=(10, 10))\n",
    "plt.imshow(np.angle(ifg_sar_filt[0]), interpolation=\"none\")\n",
    "plt.colorbar(fraction=0.046, pad=0.04)\n"
   ]
  },
  {
   "cell_type": "code",
   "execution_count": null,
   "metadata": {},
   "outputs": [],
   "source": [
    "import matplotlib.pyplot as plt\n",
    "\n",
    "# sl1 = np.s_[2750:3250, 500:1500]\n",
    "# sl2 = np.s_[2000:3000, 4000:5000]\n",
    "sl3 = np.s_[1500:1564, 500:564]\n",
    "arr = ifg_sar[0][sl3].data\n",
    "\n",
    "# alpha = 0.5\n",
    "alpha = 0.9001\n",
    "smooth = lambda x: uflt(x, 3) #+ 1j*uflt(x, 3)\n",
    "Z = fftshift(fft2(arr))\n",
    "H = smooth(abs(Z))**(alpha)\n",
    "arrout = ifft2(ifftshift(H*Z))\n",
    "\n",
    "plt.figure(figsize=(10, 10))\n",
    "plt.imshow(H, interpolation=\"none\")\n",
    "plt.colorbar(fraction=0.046, pad=0.04)"
   ]
  }
 ],
 "metadata": {
  "kernelspec": {
   "display_name": "Python 3",
   "language": "python",
   "name": "python3"
  },
  "language_info": {
   "codemirror_mode": {
    "name": "ipython",
    "version": 3
   },
   "file_extension": ".py",
   "mimetype": "text/x-python",
   "name": "python",
   "nbconvert_exporter": "python",
   "pygments_lexer": "ipython3",
   "version": "3.12.5"
  }
 },
 "nbformat": 4,
 "nbformat_minor": 2
}
