{
 "cells": [
  {
   "cell_type": "markdown",
   "metadata": {},
   "source": [
    "# Discovering Sentinel-2 products"
   ]
  },
  {
   "cell_type": "code",
   "execution_count": null,
   "metadata": {},
   "outputs": [],
   "source": [
    "%load_ext autoreload\n",
    "%autoreload 2\n",
    "\n",
    "from eo_tools.util import visualize_S2_products, visualize_S2_products_v2\n",
    "\n",
    "from sentinelsat import SentinelAPI, read_geojson, geojson_to_wkt\n",
    "import json\n",
    "\n",
    "import geopandas as gpd\n",
    "import pandas as pd\n",
    "pd.set_option('display.max_colwidth', None)\n",
    "import folium\n",
    "import folium.plugins\n",
    "import logging\n",
    "import numpy as np\n",
    "\n",
    "import shapely\n",
    "logging.basicConfig(level=logging.INFO)"
   ]
  },
  {
   "cell_type": "markdown",
   "metadata": {},
   "source": [
    "## Select an area of interest\n",
    "\n",
    "- Select a drawing tool (polygon, circle or rectangle)\n",
    "- Draw the AOI on the map\n",
    "- Click \"Export\" on the right to save the GeoJSON file"
   ]
  },
  {
   "cell_type": "code",
   "execution_count": null,
   "metadata": {},
   "outputs": [],
   "source": [
    "map_select = folium.Map()\n",
    "folium.plugins.Draw(\n",
    "    export=True,\n",
    "    draw_options={\n",
    "        \"polyline\": False,\n",
    "        \"circlemarker\": False,\n",
    "        \"marker\": False,\n",
    "    },\n",
    ").add_to(map_select)\n",
    "map_select"
   ]
  },
  {
   "cell_type": "markdown",
   "metadata": {},
   "source": [
    "## Search"
   ]
  },
  {
   "cell_type": "code",
   "execution_count": null,
   "metadata": {},
   "outputs": [],
   "source": [
    "# load a geometry\n",
    "file_aoi = \"/data/aoi_Maroc.geojson\"\n",
    "# file_aoi = \"/data/aoi_bretagne.geojson\"\n",
    "gj_aoi = read_geojson(file_aoi)\n",
    "aoi = geojson_to_wkt(gj_aoi[\"features\"][0])\n",
    "shp = gpd.read_file(file_aoi).geometry[0]\n",
    "\n",
    "# open credentials\n",
    "with open(\"/data/creds.json\") as f:\n",
    "    creds = json.load(f)\n",
    "\n",
    "# search for products intersecting geometry\n",
    "api = SentinelAPI(creds[\"username\"], creds[\"password\"])\n",
    "products = api.query(\n",
    "    aoi,\n",
    "    platformname=\"Sentinel-2\",\n",
    "    date=(\"20230901\", \"20230920\"),\n",
    "    producttype=\"S2MSI1C\",\n",
    "    #  orbitdirection='ASCENDING',\n",
    "    limit=50,\n",
    ")\n",
    "\n",
    "# make a geodataframe for visualization\n",
    "gdf = api.to_geodataframe(products).reset_index(names='id')"
   ]
  },
  {
   "cell_type": "code",
   "execution_count": null,
   "metadata": {},
   "outputs": [],
   "source": [
    "def has_overlap(geom1, geom2, tolerance=0.01):\n",
    "    intersection = geom1.intersection(geom2)\n",
    "    return intersection.area / min(geom1.area, geom2.area) >= (1 - tolerance)\n",
    "\n",
    "\n",
    "# Group the products by geometry with overlap tolerance\n",
    "groups = []\n",
    "for i, row in gdf.iterrows():\n",
    "    geom1 = row['geometry']\n",
    "    # group = [row['title']]\n",
    "    group = [i]\n",
    "    for i, inner_row in gdf.iterrows():\n",
    "        geom2 = inner_row['geometry']\n",
    "        if geom1 != geom2 and has_overlap(geom1, geom2, tolerance=0.02):\n",
    "            # group.append(inner_row['title'])\n",
    "            group.append(i)\n",
    "    if len(group)>0:\n",
    "        groups.append(group)\n",
    "\n",
    "# Remove duplicate groups and sort\n",
    "unique_groups = []\n",
    "for group in groups:\n",
    "    group = list(set(group))\n",
    "    group.sort()\n",
    "    if group not in unique_groups:\n",
    "        unique_groups.append(group)\n",
    "\n",
    "# Print the grouped products\n",
    "# for i, group in enumerate(unique_groups):\n",
    "for i,it in enumerate(unique_groups):\n",
    "    print(f\"Group {i+1}: {it}\")"
   ]
  },
  {
   "cell_type": "code",
   "execution_count": null,
   "metadata": {},
   "outputs": [],
   "source": [
    "# gdf.geometry[1:3].explore()\n",
    "# gdf[gdf.s2datatakeid=='GS2A_20230908T110621_042891_N05.09'].geometry.explore()\n",
    "shapely.geometry.mapping(gdf[gdf.s2datatakeid=='GS2A_20230908T110621_042891_N05.09'].unary_union)\n",
    "# np.unique(gdf.s2datatakeid)\n",
    "for g in gdf.groupby('s2datatakeid'):\n",
    "    print(len(g[1]))"
   ]
  },
  {
   "cell_type": "code",
   "execution_count": null,
   "metadata": {},
   "outputs": [],
   "source": [
    "print(gdf.iloc[0])"
   ]
  },
  {
   "cell_type": "code",
   "execution_count": null,
   "metadata": {},
   "outputs": [],
   "source": [
    "print(gdf.loc[0:15, ['beginposition', 's2datatakeid', 'tileid']])"
   ]
  },
  {
   "cell_type": "code",
   "execution_count": null,
   "metadata": {},
   "outputs": [],
   "source": [
    "len(np.unique(gdf.geometry.astype('str')))"
   ]
  },
  {
   "cell_type": "code",
   "execution_count": null,
   "metadata": {},
   "outputs": [],
   "source": [
    "toto = gdf.groupby(['s2datatakeid'])\n",
    "idx = toto.groups['GS2A_20230901T112121_042791_N05.09']\n",
    "\n",
    "toto.get_group(idx)"
   ]
  },
  {
   "cell_type": "markdown",
   "metadata": {},
   "source": [
    "## Visualize by groups"
   ]
  },
  {
   "cell_type": "code",
   "execution_count": null,
   "metadata": {},
   "outputs": [],
   "source": [
    "visualize_S2_products(gdf, gj_aoi)"
   ]
  },
  {
   "cell_type": "markdown",
   "metadata": {},
   "source": [
    "## Download"
   ]
  },
  {
   "cell_type": "code",
   "execution_count": null,
   "metadata": {},
   "outputs": [],
   "source": [
    "# fill indices of products to download\n",
    "indices_to_download = [1, 5]\n",
    "ids = gdf['id'][indices_to_download]\n",
    "# dl = api.download_all_quicklooks(ids, directory_path='/data/S1/')\n",
    "dl = api.download_all(ids, directory_path='/data/S1/')"
   ]
  }
 ],
 "metadata": {
  "kernelspec": {
   "display_name": "Python 3",
   "language": "python",
   "name": "python3"
  },
  "language_info": {
   "codemirror_mode": {
    "name": "ipython",
    "version": 3
   },
   "file_extension": ".py",
   "mimetype": "text/x-python",
   "name": "python",
   "nbconvert_exporter": "python",
   "pygments_lexer": "ipython3",
   "version": "3.12.0"
  },
  "orig_nbformat": 4
 },
 "nbformat": 4,
 "nbformat_minor": 2
}
