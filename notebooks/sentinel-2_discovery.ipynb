{
 "cells": [
  {
   "cell_type": "markdown",
   "metadata": {},
   "source": [
    "# Discovering Sentinel-2 products"
   ]
  },
  {
   "cell_type": "code",
   "execution_count": null,
   "metadata": {},
   "outputs": [],
   "source": [
    "%load_ext autoreload\n",
    "%autoreload 2\n",
    "\n",
    "from eo_tools.util import visualize_S2_products\n",
    "\n",
    "from sentinelsat import SentinelAPI, read_geojson, geojson_to_wkt\n",
    "import json\n",
    "\n",
    "import geopandas as gpd\n",
    "import folium\n",
    "import folium.plugins\n",
    "import logging\n",
    "import numpy as np\n",
    "\n",
    "import shapely\n",
    "logging.basicConfig(level=logging.INFO)"
   ]
  },
  {
   "cell_type": "markdown",
   "metadata": {},
   "source": [
    "## Select an area of interest\n",
    "\n",
    "- Select a drawing tool (polygon, circle or rectangle)\n",
    "- Draw the AOI on the map\n",
    "- Click \"Export\" on the right to save the GeoJSON file"
   ]
  },
  {
   "cell_type": "code",
   "execution_count": null,
   "metadata": {},
   "outputs": [],
   "source": [
    "map_select = folium.Map()\n",
    "folium.plugins.Draw(\n",
    "    export=True,\n",
    "    draw_options={\n",
    "        \"polyline\": False,\n",
    "        \"circlemarker\": False,\n",
    "        \"marker\": False,\n",
    "    },\n",
    ").add_to(map_select)\n",
    "map_select"
   ]
  },
  {
   "cell_type": "markdown",
   "metadata": {},
   "source": [
    "## Search"
   ]
  },
  {
   "cell_type": "code",
   "execution_count": null,
   "metadata": {},
   "outputs": [],
   "source": [
    "# load a geometry\n",
    "file_aoi = \"/data/aoi_Maroc.geojson\"\n",
    "# file_aoi = \"/data/aoi_bretagne.geojson\"\n",
    "gj_aoi = read_geojson(file_aoi)\n",
    "aoi = geojson_to_wkt(gj_aoi[\"features\"][0])\n",
    "shp = gpd.read_file(file_aoi).geometry[0]\n",
    "\n",
    "# open credentials\n",
    "with open(\"/data/creds.json\") as f:\n",
    "    creds = json.load(f)\n",
    "\n",
    "# search for products intersecting geometry\n",
    "api = SentinelAPI(creds[\"username\"], creds[\"password\"])\n",
    "products = api.query(\n",
    "    aoi,\n",
    "    platformname=\"Sentinel-2\",\n",
    "    date=(\"20230901\", \"20230920\"),\n",
    "    #  orbitdirection='ASCENDING',\n",
    "    limit=50,\n",
    ")\n",
    "\n",
    "# make a geodataframe for visualization\n",
    "gdf = api.to_geodataframe(products).reset_index(names='id')"
   ]
  },
  {
   "cell_type": "code",
   "execution_count": null,
   "metadata": {},
   "outputs": [],
   "source": [
    "# gdf.geometry[1:3].explore()\n",
    "# gdf[gdf.s2datatakeid=='GS2A_20230908T110621_042891_N05.09'].geometry.explore()\n",
    "shapely.geometry.mapping(gdf[gdf.s2datatakeid=='GS2A_20230908T110621_042891_N05.09'].unary_union)\n",
    "# np.unique(gdf.s2datatakeid)\n",
    "# for g in gdf.groupby('s2datatakeid'):\n",
    "    # print(len(g[1]))"
   ]
  },
  {
   "cell_type": "markdown",
   "metadata": {},
   "source": [
    "## Visualize by groups\n",
    "\n",
    "- For InSAR, products must be overlapping and from the same relative orbit.\n",
    "- They also have to be of the same ascending / descending configuration.\n",
    "- Choosing them from the same slice is the easiest though overlapping slices could be combined too."
   ]
  },
  {
   "cell_type": "code",
   "execution_count": 65,
   "metadata": {},
   "outputs": [],
   "source": [
    "visualize_S2_products(gdf, gj_aoi)"
   ]
  },
  {
   "cell_type": "markdown",
   "metadata": {},
   "source": [
    "## Download"
   ]
  },
  {
   "cell_type": "code",
   "execution_count": null,
   "metadata": {},
   "outputs": [],
   "source": [
    "# fill indices of products to download\n",
    "indices_to_download = [1, 5]\n",
    "ids = gdf['id'][indices_to_download]\n",
    "# dl = api.download_all_quicklooks(ids, directory_path='/data/S1/')\n",
    "dl = api.download_all(ids, directory_path='/data/S1/')"
   ]
  },
  {
   "cell_type": "markdown",
   "metadata": {},
   "source": [
    "# Process"
   ]
  },
  {
   "cell_type": "code",
   "execution_count": null,
   "metadata": {},
   "outputs": [],
   "source": [
    "# extract paths for processing\n",
    "file_paths = [item[1]['path'] for item in dl[0].items()]\n",
    "process_InSAR(\n",
    "    file_paths[0],\n",
    "    file_paths[1],\n",
    "    out_dir=\"/data/res\",\n",
    "    tmp_dir=\"/data/tmp\",\n",
    "    shp=shp,\n",
    "    pol=\"VV\",\n",
    "    coh_only=False,\n",
    "    intensity=True,\n",
    "    clear_tmp_files=True,\n",
    "    resume=False\n",
    ")"
   ]
  },
  {
   "cell_type": "code",
   "execution_count": null,
   "metadata": {},
   "outputs": [],
   "source": [
    "file_phase = \"/data/res/phi_VV_03Sep2023_15Sep2023_slice2_crop.tif\"\n",
    "visualize_insar_phase(file_phase)"
   ]
  },
  {
   "cell_type": "code",
   "execution_count": null,
   "metadata": {},
   "outputs": [],
   "source": [
    "file_coh = \"/data/res/coh_VV_03Sep2023_15Sep2023_slice2_crop.tif\"\n",
    "visualize_insar_coh(file_coh)"
   ]
  },
  {
   "cell_type": "code",
   "execution_count": null,
   "metadata": {},
   "outputs": [],
   "source": [
    "file_int = \"/data/res/int_VV_03Sep2023_slice2_crop.tif\"\n",
    "visualize_sar_intensity(file_int)"
   ]
  }
 ],
 "metadata": {
  "kernelspec": {
   "display_name": "Python 3",
   "language": "python",
   "name": "python3"
  },
  "language_info": {
   "codemirror_mode": {
    "name": "ipython",
    "version": 3
   },
   "file_extension": ".py",
   "mimetype": "text/x-python",
   "name": "python",
   "nbconvert_exporter": "python",
   "pygments_lexer": "ipython3",
   "version": "3.12.0"
  },
  "orig_nbformat": 4
 },
 "nbformat": 4,
 "nbformat_minor": 2
}
