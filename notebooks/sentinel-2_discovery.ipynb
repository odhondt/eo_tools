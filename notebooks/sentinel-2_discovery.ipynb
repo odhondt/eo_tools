{
 "cells": [
  {
   "cell_type": "markdown",
   "metadata": {},
   "source": [
    "# Discovering Sentinel-2 products"
   ]
  },
  {
   "cell_type": "code",
   "execution_count": 2,
   "metadata": {},
   "outputs": [],
   "source": [
    "%load_ext autoreload\n",
    "%autoreload 2\n",
    "\n",
    "from eo_tools.util import visualize_S2_products \n",
    "\n",
    "from sentinelsat import SentinelAPI, read_geojson, geojson_to_wkt\n",
    "import json\n",
    "\n",
    "import geopandas as gpd\n",
    "import pandas as pd\n",
    "pd.set_option('display.max_colwidth', None)\n",
    "import folium\n",
    "import folium.plugins\n",
    "import logging\n",
    "import numpy as np\n",
    "\n",
    "import shapely\n",
    "logging.basicConfig(level=logging.INFO)"
   ]
  },
  {
   "cell_type": "markdown",
   "metadata": {},
   "source": [
    "## Select an area of interest\n",
    "\n",
    "- Select a drawing tool (polygon, circle or rectangle)\n",
    "- Draw the AOI on the map\n",
    "- Click \"Export\" on the right to save the GeoJSON file"
   ]
  },
  {
   "cell_type": "code",
   "execution_count": null,
   "metadata": {},
   "outputs": [],
   "source": [
    "map_select = folium.Map()\n",
    "folium.plugins.Draw(\n",
    "    export=True,\n",
    "    draw_options={\n",
    "        \"polyline\": False,\n",
    "        \"circlemarker\": False,\n",
    "        \"marker\": False,\n",
    "    },\n",
    ").add_to(map_select)\n",
    "map_select"
   ]
  },
  {
   "cell_type": "markdown",
   "metadata": {},
   "source": [
    "## Search"
   ]
  },
  {
   "cell_type": "code",
   "execution_count": 3,
   "metadata": {},
   "outputs": [
    {
     "name": "stderr",
     "output_type": "stream",
     "text": [
      "INFO:sentinelsat.SentinelAPI:Found 25 products\n"
     ]
    },
    {
     "name": "stdout",
     "output_type": "stream",
     "text": [
      "Unique dates:\n",
      "2023-09-01 11:21:21.024\n",
      "2023-09-03 11:06:29.024\n",
      "2023-09-06 11:21:19.024\n",
      "2023-09-08 11:06:21.024\n",
      "2023-09-11 11:21:21.024\n",
      "2023-09-13 11:06:39.024\n",
      "2023-09-16 11:21:19.024\n",
      "2023-09-18 11:07:21.024\n"
     ]
    }
   ],
   "source": [
    "# load a geometry\n",
    "file_aoi = \"/data/aoi_Maroc.geojson\"\n",
    "# file_aoi = \"/data/aoi_bretagne.geojson\"\n",
    "gj_aoi = read_geojson(file_aoi)\n",
    "aoi = geojson_to_wkt(gj_aoi[\"features\"][0])\n",
    "shp = gpd.read_file(file_aoi).geometry[0]\n",
    "\n",
    "# open credentials\n",
    "with open(\"/data/creds.json\") as f:\n",
    "    creds = json.load(f)\n",
    "\n",
    "# search for products intersecting geometry\n",
    "api = SentinelAPI(creds[\"username\"], creds[\"password\"])\n",
    "products = api.query(\n",
    "    aoi,\n",
    "    platformname=\"Sentinel-2\",\n",
    "    date=(\"20230901\", \"20230920\"),\n",
    "    producttype=\"S2MSI1C\",\n",
    "    #  orbitdirection='ASCENDING',\n",
    "    limit=50,\n",
    ")\n",
    "\n",
    "# make a geodataframe for visualization\n",
    "gdf = api.to_geodataframe(products).reset_index(names='id')\n",
    "dates = np.unique(gdf.beginposition.astype(str)).tolist()\n",
    "print(f\"Unique dates:\\n{\"\\n\".join(dates)}\")"
   ]
  },
  {
   "cell_type": "code",
   "execution_count": 4,
   "metadata": {},
   "outputs": [
    {
     "data": {
      "text/html": [
       "<div style=\"width:100%;\"><div style=\"position:relative;width:100%;height:0;padding-bottom:60%;\"><span style=\"color:#565656\">Make this Notebook Trusted to load map: File -> Trust Notebook</span><iframe srcdoc=\"&lt;!DOCTYPE html&gt;\n",
       "&lt;html&gt;\n",
       "&lt;head&gt;\n",
       "    \n",
       "    &lt;meta http-equiv=&quot;content-type&quot; content=&quot;text/html; charset=UTF-8&quot; /&gt;\n",
       "    \n",
       "        &lt;script&gt;\n",
       "            L_NO_TOUCH = false;\n",
       "            L_DISABLE_3D = false;\n",
       "        &lt;/script&gt;\n",
       "    \n",
       "    &lt;style&gt;html, body {width: 100%;height: 100%;margin: 0;padding: 0;}&lt;/style&gt;\n",
       "    &lt;style&gt;#map {position:absolute;top:0;bottom:0;right:0;left:0;}&lt;/style&gt;\n",
       "    &lt;script src=&quot;https://cdn.jsdelivr.net/npm/leaflet@1.9.3/dist/leaflet.js&quot;&gt;&lt;/script&gt;\n",
       "    &lt;script src=&quot;https://code.jquery.com/jquery-1.12.4.min.js&quot;&gt;&lt;/script&gt;\n",
       "    &lt;script src=&quot;https://cdn.jsdelivr.net/npm/bootstrap@5.2.2/dist/js/bootstrap.bundle.min.js&quot;&gt;&lt;/script&gt;\n",
       "    &lt;script src=&quot;https://cdnjs.cloudflare.com/ajax/libs/Leaflet.awesome-markers/2.0.2/leaflet.awesome-markers.js&quot;&gt;&lt;/script&gt;\n",
       "    &lt;link rel=&quot;stylesheet&quot; href=&quot;https://cdn.jsdelivr.net/npm/leaflet@1.9.3/dist/leaflet.css&quot;/&gt;\n",
       "    &lt;link rel=&quot;stylesheet&quot; href=&quot;https://cdn.jsdelivr.net/npm/bootstrap@5.2.2/dist/css/bootstrap.min.css&quot;/&gt;\n",
       "    &lt;link rel=&quot;stylesheet&quot; href=&quot;https://netdna.bootstrapcdn.com/bootstrap/3.0.0/css/bootstrap.min.css&quot;/&gt;\n",
       "    &lt;link rel=&quot;stylesheet&quot; href=&quot;https://cdn.jsdelivr.net/npm/@fortawesome/fontawesome-free@6.2.0/css/all.min.css&quot;/&gt;\n",
       "    &lt;link rel=&quot;stylesheet&quot; href=&quot;https://cdnjs.cloudflare.com/ajax/libs/Leaflet.awesome-markers/2.0.2/leaflet.awesome-markers.css&quot;/&gt;\n",
       "    &lt;link rel=&quot;stylesheet&quot; href=&quot;https://cdn.jsdelivr.net/gh/python-visualization/folium/folium/templates/leaflet.awesome.rotate.min.css&quot;/&gt;\n",
       "    \n",
       "            &lt;meta name=&quot;viewport&quot; content=&quot;width=device-width,\n",
       "                initial-scale=1.0, maximum-scale=1.0, user-scalable=no&quot; /&gt;\n",
       "            &lt;style&gt;\n",
       "                #map_7fedd63d83b2ad8b4d338e0558178a24 {\n",
       "                    position: relative;\n",
       "                    width: 100.0%;\n",
       "                    height: 100.0%;\n",
       "                    left: 0.0%;\n",
       "                    top: 0.0%;\n",
       "                }\n",
       "                .leaflet-container { font-size: 1rem; }\n",
       "            &lt;/style&gt;\n",
       "        \n",
       "&lt;/head&gt;\n",
       "&lt;body&gt;\n",
       "    \n",
       "    \n",
       "            &lt;div class=&quot;folium-map&quot; id=&quot;map_7fedd63d83b2ad8b4d338e0558178a24&quot; &gt;&lt;/div&gt;\n",
       "        \n",
       "&lt;/body&gt;\n",
       "&lt;script&gt;\n",
       "    \n",
       "    \n",
       "            var map_7fedd63d83b2ad8b4d338e0558178a24 = L.map(\n",
       "                &quot;map_7fedd63d83b2ad8b4d338e0558178a24&quot;,\n",
       "                {\n",
       "                    center: [0, 0],\n",
       "                    crs: L.CRS.EPSG3857,\n",
       "                    zoom: 1,\n",
       "                    zoomControl: true,\n",
       "                    preferCanvas: false,\n",
       "                }\n",
       "            );\n",
       "\n",
       "            \n",
       "\n",
       "        \n",
       "    \n",
       "            var tile_layer_d394dd4433c0d6effb9c9f3e93302bd5 = L.tileLayer(\n",
       "                &quot;https://{s}.tile.openstreetmap.org/{z}/{x}/{y}.png&quot;,\n",
       "                {&quot;attribution&quot;: &quot;Data by \\u0026copy; \\u003ca target=\\&quot;_blank\\&quot; href=\\&quot;http://openstreetmap.org\\&quot;\\u003eOpenStreetMap\\u003c/a\\u003e, under \\u003ca target=\\&quot;_blank\\&quot; href=\\&quot;http://www.openstreetmap.org/copyright\\&quot;\\u003eODbL\\u003c/a\\u003e.&quot;, &quot;detectRetina&quot;: false, &quot;maxNativeZoom&quot;: 18, &quot;maxZoom&quot;: 18, &quot;minZoom&quot;: 0, &quot;noWrap&quot;: false, &quot;opacity&quot;: 1, &quot;subdomains&quot;: &quot;abc&quot;, &quot;tms&quot;: false}\n",
       "            ).addTo(map_7fedd63d83b2ad8b4d338e0558178a24);\n",
       "        \n",
       "    \n",
       "\n",
       "        function geo_json_693b6095da5c05a6053ce7bbfdb0ceb8_onEachFeature(feature, layer) {\n",
       "            layer.on({\n",
       "            });\n",
       "        };\n",
       "        var geo_json_693b6095da5c05a6053ce7bbfdb0ceb8 = L.geoJson(null, {\n",
       "                onEachFeature: geo_json_693b6095da5c05a6053ce7bbfdb0ceb8_onEachFeature,\n",
       "            \n",
       "        });\n",
       "\n",
       "        function geo_json_693b6095da5c05a6053ce7bbfdb0ceb8_add (data) {\n",
       "            geo_json_693b6095da5c05a6053ce7bbfdb0ceb8\n",
       "                .addData(data)\n",
       "                .addTo(map_7fedd63d83b2ad8b4d338e0558178a24);\n",
       "        }\n",
       "            geo_json_693b6095da5c05a6053ce7bbfdb0ceb8_add({&quot;features&quot;: [{&quot;coordinates&quot;: [[[-7.858254570367981, 29.73714617124863], [-8.943014691635103, 29.741851829988846], [-9.905721726249624, 29.738504681743432], [-9.899037601313537, 29.764992273592473], [-9.861189323895216, 29.913057117566364], [-9.823401983111578, 30.061074605865105], [-9.785584587938649, 30.209037832939035], [-9.747767134691516, 30.35695452133208], [-9.709887629285536, 30.50482237907906], [-9.673591984846125, 30.641778883438057], [-9.673596666444697, 30.641778866716244], [-9.670819209240436, 30.65224156181703], [-9.651253689816919, 30.7300958295587], [-9.651247981985103, 30.73009584999874], [-9.633611504482449, 30.800253708986745], [-9.594633945953923, 30.947758964648518], [-9.557456604804102, 31.095879701476832], [-9.518906361044985, 31.243636388309277], [-9.480843487010258, 31.391656322580886], [-9.442476580831917, 31.539650834399698], [-9.417844213698451, 31.633284976145678], [-8.993448336411824, 31.63484465380323], [-8.993448306325163, 31.635270640671198], [-8.941877137238246, 31.63503418073181], [-8.890308630679199, 31.63522369776489], [-8.89030911989383, 31.63479773524354], [-7.835758781663444, 31.629962496611714], [-7.8473672434708375, 30.674258693454686], [-7.858254570367981, 29.73714617124863]]], &quot;properties&quot;: {&quot;color&quot;: &quot;orange&quot;}, &quot;type&quot;: &quot;Polygon&quot;}], &quot;type&quot;: &quot;FeatureCollection&quot;});\n",
       "\n",
       "        \n",
       "    \n",
       "            geo_json_693b6095da5c05a6053ce7bbfdb0ceb8.bindTooltip(\n",
       "                `&lt;div&gt;\n",
       "                     Orbit configuration: Descending, &lt;br&gt;Total overlap: 100.0&amp;percnt;&lt;br&gt;&lt;br&gt;&lt;b&gt;Product list (index / date / tile):&lt;/b&gt;&lt;br&gt;0 / 2023-09-18 11:07:21.024 / 29RMP&lt;br&gt;1 / 2023-09-18 11:07:21.024 / 29RMQ&lt;br&gt;2 / 2023-09-18 11:07:21.024 / 29RNQ&lt;br&gt;3 / 2023-09-18 11:07:21.024 / 29RNP\n",
       "                 &lt;/div&gt;`,\n",
       "                {&quot;sticky&quot;: true}\n",
       "            );\n",
       "        \n",
       "    \n",
       "        function geo_json_ac144203ddec39693e3590197e317779_styler(feature) {\n",
       "            switch(feature.id) {\n",
       "                default:\n",
       "                    return {&quot;color&quot;: &quot;grey&quot;, &quot;fillColor&quot;: &quot;none&quot;};\n",
       "            }\n",
       "        }\n",
       "\n",
       "        function geo_json_ac144203ddec39693e3590197e317779_onEachFeature(feature, layer) {\n",
       "            layer.on({\n",
       "            });\n",
       "        };\n",
       "        var geo_json_ac144203ddec39693e3590197e317779 = L.geoJson(null, {\n",
       "                onEachFeature: geo_json_ac144203ddec39693e3590197e317779_onEachFeature,\n",
       "            \n",
       "                style: geo_json_ac144203ddec39693e3590197e317779_styler,\n",
       "        });\n",
       "\n",
       "        function geo_json_ac144203ddec39693e3590197e317779_add (data) {\n",
       "            geo_json_ac144203ddec39693e3590197e317779\n",
       "                .addData(data)\n",
       "                .addTo(map_7fedd63d83b2ad8b4d338e0558178a24);\n",
       "        }\n",
       "            geo_json_ac144203ddec39693e3590197e317779_add({&quot;features&quot;: [{&quot;geometry&quot;: {&quot;coordinates&quot;: [[[-9.011297, 30.710698], [-9.011297, 31.257106], [-8.112916, 31.257106], [-8.112916, 30.710698], [-9.011297, 30.710698]]], &quot;type&quot;: &quot;Polygon&quot;}, &quot;id&quot;: &quot;0&quot;, &quot;properties&quot;: {}, &quot;type&quot;: &quot;Feature&quot;}], &quot;type&quot;: &quot;FeatureCollection&quot;});\n",
       "\n",
       "        \n",
       "    \n",
       "            geo_json_ac144203ddec39693e3590197e317779.bindTooltip(\n",
       "                `&lt;div&gt;\n",
       "                     Area of Interest\n",
       "                 &lt;/div&gt;`,\n",
       "                {&quot;sticky&quot;: true}\n",
       "            );\n",
       "        \n",
       "    \n",
       "            map_7fedd63d83b2ad8b4d338e0558178a24.fitBounds(\n",
       "                [[29.73733482256821, -10.054901], [31.635547113481916, -7.842407]],\n",
       "                {}\n",
       "            );\n",
       "        \n",
       "&lt;/script&gt;\n",
       "&lt;/html&gt;\" style=\"position:absolute;width:100%;height:100%;left:0;top:0;border:none !important;\" allowfullscreen webkitallowfullscreen mozallowfullscreen></iframe></div></div>"
      ],
      "text/plain": [
       "<folium.folium.Map at 0x7f1df7406a50>"
      ]
     },
     "execution_count": 4,
     "metadata": {},
     "output_type": "execute_result"
    }
   ],
   "source": [
    "visualize_S2_products(gdf, dates[7], gj_aoi)"
   ]
  },
  {
   "cell_type": "markdown",
   "metadata": {},
   "source": [
    "## Download"
   ]
  },
  {
   "cell_type": "code",
   "execution_count": null,
   "metadata": {},
   "outputs": [],
   "source": [
    "# fill indices of products to download\n",
    "indices_to_download = [1, 5]\n",
    "ids = gdf['id'][indices_to_download]\n",
    "# dl = api.download_all_quicklooks(ids, directory_path='/data/S1/')\n",
    "dl = api.download_all(ids, directory_path='/data/S1/')"
   ]
  },
  {
   "cell_type": "code",
   "execution_count": 19,
   "metadata": {},
   "outputs": [
    {
     "name": "stderr",
     "output_type": "stream",
     "text": [
      "INFO:sentinelsat.SentinelAPI:Will download 4 quicklooks\n",
      "INFO:sentinelsat.SentinelAPI:Downloading quicklook S2B_MSIL1C_20230903T110629_N0509_R137_T29RNQ_20230903T131433 to /data/tmp/S2B_MSIL1C_20230903T110629_N0509_R137_T29RNQ_20230903T131433.jpeg\n",
      "INFO:sentinelsat.SentinelAPI:Downloading quicklook S2B_MSIL1C_20230903T110629_N0509_R137_T29RMP_20230903T131433 to /data/tmp/S2B_MSIL1C_20230903T110629_N0509_R137_T29RMP_20230903T131433.jpeg\n",
      "INFO:sentinelsat.SentinelAPI:Downloading quicklook S2B_MSIL1C_20230903T110629_N0509_R137_T29RNP_20230903T131433 to /data/tmp/S2B_MSIL1C_20230903T110629_N0509_R137_T29RNP_20230903T131433.jpeg\n",
      "INFO:sentinelsat.SentinelAPI:Downloading quicklook S2B_MSIL1C_20230903T110629_N0509_R137_T29RMQ_20230903T131433 to /data/tmp/S2B_MSIL1C_20230903T110629_N0509_R137_T29RMQ_20230903T131433.jpeg\n"
     ]
    }
   ],
   "source": [
    "from localtileserver import TileClient, get_folium_tile_layer\n",
    "sel = gdf[gdf.beginposition == dates[1]]\n",
    "dl = api.download_all_quicklooks(sel.id, directory_path='/data/tmp/')\n",
    "# client = TileClient(file_in)\n",
    "# t = get_folium_tile_layer(client, vmin=0.0, vmax=1.0)\n",
    "\n",
    "# m = folium.Map(location=client.center(), zoom_start=client.default_zoom)\n",
    "# t.add_to(m)"
   ]
  },
  {
   "cell_type": "code",
   "execution_count": 1,
   "metadata": {},
   "outputs": [
    {
     "ename": "NameError",
     "evalue": "name 'dl' is not defined",
     "output_type": "error",
     "traceback": [
      "\u001b[0;31m---------------------------------------------------------------------------\u001b[0m",
      "\u001b[0;31mNameError\u001b[0m                                 Traceback (most recent call last)",
      "\u001b[1;32m/eo_tools/notebooks/sentinel-2_discovery.ipynb Cell 13\u001b[0m line \u001b[0;36m9\n\u001b[1;32m      <a href='vscode-notebook-cell://dev-container%2B7b22686f737450617468223a222f686f6d652f6f6c69766965722f656f5f746f6f6c73222c226c6f63616c446f636b6572223a66616c73652c22636f6e66696746696c65223a7b22246d6964223a312c2270617468223a222f686f6d652f6f6c69766965722f656f5f746f6f6c732f2e646576636f6e7461696e65722f646576636f6e7461696e65722e6a736f6e222c22736368656d65223a227673636f64652d66696c65486f7374227d7d@ssh-remote%2Bvps/eo_tools/notebooks/sentinel-2_discovery.ipynb#X15sdnNjb2RlLXJlbW90ZQ%3D%3D?line=5'>6</a>\u001b[0m \u001b[39m# Create an empty list to store the opened images\u001b[39;00m\n\u001b[1;32m      <a href='vscode-notebook-cell://dev-container%2B7b22686f737450617468223a222f686f6d652f6f6c69766965722f656f5f746f6f6c73222c226c6f63616c446f636b6572223a66616c73652c22636f6e66696746696c65223a7b22246d6964223a312c2270617468223a222f686f6d652f6f6c69766965722f656f5f746f6f6c732f2e646576636f6e7461696e65722f646576636f6e7461696e65722e6a736f6e222c22736368656d65223a227673636f64652d66696c65486f7374227d7d@ssh-remote%2Bvps/eo_tools/notebooks/sentinel-2_discovery.ipynb#X15sdnNjb2RlLXJlbW90ZQ%3D%3D?line=6'>7</a>\u001b[0m opened_images \u001b[39m=\u001b[39m []\n\u001b[0;32m----> <a href='vscode-notebook-cell://dev-container%2B7b22686f737450617468223a222f686f6d652f6f6c69766965722f656f5f746f6f6c73222c226c6f63616c446f636b6572223a66616c73652c22636f6e66696746696c65223a7b22246d6964223a312c2270617468223a222f686f6d652f6f6c69766965722f656f5f746f6f6c732f2e646576636f6e7461696e65722f646576636f6e7461696e65722e6a736f6e222c22736368656d65223a227673636f64652d66696c65486f7374227d7d@ssh-remote%2Bvps/eo_tools/notebooks/sentinel-2_discovery.ipynb#X15sdnNjb2RlLXJlbW90ZQ%3D%3D?line=8'>9</a>\u001b[0m \u001b[39mfor\u001b[39;00m _, item \u001b[39min\u001b[39;00m dl[\u001b[39m0\u001b[39m]\u001b[39m.\u001b[39mitems():\n\u001b[1;32m     <a href='vscode-notebook-cell://dev-container%2B7b22686f737450617468223a222f686f6d652f6f6c69766965722f656f5f746f6f6c73222c226c6f63616c446f636b6572223a66616c73652c22636f6e66696746696c65223a7b22246d6964223a312c2270617468223a222f686f6d652f6f6c69766965722f656f5f746f6f6c732f2e646576636f6e7461696e65722f646576636f6e7461696e65722e6a736f6e222c22736368656d65223a227673636f64652d66696c65486f7374227d7d@ssh-remote%2Bvps/eo_tools/notebooks/sentinel-2_discovery.ipynb#X15sdnNjb2RlLXJlbW90ZQ%3D%3D?line=9'>10</a>\u001b[0m     footprint \u001b[39m=\u001b[39m loads(item[\u001b[39m'\u001b[39m\u001b[39mfootprint\u001b[39m\u001b[39m'\u001b[39m])\n\u001b[1;32m     <a href='vscode-notebook-cell://dev-container%2B7b22686f737450617468223a222f686f6d652f6f6c69766965722f656f5f746f6f6c73222c226c6f63616c446f636b6572223a66616c73652c22636f6e66696746696c65223a7b22246d6964223a312c2270617468223a222f686f6d652f6f6c69766965722f656f5f746f6f6c732f2e646576636f6e7461696e65722f646576636f6e7461696e65722e6a736f6e222c22736368656d65223a227673636f64652d66696c65486f7374227d7d@ssh-remote%2Bvps/eo_tools/notebooks/sentinel-2_discovery.ipynb#X15sdnNjb2RlLXJlbW90ZQ%3D%3D?line=10'>11</a>\u001b[0m     image_path \u001b[39m=\u001b[39m item[\u001b[39m'\u001b[39m\u001b[39mpath\u001b[39m\u001b[39m'\u001b[39m]\n",
      "\u001b[0;31mNameError\u001b[0m: name 'dl' is not defined"
     ]
    }
   ],
   "source": [
    "from shapely.wkt import loads\n",
    "import rasterio\n",
    "from rasterio.merge import merge\n",
    "from rasterio.transform import from_gcps, GroundControlPoint\n",
    "\n",
    "# Create an empty list to store the opened images\n",
    "opened_images = []\n",
    "\n",
    "for _, item in dl[0].items():\n",
    "    footprint = loads(item['footprint'])\n",
    "    image_path = item['path']\n",
    "    # with rasterio.open(image_path) as src:\n",
    "    #     src.transform = rasterio.transform.from_origin(\n",
    "    #         src.bounds.left, src.bounds.top, pixel_size, pixel_size\n",
    "    #     )\n",
    "    #     opened_images.append(src)\n",
    "\n",
    "# Mosaic the opened images\n",
    "# mosaic, out_transform = merge(opened_images)\n",
    "\n",
    "# with rasterio.open('mosaic_geocoded_quicklooks.tif', 'w', driver='GTiff', width=mosaic.shape[2], height=mosaic.shape[1], count=mosaic.shape[0], dtype=mosaic.dtype, crs=src.crs, transform=out_transform) as dst:\n",
    "#     dst.write(mosaic)"
   ]
  },
  {
   "cell_type": "code",
   "execution_count": 35,
   "metadata": {},
   "outputs": [
    {
     "data": {
      "text/plain": [
       "{'id': '63e18dad-42eb-479d-969d-72e5e4dfa18b',\n",
       " 'title': 'S2B_MSIL1C_20230903T110629_N0509_R137_T29RMQ_20230903T131433',\n",
       " 'size': 521589195,\n",
       " 'md5': 'e97f7fde29c621734b90c2af46b0f156',\n",
       " 'date': datetime.datetime(2023, 9, 3, 11, 6, 29, 24000),\n",
       " 'footprint': 'POLYGON((-9.681671 30.641939649077752,-9.64679 30.78065337291136,-9.608154 30.92830776313329,-9.570099 31.076171114267257,-9.531555 31.22391813119656,-9.4938965 31.37202843705144,-9.455444 31.519942774426347,-9.425629 31.633535170249402,-8.897064 31.635505628734723,-8.898132 30.644778742018026,-9.681671 30.641939649077752))',\n",
       " 'url': \"https://apihub.copernicus.eu/apihub/odata/v1/Products('63e18dad-42eb-479d-969d-72e5e4dfa18b')/$value\",\n",
       " 'Online': False,\n",
       " 'Creation Date': datetime.datetime(2023, 9, 3, 16, 48, 4, 384000),\n",
       " 'Ingestion Date': datetime.datetime(2023, 9, 3, 16, 47, 39, 657000),\n",
       " 'manifest_name': 'manifest.safe',\n",
       " 'product_root_dir': 'S2B_MSIL1C_20230903T110629_N0509_R137_T29RMQ_20230903T131433.SAFE',\n",
       " 'quicklook_url': \"https://apihub.copernicus.eu/apihub/odata/v1/Products('63e18dad-42eb-479d-969d-72e5e4dfa18b')/Products('Quicklook')/$value\",\n",
       " 'path': '/data/tmp/S2B_MSIL1C_20230903T110629_N0509_R137_T29RMQ_20230903T131433.jpeg',\n",
       " 'downloaded_bytes': 46111,\n",
       " 'error': '',\n",
       " 'quicklook_size': 46111}"
      ]
     },
     "execution_count": 35,
     "metadata": {},
     "output_type": "execute_result"
    }
   ],
   "source": [
    "item"
   ]
  },
  {
   "cell_type": "code",
   "execution_count": null,
   "metadata": {},
   "outputs": [],
   "source": []
  }
 ],
 "metadata": {
  "kernelspec": {
   "display_name": "Python 3",
   "language": "python",
   "name": "python3"
  },
  "language_info": {
   "codemirror_mode": {
    "name": "ipython",
    "version": 3
   },
   "file_extension": ".py",
   "mimetype": "text/x-python",
   "name": "python",
   "nbconvert_exporter": "python",
   "pygments_lexer": "ipython3",
   "version": "3.12.0"
  },
  "orig_nbformat": 4
 },
 "nbformat": 4,
 "nbformat_minor": 2
}
