{
 "cells": [
  {
   "cell_type": "code",
   "execution_count": null,
   "metadata": {},
   "outputs": [],
   "source": [
    "import rasterio\n",
    "import numpy as np\n",
    "from pprint import pprint"
   ]
  },
  {
   "cell_type": "code",
   "execution_count": null,
   "metadata": {},
   "outputs": [],
   "source": [
    "path_cog = \"/tmp/toto.tif\"\n",
    "\n",
    "arr = np.random.rand(1,552,673).astype(\"float32\")\n",
    "# arr = np.random.rand(1,1024,1024).astype(\"float32\")\n",
    "\n",
    "prof = {\n",
    "    \"width\": arr.shape[2],\n",
    "    \"height\": arr.shape[1],\n",
    "    \"count\": 1,\n",
    "    \"dtype\": arr.dtype.name,\n",
    "    \"driver\": \"COG\",\n",
    "    \"compress\": \"deflate\",\n",
    "    \"nodata\": -9999\n",
    "}\n",
    "print(prof)\n",
    "with rasterio.open(path_cog, \"w\", **prof) as dst:\n",
    "    dst.write(arr)"
   ]
  },
  {
   "cell_type": "code",
   "execution_count": null,
   "metadata": {},
   "outputs": [],
   "source": [
    "path_cog = \"/data/res/test-s1-cog/S1_InSAR_2023-09-04-063730__2023-09-16-063730/coh_vv.tif\"\n",
    "with rasterio.open(path_cog) as src:\n",
    "    pprint(src.profile)\n",
    "    pprint(src.tags())"
   ]
  },
  {
   "cell_type": "code",
   "execution_count": null,
   "metadata": {},
   "outputs": [],
   "source": [
    "from eo_tools_dev.util import show_insar_coh"
   ]
  },
  {
   "cell_type": "code",
   "execution_count": null,
   "metadata": {},
   "outputs": [],
   "source": [
    "show_insar_coh(path_cog)"
   ]
  }
 ],
 "metadata": {
  "kernelspec": {
   "display_name": "Python 3",
   "language": "python",
   "name": "python3"
  },
  "language_info": {
   "codemirror_mode": {
    "name": "ipython",
    "version": 3
   },
   "file_extension": ".py",
   "mimetype": "text/x-python",
   "name": "python",
   "nbconvert_exporter": "python",
   "pygments_lexer": "ipython3",
   "version": "3.12.4"
  }
 },
 "nbformat": 4,
 "nbformat_minor": 2
}
