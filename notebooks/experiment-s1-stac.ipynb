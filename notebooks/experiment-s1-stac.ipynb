{
 "cells": [
  {
   "cell_type": "markdown",
   "id": "8b5e4229",
   "metadata": {},
   "source": [
    "- [x] Create product subdir tree \n",
    "- [x] Download all files to subdirs\n",
    "    - [x] List all files\n",
    "    - [x] Parse location from safe dir \n",
    "    - [x] move all files to their local dir\n",
    "- [x] ID burst overlapping with AOI\n",
    "    - [ ] ~~Use burst API? Get IDs and products~~\n",
    "    - [x] Or use burst info in product\n",
    "- [x] Compute burst offsets\n",
    "- [x] Add min and max burst metadata in each dataset\n",
    "- [x] Download the burst range in each IW to zarr"
   ]
  },
  {
   "cell_type": "code",
   "execution_count": null,
   "id": "e7d848ad",
   "metadata": {},
   "outputs": [],
   "source": [
    "from pystac_client.client import Client\n",
    "import geopandas as gpd\n",
    "import rioxarray as riox\n",
    "import xarray as xr\n",
    "import json\n",
    "from dask.diagnostics import ProgressBar\n",
    "from pathlib import Path\n",
    "from urllib.parse import urlparse\n",
    "import os\n",
    "\n",
    "from rasterio.session import AWSSession\n",
    "import rasterio\n",
    "import boto3"
   ]
  },
  {
   "cell_type": "markdown",
   "id": "1e7c16e4",
   "metadata": {},
   "source": [
    "## Open AWS sessions"
   ]
  },
  {
   "cell_type": "code",
   "execution_count": null,
   "id": "364db0da",
   "metadata": {},
   "outputs": [],
   "source": [
    "out_dir = \"/data/res/test_partial_product/\"\n",
    "if not os.path.isdir(out_dir):\n",
    "    os.mkdir(out_dir)\n",
    "\n",
    "# use the creds created on CDSE website\n",
    "with open(\"/data/creds_s3.json\") as f:\n",
    "    cred = json.load(f)\n",
    "\n",
    "un = cred[\"username\"]\n",
    "pw = cred[\"password\"]\n",
    "\n",
    "# rasterio session\n",
    "rio_session = AWSSession(\n",
    "    aws_access_key_id=un,\n",
    "    aws_secret_access_key=pw,\n",
    "    region_name=\"default\",\n",
    "    endpoint_url=\"eodata.dataspace.copernicus.eu\")\n",
    "\n",
    "# needed for other (non-tiff) files\n",
    "session = boto3.session.Session()\n",
    "s3 = boto3.resource(\n",
    "    's3',\n",
    "    endpoint_url='https://eodata.dataspace.copernicus.eu',\n",
    "    aws_access_key_id=un,\n",
    "    aws_secret_access_key=pw,\n",
    "    region_name='default'\n",
    ")"
   ]
  },
  {
   "cell_type": "markdown",
   "id": "b49594b8",
   "metadata": {},
   "source": [
    "## Search products with STAC API"
   ]
  },
  {
   "cell_type": "code",
   "execution_count": null,
   "id": "f7f7606d",
   "metadata": {},
   "outputs": [],
   "source": [
    "# Search using STAC api\n",
    "catalog = Client.open(\n",
    "    \"https://stac.dataspace.copernicus.eu/v1/\"\n",
    ")\n",
    "aoi_file = \"../data/Morocco_AOI.geojson\"\n",
    "shp = gpd.read_file(aoi_file).geometry[0]\n",
    "search = catalog.search(collections=[\"sentinel-1-slc\"], intersects=shp)\n",
    "\n",
    "# work only with the first result for now\n",
    "it = next(search.items())"
   ]
  },
  {
   "cell_type": "markdown",
   "id": "66de1c12",
   "metadata": {},
   "source": [
    "## Extract path info"
   ]
  },
  {
   "cell_type": "code",
   "execution_count": null,
   "id": "475d19d0",
   "metadata": {},
   "outputs": [],
   "source": [
    "# product will be saved in this subdir\n",
    "product_root_dir = f\"{it.id}.SAFE\"\n",
    "\n",
    "# use manifest file to get S3 bucket and prefix\n",
    "manifest_url = it.assets[\"safe_manifest\"].href\n",
    "\n",
    "# Parse the url\n",
    "parsed = urlparse(manifest_url)\n",
    "if parsed.scheme != \"s3\":\n",
    "    raise ValueError(\"Product url does not start with s3://\")\n",
    "\n",
    "# Bucket is the \"netloc\"\n",
    "bucket_name = parsed.netloc\n",
    "\n",
    "# Look for subdir prefix\n",
    "manifest_path = Path(parsed.path.lstrip(\"/\"))\n",
    "prefix = str(manifest_path.parent)"
   ]
  },
  {
   "cell_type": "markdown",
   "id": "899f0414",
   "metadata": {},
   "source": [
    "## List all files"
   ]
  },
  {
   "cell_type": "code",
   "execution_count": null,
   "id": "32712cbd",
   "metadata": {},
   "outputs": [],
   "source": [
    "# try to find xml files\n",
    "bucket = s3.Bucket(bucket_name)\n",
    "files = [it.key for it in list(\n",
    "    bucket.objects.filter(\n",
    "        Prefix=prefix\n",
    "    )\n",
    ")]\n",
    "# for f in list(files):\n",
    "    # print(f)\n"
   ]
  },
  {
   "cell_type": "markdown",
   "id": "16a206a3",
   "metadata": {},
   "source": [
    "## Create local tree"
   ]
  },
  {
   "cell_type": "code",
   "execution_count": null,
   "id": "38196858",
   "metadata": {},
   "outputs": [],
   "source": [
    "subdirs = (\"annotation\", \"measurement\", \"preview\", \"support\", \"annotation/rfi\", \"annotation/calibration\", \"preview/icons\")\n",
    "for subdir in subdirs:\n",
    "    subpath = Path(out_dir) / product_root_dir / subdir\n",
    "    if not os.path.isdir(subpath):\n",
    "        os.makedirs(subpath)"
   ]
  },
  {
   "cell_type": "markdown",
   "id": "7de5ce52",
   "metadata": {},
   "source": [
    "## Download and copy annotation files"
   ]
  },
  {
   "cell_type": "code",
   "execution_count": null,
   "id": "250c303d",
   "metadata": {},
   "outputs": [],
   "source": [
    "for f in files:\n",
    "    remote_file = f\n",
    "\n",
    "    # remove all that is before the SAFE dir\n",
    "    parts = Path(f).parts\n",
    "    idx = parts.index(product_root_dir)\n",
    "    # keep only the subdir (?)\n",
    "    local_path = str(Path(out_dir) / Path(*parts[idx:]))#.parent\n",
    "    # skip raster files\n",
    "    if Path(remote_file).suffix != \".tiff\":    \n",
    "        bucket.download_file(remote_file, local_path)"
   ]
  },
  {
   "cell_type": "markdown",
   "id": "dd50035d",
   "metadata": {},
   "source": [
    "## Crop and download raster"
   ]
  },
  {
   "cell_type": "code",
   "execution_count": null,
   "id": "62040574",
   "metadata": {},
   "outputs": [],
   "source": [
    "from eo_tools.auxils import get_burst_geometry\n",
    "from eo_tools.S1.core import read_metadata\n",
    "\n",
    "# retrieve burst geometries\n",
    "gdf_burst= get_burst_geometry(\n",
    "    str(Path(out_dir) / product_root_dir),\n",
    "    target_subswaths=[\"IW1\", \"IW2\", \"IW3\"],\n",
    "    polarization=\"VV\",\n",
    ")\n",
    "\n",
    "# find what subswaths and bursts intersect AOI\n",
    "gdf_burst= gdf_burst[gdf_burst.intersects(shp)]\n",
    "\n",
    "\n",
    "# TODO: loop on polarizations and iw\n",
    "iw = \"3\"\n",
    "pol = \"vv\"\n",
    "\n",
    "# use metadata to find where to crop\n",
    "str_xml = f\"**/annotation/*iw{iw}*{pol}*.xml\"\n",
    "pth_xml = list((Path(out_dir) / product_root_dir).glob(str_xml))[0]\n",
    "meta = read_metadata(pth_xml=pth_xml)\n",
    "burst_info = meta[\"product\"][\"swathTiming\"]\n",
    "lines_per_burst = int(burst_info[\"linesPerBurst\"])\n",
    "burst_indices = gdf_burst[gdf_burst.subswath == f\"IW{iw}\"].burst\n",
    "min_burst = burst_indices.min()\n",
    "max_burst = burst_indices.max()\n",
    "line_start = lines_per_burst * (min_burst - 1)\n",
    "num_lines = lines_per_burst * (max_burst - min_burst + 1)\n",
    "line_end = line_start + num_lines\n",
    "\n",
    "# open raster\n",
    "url = it.assets[f\"iw{iw}-{pol}\"].href\n",
    "# !! Important: open as a dataset (band_as_variable=True)\n",
    "with rasterio.Env(session=rio_session, AWS_VIRTUAL_HOSTING=False):\n",
    "    ds = riox.open_rasterio(url, chunks=\"auto\", band_as_variable=True)\n",
    "\n",
    "# Complex not handled (yet) in zarr\n",
    "ds[\"i\"] = ds.band_1.real\n",
    "ds[\"q\"] = ds.band_1.imag\n",
    "del ds[\"band_1\"]\n",
    "\n",
    "ds.attrs[\"min_burst\"] = min_burst\n",
    "ds.attrs[\"max_burst\"] = max_burst\n",
    "\n",
    "# download cropped array\n",
    "zarr_name = f\"{Path(url).stem}.zarr\" \n",
    "zarr_out = Path(out_dir) / product_root_dir / \"measurement\" / zarr_name\n",
    "with ProgressBar():\n",
    "    ds.isel(y=slice(line_start, line_end)).chunk(\"auto\").to_zarr(zarr_out, mode=\"w\")"
   ]
  },
  {
   "cell_type": "code",
   "execution_count": null,
   "id": "44520bca",
   "metadata": {},
   "outputs": [],
   "source": [
    "import xarray as xr\n",
    "zarr_out = Path(out_dir) / product_root_dir / \"measurement\" / zarr_name\n",
    "# ds2 = xr.open_zarr(zarr_out)\n",
    "ds2 = xr.open_dataset(zarr_out, chunks=\"auto\")\n",
    "# ds2 = xr.open_dataarray(zarr_out)"
   ]
  },
  {
   "cell_type": "code",
   "execution_count": null,
   "id": "4543532d",
   "metadata": {},
   "outputs": [],
   "source": [
    "ds2"
   ]
  },
  {
   "cell_type": "code",
   "execution_count": null,
   "id": "dbb57bdf",
   "metadata": {},
   "outputs": [],
   "source": [
    "import numpy as np\n",
    "band = ds2.i + 1j*ds2.q\n",
    "band = xr.where(band==0+1j*0, np.nan, band)"
   ]
  },
  {
   "cell_type": "code",
   "execution_count": null,
   "id": "58d3b35f",
   "metadata": {},
   "outputs": [],
   "source": [
    "abs(band[:, ::4]).plot.imshow(vmax=1000)"
   ]
  },
  {
   "cell_type": "code",
   "execution_count": null,
   "id": "73defb8f",
   "metadata": {},
   "outputs": [],
   "source": [
    "# parts = Path(f).parts\n",
    "# idx = parts.index(product_root_dir)\n",
    "# keep only the subdir (?)\n",
    "# local_path = str(Path(out_dir) / Path(*parts[idx:])"
   ]
  },
  {
   "cell_type": "markdown",
   "id": "ccd5aed6",
   "metadata": {},
   "source": [
    "## Read burst ranges in raster"
   ]
  },
  {
   "cell_type": "code",
   "execution_count": null,
   "id": "aa0fc6e8",
   "metadata": {},
   "outputs": [],
   "source": [
    "# this may not be needed\n",
    "url = it.assets[\"iw1-vv\"].href\n",
    "annotation_url = it.assets[\"schema-product-iw1-vh\"].href"
   ]
  },
  {
   "cell_type": "code",
   "execution_count": null,
   "id": "2c72337e",
   "metadata": {},
   "outputs": [],
   "source": [
    "# open remote dataset\n",
    "with rasterio.Env(session=rio_session, AWS_VIRTUAL_HOSTING=False):\n",
    "    ds = riox.open_rasterio(url, chunks=\"auto\")\n",
    "\n",
    "# download cropped array\n",
    "# with ProgressBar():\n",
    "    # ds[0, :1500].to_zarr(\"/data/res/test_s3_S1.zarr\", mode=\"w\")"
   ]
  },
  {
   "cell_type": "markdown",
   "id": "49735d84",
   "metadata": {},
   "source": [
    "This fails:\n",
    "```bash\n",
    "./sentinel1_burst_extractor_spatiotemporal.sh -p vv -s 2025-09-25 -e 2025-09-30 -x 30.19358 -y -7.2473372\n",
    "```\n",
    "Example from the docs also fails. Problem with string parsing."
   ]
  },
  {
   "cell_type": "code",
   "execution_count": null,
   "id": "02c48ed9",
   "metadata": {},
   "outputs": [],
   "source": [
    "# l = list(search.items())\n",
    "s = search.items()"
   ]
  },
  {
   "cell_type": "code",
   "execution_count": null,
   "id": "2e3d3c8d",
   "metadata": {},
   "outputs": [],
   "source": [
    "# for k, v in it.to_dict()[\"properties\"].items():\n",
    "    # print(k, v)\n",
    "\n",
    "from shapely.geometry import shape\n",
    "start_times = []\n",
    "ids = []\n",
    "relative_orbits = []\n",
    "orbit_states = []\n",
    "geometries = []\n",
    "\n",
    "for it in list(search.items()):\n",
    "    it_dict = it.to_dict()\n",
    "    props = it_dict[\"properties\"]\n",
    "    start_times.append(props[\"start_datetime\"])\n",
    "    ids.append(it.id)\n",
    "    relative_orbits.append(props[\"sat:relative_orbit\"])\n",
    "    orbit_states.append(props[\"sat:orbit_state\"])\n",
    "    geometries.append(shape(it.geometry))\n",
    "\n",
    "gdf = gpd.GeoDataFrame(data={\"id\": ids, \"start_time\": start_times}, geometry=geometries)\n",
    "\n",
    "# fields = [\"start_datetime\", \"id\", \"sat:relative_orbit\", \"sat:orbit_state\"]"
   ]
  },
  {
   "cell_type": "code",
   "execution_count": null,
   "id": "dfdf8cfe",
   "metadata": {},
   "outputs": [],
   "source": [
    "m = gdf[:10].explore(tiles=\"https://tile.openstreetmap.org/{z}/{x}/{y}.png\")"
   ]
  },
  {
   "cell_type": "code",
   "execution_count": null,
   "id": "4084f9bd",
   "metadata": {},
   "outputs": [],
   "source": [
    "from eo_tools_dev.util import serve_map \n",
    "serve_map(m)"
   ]
  },
  {
   "cell_type": "code",
   "execution_count": null,
   "id": "10507875",
   "metadata": {},
   "outputs": [],
   "source": [
    "from folium import Map\n",
    "Map()\n",
    "# serve_map(m)"
   ]
  },
  {
   "cell_type": "code",
   "execution_count": null,
   "id": "db4ccd02",
   "metadata": {},
   "outputs": [],
   "source": []
  }
 ],
 "metadata": {
  "kernelspec": {
   "display_name": "eo_tools",
   "language": "python",
   "name": "python3"
  },
  "language_info": {
   "codemirror_mode": {
    "name": "ipython",
    "version": 3
   },
   "file_extension": ".py",
   "mimetype": "text/x-python",
   "name": "python",
   "nbconvert_exporter": "python",
   "pygments_lexer": "ipython3",
   "version": "3.12.11"
  }
 },
 "nbformat": 4,
 "nbformat_minor": 5
}
