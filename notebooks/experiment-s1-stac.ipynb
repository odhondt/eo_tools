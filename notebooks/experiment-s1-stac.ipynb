{
 "cells": [
  {
   "cell_type": "markdown",
   "id": "8b5e4229",
   "metadata": {},
   "source": [
    "- [ ] Create product subdir tree \n",
    "- [ ] Download all files to subdirs\n",
    "    - [ ] List all files\n",
    "    - [ ] Parse location from safe dir \n",
    "    - [ ] move all files to their local dir\n",
    "- [ ] ID burst overlapping with AOI\n",
    "    - [ ] Use burst API? Get IDs and products\n",
    "    - [ ] Or use burst info in product\n",
    "- [ ] Compute burst offsets\n",
    "- [ ] Open datasets and add a burst_start and burst_end attribute\n",
    "- [ ] Download the burst range in each IW to zarr"
   ]
  },
  {
   "cell_type": "code",
   "execution_count": null,
   "id": "e7d848ad",
   "metadata": {},
   "outputs": [],
   "source": [
    "from pystac_client.client import Client\n",
    "import geopandas as gpd\n",
    "import rioxarray as riox\n",
    "import xarray as xr\n",
    "import json\n",
    "from dask.diagnostics import ProgressBar\n",
    "from pathlib import Path\n",
    "from urllib.parse import urlparse\n",
    "import os\n",
    "\n",
    "from rasterio.session import AWSSession\n",
    "import rasterio\n",
    "import boto3"
   ]
  },
  {
   "cell_type": "code",
   "execution_count": null,
   "id": "364db0da",
   "metadata": {},
   "outputs": [],
   "source": [
    "out_dir = \"/data/res/test_partial_product/\"\n",
    "if not os.path.isdir(out_dir):\n",
    "    os.mkdir(out_dir)\n",
    "\n",
    "# use the creds created on CDSE website\n",
    "with open(\"/data/creds_s3.json\") as f:\n",
    "    cred = json.load(f)\n",
    "\n",
    "un = cred[\"username\"]\n",
    "pw = cred[\"password\"]\n",
    "\n",
    "# rasterio handles S3 sessions\n",
    "rio_session = AWSSession(\n",
    "    aws_access_key_id=un,\n",
    "    aws_secret_access_key=pw,\n",
    "    region_name=\"default\",\n",
    "    endpoint_url=\"eodata.dataspace.copernicus.eu\")\n",
    "\n",
    "\n",
    "session = boto3.session.Session()\n",
    "s3 = boto3.resource(\n",
    "    's3',\n",
    "    endpoint_url='https://eodata.dataspace.copernicus.eu',\n",
    "    aws_access_key_id=un,\n",
    "    aws_secret_access_key=pw,\n",
    "    region_name='default'\n",
    ")\n",
    "\n",
    "# aws_session = boto3.Session(\n",
    "#     aws_access_key_id=un,\n",
    "#     aws_secret_access_key=pw,\n",
    "#     region_name=\"default\",\n",
    "# )"
   ]
  },
  {
   "cell_type": "code",
   "execution_count": 49,
   "id": "f7f7606d",
   "metadata": {},
   "outputs": [],
   "source": [
    "# Search using STAC api\n",
    "catalog = Client.open(\n",
    "    \"https://stac.dataspace.copernicus.eu/v1/\"\n",
    ")\n",
    "aoi_file = \"../data/Morocco_AOI.geojson\"\n",
    "shp = gpd.read_file(aoi_file).geometry[0]\n",
    "search = catalog.search(collections=[\"sentinel-1-slc\"], intersects=shp)\n",
    "it = next(search.items())\n",
    "product_id = it.id\n",
    "product_root_dir = f\"{product_id}.SAFE\"\n",
    "product_root_dir\n",
    "\n",
    "url = it.assets[\"iw1-vv\"].href\n",
    "\n",
    "manifest_url = it.assets[\"safe_manifest\"].href\n",
    "\n",
    "\n",
    "# Parse the URL\n",
    "parsed = urlparse(manifest_url)\n",
    "\n",
    "# Bucket is the \"netloc\"\n",
    "bucket_name = parsed.netloc\n",
    "manifest_path = Path(parsed.path.lstrip(\"/\"))\n",
    "prefix = str(manifest_path.parent)"
   ]
  },
  {
   "cell_type": "code",
   "execution_count": null,
   "id": "ee1c1e87",
   "metadata": {},
   "outputs": [],
   "source": [
    "# open remote dataset\n",
    "with rasterio.Env(session=rio_session, AWS_VIRTUAL_HOSTING=False):\n",
    "    ds = riox.open_rasterio(url, chunks=\"auto\")"
   ]
  },
  {
   "cell_type": "code",
   "execution_count": null,
   "id": "ab9c4155",
   "metadata": {},
   "outputs": [],
   "source": [
    "# download cropped array\n",
    "with ProgressBar():\n",
    "    ds[0, :1500].to_zarr(\"/data/res/test_s3_S1.zarr\", mode=\"w\")"
   ]
  },
  {
   "cell_type": "code",
   "execution_count": null,
   "id": "afb4694f",
   "metadata": {},
   "outputs": [],
   "source": [
    "url2 = it.assets[\"schema-product-iw1-vh\"]\n",
    "url2"
   ]
  },
  {
   "cell_type": "code",
   "execution_count": 40,
   "id": "dbed8850",
   "metadata": {},
   "outputs": [
    {
     "data": {
      "text/plain": [
       "'/'"
      ]
     },
     "execution_count": 40,
     "metadata": {},
     "output_type": "execute_result"
    }
   ],
   "source": [
    "prefix.anchor"
   ]
  },
  {
   "cell_type": "code",
   "execution_count": null,
   "id": "32712cbd",
   "metadata": {},
   "outputs": [],
   "source": [
    "# try to find xml files\n",
    "bucket = s3.Bucket(bucket_name)\n",
    "files = [it.key for it in list(\n",
    "    bucket.objects.filter(\n",
    "        Prefix=prefix\n",
    "    )\n",
    ")]\n"
   ]
  },
  {
   "cell_type": "code",
   "execution_count": 51,
   "id": "38196858",
   "metadata": {},
   "outputs": [
    {
     "name": "stdout",
     "output_type": "stream",
     "text": [
      "Sentinel-1/SAR/IW_SLC__1S/2025/09/30/S1C_IW_SLC__1SDV_20250930T062813_20250930T062840_004350_0089FE_0756.SAFE/S1C_IW_SLC__1SDV_20250930T062813_20250930T062840_004350_0089FE_0756.SAFE-report-20250930T070344.pdf\n",
      "Sentinel-1/SAR/IW_SLC__1S/2025/09/30/S1C_IW_SLC__1SDV_20250930T062813_20250930T062840_004350_0089FE_0756.SAFE/annotation/calibration/calibration-s1c-iw1-slc-vh-20250930t062813-20250930t062838-004350-0089fe-001.xml\n",
      "Sentinel-1/SAR/IW_SLC__1S/2025/09/30/S1C_IW_SLC__1SDV_20250930T062813_20250930T062840_004350_0089FE_0756.SAFE/annotation/calibration/calibration-s1c-iw1-slc-vv-20250930t062813-20250930t062838-004350-0089fe-004.xml\n",
      "Sentinel-1/SAR/IW_SLC__1S/2025/09/30/S1C_IW_SLC__1SDV_20250930T062813_20250930T062840_004350_0089FE_0756.SAFE/annotation/calibration/calibration-s1c-iw2-slc-vh-20250930t062814-20250930t062839-004350-0089fe-002.xml\n",
      "Sentinel-1/SAR/IW_SLC__1S/2025/09/30/S1C_IW_SLC__1SDV_20250930T062813_20250930T062840_004350_0089FE_0756.SAFE/annotation/calibration/calibration-s1c-iw2-slc-vv-20250930t062814-20250930t062839-004350-0089fe-005.xml\n",
      "Sentinel-1/SAR/IW_SLC__1S/2025/09/30/S1C_IW_SLC__1SDV_20250930T062813_20250930T062840_004350_0089FE_0756.SAFE/annotation/calibration/calibration-s1c-iw3-slc-vh-20250930t062815-20250930t062840-004350-0089fe-003.xml\n",
      "Sentinel-1/SAR/IW_SLC__1S/2025/09/30/S1C_IW_SLC__1SDV_20250930T062813_20250930T062840_004350_0089FE_0756.SAFE/annotation/calibration/calibration-s1c-iw3-slc-vv-20250930t062815-20250930t062840-004350-0089fe-006.xml\n",
      "Sentinel-1/SAR/IW_SLC__1S/2025/09/30/S1C_IW_SLC__1SDV_20250930T062813_20250930T062840_004350_0089FE_0756.SAFE/annotation/calibration/noise-s1c-iw1-slc-vh-20250930t062813-20250930t062838-004350-0089fe-001.xml\n",
      "Sentinel-1/SAR/IW_SLC__1S/2025/09/30/S1C_IW_SLC__1SDV_20250930T062813_20250930T062840_004350_0089FE_0756.SAFE/annotation/calibration/noise-s1c-iw1-slc-vv-20250930t062813-20250930t062838-004350-0089fe-004.xml\n",
      "Sentinel-1/SAR/IW_SLC__1S/2025/09/30/S1C_IW_SLC__1SDV_20250930T062813_20250930T062840_004350_0089FE_0756.SAFE/annotation/calibration/noise-s1c-iw2-slc-vh-20250930t062814-20250930t062839-004350-0089fe-002.xml\n",
      "Sentinel-1/SAR/IW_SLC__1S/2025/09/30/S1C_IW_SLC__1SDV_20250930T062813_20250930T062840_004350_0089FE_0756.SAFE/annotation/calibration/noise-s1c-iw2-slc-vv-20250930t062814-20250930t062839-004350-0089fe-005.xml\n",
      "Sentinel-1/SAR/IW_SLC__1S/2025/09/30/S1C_IW_SLC__1SDV_20250930T062813_20250930T062840_004350_0089FE_0756.SAFE/annotation/calibration/noise-s1c-iw3-slc-vh-20250930t062815-20250930t062840-004350-0089fe-003.xml\n",
      "Sentinel-1/SAR/IW_SLC__1S/2025/09/30/S1C_IW_SLC__1SDV_20250930T062813_20250930T062840_004350_0089FE_0756.SAFE/annotation/calibration/noise-s1c-iw3-slc-vv-20250930t062815-20250930t062840-004350-0089fe-006.xml\n",
      "Sentinel-1/SAR/IW_SLC__1S/2025/09/30/S1C_IW_SLC__1SDV_20250930T062813_20250930T062840_004350_0089FE_0756.SAFE/annotation/rfi/rfi-s1c-iw1-slc-vh-20250930t062813-20250930t062838-004350-0089fe-001.xml\n",
      "Sentinel-1/SAR/IW_SLC__1S/2025/09/30/S1C_IW_SLC__1SDV_20250930T062813_20250930T062840_004350_0089FE_0756.SAFE/annotation/rfi/rfi-s1c-iw1-slc-vv-20250930t062813-20250930t062838-004350-0089fe-004.xml\n",
      "Sentinel-1/SAR/IW_SLC__1S/2025/09/30/S1C_IW_SLC__1SDV_20250930T062813_20250930T062840_004350_0089FE_0756.SAFE/annotation/rfi/rfi-s1c-iw2-slc-vh-20250930t062814-20250930t062839-004350-0089fe-002.xml\n",
      "Sentinel-1/SAR/IW_SLC__1S/2025/09/30/S1C_IW_SLC__1SDV_20250930T062813_20250930T062840_004350_0089FE_0756.SAFE/annotation/rfi/rfi-s1c-iw2-slc-vv-20250930t062814-20250930t062839-004350-0089fe-005.xml\n",
      "Sentinel-1/SAR/IW_SLC__1S/2025/09/30/S1C_IW_SLC__1SDV_20250930T062813_20250930T062840_004350_0089FE_0756.SAFE/annotation/rfi/rfi-s1c-iw3-slc-vh-20250930t062815-20250930t062840-004350-0089fe-003.xml\n",
      "Sentinel-1/SAR/IW_SLC__1S/2025/09/30/S1C_IW_SLC__1SDV_20250930T062813_20250930T062840_004350_0089FE_0756.SAFE/annotation/rfi/rfi-s1c-iw3-slc-vv-20250930t062815-20250930t062840-004350-0089fe-006.xml\n",
      "Sentinel-1/SAR/IW_SLC__1S/2025/09/30/S1C_IW_SLC__1SDV_20250930T062813_20250930T062840_004350_0089FE_0756.SAFE/annotation/s1c-iw1-slc-vh-20250930t062813-20250930t062838-004350-0089fe-001.xml\n",
      "Sentinel-1/SAR/IW_SLC__1S/2025/09/30/S1C_IW_SLC__1SDV_20250930T062813_20250930T062840_004350_0089FE_0756.SAFE/annotation/s1c-iw1-slc-vv-20250930t062813-20250930t062838-004350-0089fe-004.xml\n",
      "Sentinel-1/SAR/IW_SLC__1S/2025/09/30/S1C_IW_SLC__1SDV_20250930T062813_20250930T062840_004350_0089FE_0756.SAFE/annotation/s1c-iw2-slc-vh-20250930t062814-20250930t062839-004350-0089fe-002.xml\n",
      "Sentinel-1/SAR/IW_SLC__1S/2025/09/30/S1C_IW_SLC__1SDV_20250930T062813_20250930T062840_004350_0089FE_0756.SAFE/annotation/s1c-iw2-slc-vv-20250930t062814-20250930t062839-004350-0089fe-005.xml\n",
      "Sentinel-1/SAR/IW_SLC__1S/2025/09/30/S1C_IW_SLC__1SDV_20250930T062813_20250930T062840_004350_0089FE_0756.SAFE/annotation/s1c-iw3-slc-vh-20250930t062815-20250930t062840-004350-0089fe-003.xml\n",
      "Sentinel-1/SAR/IW_SLC__1S/2025/09/30/S1C_IW_SLC__1SDV_20250930T062813_20250930T062840_004350_0089FE_0756.SAFE/annotation/s1c-iw3-slc-vv-20250930t062815-20250930t062840-004350-0089fe-006.xml\n",
      "Sentinel-1/SAR/IW_SLC__1S/2025/09/30/S1C_IW_SLC__1SDV_20250930T062813_20250930T062840_004350_0089FE_0756.SAFE/manifest.safe\n",
      "Sentinel-1/SAR/IW_SLC__1S/2025/09/30/S1C_IW_SLC__1SDV_20250930T062813_20250930T062840_004350_0089FE_0756.SAFE/measurement/s1c-iw1-slc-vh-20250930t062813-20250930t062838-004350-0089fe-001.tiff\n",
      "Sentinel-1/SAR/IW_SLC__1S/2025/09/30/S1C_IW_SLC__1SDV_20250930T062813_20250930T062840_004350_0089FE_0756.SAFE/measurement/s1c-iw1-slc-vv-20250930t062813-20250930t062838-004350-0089fe-004.tiff\n",
      "Sentinel-1/SAR/IW_SLC__1S/2025/09/30/S1C_IW_SLC__1SDV_20250930T062813_20250930T062840_004350_0089FE_0756.SAFE/measurement/s1c-iw2-slc-vh-20250930t062814-20250930t062839-004350-0089fe-002.tiff\n",
      "Sentinel-1/SAR/IW_SLC__1S/2025/09/30/S1C_IW_SLC__1SDV_20250930T062813_20250930T062840_004350_0089FE_0756.SAFE/measurement/s1c-iw2-slc-vv-20250930t062814-20250930t062839-004350-0089fe-005.tiff\n",
      "Sentinel-1/SAR/IW_SLC__1S/2025/09/30/S1C_IW_SLC__1SDV_20250930T062813_20250930T062840_004350_0089FE_0756.SAFE/measurement/s1c-iw3-slc-vh-20250930t062815-20250930t062840-004350-0089fe-003.tiff\n",
      "Sentinel-1/SAR/IW_SLC__1S/2025/09/30/S1C_IW_SLC__1SDV_20250930T062813_20250930T062840_004350_0089FE_0756.SAFE/measurement/s1c-iw3-slc-vv-20250930t062815-20250930t062840-004350-0089fe-006.tiff\n",
      "Sentinel-1/SAR/IW_SLC__1S/2025/09/30/S1C_IW_SLC__1SDV_20250930T062813_20250930T062840_004350_0089FE_0756.SAFE/preview/icons/logo.png\n",
      "Sentinel-1/SAR/IW_SLC__1S/2025/09/30/S1C_IW_SLC__1SDV_20250930T062813_20250930T062840_004350_0089FE_0756.SAFE/preview/map-overlay.kml\n",
      "Sentinel-1/SAR/IW_SLC__1S/2025/09/30/S1C_IW_SLC__1SDV_20250930T062813_20250930T062840_004350_0089FE_0756.SAFE/preview/product-preview.html\n",
      "Sentinel-1/SAR/IW_SLC__1S/2025/09/30/S1C_IW_SLC__1SDV_20250930T062813_20250930T062840_004350_0089FE_0756.SAFE/preview/quick-look.png\n",
      "Sentinel-1/SAR/IW_SLC__1S/2025/09/30/S1C_IW_SLC__1SDV_20250930T062813_20250930T062840_004350_0089FE_0756.SAFE/preview/thumbnail.png\n",
      "Sentinel-1/SAR/IW_SLC__1S/2025/09/30/S1C_IW_SLC__1SDV_20250930T062813_20250930T062840_004350_0089FE_0756.SAFE/support/s1-level-1-calibration.xsd\n",
      "Sentinel-1/SAR/IW_SLC__1S/2025/09/30/S1C_IW_SLC__1SDV_20250930T062813_20250930T062840_004350_0089FE_0756.SAFE/support/s1-level-1-measurement.xsd\n",
      "Sentinel-1/SAR/IW_SLC__1S/2025/09/30/S1C_IW_SLC__1SDV_20250930T062813_20250930T062840_004350_0089FE_0756.SAFE/support/s1-level-1-noise.xsd\n",
      "Sentinel-1/SAR/IW_SLC__1S/2025/09/30/S1C_IW_SLC__1SDV_20250930T062813_20250930T062840_004350_0089FE_0756.SAFE/support/s1-level-1-product.xsd\n",
      "Sentinel-1/SAR/IW_SLC__1S/2025/09/30/S1C_IW_SLC__1SDV_20250930T062813_20250930T062840_004350_0089FE_0756.SAFE/support/s1-level-1-quicklook.xsd\n",
      "Sentinel-1/SAR/IW_SLC__1S/2025/09/30/S1C_IW_SLC__1SDV_20250930T062813_20250930T062840_004350_0089FE_0756.SAFE/support/s1-level-1-rfi.xsd\n",
      "Sentinel-1/SAR/IW_SLC__1S/2025/09/30/S1C_IW_SLC__1SDV_20250930T062813_20250930T062840_004350_0089FE_0756.SAFE/support/s1-map-overlay.xsd\n",
      "Sentinel-1/SAR/IW_SLC__1S/2025/09/30/S1C_IW_SLC__1SDV_20250930T062813_20250930T062840_004350_0089FE_0756.SAFE/support/s1-object-types.xsd\n",
      "Sentinel-1/SAR/IW_SLC__1S/2025/09/30/S1C_IW_SLC__1SDV_20250930T062813_20250930T062840_004350_0089FE_0756.SAFE/support/s1-product-preview.xsd\n"
     ]
    }
   ],
   "source": [
    "# f = files[0].key\n",
    "# Path(f).parent.name\n",
    "for f in files:\n",
    "    print(Path(f))\n",
    "subdirs = (\"annotation\", \"measurement\", \"preview\", \"support\", \"annotation/rfi\")\n"
   ]
  },
  {
   "cell_type": "markdown",
   "id": "49735d84",
   "metadata": {},
   "source": [
    "This fails:\n",
    "```bash\n",
    "./sentinel1_burst_extractor_spatiotemporal.sh -p vv -s 2025-09-25 -e 2025-09-30 -x 30.19358 -y -7.2473372\n",
    "```\n",
    "Example from the docs also fails. Problem with string parsing."
   ]
  },
  {
   "cell_type": "markdown",
   "id": "19ebd315",
   "metadata": {},
   "source": []
  }
 ],
 "metadata": {
  "kernelspec": {
   "display_name": "eo_tools",
   "language": "python",
   "name": "python3"
  },
  "language_info": {
   "codemirror_mode": {
    "name": "ipython",
    "version": 3
   },
   "file_extension": ".py",
   "mimetype": "text/x-python",
   "name": "python",
   "nbconvert_exporter": "python",
   "pygments_lexer": "ipython3",
   "version": "3.12.11"
  }
 },
 "nbformat": 4,
 "nbformat_minor": 5
}
