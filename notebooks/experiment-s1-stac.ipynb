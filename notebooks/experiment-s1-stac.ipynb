{
 "cells": [
  {
   "cell_type": "code",
   "execution_count": null,
   "id": "e7d848ad",
   "metadata": {},
   "outputs": [],
   "source": [
    "from pystac_client.client import Client\n",
    "import geopandas as gpd\n",
    "import rioxarray as riox\n",
    "import json\n",
    "\n",
    "from rasterio.session import AWSSession\n",
    "import rasterio"
   ]
  },
  {
   "cell_type": "code",
   "execution_count": null,
   "id": "364db0da",
   "metadata": {},
   "outputs": [],
   "source": [
    "# use the creds created on CDSE website\n",
    "with open(\"/data/creds_s3.json\") as f:\n",
    "    cred = json.load(f)\n",
    "\n",
    "un = cred[\"username\"]\n",
    "pw = cred[\"password\"]\n",
    "\n",
    "# rasterio handles S3 sessions\n",
    "session = AWSSession(\n",
    "    aws_access_key_id=un,\n",
    "    aws_secret_access_key=pw,\n",
    "    region_name=\"default\",\n",
    "    endpoint_url=\"eodata.dataspace.copernicus.eu\")"
   ]
  },
  {
   "cell_type": "code",
   "execution_count": null,
   "id": "f7f7606d",
   "metadata": {},
   "outputs": [],
   "source": [
    "# Search using STAC api\n",
    "catalog = Client.open(\n",
    "    \"https://stac.dataspace.copernicus.eu/v1/\"\n",
    ")\n",
    "aoi_file = \"../data/Morocco_AOI.geojson\"\n",
    "shp = gpd.read_file(aoi_file).geometry[0]\n",
    "search = catalog.search(collections=[\"sentinel-1-slc\"], intersects=shp)\n",
    "it = next(search.items())\n",
    "url = it.assets[\"iw1-vv\"].href"
   ]
  },
  {
   "cell_type": "code",
   "execution_count": null,
   "id": "ee1c1e87",
   "metadata": {},
   "outputs": [],
   "source": [
    "# Use rasterio.Env to pass the custom session:\n",
    "with rasterio.Env(session=session, AWS_VIRTUAL_HOSTING=False):\n",
    "    ds = riox.open_rasterio(url, chunks=\"auto\")"
   ]
  },
  {
   "cell_type": "code",
   "execution_count": null,
   "id": "ab9c4155",
   "metadata": {},
   "outputs": [],
   "source": [
    "# ds[:100].compute()"
   ]
  }
 ],
 "metadata": {
  "kernelspec": {
   "display_name": "eo_tools",
   "language": "python",
   "name": "python3"
  },
  "language_info": {
   "codemirror_mode": {
    "name": "ipython",
    "version": 3
   },
   "file_extension": ".py",
   "mimetype": "text/x-python",
   "name": "python",
   "nbconvert_exporter": "python",
   "pygments_lexer": "ipython3",
   "version": "3.12.11"
  }
 },
 "nbformat": 4,
 "nbformat_minor": 5
}
