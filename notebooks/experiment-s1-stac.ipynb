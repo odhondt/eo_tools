{
 "cells": [
  {
   "cell_type": "markdown",
   "id": "8b5e4229",
   "metadata": {},
   "source": [
    "- [ ] Create product subdir tree \n",
    "- [ ] Download all files to subdirs\n",
    "    - [x] List all files\n",
    "    - [x] Parse location from safe dir \n",
    "    - [ ] move all files to their local dir\n",
    "- [ ] ID burst overlapping with AOI\n",
    "    - [ ] Use burst API? Get IDs and products\n",
    "    - [ ] Or use burst info in product\n",
    "- [ ] Compute burst offsets\n",
    "- [ ] Open datasets and add a burst_start and burst_end attribute\n",
    "- [ ] Download the burst range in each IW to zarr"
   ]
  },
  {
   "cell_type": "code",
   "execution_count": null,
   "id": "e7d848ad",
   "metadata": {},
   "outputs": [],
   "source": [
    "from pystac_client.client import Client\n",
    "import geopandas as gpd\n",
    "import rioxarray as riox\n",
    "import xarray as xr\n",
    "import json\n",
    "from dask.diagnostics import ProgressBar\n",
    "from pathlib import Path\n",
    "from urllib.parse import urlparse\n",
    "import os\n",
    "\n",
    "from rasterio.session import AWSSession\n",
    "import rasterio\n",
    "import boto3"
   ]
  },
  {
   "cell_type": "markdown",
   "id": "1e7c16e4",
   "metadata": {},
   "source": [
    "## Open AWS sessions"
   ]
  },
  {
   "cell_type": "code",
   "execution_count": null,
   "id": "364db0da",
   "metadata": {},
   "outputs": [],
   "source": [
    "out_dir = \"/data/res/test_partial_product/\"\n",
    "if not os.path.isdir(out_dir):\n",
    "    os.mkdir(out_dir)\n",
    "\n",
    "# use the creds created on CDSE website\n",
    "with open(\"/data/creds_s3.json\") as f:\n",
    "    cred = json.load(f)\n",
    "\n",
    "un = cred[\"username\"]\n",
    "pw = cred[\"password\"]\n",
    "\n",
    "# rasterio session\n",
    "rio_session = AWSSession(\n",
    "    aws_access_key_id=un,\n",
    "    aws_secret_access_key=pw,\n",
    "    region_name=\"default\",\n",
    "    endpoint_url=\"eodata.dataspace.copernicus.eu\")\n",
    "\n",
    "# needed for other (non-tiff) files\n",
    "session = boto3.session.Session()\n",
    "s3 = boto3.resource(\n",
    "    's3',\n",
    "    endpoint_url='https://eodata.dataspace.copernicus.eu',\n",
    "    aws_access_key_id=un,\n",
    "    aws_secret_access_key=pw,\n",
    "    region_name='default'\n",
    ")"
   ]
  },
  {
   "cell_type": "markdown",
   "id": "b49594b8",
   "metadata": {},
   "source": [
    "## Search products with STAC API"
   ]
  },
  {
   "cell_type": "code",
   "execution_count": null,
   "id": "f7f7606d",
   "metadata": {},
   "outputs": [],
   "source": [
    "# Search using STAC api\n",
    "catalog = Client.open(\n",
    "    \"https://stac.dataspace.copernicus.eu/v1/\"\n",
    ")\n",
    "aoi_file = \"../data/Morocco_AOI.geojson\"\n",
    "shp = gpd.read_file(aoi_file).geometry[0]\n",
    "search = catalog.search(collections=[\"sentinel-1-slc\"], intersects=shp)\n",
    "\n",
    "# work only with the first result for now\n",
    "it = next(search.items())"
   ]
  },
  {
   "cell_type": "markdown",
   "id": "66de1c12",
   "metadata": {},
   "source": [
    "## Extract path info"
   ]
  },
  {
   "cell_type": "code",
   "execution_count": null,
   "id": "475d19d0",
   "metadata": {},
   "outputs": [],
   "source": [
    "# product will be saved in this subdir\n",
    "product_root_dir = f\"{it.id}.SAFE\"\n",
    "\n",
    "# use manifest file to get S3 bucket and prefix\n",
    "manifest_url = it.assets[\"safe_manifest\"].href\n",
    "\n",
    "# Parse the url\n",
    "parsed = urlparse(manifest_url)\n",
    "if parsed.scheme != \"s3\":\n",
    "    raise ValueError(\"Product url does not start with s3://\")\n",
    "\n",
    "# Bucket is the \"netloc\"\n",
    "bucket_name = parsed.netloc\n",
    "\n",
    "# Look for subdir prefix\n",
    "manifest_path = Path(parsed.path.lstrip(\"/\"))\n",
    "prefix = str(manifest_path.parent)"
   ]
  },
  {
   "cell_type": "markdown",
   "id": "899f0414",
   "metadata": {},
   "source": [
    "## List all files"
   ]
  },
  {
   "cell_type": "code",
   "execution_count": null,
   "id": "32712cbd",
   "metadata": {},
   "outputs": [],
   "source": [
    "# try to find xml files\n",
    "bucket = s3.Bucket(bucket_name)\n",
    "files = [it.key for it in list(\n",
    "    bucket.objects.filter(\n",
    "        Prefix=prefix\n",
    "    )\n",
    ")]\n"
   ]
  },
  {
   "cell_type": "code",
   "execution_count": null,
   "id": "38196858",
   "metadata": {},
   "outputs": [],
   "source": [
    "subdirs = (\"annotation\", \"measurement\", \"preview\", \"support\", \"annotation/rfi\")\n",
    "# for subdir in subdirs:\n",
    "    \n",
    "# for f in files:\n",
    "    # print(Path(f))\n"
   ]
  },
  {
   "cell_type": "markdown",
   "id": "ccd5aed6",
   "metadata": {},
   "source": [
    "## Read burst ranges in raster"
   ]
  },
  {
   "cell_type": "code",
   "execution_count": null,
   "id": "aa0fc6e8",
   "metadata": {},
   "outputs": [],
   "source": [
    "# this may not be needed\n",
    "url = it.assets[\"iw1-vv\"].href\n",
    "annotation_url = it.assets[\"schema-product-iw1-vh\"].href"
   ]
  },
  {
   "cell_type": "code",
   "execution_count": null,
   "id": "2c72337e",
   "metadata": {},
   "outputs": [],
   "source": [
    "# open remote dataset\n",
    "with rasterio.Env(session=rio_session, AWS_VIRTUAL_HOSTING=False):\n",
    "    ds = riox.open_rasterio(url, chunks=\"auto\")\n",
    "\n",
    "# download cropped array\n",
    "# with ProgressBar():\n",
    "    # ds[0, :1500].to_zarr(\"/data/res/test_s3_S1.zarr\", mode=\"w\")"
   ]
  },
  {
   "cell_type": "markdown",
   "id": "49735d84",
   "metadata": {},
   "source": [
    "This fails:\n",
    "```bash\n",
    "./sentinel1_burst_extractor_spatiotemporal.sh -p vv -s 2025-09-25 -e 2025-09-30 -x 30.19358 -y -7.2473372\n",
    "```\n",
    "Example from the docs also fails. Problem with string parsing."
   ]
  }
 ],
 "metadata": {
  "kernelspec": {
   "display_name": "eo_tools",
   "language": "python",
   "name": "python3"
  },
  "language_info": {
   "codemirror_mode": {
    "name": "ipython",
    "version": 3
   },
   "file_extension": ".py",
   "mimetype": "text/x-python",
   "name": "python",
   "nbconvert_exporter": "python",
   "pygments_lexer": "ipython3",
   "version": "3.12.11"
  }
 },
 "nbformat": 4,
 "nbformat_minor": 5
}
