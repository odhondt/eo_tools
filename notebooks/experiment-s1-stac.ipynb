{
 "cells": [
  {
   "cell_type": "code",
   "execution_count": null,
   "id": "e7d848ad",
   "metadata": {},
   "outputs": [],
   "source": [
    "from pystac_client.client import Client\n",
    "import geopandas as gpd\n",
    "import rioxarray as riox\n",
    "import xarray as xr\n",
    "import json\n",
    "from dask.diagnostics import ProgressBar\n",
    "\n",
    "from rasterio.session import AWSSession\n",
    "import rasterio\n",
    "import boto3"
   ]
  },
  {
   "cell_type": "code",
   "execution_count": null,
   "id": "364db0da",
   "metadata": {},
   "outputs": [],
   "source": [
    "# use the creds created on CDSE website\n",
    "with open(\"/data/creds_s3.json\") as f:\n",
    "    cred = json.load(f)\n",
    "\n",
    "un = cred[\"username\"]\n",
    "pw = cred[\"password\"]\n",
    "\n",
    "# rasterio handles S3 sessions\n",
    "rio_session = AWSSession(\n",
    "    aws_access_key_id=un,\n",
    "    aws_secret_access_key=pw,\n",
    "    region_name=\"default\",\n",
    "    endpoint_url=\"eodata.dataspace.copernicus.eu\")\n",
    "\n",
    "\n",
    "session = boto3.session.Session()\n",
    "s3 = boto3.resource(\n",
    "    's3',\n",
    "    endpoint_url='https://eodata.dataspace.copernicus.eu',\n",
    "    aws_access_key_id=un,\n",
    "    aws_secret_access_key=pw,\n",
    "    region_name='default'\n",
    ")\n",
    "\n",
    "# aws_session = boto3.Session(\n",
    "#     aws_access_key_id=un,\n",
    "#     aws_secret_access_key=pw,\n",
    "#     region_name=\"default\",\n",
    "# )"
   ]
  },
  {
   "cell_type": "code",
   "execution_count": null,
   "id": "f7f7606d",
   "metadata": {},
   "outputs": [],
   "source": [
    "# Search using STAC api\n",
    "catalog = Client.open(\n",
    "    \"https://stac.dataspace.copernicus.eu/v1/\"\n",
    ")\n",
    "aoi_file = \"../data/Morocco_AOI.geojson\"\n",
    "shp = gpd.read_file(aoi_file).geometry[0]\n",
    "search = catalog.search(collections=[\"sentinel-1-slc\"], intersects=shp)\n",
    "it = next(search.items())\n",
    "url = it.assets[\"iw1-vv\"].href"
   ]
  },
  {
   "cell_type": "code",
   "execution_count": null,
   "id": "ee1c1e87",
   "metadata": {},
   "outputs": [],
   "source": [
    "# open remote dataset\n",
    "with rasterio.Env(session=rio_session, AWS_VIRTUAL_HOSTING=False):\n",
    "    ds = riox.open_rasterio(url, chunks=\"auto\")"
   ]
  },
  {
   "cell_type": "code",
   "execution_count": null,
   "id": "ab9c4155",
   "metadata": {},
   "outputs": [],
   "source": [
    "# download cropped array\n",
    "with ProgressBar():\n",
    "    ds[0, :1500].to_zarr(\"/data/res/test_s3_S1.zarr\", mode=\"w\")"
   ]
  },
  {
   "cell_type": "code",
   "execution_count": null,
   "id": "afb4694f",
   "metadata": {},
   "outputs": [],
   "source": [
    "url2 = it.assets[\"schema-product-iw1-vh\"]\n",
    "bucket = s3.Bucket(\"eodata\")"
   ]
  },
  {
   "cell_type": "code",
   "execution_count": null,
   "id": "32712cbd",
   "metadata": {},
   "outputs": [],
   "source": [
    "# try to find xml files\n",
    "files = bucket.objects.filter(Prefix=\"Sentinel-1/SAR/IW_SLC__1S/2025/09/30/S1C_IW_SLC__1SDV_20250930T062813_20250930T062840_004350_0089FE_0756.SAFE/\")\n",
    "for f in files:\n",
    "    print(f)"
   ]
  },
  {
   "cell_type": "markdown",
   "id": "49735d84",
   "metadata": {},
   "source": [
    "This fails:\n",
    "```bash\n",
    "./sentinel1_burst_extractor_spatiotemporal.sh -p vv -s 2025-09-25 -e 2025-09-30 -x 30.19358 -y -7.2473372\n",
    "```\n",
    "Example from the docs also fails. Problem with string parsing."
   ]
  },
  {
   "cell_type": "markdown",
   "id": "19ebd315",
   "metadata": {},
   "source": []
  }
 ],
 "metadata": {
  "kernelspec": {
   "display_name": "eo_tools",
   "language": "python",
   "name": "python3"
  },
  "language_info": {
   "codemirror_mode": {
    "name": "ipython",
    "version": 3
   },
   "file_extension": ".py",
   "mimetype": "text/x-python",
   "name": "python",
   "nbconvert_exporter": "python",
   "pygments_lexer": "ipython3",
   "version": "3.12.11"
  }
 },
 "nbformat": 4,
 "nbformat_minor": 5
}
