{
 "cells": [
  {
   "cell_type": "code",
   "execution_count": null,
   "metadata": {},
   "outputs": [],
   "source": [
    "%load_ext autoreload\n",
    "%load_ext line_profiler\n",
    "%autoreload 2\n",
    "import numpy as np\n",
    "import matplotlib.pyplot as plt\n",
    "from skimage.data import coffee\n",
    "from scipy.ndimage import map_coordinates\n",
    "from eo_tools.S1.util import remap"
   ]
  },
  {
   "cell_type": "code",
   "execution_count": null,
   "metadata": {},
   "outputs": [],
   "source": [
    "\n",
    "\n",
    "siz_in = 128\n",
    "# img = np.random.rand(siz_in, siz_in)\n",
    "img = coffee().mean(2).astype(\"float64\") \n",
    "# img = np.zeros((64,64))\n",
    "# img[32,32] = 1\n",
    "\n",
    "naz, nrg = img.shape\n",
    "\n",
    "siz_out_1 = 1500\n",
    "siz_out_2 = 22000\n",
    "rr = np.random.rand(siz_out_1, siz_out_2) * (naz - 1)\n",
    "cc = np.random.rand(siz_out_1, siz_out_2) * (nrg - 1)\n",
    "\n",
    "\n",
    "# rr, cc = np.mgrid[:naz, :nrg].astype(\"float64\")\n",
    "\n",
    "theta = np.pi/6\n",
    "rr = rr*np.cos(theta) - cc*np.sin(theta)\n",
    "cc = rr*np.sin(theta) + cc*np.cos(theta)\n",
    "\n",
    "kernel = \"bicubic6\"\n",
    "\n",
    "if kernel == \"nearest\":\n",
    "    order = 0\n",
    "if kernel == \"bilinear\":\n",
    "    order = 1\n",
    "if kernel == \"bicubic6\":\n",
    "    order = 3\n",
    "\n",
    "# re_mc = \n",
    "# %lprun -u1 -f map_coordinates map_coordinates(img, (rr, cc), order=order, prefilter=False)\n",
    "%timeit map_coordinates(img, (rr, cc), order=order, prefilter=False)\n",
    "\n",
    "# re = \n",
    "%timeit remap(img, rr, cc, kernel)"
   ]
  },
  {
   "cell_type": "code",
   "execution_count": null,
   "metadata": {},
   "outputs": [],
   "source": [
    "plt.figure(figsize=(10, 10))\n",
    "plt.imshow(re, interpolation=\"none\")\n",
    "plt.colorbar(fraction=0.046, pad=0.04)\n",
    "plt.gray()\n",
    "plt.figure(figsize=(10, 10))\n",
    "plt.imshow(re_mc, interpolation=\"none\")\n",
    "plt.colorbar(fraction=0.046, pad=0.04)\n",
    "plt.gray()\n",
    "plt.figure(figsize=(10, 10))\n",
    "plt.imshow(re_mc-re, interpolation=\"none\")\n",
    "plt.colorbar(fraction=0.046, pad=0.04)\n",
    "plt.gray()"
   ]
  },
  {
   "cell_type": "code",
   "execution_count": null,
   "metadata": {},
   "outputs": [],
   "source": [
    "# def _ker_cub6(x):\n",
    "#     a = -0.5\n",
    "#     b = 0.5\n",
    "#     ax = np.abs(x)\n",
    "#     ax2 = ax**2\n",
    "#     ax3 = ax**3\n",
    "#     if ax < 1:\n",
    "#         return (a + b + 2) * ax3 - (a + b + 3) * ax2 + 1\n",
    "#     elif (ax >= 1) & (ax < 2):\n",
    "#         return a * ax3 - (5 * a - b) * ax2 + (8 * a - 3 * b) * ax - (4 * a - 2 * b)\n",
    "#     elif (ax >= 2) & (ax < 3):\n",
    "#         return b * ax3 - 8 * b * ax2 + 21 * b * ax - 18 * b\n",
    "#     else:\n",
    "        # return 0.0\n",
    "\n",
    "def _ker_cub6(x):\n",
    "    ax = np.abs(x)\n",
    "    ax2 = ax**2\n",
    "    ax3 = ax**3\n",
    "    if ax < 1:\n",
    "        return 4 * ax3 / 3 - 7 * ax2 / 3 + 1\n",
    "    elif (ax >= 1) & (ax < 2):\n",
    "        return -7 * ax3 / 12 + 3 * ax2 - 59 * ax / 12 + 5 / 2\n",
    "    elif (ax >= 2) & (ax < 3):\n",
    "        return ax3 / 12 - 2 * ax2 / 3 + 7 * ax / 4 - 1.5\n",
    "    else:\n",
    "        return 0.0"
   ]
  },
  {
   "cell_type": "code",
   "execution_count": null,
   "metadata": {},
   "outputs": [],
   "source": [
    "xx = np.linspace(-3,3,1000)\n",
    "arr = np.array([_ker_cub6(x) for x in xx])\n",
    "plt.plot(xx, arr)"
   ]
  },
  {
   "cell_type": "code",
   "execution_count": null,
   "metadata": {},
   "outputs": [],
   "source": []
  }
 ],
 "metadata": {
  "kernelspec": {
   "display_name": "Python 3",
   "language": "python",
   "name": "python3"
  },
  "language_info": {
   "codemirror_mode": {
    "name": "ipython",
    "version": 3
   },
   "file_extension": ".py",
   "mimetype": "text/x-python",
   "name": "python",
   "nbconvert_exporter": "python",
   "pygments_lexer": "ipython3",
   "version": "3.12.3"
  }
 },
 "nbformat": 4,
 "nbformat_minor": 2
}
