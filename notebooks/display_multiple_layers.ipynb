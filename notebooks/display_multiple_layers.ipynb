{
 "cells": [
  {
   "cell_type": "markdown",
   "metadata": {},
   "source": [
    "This notebook shows how we can display online and local images on a map."
   ]
  },
  {
   "cell_type": "code",
   "execution_count": null,
   "metadata": {},
   "outputs": [],
   "source": [
    "%load_ext autoreload\n",
    "%autoreload 2\n",
    "\n",
    "from folium import Map, LayerControl\n",
    "from shapely.geometry import box\n",
    "from eo_tools_dev.util import show_cog, ttcog_get_info\n",
    "from eo_tools.dem import retrieve_dem\n",
    "url = \"https://maxar-opendata.s3.amazonaws.com/events/yellowstone-flooding22/ard/12/120000020230/2022-06-15/10300100D5B65A00-visual.tif\""
   ]
  },
  {
   "cell_type": "code",
   "execution_count": null,
   "metadata": {},
   "outputs": [],
   "source": [
    "# Download Copernicus DEM\n",
    "bb = box(*ttcog_get_info(url)['bounds'])\n",
    "file_dem = \"/data/res/dem_example.tif\"\n",
    "retrieve_dem(bb, file_dem, dem_name=\"nasadem\")"
   ]
  },
  {
   "cell_type": "code",
   "execution_count": null,
   "metadata": {},
   "outputs": [],
   "source": [
    "# click on the upper right corner icon to hide/show individual layers\n",
    "m = Map()\n",
    "show_cog(file_dem, folium_map=m, rescale=\"1000,3900\")\n",
    "show_cog(url, folium_map=m, rescale=\"0,255\")\n",
    "LayerControl().add_to(m)\n",
    "m"
   ]
  }
 ],
 "metadata": {
  "kernelspec": {
   "display_name": "Python 3",
   "language": "python",
   "name": "python3"
  },
  "language_info": {
   "codemirror_mode": {
    "name": "ipython",
    "version": 3
   },
   "file_extension": ".py",
   "mimetype": "text/x-python",
   "name": "python",
   "nbconvert_exporter": "python",
   "pygments_lexer": "ipython3",
   "version": "3.12.3"
  }
 },
 "nbformat": 4,
 "nbformat_minor": 2
}
