{
 "cells": [
  {
   "cell_type": "markdown",
   "metadata": {},
   "source": [
    "# Discover & Process Sentinel-1 InSAR pairs\n",
    "\n",
    "- The provider used for this notebook is `cop_dataspace`\n",
    "- A free account needs to be created at https://dataspace.copernicus.eu/\n",
    "- The credentials need to be configured as explained here https://eodag.readthedocs.io/en/stable/getting_started_guide/configure.html"
   ]
  },
  {
   "cell_type": "code",
   "execution_count": null,
   "metadata": {},
   "outputs": [],
   "source": [
    "%load_ext autoreload\n",
    "%autoreload 2\n",
    "\n",
    "from eo_tools.util import explore_products\n",
    "from eo_tools.util import show_insar_coh, show_insar_phi, show_sar_int, show_cog\n",
    "from eo_tools.S1 import process_InSAR\n",
    "import geopandas as gpd\n",
    "import folium\n",
    "import folium.plugins\n",
    "import logging\n",
    "import os\n",
    "\n",
    "from eodag import EODataAccessGateway\n",
    "\n",
    "# credentials need to be stored in the following file (see EODAG docs)\n",
    "confpath = \"/data/eodag_config.yml\"\n",
    "dag = EODataAccessGateway(user_conf_file_path=confpath)\n",
    "# make sure cop_dataspace will be used \n",
    "dag.set_preferred_provider(\"cop_dataspace\")\n",
    "logging.basicConfig(level=logging.INFO)"
   ]
  },
  {
   "cell_type": "markdown",
   "metadata": {},
   "source": [
    "## Select an area of interest\n",
    "\n",
    "```\n",
    "{\"type\":\"Polygon\",\"coordinates\":[[[2.210312,50.68232],[2.210312,50.766648],[2.368584,50.766648],[2.368584,50.68232],[2.210312,50.68232]]]}\n",
    "```"
   ]
  },
  {
   "cell_type": "code",
   "execution_count": null,
   "metadata": {},
   "outputs": [],
   "source": [
    "from shapely.geometry import shape\n",
    "\n",
    "# France - 06-01-2024\n",
    "# shp = shape({\"type\":\"Polygon\",\"coordinates\":[[[2.210312,50.68232],[2.210312,50.766648],[2.368584,50.766648],[2.368584,50.68232],[2.210312,50.68232]]]})\n",
    "\n",
    "# Netherlands - 19-07-2021\n",
    "shp = shape({\"type\":\"Polygon\",\"coordinates\":[[[5.924721,51.141125],[5.924721,51.203764],[6.037846,51.203764],[6.037846,51.141125],[5.924721,51.141125]]]})"
   ]
  },
  {
   "cell_type": "markdown",
   "metadata": {},
   "source": [
    "## Search"
   ]
  },
  {
   "cell_type": "code",
   "execution_count": null,
   "metadata": {},
   "outputs": [],
   "source": [
    "# load a geometry\n",
    "search_criteria = {\n",
    "    # \"productType\": \"S1_SAR\",\n",
    "    \"productType\": \"S1_SAR_SLC\",\n",
    "    \"start\": \"2021-06-20\",\n",
    "    \"end\": \"2021-07-25\",\n",
    "    \"geom\": shp,\n",
    "}\n",
    "results, _ = dag.search(**search_criteria)"
   ]
  },
  {
   "cell_type": "code",
   "execution_count": null,
   "metadata": {},
   "outputs": [],
   "source": [
    "results[12]"
   ]
  },
  {
   "cell_type": "code",
   "execution_count": null,
   "metadata": {},
   "outputs": [],
   "source": [
    "# load a geometry\n",
    "# search_criteria = {\n",
    "#     # \"productType\": \"S1_SAR\",\n",
    "#     \"productType\": \"S1_SAR_SLC\",\n",
    "#     \"start\": \"2023-12-20\",\n",
    "#     \"end\": \"2024-01-07\",\n",
    "#     \"geom\": shp,\n",
    "# }\n",
    "# results, _ = dag.search(**search_criteria)"
   ]
  },
  {
   "cell_type": "markdown",
   "metadata": {},
   "source": [
    "## Visualize by groups\n",
    "\n",
    "- For InSAR, products must be overlapping and from the same relative orbit.\n",
    "- They also have to be of the same ascending / descending configuration."
   ]
  },
  {
   "cell_type": "code",
   "execution_count": null,
   "metadata": {},
   "outputs": [],
   "source": [
    "# TODO: add filter on ascending / descending\n",
    "explore_products(results, shp)"
   ]
  },
  {
   "cell_type": "markdown",
   "metadata": {},
   "source": [
    "## Download"
   ]
  },
  {
   "cell_type": "code",
   "execution_count": null,
   "metadata": {},
   "outputs": [],
   "source": [
    "# fill indices of products to download\n",
    "# indices_to_download = [12, 11]\n",
    "indices_to_download = [11]\n",
    "to_download = [results[i] for i in indices_to_download]\n",
    "\n",
    "# if the data has already been downloaded, just re-run the cell to get the product paths\n",
    "dl = dag.download_all(to_download, outputs_prefix=\"/data/S1/\", extract=False)"
   ]
  },
  {
   "cell_type": "code",
   "execution_count": null,
   "metadata": {},
   "outputs": [],
   "source": [
    "dag.download_all"
   ]
  },
  {
   "cell_type": "markdown",
   "metadata": {},
   "source": [
    "# Process"
   ]
  },
  {
   "cell_type": "code",
   "execution_count": null,
   "metadata": {},
   "outputs": [],
   "source": [
    "# France: bigger shape\n",
    "# shp_proc = shape({\"type\":\"Polygon\",\"coordinates\":[[[2.17907,50.791179],[2.368584,50.791179],[2.368584,50.68232],[2.17907,50.68232],[2.17907,50.791179]]]})"
   ]
  },
  {
   "cell_type": "code",
   "execution_count": null,
   "metadata": {},
   "outputs": [],
   "source": [
    "substr = \".SAFE/\" \n",
    "# substr = \".SAFE/manifest.safe\" \n",
    "dl0 = dl[0].replace(\".zip\",substr)\n",
    "dl1 = dl[1].replace(\".zip\",substr) \n",
    "print(dl1)"
   ]
  },
  {
   "cell_type": "code",
   "execution_count": null,
   "metadata": {},
   "outputs": [],
   "source": [
    "# extract paths for processing\n",
    "insar_dirs = process_InSAR(\n",
    "    dl1,\n",
    "    # dl[0],\n",
    "    dl0,\n",
    "    # dl[1],\n",
    "    outputs_prefix=\"/data/res\",\n",
    "    tmp_dir=\"/data/tmp\",\n",
    "    # aoi_name = \"flood-Roermond-2021\",\n",
    "    aoi_name = \"flood-Roermond-2021-full\",\n",
    "    # aoi_name = \"flood-Pas-de-Calais-full-swath\",\n",
    "    # shp=shp,\n",
    "    pol=\"full\",\n",
    "    coh_only=True,\n",
    "    intensity=True,\n",
    "    clear_tmp_files=True,\n",
    "    resume=False\n",
    ")"
   ]
  },
  {
   "cell_type": "code",
   "execution_count": null,
   "metadata": {},
   "outputs": [],
   "source": [
    "insar_dir = \"/data/res/S1_InSAR_VH_2021-07-06-172452__2021-07-18-172453_flood-Roermond-2021-full_repro\""
   ]
  },
  {
   "cell_type": "code",
   "execution_count": null,
   "metadata": {},
   "outputs": [],
   "source": [
    "import rasterio\n",
    "with rasterio.open(f\"{insar_dir}/int_mst.tif\") as ds_mst:\n",
    "    mst = ds_mst.read(1)\n",
    "with rasterio.open(f\"{insar_dir}/int_slv.tif\") as ds_slv:\n",
    "    slv = ds_slv.read(1)"
   ]
  },
  {
   "cell_type": "code",
   "execution_count": null,
   "metadata": {},
   "outputs": [],
   "source": [
    "from eo_tools.S1 import change_int\n",
    "\n",
    "change_int(f\"{insar_dir}/int_mst.tif\",f\"{insar_dir}/int_slv.tif\", f\"{insar_dir}/change.tif\", db=True)"
   ]
  },
  {
   "cell_type": "code",
   "execution_count": null,
   "metadata": {},
   "outputs": [],
   "source": [
    "show_cog(f\"{insar_dir}/change.tif\", rescale=\"-1,0\", colormap_name=\"blues_r\")\n",
    "# show_sar_int(f\"{insar_dir}\")"
   ]
  }
 ],
 "metadata": {
  "kernelspec": {
   "display_name": "Python 3",
   "language": "python",
   "name": "python3"
  },
  "language_info": {
   "codemirror_mode": {
    "name": "ipython",
    "version": 3
   },
   "file_extension": ".py",
   "mimetype": "text/x-python",
   "name": "python",
   "nbconvert_exporter": "python",
   "pygments_lexer": "ipython3",
   "version": "3.11.8"
  },
  "orig_nbformat": 4
 },
 "nbformat": 4,
 "nbformat_minor": 2
}
