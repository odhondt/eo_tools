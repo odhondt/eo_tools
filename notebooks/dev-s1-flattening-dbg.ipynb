{
 "cells": [
  {
   "cell_type": "markdown",
   "metadata": {},
   "source": [
    "This notebook allowed to make a gtiff file of incidence angle in the DEM geometry."
   ]
  },
  {
   "cell_type": "code",
   "execution_count": null,
   "metadata": {},
   "outputs": [],
   "source": [
    "%load_ext autoreload\n",
    "%autoreload 2\n",
    "from eo_tools.S1.core import S1IWSwath\n",
    "from eo_tools.S1.core import load_dem_coords, lla_to_ecef\n",
    "\n",
    "from eo_tools_dev.util import show_insar_phi\n",
    "\n",
    "from eo_tools.S1.util import presum\n",
    "import numpy as np\n",
    "import os\n",
    "import matplotlib.pyplot as plt\n",
    "\n",
    "import logging\n",
    "logging.basicConfig(level=logging.INFO)\n",
    "log = logging.getLogger(__name__)"
   ]
  },
  {
   "cell_type": "markdown",
   "metadata": {},
   "source": [
    "# Parameter setup"
   ]
  },
  {
   "cell_type": "code",
   "execution_count": null,
   "metadata": {},
   "outputs": [],
   "source": [
    "# change with directory containing your S1 products\n",
    "data_dir = \"/data/S1\"\n",
    "# change with directory containing the results\n",
    "out_dir = \"/data/res/test-rtc\"\n",
    "if not os.path.isdir(out_dir):\n",
    "    os.mkdir(out_dir)\n",
    "\n",
    "# replace with already downloaded and unzipped products (see the other notebooks to download such products)\n",
    "primary_dir = f\"{data_dir}/S1A_IW_SLC__1SDV_20230904T063730_20230904T063757_050174_0609E3_DAA1.zip\"\n",
    "secondary_dir = f\"{data_dir}/S1A_IW_SLC__1SDV_20230916T063730_20230916T063757_050349_060FCD_6814.zip\"\n",
    "\n",
    "# subswath to process\n",
    "iw = 1\n",
    "# polarization\n",
    "pol = \"vv\"\n",
    "# DEM upsampling\n",
    "up = 1.8\n",
    "\n",
    "min_burst = 4\n",
    "max_burst = 5"
   ]
  },
  {
   "cell_type": "markdown",
   "metadata": {},
   "source": [
    "# Process individual bursts"
   ]
  },
  {
   "cell_type": "code",
   "execution_count": null,
   "metadata": {},
   "outputs": [],
   "source": [
    "slc = []\n",
    "lut = []\n",
    "dems = []\n",
    "sigma_ts = []\n",
    "\n",
    "prm = S1IWSwath(primary_dir, iw=iw, pol=pol)\n",
    "sec = S1IWSwath(secondary_dir, iw=iw, pol=pol)\n",
    "overlap = np.round(prm.compute_burst_overlap(2)).astype(int)\n",
    "\n",
    "for burst_idx in range(min_burst, max_burst + 1):\n",
    "    # log.info(f\"---- Processing burst {burst_idx} ----\")\n",
    "\n",
    "    # compute geocoding LUTs for master and slave bursts\n",
    "    file_dem = prm.fetch_dem_burst(burst_idx, dir_dem=\"/data/tmp\", force_download=False)\n",
    "    az_p2g, rg_p2g, _, sigma_t = prm.geocode_burst(\n",
    "        file_dem, burst_idx=burst_idx, dem_upsampling=up,\n",
    "    )\n",
    "\n",
    "    # read primary and secondary burst raster\n",
    "    arr_p = prm.read_burst(burst_idx, True)\n",
    "    \n",
    "    dem_coords = load_dem_coords(file_dem=file_dem, upscale_factor=up)\n",
    "    dem_x, dem_y, dem_z = lla_to_ecef(dem_coords[0], dem_coords[1], dem_coords[2], None)\n",
    "    # arr_p *= sigma_t\n",
    "\n",
    "    # radiometric calibration \n",
    "    cal_p = prm.calibration_factor(burst_idx, cal_type=\"beta\")\n",
    "    arr_p /= cal_p\n",
    "\n",
    "    slc.append(np.abs(arr_p))\n",
    "    sigma_ts.append(sigma_t)\n",
    "    lut.append((az_p2g, rg_p2g))\n",
    "    dems.append(file_dem)\n",
    "\n",
    "# import matplotlib.pyplot as plt\n",
    "# plt.figure(figsize=(10, 10))\n",
    "# plt.imshow(np.log(sigma_t[:,::4].clip(1e-8)), interpolation=\"bilinear\", vmin = -5, vmax=0)\n",
    "# plt.colorbar(fraction=0.046, pad=0.04)"
   ]
  },
  {
   "cell_type": "code",
   "execution_count": null,
   "metadata": {},
   "outputs": [],
   "source": [
    "plt.figure(figsize=(20, 10))\n",
    "plt.imshow(sigma_ts[1][:,:], interpolation=\"none\",cmap=\"grey\")\n",
    "# plt.colorbar(fraction=0.046, pad=0.04)"
   ]
  },
  {
   "cell_type": "code",
   "execution_count": null,
   "metadata": {},
   "outputs": [],
   "source": [
    "## DBG: angle\n",
    "from eo_tools.S1.core import resample\n",
    "import rioxarray as riox\n",
    "from rioxarray.merge import merge_arrays\n",
    "from eo_tools.auxils import remove\n",
    "import rasterio\n",
    "\n",
    "out_name = f\"{out_dir}/merged_proj_angle.tif\"\n",
    "\n",
    "list_ang = []\n",
    "files_to_remove = []\n",
    "for i in range(min_burst, max_burst + 1):\n",
    "    log.info(f\"Burst {i}\")\n",
    "\n",
    "    file_dem = dems[i - min_burst]\n",
    "    with rasterio.open(file_dem) as ds_dem:\n",
    "        prof = ds_dem.profile.copy()\n",
    "\n",
    "    file_ang = f\"{out_dir}/ang_{i}.tif\"\n",
    "    prof.update({\"dtype\": sigma_ts[i - min_burst].dtype.name, \"nodata\": np.nan})\n",
    "    with rasterio.open(file_ang, \"w\", **prof) as ds_ang:\n",
    "        ds_ang.write(sigma_ts[i - min_burst], 1)\n",
    "    files_to_remove.append(file_ang)\n",
    "    list_ang.append(riox.open_rasterio(file_ang))\n",
    "\n",
    "merged_ang = merge_arrays(list_ang)\n",
    "# merged_ifg = merge_arrays(list_ifg, nodata=0, method=\"last\")\n",
    "merged_ang.rio.to_raster(out_name)\n",
    "# merged_ifg.rio.to_raster(f\"{out_dir}/merged_img0.tif\")\n",
    "print(files_to_remove)\n",
    "for fname in files_to_remove:\n",
    "    remove(fname)"
   ]
  },
  {
   "cell_type": "code",
   "execution_count": null,
   "metadata": {},
   "outputs": [],
   "source": [
    "ds1 = riox.open_rasterio(f\"{out_dir}/merged_proj_angle.tif\")\n",
    "ds2 = riox.open_rasterio(f\"{out_dir}/merged_angle.tif\")\n",
    "\n",
    "(ds1[0]-ds2[0]).plot.imshow()"
   ]
  },
  {
   "cell_type": "code",
   "execution_count": null,
   "metadata": {},
   "outputs": [],
   "source": []
  }
 ],
 "metadata": {
  "kernelspec": {
   "display_name": "Python 3",
   "language": "python",
   "name": "python3"
  },
  "language_info": {
   "codemirror_mode": {
    "name": "ipython",
    "version": 3
   },
   "file_extension": ".py",
   "mimetype": "text/x-python",
   "name": "python",
   "nbconvert_exporter": "python",
   "pygments_lexer": "ipython3",
   "version": "3.12.7"
  }
 },
 "nbformat": 4,
 "nbformat_minor": 2
}
