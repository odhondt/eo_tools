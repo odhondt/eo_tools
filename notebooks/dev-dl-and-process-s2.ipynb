{
 "cells": [
  {
   "cell_type": "code",
   "execution_count": null,
   "metadata": {},
   "outputs": [],
   "source": [
    "%load_ext autoreload\n",
    "%autoreload 2\n",
    "\n",
    "import json\n",
    "\n",
    "import geopandas as gpd\n",
    "import folium\n",
    "import folium.plugins\n",
    "import logging\n",
    "from json import dumps\n",
    "from eo_tools.util import explore_products\n",
    "\n",
    "from eodag import EODataAccessGateway\n",
    "confpath = \"/data/eodag_config.yml\"\n",
    "dag = EODataAccessGateway(user_conf_file_path=confpath)\n",
    "# make sure cop_dataspace will be used \n",
    "dag.set_preferred_provider(\"cop_dataspace\")\n",
    "logging.basicConfig(level=logging.INFO)"
   ]
  },
  {
   "cell_type": "code",
   "execution_count": null,
   "metadata": {},
   "outputs": [],
   "source": [
    "# explore product types\n",
    "# [it[\"ID\"] for it in dag.list_product_types()]"
   ]
  },
  {
   "cell_type": "code",
   "execution_count": null,
   "metadata": {},
   "outputs": [],
   "source": [
    "# load a geometry\n",
    "file_aoi = \"/data/aoi_Maroc.geojson\"\n",
    "shp = gpd.read_file(file_aoi).geometry[0]\n",
    "search_criteria = {\n",
    "    \"productType\": \"S2_MSI_L1C\",\n",
    "    \"start\": \"2022-04-01\",\n",
    "    \"end\": \"2022-05-30\",\n",
    "    \"geom\": shp\n",
    "}\n",
    "results = dag.search_all(**search_criteria)"
   ]
  },
  {
   "cell_type": "code",
   "execution_count": null,
   "metadata": {},
   "outputs": [],
   "source": [
    "def get_unique_dates(results):\n",
    "    import numpy as np\n",
    "\n",
    "    dates = []\n",
    "    for p in results:\n",
    "        dates.append(p.properties[\"startTimeFromAscendingNode\"])\n",
    "    return np.unique(dates).tolist()\n",
    "\n",
    "dates = get_unique_dates(results)\n",
    "print(f\"unique dates:\")\n",
    "print(\", \\n\".join(dates))"
   ]
  },
  {
   "cell_type": "code",
   "execution_count": null,
   "metadata": {},
   "outputs": [],
   "source": [
    "# show all results\n",
    "# explore_products(results, shp)\n",
    "\n",
    "# filter by date\n",
    "results_20230401 = results.filter_date(\"2022-04-01\", \"2022-04-02\") \n",
    "# explore_products(results_20230401, shp)"
   ]
  },
  {
   "cell_type": "code",
   "execution_count": null,
   "metadata": {},
   "outputs": [],
   "source": [
    "dl = dag.download_all(results_20230401, outputs_prefix=\"/data/S2/\")"
   ]
  },
  {
   "cell_type": "code",
   "execution_count": null,
   "metadata": {},
   "outputs": [],
   "source": [
    "# TODO\n",
    "# - Load 10m band profile\n",
    "# - Resample all bands to 10m\n",
    "# - Convert all to EPSG 4326\n",
    "# - Crop to AOI\n",
    "# - Merge products\n",
    "# - Make GeoTiff"
   ]
  },
  {
   "cell_type": "code",
   "execution_count": null,
   "metadata": {},
   "outputs": [],
   "source": [
    "import rasterio \n",
    "import matplotlib.pyplot as plt\n",
    "\n",
    "ds = rasterio.open(dl[0])\n",
    "ds0 = rasterio.open(ds.subdatasets[-1])\n",
    "print(ds.subdatasets)\n",
    "im0 = ds0.read()\n",
    "# with rasterio.open(dl[0]) as ds:\n",
    "    # print(ds.profile)\n",
    "    # ds.s\n",
    "    # img = ds.read(1)\n",
    "plt.figure(figsize=(10,10))\n",
    "plt.imshow(im0.transpose(1,2,0))\n",
    "plt.axis('off')"
   ]
  },
  {
   "cell_type": "code",
   "execution_count": null,
   "metadata": {},
   "outputs": [],
   "source": [
    "# import geojson\n",
    "# import json\n",
    "# gpd.read_file(json.dumps(results.as_geojson_object()))"
   ]
  },
  {
   "cell_type": "markdown",
   "metadata": {},
   "source": [
    "### TODO \n",
    "- Group products by date\n",
    "- Download\n",
    "- Resample all bands to 10m\n",
    "- Stitch and make geotiffs"
   ]
  },
  {
   "cell_type": "markdown",
   "metadata": {},
   "source": []
  }
 ],
 "metadata": {
  "kernelspec": {
   "display_name": "Python 3",
   "language": "python",
   "name": "python3"
  },
  "language_info": {
   "codemirror_mode": {
    "name": "ipython",
    "version": 3
   },
   "file_extension": ".py",
   "mimetype": "text/x-python",
   "name": "python",
   "nbconvert_exporter": "python",
   "pygments_lexer": "ipython3",
   "version": "3.12.0"
  },
  "orig_nbformat": 4
 },
 "nbformat": 4,
 "nbformat_minor": 2
}
