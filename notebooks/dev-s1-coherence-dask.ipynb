{
 "cells": [
  {
   "cell_type": "code",
   "execution_count": null,
   "metadata": {},
   "outputs": [],
   "source": [
    "%load_ext autoreload\n",
    "%autoreload 2\n",
    "import logging\n",
    "logging.basicConfig(level=logging.INFO)\n",
    "\n",
    "# from folium import LayerControl\n",
    "from eo_tools.util import show_insar_coh, show_insar_phi, show_sar_int\n",
    "\n",
    "# credentials need to be stored in the following file (see EODAG docs)\n",
    "confpath = \"/data/eodag_config.yml\"\n",
    "logging.basicConfig(level=logging.INFO)\n",
    "log = logging.getLogger(__name__)"
   ]
  },
  {
   "cell_type": "code",
   "execution_count": null,
   "metadata": {},
   "outputs": [],
   "source": [
    "# load a geometry\n",
    "ids = [\n",
    " \"S1A_IW_SLC__1SDV_20230904T063730_20230904T063757_050174_0609E3_DAA1\", \n",
    " \"S1A_IW_SLC__1SDV_20230916T063730_20230916T063757_050349_060FCD_6814\"\n",
    "]"
   ]
  },
  {
   "cell_type": "code",
   "execution_count": null,
   "metadata": {},
   "outputs": [],
   "source": [
    "data_dir = \"/data/S1\"\n",
    "primary_dir = f\"{data_dir}/{ids[0]}.SAFE\"\n",
    "secondary_dir = f\"{data_dir}/{ids[1]}.SAFE\"\n",
    "out_dir = f\"/data/res/Morocco-earthquake-2023\""
   ]
  },
  {
   "cell_type": "code",
   "execution_count": null,
   "metadata": {},
   "outputs": [],
   "source": [
    "from eo_tools.S1.process import slc2geo, coherence, amplitude\n",
    "file_prm = f\"{out_dir}/primary.tif\"\n",
    "file_sec = f\"{out_dir}/secondary.tif\"\n",
    "file_coh = f\"{out_dir}/coh.tif\"\n",
    "# computing amplitude and complex coherence  in the radar geometry\n",
    "# coherence(file_prm, file_sec, file_coh, box_size=[3,10], magnitude=False)\n"
   ]
  },
  {
   "cell_type": "code",
   "execution_count": null,
   "metadata": {},
   "outputs": [],
   "source": [
    "def coh_dask(file_prm, file_sec, file_out, box_size=5, magnitude=True):\n",
    "    \"\"\"Compute the complex coherence from two SLC image files.\n",
    "\n",
    "    Args:\n",
    "        file_prm (str): GeoTiff file of the primary SLC image\n",
    "        file_sec (str): GeoTiff file of the secondary SLC image\n",
    "        file_out (str): output file\n",
    "        box_size (int, optional): Window size in pixels for boxcar filtering. Defaults to 5.\n",
    "        magnitude (bool, optional): Writes magnitude only. Otherwise a complex valued raster is written. Defaults to True.\n",
    "    \"\"\"\n",
    "    # from dask.distributed import Client, LocalCluster, Lock\n",
    "    import dask.array as da\n",
    "    import numpy as np\n",
    "\n",
    "    # import rasterio as rio\n",
    "    # import warnings\n",
    "    # import rioxarray as riox\n",
    "    import xarray as xr\n",
    "    from eo_tools.S1.util import boxcar\n",
    "\n",
    "    log.info(\"Computing coherence\")\n",
    "\n",
    "    if isinstance(box_size, list):\n",
    "        box_az = box_size[0]\n",
    "        box_rg = box_size[1]\n",
    "    else:\n",
    "        box_az = box_size\n",
    "        box_rg = box_size\n",
    "\n",
    "    def avg_ampl(arr, box_az, box_rg):\n",
    "        return np.sqrt(boxcar((arr * arr.conj()).real, box_az, box_rg))\n",
    "\n",
    "    prm = xr.open_dataset(file_prm, lock=False, chunks=\"auto\", engine=\"rasterio\")\n",
    "    # da_prm = da.from_array(prm['band_data'][0], chunks=(1024,1024))\n",
    "    args = {\"dimaz\": box_az, \"dimrg\": box_rg}\n",
    "    # prm[\"band_data\"][0].map_blocks(boxcar)#, template=prm['band_data'][0], kwargs=args)\n",
    "    # prm[\"band_data\"][0].map_blocks(boxcar, box_size[0], box_size[1], template=prm['band_data'][0])\n",
    "    # prm[\"band_data\"][0]\n",
    "    # da.map_blocks(boxcar, prm[\"band_data\"][0], box_az, box_rg, dtype=float, chunks=(500, 500))\n",
    "    arr = da.map_blocks(\n",
    "        boxcar,\n",
    "        prm[\"band_data\"][0].data,\n",
    "        dimaz=box_az,\n",
    "        dimrg=box_rg,\n",
    "        dtype=float,\n",
    "        chunks=(500, 500),\n",
    "    )\n",
    "    return abs(arr)\n",
    "\n",
    "    # with rio.open(file_prm) as ds_prm:\n",
    "    #     prm = da.from_array(ds_prm, chunks=(1000,1000))#.read(1)\n",
    "    #     prof = ds_prm.profile\n",
    "    # with rio.open(file_sec) as ds_sec:\n",
    "    #     sec = da.from_array(ds_sec, chunks=(1000,1000))# .read(1)\n",
    "\n",
    "    # coh = np.full_like(prm, np.nan + 1j * np.nan, dtype=prm.dtype)\n",
    "    # log.info(\"coherence: cross-correlation\")\n",
    "    # coh = prm * sec.conj()\n",
    "    # coh = boxcar(coh, box_az, box_rg)\n",
    "    # with np.errstate(divide=\"ignore\", invalid=\"ignore\"):\n",
    "    #     log.info(\"coherence: normalizing\")\n",
    "    #     coh /= avg_ampl(prm, box_az, box_rg)\n",
    "    #     coh /= avg_ampl(sec, box_az, box_rg)\n",
    "\n",
    "    # if magnitude:\n",
    "    #     coh = np.abs(coh)\n",
    "\n",
    "    # warnings.filterwarnings(\"ignore\", category=rio.errors.NotGeoreferencedWarning)\n",
    "    # prof.update(dict(dtype=coh.dtype.name))\n",
    "    # with rio.open(file_out, \"w\", **prof) as dst:\n",
    "    #     dst.write(coh, 1)\n",
    "    # return prm\n",
    "\n",
    "\n",
    "prm = coh_dask(file_prm, file_sec, file_coh, box_size=[3, 3], magnitude=False)"
   ]
  },
  {
   "cell_type": "code",
   "execution_count": null,
   "metadata": {},
   "outputs": [],
   "source": [
    "# toto = prm.compute()\n",
    "import matplotlib.pyplot as plt\n",
    "\n",
    "plt.figure(figsize=(10, 10))\n",
    "plt.imshow(prm, interpolation=\"none\", vmax=1)\n",
    "plt.colorbar(fraction=0.046, pad=0.04)"
   ]
  },
  {
   "cell_type": "code",
   "execution_count": null,
   "metadata": {},
   "outputs": [],
   "source": [
    "# import matplotlib.pyplot as plt\n",
    "# plt.figure(figsize=(10, 10))\n",
    "# plt.imshow(abs(prm), interpolation=\"none\")\n",
    "# plt.colorbar(fraction=0.046, pad=0.04)"
   ]
  },
  {
   "cell_type": "markdown",
   "metadata": {},
   "source": []
  },
  {
   "cell_type": "code",
   "execution_count": null,
   "metadata": {},
   "outputs": [],
   "source": [
    "prm['band_data'][0]"
   ]
  },
  {
   "cell_type": "code",
   "execution_count": null,
   "metadata": {},
   "outputs": [],
   "source": [
    "from scipy.misc import face\n",
    "from eo_tools.S1.util import boxcar\n",
    "import dask.array as da\n",
    "im = face().sum(2)\n",
    "\n",
    "arr = da.from_array(im.astype(float))\n",
    "\n",
    "# barr = arr.map_blocks(boxcar, 7, 15, dtype=float, chunks=(128,128))\n",
    "barr = da.map_blocks(boxcar, arr, 7, 15, dtype=float, chunks=(128,128))\n",
    "plt.figure(figsize=(10, 10))\n",
    "plt.imshow(barr, interpolation=\"none\")\n",
    "plt.colorbar(fraction=0.046, pad=0.04)"
   ]
  },
  {
   "cell_type": "code",
   "execution_count": null,
   "metadata": {},
   "outputs": [],
   "source": [
    "da.map_blocks"
   ]
  },
  {
   "cell_type": "code",
   "execution_count": null,
   "metadata": {},
   "outputs": [],
   "source": []
  }
 ],
 "metadata": {
  "kernelspec": {
   "display_name": "Python 3",
   "language": "python",
   "name": "python3"
  },
  "language_info": {
   "codemirror_mode": {
    "name": "ipython",
    "version": 3
   },
   "file_extension": ".py",
   "mimetype": "text/x-python",
   "name": "python",
   "nbconvert_exporter": "python",
   "pygments_lexer": "ipython3",
   "version": "3.12.3"
  }
 },
 "nbformat": 4,
 "nbformat_minor": 2
}
