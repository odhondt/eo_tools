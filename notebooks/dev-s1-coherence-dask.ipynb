{
 "cells": [
  {
   "cell_type": "code",
   "execution_count": null,
   "metadata": {},
   "outputs": [],
   "source": [
    "%load_ext autoreload\n",
    "%autoreload 2\n",
    "import logging\n",
    "logging.basicConfig(level=logging.INFO)\n",
    "\n",
    "# from folium import LayerControl\n",
    "import xarray as xr\n",
    "import matplotlib.pyplot as plt\n",
    "\n",
    "# credentials need to be stored in the following file (see EODAG docs)\n",
    "confpath = \"/data/eodag_config.yml\"\n",
    "logging.basicConfig(level=logging.INFO)\n",
    "log = logging.getLogger(__name__)"
   ]
  },
  {
   "cell_type": "code",
   "execution_count": null,
   "metadata": {},
   "outputs": [],
   "source": [
    "# load a geometry\n",
    "ids = [\n",
    " \"S1A_IW_SLC__1SDV_20230904T063730_20230904T063757_050174_0609E3_DAA1\", \n",
    " \"S1A_IW_SLC__1SDV_20230916T063730_20230916T063757_050349_060FCD_6814\"\n",
    "]"
   ]
  },
  {
   "cell_type": "code",
   "execution_count": null,
   "metadata": {},
   "outputs": [],
   "source": [
    "data_dir = \"/data/S1\"\n",
    "primary_dir = f\"{data_dir}/{ids[0]}.SAFE\"\n",
    "secondary_dir = f\"{data_dir}/{ids[1]}.SAFE\"\n",
    "out_dir = f\"/data/res/Morocco-earthquake-2023\""
   ]
  },
  {
   "cell_type": "code",
   "execution_count": null,
   "metadata": {},
   "outputs": [],
   "source": [
    "from eo_tools.S1.process import slc2geo, coherence, amplitude\n",
    "file_prm = f\"{out_dir}/primary.tif\"\n",
    "file_sec = f\"{out_dir}/secondary.tif\"\n",
    "file_coh = f\"{out_dir}/coh.tif\"\n",
    "file_coh_dask = f\"{out_dir}/coh_dask.tif\"\n",
    "# computing amplitude and complex coherence  in the radar geometry\n",
    "# coherence(file_prm, file_sec, file_coh, box_size=[3,10], magnitude=False)\n"
   ]
  },
  {
   "cell_type": "code",
   "execution_count": null,
   "metadata": {},
   "outputs": [],
   "source": [
    "def coh_dask(file_prm, file_sec, file_out, box_size=5, magnitude=True):\n",
    "    \"\"\"Compute the complex coherence from two SLC image files.\n",
    "\n",
    "    Args:\n",
    "        file_prm (str): GeoTiff file of the primary SLC image\n",
    "        file_sec (str): GeoTiff file of the secondary SLC image\n",
    "        file_out (str): output file\n",
    "        box_size (int, optional): Window size in pixels for boxcar filtering. Defaults to 5.\n",
    "        magnitude (bool, optional): Writes magnitude only. Otherwise a complex valued raster is written. Defaults to True.\n",
    "    \"\"\"\n",
    "    import dask.array as da\n",
    "    import numpy as np\n",
    "    import xarray as xr\n",
    "    from rasterio.errors import NotGeoreferencedWarning\n",
    "    from eo_tools.S1.util import boxcar\n",
    "    import warnings\n",
    "\n",
    "    log.info(\"Computing coherence\")\n",
    "\n",
    "    if isinstance(box_size, list):\n",
    "        box_az = box_size[0]\n",
    "        box_rg = box_size[1]\n",
    "    else:\n",
    "        box_az = box_size\n",
    "        box_rg = box_size\n",
    "\n",
    "    ds_prm = xr.open_dataset(file_prm, lock=False, chunks=\"auto\", engine=\"rasterio\")\n",
    "    ds_sec = xr.open_dataset(file_sec, lock=False, chunks=\"auto\", engine=\"rasterio\")\n",
    "\n",
    "    prm = ds_prm[\"band_data\"][0].data\n",
    "    sec = ds_sec[\"band_data\"][0].data\n",
    "\n",
    "    process_args = dict(dimaz=box_az, dimrg=box_rg, dtype=\"float32\", depth=(box_rg, box_az))\n",
    "\n",
    "    coh = da.map_overlap(boxcar, prm * sec.conj(), **process_args)\n",
    "    coh /= np.sqrt(da.map_overlap(boxcar, prm * prm.conj(), **process_args)).real\n",
    "    coh /= np.sqrt(da.map_overlap(boxcar, sec * sec.conj(), **process_args)).real\n",
    "\n",
    "    if magnitude:\n",
    "        coh = np.abs(coh)\n",
    "        nodataval = np.nan\n",
    "    else:\n",
    "        nodataval = np.nan + 1j * np.nan\n",
    "\n",
    "    da_coh = xr.DataArray(\n",
    "        data=coh[None],\n",
    "        dims=(\"band\", \"y\", \"x\"),\n",
    "    )\n",
    "    da_coh.rio.write_nodata(nodataval)\n",
    "\n",
    "    warnings.filterwarnings(\"ignore\", category=NotGeoreferencedWarning)\n",
    "    da_coh.rio.to_raster(file_out)\n",
    "    # return coh\n",
    "\n",
    "\n",
    "coh_dask(file_prm, file_sec, file_coh_dask, box_size=[3, 10], magnitude=True)\n",
    "\n",
    "ds_coh = xr.open_dataset(file_coh_dask)\n",
    "coh = ds_coh[\"band_data\"][0]\n",
    "\n",
    "plt.figure(figsize=(10, 10))\n",
    "plt.imshow(coh[::2,::8], interpolation=\"none\")\n",
    "plt.colorbar(fraction=0.046, pad=0.04)"
   ]
  }
 ],
 "metadata": {
  "kernelspec": {
   "display_name": "Python 3",
   "language": "python",
   "name": "python3"
  },
  "language_info": {
   "codemirror_mode": {
    "name": "ipython",
    "version": 3
   },
   "file_extension": ".py",
   "mimetype": "text/x-python",
   "name": "python",
   "nbconvert_exporter": "python",
   "pygments_lexer": "ipython3",
   "version": "3.12.3"
  }
 },
 "nbformat": 4,
 "nbformat_minor": 2
}
