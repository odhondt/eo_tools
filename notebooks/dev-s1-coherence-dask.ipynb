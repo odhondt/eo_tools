{
 "cells": [
  {
   "cell_type": "code",
   "execution_count": null,
   "metadata": {},
   "outputs": [],
   "source": [
    "%load_ext autoreload\n",
    "%autoreload 2\n",
    "import logging\n",
    "logging.basicConfig(level=logging.INFO)\n",
    "\n",
    "# from folium import LayerControl\n",
    "from eo_tools.util import show_insar_coh, show_insar_phi, show_sar_int\n",
    "\n",
    "# credentials need to be stored in the following file (see EODAG docs)\n",
    "confpath = \"/data/eodag_config.yml\"\n",
    "logging.basicConfig(level=logging.INFO)\n",
    "log = logging.getLogger(__name__)"
   ]
  },
  {
   "cell_type": "code",
   "execution_count": null,
   "metadata": {},
   "outputs": [],
   "source": [
    "# load a geometry\n",
    "ids = [\n",
    " \"S1A_IW_SLC__1SDV_20230904T063730_20230904T063757_050174_0609E3_DAA1\", \n",
    " \"S1A_IW_SLC__1SDV_20230916T063730_20230916T063757_050349_060FCD_6814\"\n",
    "]"
   ]
  },
  {
   "cell_type": "code",
   "execution_count": null,
   "metadata": {},
   "outputs": [],
   "source": [
    "data_dir = \"/data/S1\"\n",
    "primary_dir = f\"{data_dir}/{ids[0]}.SAFE\"\n",
    "secondary_dir = f\"{data_dir}/{ids[1]}.SAFE\"\n",
    "out_dir = f\"/data/res/Morocco-earthquake-2023\""
   ]
  },
  {
   "cell_type": "code",
   "execution_count": null,
   "metadata": {},
   "outputs": [],
   "source": [
    "from eo_tools.S1.process import slc2geo, coherence, amplitude\n",
    "file_prm = f\"{out_dir}/primary.tif\"\n",
    "file_sec = f\"{out_dir}/secondary.tif\"\n",
    "file_coh = f\"{out_dir}/coh.tif\"\n",
    "file_coh_dask = f\"{out_dir}/coh_dask.tif\"\n",
    "# computing amplitude and complex coherence  in the radar geometry\n",
    "# coherence(file_prm, file_sec, file_coh, box_size=[3,10], magnitude=False)\n"
   ]
  },
  {
   "cell_type": "code",
   "execution_count": null,
   "metadata": {},
   "outputs": [],
   "source": [
    "def coh_dask(file_prm, file_sec, file_out, box_size=5, magnitude=True):\n",
    "    \"\"\"Compute the complex coherence from two SLC image files.\n",
    "\n",
    "    Args:\n",
    "        file_prm (str): GeoTiff file of the primary SLC image\n",
    "        file_sec (str): GeoTiff file of the secondary SLC image\n",
    "        file_out (str): output file\n",
    "        box_size (int, optional): Window size in pixels for boxcar filtering. Defaults to 5.\n",
    "        magnitude (bool, optional): Writes magnitude only. Otherwise a complex valued raster is written. Defaults to True.\n",
    "    \"\"\"\n",
    "    import dask.array as da\n",
    "    import numpy as np\n",
    "    import xarray as xr\n",
    "    from eo_tools.S1.util import boxcar\n",
    "\n",
    "    log.info(\"Computing coherence\")\n",
    "\n",
    "    if isinstance(box_size, list):\n",
    "        box_az = box_size[0]\n",
    "        box_rg = box_size[1]\n",
    "    else:\n",
    "        box_az = box_size\n",
    "        box_rg = box_size\n",
    "\n",
    "    prm = xr.open_dataset(file_prm, lock=False, chunks=\"auto\", engine=\"rasterio\")[\n",
    "        \"band_data\"\n",
    "    ][0].data\n",
    "    sec = xr.open_dataset(file_sec, lock=False, chunks=\"auto\", engine=\"rasterio\")[\n",
    "        \"band_data\"\n",
    "    ][0].data\n",
    "    coh = da.map_overlap(\n",
    "        boxcar,\n",
    "        prm * sec.conj(),\n",
    "        dimaz=box_az,\n",
    "        dimrg=box_rg,\n",
    "        dtype=float,\n",
    "        chunks=(500, 500),\n",
    "        # depth=(box_rg, box_az)\n",
    "    )\n",
    "    coh /= np.sqrt(\n",
    "        da.map_overlap(\n",
    "            boxcar,\n",
    "            prm * prm.conj(),\n",
    "            dimaz=box_az,\n",
    "            dimrg=box_rg,\n",
    "            dtype=float,\n",
    "            chunks=(500, 500),\n",
    "            # depth=(box_rg, box_az)\n",
    "        )\n",
    "    ).real\n",
    "    coh /= np.sqrt(\n",
    "        da.map_overlap(\n",
    "            boxcar,\n",
    "            sec * sec.conj(),\n",
    "            dimaz=box_az,\n",
    "            dimrg=box_rg,\n",
    "            dtype=float,\n",
    "            chunks=(500, 500),\n",
    "            # depth=(box_rg, box_az)\n",
    "        )\n",
    "    ).real\n",
    "\n",
    "    if magnitude:\n",
    "        coh = np.abs(coh)\n",
    "\n",
    "    # da_coh = \n",
    "    # coh.to_raster(file_out)\n",
    "    # warnings.filterwarnings(\"ignore\", category=rio.errors.NotGeoreferencedWarning)\n",
    "    # prof.update(dict(dtype=coh.dtype.name))\n",
    "    # with rio.open(file_out, \"w\", **prof) as dst:\n",
    "    #     dst.write(coh, 1)\n",
    "    return coh\n",
    "\n",
    "\n",
    "coh = coh_dask(file_prm, file_sec, file_coh, box_size=[3, 10], magnitude=True)"
   ]
  },
  {
   "cell_type": "code",
   "execution_count": null,
   "metadata": {},
   "outputs": [],
   "source": [
    "# toto = prm.compute()\n",
    "import matplotlib.pyplot as plt\n",
    "\n",
    "plt.figure(figsize=(10, 10))\n",
    "plt.imshow(coh, interpolation=\"none\", vmax=1)\n",
    "plt.colorbar(fraction=0.046, pad=0.04)"
   ]
  },
  {
   "cell_type": "code",
   "execution_count": null,
   "metadata": {},
   "outputs": [],
   "source": [
    "# import matplotlib.pyplot as plt\n",
    "# plt.figure(figsize=(10, 10))\n",
    "# plt.imshow(abs(prm), interpolation=\"none\")\n",
    "# plt.colorbar(fraction=0.046, pad=0.04)"
   ]
  },
  {
   "cell_type": "markdown",
   "metadata": {},
   "source": []
  },
  {
   "cell_type": "code",
   "execution_count": null,
   "metadata": {},
   "outputs": [],
   "source": [
    "prm['band_data'][0]"
   ]
  },
  {
   "cell_type": "code",
   "execution_count": null,
   "metadata": {},
   "outputs": [],
   "source": [
    "from scipy.misc import face\n",
    "from eo_tools.S1.util import boxcar\n",
    "import dask.array as da\n",
    "im = face().sum(2)\n",
    "\n",
    "arr = da.from_array(im.astype(float))\n",
    "\n",
    "# barr = arr.map_blocks(boxcar, 7, 15, dtype=float, chunks=(128,128))\n",
    "barr = da.map_blocks(boxcar, arr, 7, 15, dtype=float, chunks=(128,128))\n",
    "plt.figure(figsize=(10, 10))\n",
    "plt.imshow(barr, interpolation=\"none\")\n",
    "plt.colorbar(fraction=0.046, pad=0.04)"
   ]
  },
  {
   "cell_type": "code",
   "execution_count": null,
   "metadata": {},
   "outputs": [],
   "source": [
    "da.map_blocks"
   ]
  },
  {
   "cell_type": "code",
   "execution_count": null,
   "metadata": {},
   "outputs": [],
   "source": []
  }
 ],
 "metadata": {
  "kernelspec": {
   "display_name": "Python 3",
   "language": "python",
   "name": "python3"
  },
  "language_info": {
   "codemirror_mode": {
    "name": "ipython",
    "version": 3
   },
   "file_extension": ".py",
   "mimetype": "text/x-python",
   "name": "python",
   "nbconvert_exporter": "python",
   "pygments_lexer": "ipython3",
   "version": "3.12.3"
  }
 },
 "nbformat": 4,
 "nbformat_minor": 2
}
