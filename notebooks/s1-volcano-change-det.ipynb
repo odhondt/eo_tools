{
 "cells": [
  {
   "cell_type": "markdown",
   "metadata": {},
   "source": [
    "# Discover & Process Sentinel-1 InSAR pairs\n",
    "\n",
    "- The provider used for this notebook is `cop_dataspace`\n",
    "- A free account needs to be created at https://dataspace.copernicus.eu/\n",
    "- The credentials need to be configured as explained here https://eodag.readthedocs.io/en/stable/getting_started_guide/configure.html"
   ]
  },
  {
   "cell_type": "code",
   "execution_count": null,
   "metadata": {},
   "outputs": [],
   "source": [
    "%load_ext autoreload\n",
    "%autoreload 2\n",
    "\n",
    "from folium import Map, LayerControl\n",
    "\n",
    "from eo_tools.util import explore_products\n",
    "from eo_tools.util import show_insar_coh, show_insar_phi, show_sar_int, show_cog\n",
    "from eo_tools.S1 import process_InSAR\n",
    "import geopandas as gpd\n",
    "import folium\n",
    "import folium.plugins\n",
    "import logging\n",
    "import os\n",
    "\n",
    "from eodag import EODataAccessGateway\n",
    "\n",
    "# credentials need to be stored in the following file (see EODAG docs)\n",
    "confpath = \"/data/eodag_config.yml\"\n",
    "dag = EODataAccessGateway(user_conf_file_path=confpath)\n",
    "# make sure cop_dataspace will be used \n",
    "dag.set_preferred_provider(\"cop_dataspace\")\n",
    "logging.basicConfig(level=logging.INFO)"
   ]
  },
  {
   "cell_type": "markdown",
   "metadata": {},
   "source": [
    "## Search"
   ]
  },
  {
   "cell_type": "code",
   "execution_count": null,
   "metadata": {},
   "outputs": [],
   "source": [
    "# load a geometry\n",
    "shp = gpd.read_file(\"../data/Kilauea.geojson\").iloc[0].geometry\n",
    "search_criteria = {\n",
    "    # \"productType\": \"S1_SAR\",\n",
    "    \"productType\": \"S1_SAR_SLC\",\n",
    "    \"start\": \"2018-04-11\",\n",
    "    \"end\": \"2018-05-30\",\n",
    "    \"geom\": shp,\n",
    "}\n",
    "results, _ = dag.search(**search_criteria)"
   ]
  },
  {
   "cell_type": "markdown",
   "metadata": {},
   "source": [
    "## Visualize by groups\n",
    "\n",
    "- For InSAR, products must be overlapping and from the same relative orbit.\n",
    "- They also have to be of the same ascending / descending configuration."
   ]
  },
  {
   "cell_type": "code",
   "execution_count": null,
   "metadata": {},
   "outputs": [],
   "source": [
    "# TODO: add filter on ascending / descending\n",
    "explore_products(results, shp)"
   ]
  },
  {
   "cell_type": "markdown",
   "metadata": {},
   "source": [
    "## Download"
   ]
  },
  {
   "cell_type": "code",
   "execution_count": null,
   "metadata": {},
   "outputs": [],
   "source": [
    "# fill indices of products to download\n",
    "# indices_to_download = [12, 11]\n",
    "indices_to_download = [4, 22]\n",
    "to_download = [results[i] for i in indices_to_download]\n",
    "\n",
    "# if the data has already been downloaded, just re-run the cell to get the product paths\n",
    "dl = dag.download_all(to_download, outputs_prefix=\"/data/S1/\", extract=False)"
   ]
  },
  {
   "cell_type": "markdown",
   "metadata": {},
   "source": [
    "# Process"
   ]
  },
  {
   "cell_type": "code",
   "execution_count": null,
   "metadata": {},
   "outputs": [],
   "source": [
    "# substr = \".SAFE/\" \n",
    "# substr = \".SAFE/manifest.safe\" \n",
    "# dl0 = dl[0].replace(\".zip\",substr)\n",
    "# dl1 = dl[1].replace(\".zip\",substr) \n",
    "# print(dl1)"
   ]
  },
  {
   "cell_type": "code",
   "execution_count": null,
   "metadata": {},
   "outputs": [],
   "source": [
    "# extract paths for processing\n",
    "insar_dirs = process_InSAR(\n",
    "    # dl1,\n",
    "    dl[0],\n",
    "    # dl0,\n",
    "    dl[1],\n",
    "    outputs_prefix=\"/data/res\",\n",
    "    tmp_dir=\"/data/tmp\",\n",
    "    aoi_name = \"Kilauea-CD\",\n",
    "    shp=shp,\n",
    "    pol=\"VH\",\n",
    "    coh_only=False,\n",
    "    intensity=True,\n",
    "    clear_tmp_files=True,\n",
    "    resume=False\n",
    ")"
   ]
  },
  {
   "cell_type": "code",
   "execution_count": null,
   "metadata": {},
   "outputs": [],
   "source": [
    "insar_dir = \"/data/res/S1_InSAR_VV_2018-04-11-161524__2018-05-29-161526_Kilauea-CD/\""
   ]
  },
  {
   "cell_type": "code",
   "execution_count": null,
   "metadata": {},
   "outputs": [],
   "source": [
    "from eo_tools.dem import retrieve_dem\n",
    "file_dem = \"/data/res/dem_kilauea.tif\"\n",
    "# retrieve_dem(shp, file_dem)"
   ]
  },
  {
   "cell_type": "code",
   "execution_count": null,
   "metadata": {},
   "outputs": [],
   "source": [
    "from eo_tools.S1 import change_int\n",
    "\n",
    "file_mst = f\"{insar_dir}/int_mst.tif\"\n",
    "file_slv = f\"{insar_dir}/int_slv.tif\"\n",
    "file_change = f\"{insar_dir}/change.tif\"\n",
    "# change_int(file_slv, file_mst, file_change)"
   ]
  },
  {
   "cell_type": "code",
   "execution_count": null,
   "metadata": {},
   "outputs": [],
   "source": [
    "m = Map()\n",
    "tile = folium.TileLayer(\n",
    "        tiles = 'https://server.arcgisonline.com/ArcGIS/rest/services/World_Imagery/MapServer/tile/{z}/{y}/{x}',\n",
    "        attr = 'Esri',\n",
    "        name = 'Esri Satellite',\n",
    "        overlay = False,\n",
    "        control = True\n",
    "       ).add_to(m)\n",
    "# show_cog(\"/data/kil_2019dem_hs.tif\", m)\n",
    "show_cog(file_dem, m, rescale=\"800,1800\")#, algorithm=\"hillshade\")\n",
    "show_cog(f\"{insar_dir}/coh.tif\", m, rescale=\"0,1\")\n",
    "show_cog(f\"{insar_dir}/change.tif\", m, rescale=\"-1,1\", colormap_name=\"blues_r\")\n",
    "show_cog(f\"{insar_dir}/int_mst.tif\", m, rescale=\"0,0.4\")\n",
    "show_cog(f\"{insar_dir}/int_slv.tif\", m, rescale=\"0,0.4\")\n",
    "LayerControl().add_to(m)\n",
    "m"
   ]
  }
 ],
 "metadata": {
  "kernelspec": {
   "display_name": "Python 3",
   "language": "python",
   "name": "python3"
  },
  "language_info": {
   "codemirror_mode": {
    "name": "ipython",
    "version": 3
   },
   "file_extension": ".py",
   "mimetype": "text/x-python",
   "name": "python",
   "nbconvert_exporter": "python",
   "pygments_lexer": "ipython3",
   "version": "3.12.2"
  },
  "orig_nbformat": 4
 },
 "nbformat": 4,
 "nbformat_minor": 2
}
