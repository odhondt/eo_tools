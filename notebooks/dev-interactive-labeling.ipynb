{
 "cells": [
  {
   "cell_type": "markdown",
   "metadata": {},
   "source": [
    "# ChatGPT answer, not working fully"
   ]
  },
  {
   "cell_type": "code",
   "execution_count": null,
   "metadata": {},
   "outputs": [],
   "source": [
    "import ipywidgets as widgets\n",
    "from ipyleaflet import Map, GeomanDrawControl, GeoJSON, basemaps\n",
    "import json\n",
    "\n",
    "\n",
    "# Base map\n",
    "m = Map(center=(51.0, 0.0), zoom=12, basemap=basemaps.OpenStreetMap.Mapnik)\n",
    "\n",
    "# Radio buttons for class selection\n",
    "class_selector = widgets.RadioButtons(\n",
    "    options=['Water', 'Crop', 'Urban'],\n",
    "    description='Class:',\n",
    "    disabled=False\n",
    ")\n",
    "\n",
    "# Function to return different colors based on class\n",
    "def get_class_color(polygon_class):\n",
    "    if polygon_class == 'Water':\n",
    "        return \"#0000FF\"  # Blue\n",
    "    elif polygon_class == 'Crop':\n",
    "        return \"#00FF00\"  # Green\n",
    "    elif polygon_class == 'Urban':\n",
    "        return \"#FF0000\"  # Red\n",
    "    return \"#000000\"  # Default black\n",
    "\n",
    "# Geoman Draw control\n",
    "draw_control = GeomanDrawControl()\n",
    "m.add_control(draw_control)\n",
    "\n",
    "# Store drawn features with class labels\n",
    "features = []\n",
    "\n",
    "# def handle_draw(event, **kwargs):\n",
    "# def handle_draw(self, action, geojson):\n",
    "def handle_draw(event, action, geo_json):\n",
    "    # Extract geo_json from kwargs\n",
    "    # geojson = kwargs['geo_json'][0]\n",
    "    geojson = geo_json[0]\n",
    "    \n",
    "    # Get the selected class from the radio buttons\n",
    "    polygon_class = class_selector.value\n",
    "    \n",
    "    # Add class and style properties\n",
    "    geojson['properties']['class'] = polygon_class\n",
    "    geojson['properties']['style'] = {\n",
    "        'color': get_class_color(polygon_class),\n",
    "        'weight': 2,\n",
    "        'fillOpacity': 0.5\n",
    "    }\n",
    "    \n",
    "    # Append the feature to the list of features\n",
    "    features.append(geojson)\n",
    "    \n",
    "    # Add the styled polygon to the map\n",
    "    # styled_polygon = GeoJSON(data=geojson)\n",
    "    # m.add_layer(styled_polygon)\n",
    "\n",
    "draw_control.on_draw(handle_draw)\n",
    "\n",
    "\n",
    "\n",
    "# Button to save GeoJSON\n",
    "save_button = widgets.Button(description=\"Save to GeoJSON\")\n",
    "\n",
    "def save_geojson(b):\n",
    "    filename = \"labeled_polygons.geojson\"  # Set this interactively if needed\n",
    "    feature_collection = {\"type\": \"FeatureCollection\", \"features\": features}\n",
    "    \n",
    "    with open(filename, 'w') as f:\n",
    "        json.dump(feature_collection, f)\n",
    "    print(f\"GeoJSON saved as {filename}\")\n",
    "\n",
    "save_button.on_click(save_geojson)\n",
    "\n",
    "# Display map and widgets\n",
    "widgets.VBox([m, class_selector, save_button])"
   ]
  },
  {
   "cell_type": "markdown",
   "metadata": {},
   "source": [
    "# Trying to make my own"
   ]
  },
  {
   "cell_type": "code",
   "execution_count": null,
   "metadata": {},
   "outputs": [],
   "source": [
    "import ipywidgets as widgets\n",
    "from ipyleaflet import Map, GeomanDrawControl,DrawControl, basemaps\n",
    "\n",
    "from pprint import pprint\n",
    "\n",
    "# Radio buttons for class selection\n",
    "class_selector = widgets.RadioButtons(\n",
    "    options=[\"Water\", \"Crop\", \"Urban\"], description=\"Class:\", disabled=False\n",
    ")\n",
    "\n",
    "# Function to return different colors based on class\n",
    "def get_class_color(polygon_class):\n",
    "    if polygon_class == \"Water\":\n",
    "        return \"#0000FF\"  # Blue\n",
    "    elif polygon_class == \"Crop\":\n",
    "        return \"#008800\"  # Green\n",
    "    elif polygon_class == \"Urban\":\n",
    "        return \"#FF0000\"  # Red\n",
    "    return \"#000000\"  # Default black\n",
    "\n",
    "m = Map(center=(51.0, 0.0), zoom=12, basemap=basemaps.OpenStreetMap.Mapnik)\n",
    "\n",
    "\n",
    "class LabelTool():\n",
    "    def __init__(self, m):\n",
    "        self.m = m\n",
    "        # Geoman Draw control\n",
    "        self.draw_control = GeomanDrawControl(\n",
    "            circle={},\n",
    "            polyline={},\n",
    "            polygon={\"shapeOptions\": {\"color\": \"#0000FF\"}}#, repeatMode=True},\n",
    "        )\n",
    "        self.m.add_control(self.draw_control)\n",
    "        self.draw_control.on_draw(self.handle_draw)\n",
    "\n",
    "    # Draw event handler\n",
    "    def handle_draw(self, target, action, geo_json):\n",
    "        polygon_class = class_selector.value\n",
    "        self.m.remove_control(self.draw_control)\n",
    "        self.draw_control = GeomanDrawControl(\n",
    "            circle={},\n",
    "            polyline={},\n",
    "            polygon={\"shapeOptions\": {\"color\": get_class_color(polygon_class)}}#, repeatMode=True},\n",
    "        )\n",
    "        self.m.add_control(self.draw_control)\n",
    "# Display map and widgets\n",
    "l = LabelTool(m)\n",
    "widgets.VBox([m, class_selector])"
   ]
  },
  {
   "cell_type": "code",
   "execution_count": null,
   "metadata": {},
   "outputs": [],
   "source": [
    "# this works when executed outside of on_draw callba\n",
    "m.remove_control(draw_control)\n",
    "draw_control = GeomanDrawControl(\n",
    "    circle={},\n",
    "    polyline={},\n",
    "    polygon={\"shapeOptions\": {\"color\": \"#FF00FF\"}}#, repeatMode=True},\n",
    ")\n",
    "m.add_control(draw_control)"
   ]
  },
  {
   "cell_type": "markdown",
   "metadata": {},
   "source": [
    "Partial answer here:\n",
    "https://github.com/jupyter-widgets/ipyleaflet/issues/425"
   ]
  },
  {
   "cell_type": "code",
   "execution_count": null,
   "metadata": {},
   "outputs": [],
   "source": [
    "pprint(l.draw_control)"
   ]
  },
  {
   "cell_type": "code",
   "execution_count": null,
   "metadata": {},
   "outputs": [],
   "source": []
  }
 ],
 "metadata": {
  "kernelspec": {
   "display_name": "Python 3",
   "language": "python",
   "name": "python3"
  },
  "language_info": {
   "codemirror_mode": {
    "name": "ipython",
    "version": 3
   },
   "file_extension": ".py",
   "mimetype": "text/x-python",
   "name": "python",
   "nbconvert_exporter": "python",
   "pygments_lexer": "ipython3",
   "version": "3.12.5"
  }
 },
 "nbformat": 4,
 "nbformat_minor": 2
}
