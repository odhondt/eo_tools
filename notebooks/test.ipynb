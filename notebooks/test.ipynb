{
 "cells": [
  {
   "cell_type": "code",
   "execution_count": 2,
   "metadata": {},
   "outputs": [],
   "source": [
    "%load_ext autoreload\n",
    "%autoreload 2\n",
    "\n",
    "import numpy as np\n",
    "import pyroSAR\n",
    "from s1pro.s1_coh_proc import S1_coh_proc\n",
    "from s1pro.s1_simple_proc import S1_simple_proc\n",
    "from spatialist import Vector\n",
    "import geopandas as gpd"
   ]
  },
  {
   "cell_type": "code",
   "execution_count": 3,
   "metadata": {},
   "outputs": [],
   "source": [
    "# aoi = Vector('/data/aoi_bretagne.geojson')\n",
    "infiles = [\n",
    "    \"/data/S1/S1A_IW_SLC__1SDV_20230826T180527_20230826T180554_050050_0605B2_E768.zip\",\n",
    "    \"/data/S1/S1A_IW_SLC__1SDV_20230814T180526_20230814T180553_049875_05FFB4_7D92.zip\",\n",
    "]\n",
    "file_aoi = \"/data/aoi_bretagne.geojson\"\n",
    "# gpt_paras = [\"-e\", \"-x\", \"-c\",\"35G\", \"-q\", \"4\", \"-J-Xms25G\", \"-J-Xmx75G\"]\n",
    "# gpt_paras = [\"-e\", \"-x\", \"-c\", \"4G\", \"-q\", \"6\", \"-J-Xms4G\", \"-J-Xmx10G\", \"-Dsnap.gpf.disableTileCache=true\"]\n",
    "# gpt_paras = [\"-x\", \"-c\", \"8G\", \"-q\", \"6\", \"-J-Xms1G\", \"-J-Xmx10G\"]\n",
    "# gpt_paras = [\"-x\", \"-c\", \"8027m\", \"-q\", \"6\", \"-J-Xmx11468m\",  \"-J-Xms2048m\", \"-J-XX:+AggressiveOpts\", \"-J-Xverify:none\"]\n",
    "# gpt_paras = [\"-x\", \"-c\", \"8027m\", \"-q\", \"8\", \"-J-Xmx20G\",  \"-J-Xms2048m\", \"-J-XX:+AggressiveOpts\", \"-J-Xverify:none\"]\n",
    "# S1_coh_proc(infiles, out_dir='/data/res', shapefile=aoi, pol='VV',tmpdir='/data/tmp', gpt_paras=gpt_paras)\n",
    "# S1_coh_proc(infiles, out_dir='/data/res', shapefile=aoi, pol='VV',tmpdir='/data/tmp')\n",
    "# S1_coh_proc(infiles, out_dir='/data/res', IWs=['IW3'], pol='VV',tmpdir='/data/tmp', gpt_paras=gpt_paras)\n",
    "# S1_coh_proc(infiles, out_dir='/data/res',\n",
    "#             tmpdir='/data/tmp',\n",
    "#             pol='VV',\n",
    "#             IWs='IW1',\n",
    "#             gpt_paras=gpt_paras)\n",
    "# info = pyroSAR.identify_many(infiles)\n",
    "# for i in info:\n",
    "# print(i)\n",
    "df_aoi = gpd.read_file(file_aoi)"
   ]
  },
  {
   "cell_type": "code",
   "execution_count": 5,
   "metadata": {},
   "outputs": [
    {
     "name": "stdout",
     "output_type": "stream",
     "text": [
      "Processing subswath IW2 in VH polarization.\n"
     ]
    }
   ],
   "source": [
    "S1_simple_proc(\n",
    "    infiles[0],\n",
    "    infiles[1],\n",
    "    out_dir=\"/data/res\",\n",
    "    tmp_dir=\"/data/tmp\",\n",
    "    shp=df_aoi.geometry[0],\n",
    "    pol=\"VH\",\n",
    ")"
   ]
  },
  {
   "cell_type": "code",
   "execution_count": null,
   "metadata": {},
   "outputs": [],
   "source": [
    "from pyroSAR.snap.auxil import execute, groupbyWorkers, gpt\n",
    "\n",
    "# grp = groupbyWorkers('./TOPSAR Coreg Interferogram IW2 to GeoTiff.xml', n=1)\n",
    "grp = groupbyWorkers(\"./experiment_from_snap_graph.xml\", n=1)\n",
    "# grp = groupbyWorkers('./Coh_tmp_prep_graph_dbg.xml', n=1)\n",
    "\n",
    "gpt(\"./experiment_from_snap_graph.xml\", groups=grp, tmpdir=\"/data/tmp/\")\n",
    "# gpt('./Coh_tmp_prep_graph_dbg.xml', groups=grp, tmpdir='/data/tmp/')\n",
    "# execute('./Coh_tmp_prep_graph_dbg.xml', gpt_args=gpt_paras)\n",
    "# execute('./experiment_from_snap_graph.xml', gpt_args=gpt_paras)"
   ]
  },
  {
   "cell_type": "markdown",
   "metadata": {},
   "source": []
  },
  {
   "cell_type": "code",
   "execution_count": null,
   "metadata": {},
   "outputs": [],
   "source": [
    "import rasterio as rio\n",
    "\n",
    "# with rio.open('/data/tmp/S1_A_relOrb_103_COH__VV_20230826T180527_20230814T180526/S1_A_relOrb_103_COH__VV_20230826T180527_20230814T180526.tif') as ds:\n",
    "with rio.open(\"/data/S1/test_ifg.tif\") as ds:\n",
    "    # with rio.open('/data/tmp/S1_relOrb_TEST_split_before_orbit.tif') as ds:\n",
    "    print(ds.profile)\n",
    "    img = ds.read(3)\n",
    "    re = ds.read(1)\n",
    "    im = ds.read(2)"
   ]
  },
  {
   "cell_type": "code",
   "execution_count": null,
   "metadata": {},
   "outputs": [],
   "source": [
    "import matplotlib.pyplot as plt\n",
    "\n",
    "plt.figure(figsize=(20, 10))\n",
    "plt.imshow(img[::8, ::8], interpolation=\"nearest\")  # , vmin=0, vmax=100000)\n",
    "plt.colorbar()"
   ]
  },
  {
   "cell_type": "code",
   "execution_count": null,
   "metadata": {},
   "outputs": [],
   "source": [
    "import matplotlib.pyplot as plt\n",
    "\n",
    "plt.figure(figsize=(20, 10))\n",
    "plt.imshow(\n",
    "    np.angle(re + 1j * im)[::8, ::8], interpolation=\"nearest\", vmin=0, vmax=100000000\n",
    ")\n",
    "plt.colorbar()"
   ]
  },
  {
   "cell_type": "code",
   "execution_count": null,
   "metadata": {},
   "outputs": [],
   "source": [
    "plt.hist(img.ravel()[::100])"
   ]
  },
  {
   "cell_type": "code",
   "execution_count": null,
   "metadata": {},
   "outputs": [],
   "source": []
  }
 ],
 "metadata": {
  "kernelspec": {
   "display_name": "Python 3",
   "language": "python",
   "name": "python3"
  },
  "language_info": {
   "codemirror_mode": {
    "name": "ipython",
    "version": 3
   },
   "file_extension": ".py",
   "mimetype": "text/x-python",
   "name": "python",
   "nbconvert_exporter": "python",
   "pygments_lexer": "ipython3",
   "version": "3.11.5"
  },
  "orig_nbformat": 4
 },
 "nbformat": 4,
 "nbformat_minor": 2
}
