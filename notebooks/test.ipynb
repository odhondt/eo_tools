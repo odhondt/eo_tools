{
 "cells": [
  {
   "cell_type": "code",
   "execution_count": null,
   "metadata": {},
   "outputs": [],
   "source": [
    "%load_ext autoreload\n",
    "%autoreload 2\n",
    "\n",
    "import numpy as np\n",
    "from eo_tools.S1 import process_InSAR\n",
    "import geopandas as gpd\n",
    "import logging\n",
    "import matplotlib.pyplot as plt\n",
    "\n",
    "# detailed debug info\n",
    "# logging.basicConfig(level=logging.DEBUG)\n",
    "logging.basicConfig(level=logging.INFO)"
   ]
  },
  {
   "cell_type": "code",
   "execution_count": null,
   "metadata": {},
   "outputs": [],
   "source": [
    "# aoi = Vector('/data/aoi_bretagne.geojson')\n",
    "infiles = [\n",
    "    \"/data/S1/S1A_IW_SLC__1SDV_20230826T180527_20230826T180554_050050_0605B2_E768.zip\",\n",
    "    \"/data/S1/S1A_IW_SLC__1SDV_20230814T180526_20230814T180553_049875_05FFB4_7D92.zip\",\n",
    "]\n",
    "file_aoi = \"/data/aoi_bretagne.geojson\"\n",
    "df_aoi = gpd.read_file(file_aoi)"
   ]
  },
  {
   "cell_type": "code",
   "execution_count": null,
   "metadata": {},
   "outputs": [],
   "source": [
    "process_InSAR(\n",
    "    infiles[0],\n",
    "    infiles[1],\n",
    "    out_dir=\"/data/res\",\n",
    "    tmp_dir=\"/data/tmp\",\n",
    "    shp=df_aoi.geometry[0],\n",
    "    pol=\"full\",\n",
    "    coh_only=False,\n",
    "    intensity=True,\n",
    "    clear_tmp_files=True,\n",
    "    resume=True\n",
    ")"
   ]
  },
  {
   "cell_type": "code",
   "execution_count": null,
   "metadata": {},
   "outputs": [],
   "source": [
    "import rasterio as rio\n",
    "\n",
    "with rio.open(\"/data/S1/test_ifg.tif\") as ds:\n",
    "    print(ds.profile)\n",
    "    img = ds.read(3)\n",
    "    re = ds.read(1)\n",
    "    im = ds.read(2)"
   ]
  },
  {
   "cell_type": "code",
   "execution_count": null,
   "metadata": {},
   "outputs": [],
   "source": [
    "import matplotlib.pyplot as plt\n",
    "\n",
    "plt.figure(figsize=(20, 10))\n",
    "plt.imshow(img[::8, ::8], interpolation=\"nearest\")  # , vmin=0, vmax=100000)\n",
    "plt.colorbar()"
   ]
  },
  {
   "cell_type": "code",
   "execution_count": null,
   "metadata": {},
   "outputs": [],
   "source": [
    "import matplotlib.pyplot as plt\n",
    "\n",
    "plt.figure(figsize=(20, 10))\n",
    "plt.imshow(\n",
    "    np.angle(re + 1j * im)[::8, ::8], interpolation=\"nearest\", vmin=0, vmax=100000000\n",
    ")\n",
    "plt.colorbar()"
   ]
  },
  {
   "cell_type": "code",
   "execution_count": null,
   "metadata": {},
   "outputs": [],
   "source": [
    "plt.imshow(np.angle(re+1j*im), cmap='hsv')\n",
    "plt.colorbar()"
   ]
  }
 ],
 "metadata": {
  "kernelspec": {
   "display_name": "Python 3",
   "language": "python",
   "name": "python3"
  },
  "language_info": {
   "codemirror_mode": {
    "name": "ipython",
    "version": 3
   },
   "file_extension": ".py",
   "mimetype": "text/x-python",
   "name": "python",
   "nbconvert_exporter": "python",
   "pygments_lexer": "ipython3",
   "version": "3.11.6"
  },
  "orig_nbformat": 4
 },
 "nbformat": 4,
 "nbformat_minor": 2
}
