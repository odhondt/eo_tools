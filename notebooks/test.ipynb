{
 "cells": [
  {
   "cell_type": "code",
   "execution_count": 1,
   "metadata": {},
   "outputs": [],
   "source": [
    "%load_ext autoreload\n",
    "%autoreload 2\n",
    "\n",
    "import numpy as np\n",
    "import pyroSAR\n",
    "from s1pro.s1_coh_proc import S1_coh_proc\n",
    "from spatialist import Vector"
   ]
  },
  {
   "cell_type": "code",
   "execution_count": 4,
   "metadata": {},
   "outputs": [],
   "source": [
    "# aoi = Vector('/data/aoi_bretagne.geojson')\n",
    "infiles = ['/data/S1/S1A_IW_SLC__1SDV_20230826T180527_20230826T180554_050050_0605B2_E768.zip',\n",
    "           '/data/S1/S1A_IW_SLC__1SDV_20230814T180526_20230814T180553_049875_05FFB4_7D92.zip']\n",
    "aoi = '/data/aoi_bretagne.geojson'\n",
    "# gpt_paras = [\"-e\", \"-x\", \"-c\",\"35G\", \"-q\", \"4\", \"-J-Xms25G\", \"-J-Xmx75G\"]\n",
    "# gpt_paras = [\"-e\", \"-x\", \"-c\", \"4G\", \"-q\", \"6\", \"-J-Xms4G\", \"-J-Xmx10G\", \"-Dsnap.gpf.disableTileCache=true\"]\n",
    "# gpt_paras = [\"-x\", \"-c\", \"8G\", \"-q\", \"6\", \"-J-Xms1G\", \"-J-Xmx10G\"]\n",
    "# gpt_paras = [\"-x\", \"-c\", \"8027m\", \"-q\", \"6\", \"-J-Xmx11468m\",  \"-J-Xms2048m\", \"-J-XX:+AggressiveOpts\", \"-J-Xverify:none\"]\n",
    "gpt_paras = [\"-x\", \"-c\", \"8027m\", \"-q\", \"6\", \"-J-Xmx10G\",  \"-J-Xms2048m\", \"-J-XX:+AggressiveOpts\", \"-J-Xverify:none\"]\n",
    "S1_coh_proc(infiles, out_dir='/data/res', shapefile=aoi, pol='VV',tmpdir='/data/tmp', gpt_paras=gpt_paras)\n",
    "# S1_coh_proc(infiles, out_dir='/data/res', IWs=['IW1'], pol='VV',tmpdir='/data/tmp', gpt_paras=gpt_paras)\n",
    "# S1_coh_proc(infiles, out_dir='/data/res', \n",
    "#             tmpdir='/data/tmp',\n",
    "#             pol='VV',\n",
    "#             IWs='IW1', \n",
    "#             gpt_paras=gpt_paras)\n",
    "# info = pyroSAR.identify_many(infiles)\n",
    "# for i in info:\n",
    "    # print(i)"
   ]
  },
  {
   "cell_type": "code",
   "execution_count": 2,
   "metadata": {},
   "outputs": [],
   "source": [
    "from pyroSAR.snap.auxil import execute, groupbyWorkers, gpt\n",
    "\n",
    "grp = groupbyWorkers('./TOPSAR Coreg Interferogram IW2 to GeoTiff.xml', n=1)\n",
    "\n",
    "# gpt('./TOPSAR Coreg Interferogram IW2 to GeoTiff.xml', groups=grp, tmpdir='/data/tmp/')"
   ]
  },
  {
   "cell_type": "code",
   "execution_count": 11,
   "metadata": {},
   "outputs": [],
   "source": [
    "import sklearn"
   ]
  },
  {
   "cell_type": "code",
   "execution_count": null,
   "metadata": {},
   "outputs": [],
   "source": []
  }
 ],
 "metadata": {
  "kernelspec": {
   "display_name": "Python 3",
   "language": "python",
   "name": "python3"
  },
  "language_info": {
   "codemirror_mode": {
    "name": "ipython",
    "version": 3
   },
   "file_extension": ".py",
   "mimetype": "text/x-python",
   "name": "python",
   "nbconvert_exporter": "python",
   "pygments_lexer": "ipython3",
   "version": "3.9.18"
  },
  "orig_nbformat": 4
 },
 "nbformat": 4,
 "nbformat_minor": 2
}
