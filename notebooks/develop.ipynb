{
 "cells": [
  {
   "cell_type": "markdown",
   "metadata": {},
   "source": [
    "## TODO\n",
    "- [ ] try masking and erode to remove bands\n",
    "- [x] write output as a COG\n",
    "- [ ] crop to AOI"
   ]
  },
  {
   "cell_type": "code",
   "execution_count": 9,
   "metadata": {},
   "outputs": [
    {
     "name": "stdout",
     "output_type": "stream",
     "text": [
      "The autoreload extension is already loaded. To reload it, use:\n",
      "  %reload_ext autoreload\n"
     ]
    }
   ],
   "source": [
    "%load_ext autoreload\n",
    "%autoreload 2\n",
    "# import pyroSAR\n",
    "from pyroSAR.snap.auxil import Workflow, gpt, groupbyWorkers, parse_recipe, parse_node\n",
    "from s1pro.auxils import get_burst_geometry\n",
    "import shapely\n",
    "import geopandas as gpd\n",
    "import matplotlib.pyplot as plt\n",
    "import rasterio as rio\n",
    "import numpy as np\n",
    "from rasterio import merge\n",
    "from rasterio.io import MemoryFile\n",
    "from rio_cogeo.cogeo import cog_translate\n",
    "from rio_cogeo.profiles import cog_profiles\n",
    "from scipy.ndimage import binary_erosion"
   ]
  },
  {
   "cell_type": "code",
   "execution_count": 10,
   "metadata": {},
   "outputs": [],
   "source": [
    "infiles = ['/data/S1/S1A_IW_SLC__1SDV_20230826T180527_20230826T180554_050050_0605B2_E768.zip',\n",
    "           '/data/S1/S1A_IW_SLC__1SDV_20230814T180526_20230814T180553_049875_05FFB4_7D92.zip']\n",
    "outdir = '/data/res/'\n",
    "aoi_path = '/data/aoi_bretagne.geojson'\n",
    "# graph_path = '../graph/TOPSAR Coreg Interferogram IW2 to GeoTiff.xml'\n",
    "# graph_path = '../graph/TOPSAR Coreg Coherence VV IW2 to GeoTiff.xml'\n",
    "graph_path = '../graph/TOPSAR_coh_geocode_IW_to_geotiff.xml'"
   ]
  },
  {
   "cell_type": "code",
   "execution_count": 11,
   "metadata": {},
   "outputs": [],
   "source": [
    "# let's find what iw and bursts intersect AOI\n",
    "df_geo = get_burst_geometry(infiles[0], \n",
    "                   target_subswaths=['IW1', 'IW2','IW3'], \n",
    "                   polarization='VV')\n",
    "aoi = gpd.read_file(aoi_path)"
   ]
  },
  {
   "cell_type": "code",
   "execution_count": 12,
   "metadata": {},
   "outputs": [],
   "source": [
    "df_sel = df_geo[df_geo.intersects(aoi.geometry[0])]\n",
    "unique_subswaths = df_sel['subswath'].unique()"
   ]
  },
  {
   "cell_type": "code",
   "execution_count": 20,
   "metadata": {},
   "outputs": [
    {
     "name": "stdout",
     "output_type": "stream",
     "text": [
      "Subswath IW2, bursts [4 5 6]\n",
      "{'driver': 'GTiff', 'dtype': 'float32', 'nodata': None, 'width': 6132, 'height': 4967, 'count': 1, 'crs': CRS.from_epsg(32633), 'transform': Affine(20.0, 0.0, -933398.0840116986,\n",
      "       0.0, -20.0, 5543892.955377446), 'blockxsize': 288, 'blockysize': 560, 'tiled': True, 'compress': 'lzw', 'interleave': 'band'}\n",
      "Subswath IW3, bursts [4 5 6 7]\n",
      "{'driver': 'GTiff', 'dtype': 'float32', 'nodata': None, 'width': 5782, 'height': 5534, 'count': 1, 'crs': CRS.from_epsg(32633), 'transform': Affine(20.0, 0.0, -845805.6712051213,\n",
      "       0.0, -20.0, 5540669.063751001), 'blockxsize': 272, 'blockysize': 624, 'tiled': True, 'compress': 'lzw', 'interleave': 'band'}\n"
     ]
    }
   ],
   "source": [
    "wfl = Workflow(graph_path)\n",
    "wfl['Read'].parameters['file'] = infiles[0]\n",
    "wfl['Read(2)'].parameters['file'] = infiles[1]\n",
    "for subswath in unique_subswaths[:]:\n",
    "    print(f\"Subswath {subswath}, bursts {df_sel[df_sel['subswath']==subswath]['burst'].values}\")\n",
    "    wfl['TOPSAR-Split'].parameters['subswath'] = subswath\n",
    "    wfl['TOPSAR-Split(2)'].parameters['subswath'] = subswath\n",
    "    bursts = df_sel[df_sel['subswath']==subswath]['burst'].values\n",
    "    burst_min = bursts.min()\n",
    "    burst_max = bursts.max()\n",
    "    wfl['TOPSAR-Split'].parameters['firstBurstIndex'] = burst_min\n",
    "    wfl['TOPSAR-Split'].parameters['lastBurstIndex'] = burst_max\n",
    "    wfl['TOPSAR-Split(2)'].parameters['firstBurstIndex'] = burst_min\n",
    "    wfl['TOPSAR-Split(2)'].parameters['lastBurstIndex'] = burst_max\n",
    "    # wfl['Write'].parameters['file'] = f\"{outdir}/{subswath}_IFG.tif\"\n",
    "    wfl['Write'].parameters['file'] = f\"{outdir}/{subswath}_COH_geo.tif\"\n",
    "    wfl.write('/tmp/graph.xml')\n",
    "    grp = groupbyWorkers('/tmp/graph.xml', n=1)\n",
    "    # gpt('/tmp/graph.xml', groups=grp, tmpdir='/data/tmp/')\n",
    "\n",
    "    # remove bands\n",
    "    with rio.open(f\"{outdir}/{subswath}_COH_geo.tif\", 'r') as src:\n",
    "        prof = src.profile.copy()\n",
    "        print(prof)\n",
    "        prof.update({\"driver\": \"GTiff\",\n",
    "                \"nodata\": 0\n",
    "                 })\n",
    "        struct = np.ones((15,15))\n",
    "        with rio.open(f\"{outdir}/{subswath}_COH_geo_border.tif\", 'w', **prof) as dst:\n",
    "            for i in range(1, prof['count'] + 1):\n",
    "                band_src = src.read(i)\n",
    "                msk_src = band_src != 0\n",
    "                msk_dst = binary_erosion(msk_src, struct)\n",
    "                band_dst = band_src * msk_dst\n",
    "                dst.write(band_dst, i)"
   ]
  },
  {
   "cell_type": "code",
   "execution_count": null,
   "metadata": {},
   "outputs": [],
   "source": [
    "\n",
    "# with rio.open(f\"{outdir}/{subswath}_IFG.tif\") as ds:\n",
    "# with rio.open(f\"{outdir}/{subswath}_COH.tif\") as ds:\n",
    "with rio.open(f\"{outdir}/{subswath}_COH_geo.tif\") as ds:\n",
    "    print(ds.profile)\n",
    "    img = ds.read(1)\n",
    "    # img = ds.read(3)\n",
    "    # re = ds.read(1)\n",
    "    # im = ds.read(2)\n"
   ]
  },
  {
   "cell_type": "code",
   "execution_count": null,
   "metadata": {},
   "outputs": [],
   "source": [
    "import matplotlib.pyplot as plt\n",
    "plt.figure(figsize=(20,10))\n",
    "plt.imshow(img[::8,::8], interpolation='nearest')#, vmin=0, vmax=100000)\n",
    "plt.colorbar()"
   ]
  },
  {
   "cell_type": "code",
   "execution_count": 58,
   "metadata": {},
   "outputs": [
    {
     "name": "stderr",
     "output_type": "stream",
     "text": [
      "/tmp/ipykernel_168195/3130524809.py:22: RasterioDeprecationWarning: Source dataset should be opened in read-only mode. Use of datasets opened in modes other than 'r' will be disallowed in a future version.\n",
      "  cog_translate(\n"
     ]
    }
   ],
   "source": [
    "ds_iw2 = rio.open(f\"{outdir}/IW2_COH_geo.tif\")\n",
    "ds_iw3 = rio.open(f\"{outdir}/IW3_COH_geo.tif\")\n",
    "arr_merge, trans_merge = merge.merge([ds_iw2, ds_iw3])\n",
    "with rio.open(f\"{outdir}/IW2_COH_geo.tif\") as src:\n",
    "        out_meta = src.meta.copy()    \n",
    "out_meta.update({\"driver\": \"GTiff\",\n",
    "                 \"height\": arr_merge.shape[1],\n",
    "                 \"width\": arr_merge.shape[2],\n",
    "                 \"transform\": trans_merge,\n",
    "                 \"nodata\": 0\n",
    "                 })\n",
    "# with rio.open(f\"{outdir}/mergedRasters.tif\", \"w\", **out_meta) as dst:\n",
    "#         dst.write(arr_merge)\n",
    "\n",
    "# write as COG\n",
    "with MemoryFile() as memfile:\n",
    "    with memfile.open(**out_meta) as mem:\n",
    "        # Populate the input file with numpy array\n",
    "        mem.write(arr_merge)\n",
    "\n",
    "        dst_profile = cog_profiles.get(\"deflate\")\n",
    "        cog_translate(\n",
    "            mem,\n",
    "            f\"{outdir}/mergedRasters.tif\",\n",
    "            dst_profile,\n",
    "            in_memory=True,\n",
    "            quiet=True,\n",
    "        )"
   ]
  },
  {
   "cell_type": "code",
   "execution_count": 24,
   "metadata": {},
   "outputs": [
    {
     "data": {
      "text/plain": [
       "{'driver': 'GTiff',\n",
       " 'dtype': 'float32',\n",
       " 'nodata': 0,\n",
       " 'width': 10162,\n",
       " 'height': 5695,\n",
       " 'count': 1,\n",
       " 'crs': CRS.from_epsg(32633),\n",
       " 'transform': Affine(20.0, 0.0, -933398.0840116986,\n",
       "        0.0, -20.0, 5543892.955377446)}"
      ]
     },
     "execution_count": 24,
     "metadata": {},
     "output_type": "execute_result"
    }
   ],
   "source": [
    "out_meta"
   ]
  },
  {
   "cell_type": "code",
   "execution_count": 25,
   "metadata": {},
   "outputs": [
    {
     "name": "stderr",
     "output_type": "stream",
     "text": [
      "/tmp/ipykernel_217093/1684583032.py:22: RasterioDeprecationWarning: Source dataset should be opened in read-only mode. Use of datasets opened in modes other than 'r' will be disallowed in a future version.\n",
      "  cog_translate(\n"
     ]
    }
   ],
   "source": [
    "ds_iw2 = rio.open(f\"{outdir}/IW2_COH_geo_border.tif\")\n",
    "ds_iw3 = rio.open(f\"{outdir}/IW3_COH_geo_border.tif\")\n",
    "arr_merge, trans_merge = merge.merge([ds_iw2, ds_iw3])\n",
    "with rio.open(f\"{outdir}/IW2_COH_geo_border.tif\") as src:\n",
    "        out_meta = src.meta.copy()    \n",
    "out_meta.update({\n",
    "                 \"height\": arr_merge.shape[1],\n",
    "                 \"width\": arr_merge.shape[2],\n",
    "                 \"transform\": trans_merge,\n",
    "                 \"nodata\": 0\n",
    "                 })\n",
    "# with rio.open(f\"{outdir}/mergedRasters.tif\", \"w\", **out_meta) as dst:\n",
    "#         dst.write(arr_merge)\n",
    "\n",
    "# write as COG\n",
    "with MemoryFile() as memfile:\n",
    "    with memfile.open(**out_meta) as mem:\n",
    "        # Populate the input file with numpy array\n",
    "        mem.write(arr_merge)\n",
    "\n",
    "        dst_profile = cog_profiles.get(\"deflate\")\n",
    "        cog_translate(\n",
    "            mem,\n",
    "            f\"{outdir}/mergedRasters_border.tif\",\n",
    "            dst_profile,\n",
    "            in_memory=True,\n",
    "            quiet=True,\n",
    "        )"
   ]
  },
  {
   "cell_type": "code",
   "execution_count": null,
   "metadata": {},
   "outputs": [],
   "source": []
  },
  {
   "cell_type": "code",
   "execution_count": null,
   "metadata": {},
   "outputs": [],
   "source": [
    "plt.imshow(ds_merged[0][0])"
   ]
  },
  {
   "cell_type": "code",
   "execution_count": null,
   "metadata": {},
   "outputs": [],
   "source": []
  }
 ],
 "metadata": {
  "kernelspec": {
   "display_name": "Python 3",
   "language": "python",
   "name": "python3"
  },
  "language_info": {
   "codemirror_mode": {
    "name": "ipython",
    "version": 3
   },
   "file_extension": ".py",
   "mimetype": "text/x-python",
   "name": "python",
   "nbconvert_exporter": "python",
   "pygments_lexer": "ipython3",
   "version": "3.11.5"
  },
  "orig_nbformat": 4
 },
 "nbformat": 4,
 "nbformat_minor": 2
}
