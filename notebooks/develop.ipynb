{
 "cells": [
  {
   "cell_type": "code",
   "execution_count": 11,
   "metadata": {},
   "outputs": [],
   "source": [
    "import pyroSAR\n",
    "from s1pro.auxils import get_burst_geometry\n",
    "import shapely"
   ]
  },
  {
   "cell_type": "code",
   "execution_count": 3,
   "metadata": {},
   "outputs": [],
   "source": [
    "infiles = ['/data/S1/S1A_IW_SLC__1SDV_20230826T180527_20230826T180554_050050_0605B2_E768.zip',\n",
    "           '/data/S1/S1A_IW_SLC__1SDV_20230814T180526_20230814T180553_049875_05FFB4_7D92.zip']\n",
    "aoi_path = '/data/aoi_bretagne.geojson'\n",
    "graph_path = '../graph/TOPSAR Coreg Interferogram IW2.xml'"
   ]
  },
  {
   "cell_type": "code",
   "execution_count": 33,
   "metadata": {},
   "outputs": [],
   "source": [
    "# let's find what iw and bursts intersect AOI\n",
    "df_geo = get_burst_geometry(infiles[0], \n",
    "                   target_subswaths=['IW3'], \n",
    "                   polarization='VV')\n"
   ]
  },
  {
   "cell_type": "code",
   "execution_count": 34,
   "metadata": {},
   "outputs": [
    {
     "data": {
      "text/html": [
       "<div>\n",
       "<style scoped>\n",
       "    .dataframe tbody tr th:only-of-type {\n",
       "        vertical-align: middle;\n",
       "    }\n",
       "\n",
       "    .dataframe tbody tr th {\n",
       "        vertical-align: top;\n",
       "    }\n",
       "\n",
       "    .dataframe thead th {\n",
       "        text-align: right;\n",
       "    }\n",
       "</style>\n",
       "<table border=\"1\" class=\"dataframe\">\n",
       "  <thead>\n",
       "    <tr style=\"text-align: right;\">\n",
       "      <th></th>\n",
       "      <th>subswath</th>\n",
       "      <th>burst</th>\n",
       "      <th>geometry</th>\n",
       "    </tr>\n",
       "  </thead>\n",
       "  <tbody>\n",
       "    <tr>\n",
       "      <th>0</th>\n",
       "      <td>IW3</td>\n",
       "      <td>1</td>\n",
       "      <td>POLYGON ((-2.70867 47.29473, -1.60198 47.41475...</td>\n",
       "    </tr>\n",
       "    <tr>\n",
       "      <th>1</th>\n",
       "      <td>IW3</td>\n",
       "      <td>2</td>\n",
       "      <td>POLYGON ((-2.74986 47.46016, -1.63945 47.58016...</td>\n",
       "    </tr>\n",
       "    <tr>\n",
       "      <th>2</th>\n",
       "      <td>IW3</td>\n",
       "      <td>3</td>\n",
       "      <td>POLYGON ((-2.79094 47.62548, -1.67740 47.74540...</td>\n",
       "    </tr>\n",
       "    <tr>\n",
       "      <th>3</th>\n",
       "      <td>IW3</td>\n",
       "      <td>4</td>\n",
       "      <td>POLYGON ((-2.83121 47.79090, -1.71496 47.91069...</td>\n",
       "    </tr>\n",
       "    <tr>\n",
       "      <th>4</th>\n",
       "      <td>IW3</td>\n",
       "      <td>5</td>\n",
       "      <td>POLYGON ((-2.87283 47.95616, -1.75286 48.07593...</td>\n",
       "    </tr>\n",
       "    <tr>\n",
       "      <th>5</th>\n",
       "      <td>IW3</td>\n",
       "      <td>6</td>\n",
       "      <td>POLYGON ((-2.91384 48.12150, -1.79077 48.24118...</td>\n",
       "    </tr>\n",
       "    <tr>\n",
       "      <th>6</th>\n",
       "      <td>IW3</td>\n",
       "      <td>7</td>\n",
       "      <td>POLYGON ((-2.95408 48.28681, -1.82926 48.40625...</td>\n",
       "    </tr>\n",
       "    <tr>\n",
       "      <th>7</th>\n",
       "      <td>IW3</td>\n",
       "      <td>8</td>\n",
       "      <td>POLYGON ((-2.99629 48.45152, -1.86726 48.57098...</td>\n",
       "    </tr>\n",
       "    <tr>\n",
       "      <th>8</th>\n",
       "      <td>IW3</td>\n",
       "      <td>9</td>\n",
       "      <td>POLYGON ((-3.04036 48.61691, -1.90592 48.73654...</td>\n",
       "    </tr>\n",
       "  </tbody>\n",
       "</table>\n",
       "</div>"
      ],
      "text/plain": [
       "  subswath burst                                           geometry\n",
       "0      IW3     1  POLYGON ((-2.70867 47.29473, -1.60198 47.41475...\n",
       "1      IW3     2  POLYGON ((-2.74986 47.46016, -1.63945 47.58016...\n",
       "2      IW3     3  POLYGON ((-2.79094 47.62548, -1.67740 47.74540...\n",
       "3      IW3     4  POLYGON ((-2.83121 47.79090, -1.71496 47.91069...\n",
       "4      IW3     5  POLYGON ((-2.87283 47.95616, -1.75286 48.07593...\n",
       "5      IW3     6  POLYGON ((-2.91384 48.12150, -1.79077 48.24118...\n",
       "6      IW3     7  POLYGON ((-2.95408 48.28681, -1.82926 48.40625...\n",
       "7      IW3     8  POLYGON ((-2.99629 48.45152, -1.86726 48.57098...\n",
       "8      IW3     9  POLYGON ((-3.04036 48.61691, -1.90592 48.73654..."
      ]
     },
     "execution_count": 34,
     "metadata": {},
     "output_type": "execute_result"
    }
   ],
   "source": [
    "df_geo"
   ]
  },
  {
   "cell_type": "code",
   "execution_count": null,
   "metadata": {},
   "outputs": [],
   "source": []
  }
 ],
 "metadata": {
  "kernelspec": {
   "display_name": "Python 3",
   "language": "python",
   "name": "python3"
  },
  "language_info": {
   "codemirror_mode": {
    "name": "ipython",
    "version": 3
   },
   "file_extension": ".py",
   "mimetype": "text/x-python",
   "name": "python",
   "nbconvert_exporter": "python",
   "pygments_lexer": "ipython3",
   "version": "3.11.5"
  },
  "orig_nbformat": 4
 },
 "nbformat": 4,
 "nbformat_minor": 2
}
