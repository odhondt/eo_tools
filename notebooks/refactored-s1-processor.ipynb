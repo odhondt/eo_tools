{
 "cells": [
  {
   "cell_type": "code",
   "execution_count": null,
   "metadata": {},
   "outputs": [],
   "source": [
    "# %pip install memory_profiler\n",
    "# %pip install line_profiler"
   ]
  },
  {
   "cell_type": "code",
   "execution_count": 1,
   "metadata": {},
   "outputs": [
    {
     "name": "stderr",
     "output_type": "stream",
     "text": [
      "INFO:numexpr.utils:NumExpr defaulting to 8 threads.\n",
      "INFO:eodag.config:Loading user configuration from: /data/eodag_config.yml\n",
      "INFO:eodag.core:usgs: provider needing auth for search has been pruned because no crendentials could be found\n",
      "INFO:eodag.core:aws_eos: provider needing auth for search has been pruned because no crendentials could be found\n",
      "INFO:eodag.core:meteoblue: provider needing auth for search has been pruned because no crendentials could be found\n",
      "INFO:eodag.core:hydroweb_next: provider needing auth for search has been pruned because no crendentials could be found\n",
      "INFO:eodag.core:wekeo: provider needing auth for search has been pruned because no crendentials could be found\n",
      "INFO:eodag.core:creodias_s3: provider needing auth for search has been pruned because no crendentials could be found\n",
      "INFO:eodag.core:Locations configuration loaded from /root/.config/eodag/locations.yml\n"
     ]
    }
   ],
   "source": [
    "%load_ext autoreload\n",
    "%autoreload 2\n",
    "%load_ext line_profiler\n",
    "import logging\n",
    "logging.basicConfig(level=logging.INFO)\n",
    "import matplotlib.pyplot as plt\n",
    "\n",
    "# from folium import LayerControl\n",
    "from eo_tools.util import show_insar_coh, show_insar_phi, show_sar_int\n",
    "import geopandas as gpd\n",
    "from eodag import EODataAccessGateway\n",
    "\n",
    "# credentials need to be stored in the following file (see EODAG docs)\n",
    "confpath = \"/data/eodag_config.yml\"\n",
    "dag = EODataAccessGateway(user_conf_file_path=confpath)\n",
    "# make sure cop_dataspace will be used \n",
    "dag.set_preferred_provider(\"cop_dataspace\")\n",
    "logging.basicConfig(level=logging.INFO)\n",
    "\n",
    "import os\n",
    "os.environ[\"LINE_PROFILE\"] = \"1\"\n",
    "# os.environ[\"NUMBA_NUM_THREADS\"] = \"8\""
   ]
  },
  {
   "cell_type": "markdown",
   "metadata": {},
   "source": [
    "# Download S-1 products"
   ]
  },
  {
   "cell_type": "code",
   "execution_count": 2,
   "metadata": {},
   "outputs": [
    {
     "name": "stderr",
     "output_type": "stream",
     "text": [
      "INFO:eodag.core:Searching product type 'S1_SAR_SLC' on provider: cop_dataspace\n",
      "INFO:eodag.search.qssearch:Sending search request: http://catalogue.dataspace.copernicus.eu/resto/api/collections/Sentinel1/search.json?startDate=2023-09-03&completionDate=2023-09-17&geometry=POLYGON ((-9.0113 30.7107, -9.0113 31.2571, -8.1129 31.2571, -8.1129 30.7107, -9.0113 30.7107))&productType=SLC&maxRecords=20&page=1&exactCount=1\n",
      "INFO:eodag.core:Found 6 result(s) on provider 'cop_dataspace'\n"
     ]
    },
    {
     "name": "stdout",
     "output_type": "stream",
     "text": [
      "2 products to download\n"
     ]
    }
   ],
   "source": [
    "# load a geometry\n",
    "file_aoi = \"../data/Morocco_AOI.geojson\"\n",
    "shp = gpd.read_file(file_aoi).geometry[0]\n",
    "ids = [\n",
    " \"S1A_IW_SLC__1SDV_20230904T063730_20230904T063757_050174_0609E3_DAA1\", \n",
    " \"S1A_IW_SLC__1SDV_20230916T063730_20230916T063757_050349_060FCD_6814\"\n",
    "]\n",
    "search_criteria = {\n",
    "    \"productType\": \"S1_SAR_SLC\",\n",
    "    \"start\": \"2023-09-03\",\n",
    "    \"end\": \"2023-09-17\",\n",
    "    \"geom\": shp\n",
    "}\n",
    "\n",
    "results, _ = dag.search(**search_criteria)\n",
    "to_dl = [it for it in results if it.properties[\"id\"] in ids]\n",
    "print(f\"{len(to_dl)} products to download\")\n",
    "# dag.download_all(to_dl, outputs_prefix=\"/data/S1/\", extract=False)"
   ]
  },
  {
   "cell_type": "markdown",
   "metadata": {},
   "source": [
    "# Set up parameters and output dir\n",
    "\n",
    "## Important\n",
    "- The products must be **unzipped** either manually or by using `extract=True` in the download call. \n",
    "- In the following products, only IW1 and IW2 are relevant as IW3 contains only water pixels."
   ]
  },
  {
   "cell_type": "code",
   "execution_count": 3,
   "metadata": {},
   "outputs": [],
   "source": [
    "data_dir = \"/data/S1\"\n",
    "primary_dir = f\"{data_dir}/{ids[0]}.SAFE\"\n",
    "secondary_dir = f\"{data_dir}/{ids[1]}.SAFE\"\n",
    "out_dir = f\"/data/res/test-remap\"\n",
    "iw = 1 # subswath\n",
    "pol = \"vv\" # polarization (\"vv\"or \"vh\")\n",
    "min_burst = 1\n",
    "max_burst = 3 # Set to None to process all (warning: memory hungry)"
   ]
  },
  {
   "cell_type": "markdown",
   "metadata": {},
   "source": [
    "# Pre-process InSAR pair"
   ]
  },
  {
   "cell_type": "code",
   "execution_count": 4,
   "metadata": {},
   "outputs": [],
   "source": [
    "from eo_tools.S1.process import preprocess_insar_iw, _process_bursts\n",
    "\n",
    "# TODO: use downloaded products\n",
    "# %lprun -u 1 -f _process_bursts preprocess_insar_iw(primary_dir, secondary_dir, out_dir, iw=iw, pol=pol, min_burst=min_burst, max_burst=max_burst, dem_upsampling=1.8, apply_fast_esd=True)"
   ]
  },
  {
   "cell_type": "code",
   "execution_count": 7,
   "metadata": {},
   "outputs": [
    {
     "name": "stderr",
     "output_type": "stream",
     "text": [
      "INFO:eo_tools.S1.core:S1IWSwath Initialization:\n",
      "INFO:eo_tools.S1.core:- Reading metadata file /data/S1/S1A_IW_SLC__1SDV_20230904T063730_20230904T063757_050174_0609E3_DAA1.SAFE/annotation/s1a-iw1-slc-vv-20230904t063731-20230904t063756-050174-0609e3-004.xml\n",
      "INFO:eo_tools.S1.core:- Reading calibration file /data/S1/S1A_IW_SLC__1SDV_20230904T063730_20230904T063757_050174_0609E3_DAA1.SAFE/annotation/calibration/calibration-s1a-iw1-slc-vv-20230904t063731-20230904t063756-050174-0609e3-004.xml\n",
      "INFO:eo_tools.S1.core:- Setting up raster path /data/S1/S1A_IW_SLC__1SDV_20230904T063730_20230904T063757_050174_0609E3_DAA1.SAFE/measurement/s1a-iw1-slc-vv-20230904t063731-20230904t063756-050174-0609e3-004.tiff\n",
      "INFO:eo_tools.S1.core:S1IWSwath Initialization:\n",
      "INFO:eo_tools.S1.core:- Reading metadata file /data/S1/S1A_IW_SLC__1SDV_20230916T063730_20230916T063757_050349_060FCD_6814.SAFE/annotation/s1a-iw1-slc-vv-20230916t063731-20230916t063756-050349-060fcd-004.xml\n",
      "INFO:eo_tools.S1.core:- Reading calibration file /data/S1/S1A_IW_SLC__1SDV_20230916T063730_20230916T063757_050349_060FCD_6814.SAFE/annotation/calibration/calibration-s1a-iw1-slc-vv-20230916t063731-20230916t063756-050349-060fcd-004.xml\n",
      "INFO:eo_tools.S1.core:- Setting up raster path /data/S1/S1A_IW_SLC__1SDV_20230916T063730_20230916T063757_050349_060FCD_6814.SAFE/measurement/s1a-iw1-slc-vv-20230916t063731-20230916t063756-050349-060fcd-004.tiff\n",
      "INFO:eo_tools.S1.process:---- Processing burst 1 ----\n",
      "INFO:eo_tools.S1.core:--DEM already on disk\n",
      "INFO:eo_tools.S1.core:DEM upsampling and extract coordinates\n",
      "INFO:eo_tools.S1.core:Convert latitude, longitude & altitude to ECEF x, y & z\n",
      "INFO:eo_tools.S1.core:Interpolate orbits\n",
      "INFO:eo_tools.S1.core:Terrain correction (index computation)\n",
      "INFO:eo_tools.S1.core:DEM upsampling and extract coordinates\n",
      "INFO:eo_tools.S1.core:Convert latitude, longitude & altitude to ECEF x, y & z\n",
      "INFO:eo_tools.S1.core:Interpolate orbits\n",
      "INFO:eo_tools.S1.core:Terrain correction (index computation)\n",
      "INFO:eo_tools.S1.core:Computing TOPS deramping phase\n",
      "INFO:eo_tools.S1.core:Projecting secondary coordinates onto primary grid.\n"
     ]
    },
    {
     "name": "stdout",
     "output_type": "stream",
     "text": [
      "Function align took 8.7265 seconds\n",
      "Function align took 5.7148 seconds\n"
     ]
    },
    {
     "name": "stderr",
     "output_type": "stream",
     "text": [
      "INFO:eo_tools.S1.core:Computing topographic phase\n",
      "INFO:eo_tools.S1.core:Computing topographic phase\n",
      "INFO:eo_tools.S1.process:---- Processing burst 2 ----\n",
      "INFO:eo_tools.S1.core:--DEM already on disk\n",
      "INFO:eo_tools.S1.core:DEM upsampling and extract coordinates\n",
      "INFO:eo_tools.S1.core:Convert latitude, longitude & altitude to ECEF x, y & z\n",
      "INFO:eo_tools.S1.core:Interpolate orbits\n",
      "INFO:eo_tools.S1.core:Terrain correction (index computation)\n",
      "INFO:eo_tools.S1.core:DEM upsampling and extract coordinates\n",
      "INFO:eo_tools.S1.core:Convert latitude, longitude & altitude to ECEF x, y & z\n",
      "INFO:eo_tools.S1.core:Interpolate orbits\n",
      "INFO:eo_tools.S1.core:Terrain correction (index computation)\n",
      "INFO:eo_tools.S1.core:Computing TOPS deramping phase\n",
      "INFO:eo_tools.S1.core:Projecting secondary coordinates onto primary grid.\n"
     ]
    },
    {
     "name": "stdout",
     "output_type": "stream",
     "text": [
      "Function align took 4.3249 seconds\n",
      "Function align took 1.9553 seconds\n"
     ]
    },
    {
     "name": "stderr",
     "output_type": "stream",
     "text": [
      "INFO:eo_tools.S1.core:Computing topographic phase\n",
      "INFO:eo_tools.S1.core:Computing topographic phase\n",
      "INFO:eo_tools.S1.process:---- Processing burst 3 ----\n",
      "INFO:eo_tools.S1.core:--DEM already on disk\n",
      "INFO:eo_tools.S1.core:DEM upsampling and extract coordinates\n",
      "INFO:eo_tools.S1.core:Convert latitude, longitude & altitude to ECEF x, y & z\n",
      "INFO:eo_tools.S1.core:Interpolate orbits\n",
      "INFO:eo_tools.S1.core:Terrain correction (index computation)\n",
      "INFO:eo_tools.S1.core:DEM upsampling and extract coordinates\n",
      "INFO:eo_tools.S1.core:Convert latitude, longitude & altitude to ECEF x, y & z\n",
      "INFO:eo_tools.S1.core:Interpolate orbits\n",
      "INFO:eo_tools.S1.core:Terrain correction (index computation)\n",
      "INFO:eo_tools.S1.core:Computing TOPS deramping phase\n",
      "INFO:eo_tools.S1.core:Projecting secondary coordinates onto primary grid.\n"
     ]
    },
    {
     "name": "stdout",
     "output_type": "stream",
     "text": [
      "Function align took 4.8092 seconds\n",
      "Function align took 1.9865 seconds\n"
     ]
    },
    {
     "name": "stderr",
     "output_type": "stream",
     "text": [
      "INFO:eo_tools.S1.core:Computing topographic phase\n",
      "INFO:eo_tools.S1.core:Computing topographic phase\n",
      "INFO:eo_tools.S1.process:Fast ESD: computing cross interferograms\n",
      "INFO:eo_tools.S1.process:Fast ESD: applying phase corrections\n",
      "INFO:eo_tools.S1.process:Stitching bursts to make a continuous image\n",
      "INFO:eo_tools.S1.process:Stitching bursts to make a continuous image\n",
      "INFO:eo_tools.S1.process:Merging LUT\n",
      "INFO:eo_tools.S1.process:Cleaning temporary files\n",
      "INFO:eo_tools.S1.process:Done\n"
     ]
    }
   ],
   "source": [
    "from eo_tools.S1.process import preprocess_insar_iw\n",
    "\n",
    "# TODO: use downloaded products\n",
    "preprocess_insar_iw(\n",
    "    primary_dir,\n",
    "    secondary_dir,\n",
    "    out_dir,\n",
    "    iw=iw,\n",
    "    pol=pol,\n",
    "    min_burst=min_burst,\n",
    "    max_burst=max_burst,\n",
    "    dem_upsampling=1.8,\n",
    "    apply_fast_esd=True,\n",
    "    # dem_force_download=True\n",
    ")"
   ]
  },
  {
   "cell_type": "markdown",
   "metadata": {},
   "source": [
    "# Apply geocoding using lookup tables"
   ]
  },
  {
   "cell_type": "code",
   "execution_count": null,
   "metadata": {},
   "outputs": [],
   "source": [
    "from eo_tools.S1.process import slc2geo, coherence, amplitude\n",
    "file_prm = f\"{out_dir}/primary.tif\"\n",
    "file_sec = f\"{out_dir}/secondary.tif\"\n",
    "file_amp = f\"{out_dir}/amp.tif\"\n",
    "file_coh = f\"{out_dir}/coh.tif\"\n",
    "file_phi_geo = f\"{out_dir}/phi_geo.tif\"\n",
    "file_amp_geo = f\"{out_dir}/amp_geo.tif\"\n",
    "file_coh_geo = f\"{out_dir}/coh_geo.tif\"\n",
    "file_lut = f\"{out_dir}/lut.tif\"\n",
    "# computing amplitude and complex coherence  in the radar geometry\n",
    "# coherence(file_prm, file_sec, file_coh, box_size=[3,10], magnitude=False)\n",
    "# amplitude(file_prm, file_amp)\n",
    "\n",
    "# combined multilooking and geocoding\n",
    "# interferometric coherence\n",
    "slc2geo(file_coh, file_lut, file_coh_geo, 1, 4, 3, write_phase=False, magnitude_only=True)\n",
    "\n",
    "# interferometric phase\n",
    "slc2geo(file_coh, file_lut, file_phi_geo, 1, 4, 3, write_phase=True)\n",
    "\n",
    "# amplitude of the primary image\n",
    "slc2geo(file_amp, file_lut, file_amp_geo, 1, 4, 1, False, True)"
   ]
  },
  {
   "cell_type": "markdown",
   "metadata": {},
   "source": [
    "# Visualize outputs on a folium map"
   ]
  },
  {
   "cell_type": "code",
   "execution_count": null,
   "metadata": {},
   "outputs": [],
   "source": [
    "show_sar_int(file_amp_geo)"
   ]
  },
  {
   "cell_type": "code",
   "execution_count": null,
   "metadata": {},
   "outputs": [],
   "source": [
    "show_insar_phi(file_phi_geo)"
   ]
  },
  {
   "cell_type": "code",
   "execution_count": null,
   "metadata": {},
   "outputs": [],
   "source": [
    "show_insar_coh(file_coh_geo)"
   ]
  },
  {
   "cell_type": "code",
   "execution_count": null,
   "metadata": {},
   "outputs": [],
   "source": []
  }
 ],
 "metadata": {
  "kernelspec": {
   "display_name": "Python 3",
   "language": "python",
   "name": "python3"
  },
  "language_info": {
   "codemirror_mode": {
    "name": "ipython",
    "version": 3
   },
   "file_extension": ".py",
   "mimetype": "text/x-python",
   "name": "python",
   "nbconvert_exporter": "python",
   "pygments_lexer": "ipython3",
   "version": "3.12.3"
  }
 },
 "nbformat": 4,
 "nbformat_minor": 2
}
