{
 "cells": [
  {
   "cell_type": "code",
   "execution_count": 1,
   "metadata": {},
   "outputs": [],
   "source": [
    "# %pip install memory_profiler\n",
    "# %pip install line_profiler"
   ]
  },
  {
   "cell_type": "code",
   "execution_count": 1,
   "metadata": {},
   "outputs": [
    {
     "name": "stderr",
     "output_type": "stream",
     "text": [
      "INFO:numexpr.utils:NumExpr defaulting to 8 threads.\n",
      "INFO:eodag.config:Loading user configuration from: /data/eodag_config.yml\n",
      "INFO:eodag.core:usgs: provider needing auth for search has been pruned because no crendentials could be found\n",
      "INFO:eodag.core:aws_eos: provider needing auth for search has been pruned because no crendentials could be found\n",
      "INFO:eodag.core:meteoblue: provider needing auth for search has been pruned because no crendentials could be found\n",
      "INFO:eodag.core:hydroweb_next: provider needing auth for search has been pruned because no crendentials could be found\n",
      "INFO:eodag.core:wekeo: provider needing auth for search has been pruned because no crendentials could be found\n",
      "INFO:eodag.core:creodias_s3: provider needing auth for search has been pruned because no crendentials could be found\n",
      "INFO:eodag.core:Locations configuration loaded from /root/.config/eodag/locations.yml\n"
     ]
    }
   ],
   "source": [
    "%load_ext autoreload\n",
    "%autoreload 2\n",
    "%load_ext line_profiler\n",
    "import logging\n",
    "logging.basicConfig(level=logging.INFO)\n",
    "import matplotlib.pyplot as plt\n",
    "\n",
    "# from folium import LayerControl\n",
    "from eo_tools.util import show_insar_coh, show_insar_phi, show_sar_int\n",
    "import geopandas as gpd\n",
    "from eodag import EODataAccessGateway\n",
    "\n",
    "# credentials need to be stored in the following file (see EODAG docs)\n",
    "confpath = \"/data/eodag_config.yml\"\n",
    "dag = EODataAccessGateway(user_conf_file_path=confpath)\n",
    "# make sure cop_dataspace will be used \n",
    "dag.set_preferred_provider(\"cop_dataspace\")\n",
    "logging.basicConfig(level=logging.INFO)\n",
    "\n",
    "import os\n",
    "os.environ[\"LINE_PROFILE\"] = \"1\""
   ]
  },
  {
   "cell_type": "markdown",
   "metadata": {},
   "source": [
    "# Download S-1 products"
   ]
  },
  {
   "cell_type": "code",
   "execution_count": 2,
   "metadata": {},
   "outputs": [
    {
     "name": "stderr",
     "output_type": "stream",
     "text": [
      "INFO:eodag.core:Searching product type 'S1_SAR_SLC' on provider: cop_dataspace\n",
      "INFO:eodag.search.qssearch:Sending search request: http://catalogue.dataspace.copernicus.eu/resto/api/collections/Sentinel1/search.json?startDate=2023-09-03&completionDate=2023-09-17&geometry=POLYGON ((-9.0113 30.7107, -9.0113 31.2571, -8.1129 31.2571, -8.1129 30.7107, -9.0113 30.7107))&productType=SLC&maxRecords=20&page=1&exactCount=1\n",
      "INFO:eodag.core:Found 6 result(s) on provider 'cop_dataspace'\n"
     ]
    },
    {
     "name": "stdout",
     "output_type": "stream",
     "text": [
      "2 products to download\n"
     ]
    }
   ],
   "source": [
    "# load a geometry\n",
    "file_aoi = \"../data/Morocco_AOI.geojson\"\n",
    "shp = gpd.read_file(file_aoi).geometry[0]\n",
    "ids = [\n",
    " \"S1A_IW_SLC__1SDV_20230904T063730_20230904T063757_050174_0609E3_DAA1\", \n",
    " \"S1A_IW_SLC__1SDV_20230916T063730_20230916T063757_050349_060FCD_6814\"\n",
    "]\n",
    "search_criteria = {\n",
    "    \"productType\": \"S1_SAR_SLC\",\n",
    "    \"start\": \"2023-09-03\",\n",
    "    \"end\": \"2023-09-17\",\n",
    "    \"geom\": shp\n",
    "}\n",
    "\n",
    "results, _ = dag.search(**search_criteria)\n",
    "to_dl = [it for it in results if it.properties[\"id\"] in ids]\n",
    "print(f\"{len(to_dl)} products to download\")\n",
    "# dag.download_all(to_dl, outputs_prefix=\"/data/S1/\", extract=False)"
   ]
  },
  {
   "cell_type": "markdown",
   "metadata": {},
   "source": [
    "# Set up parameters and output dir\n",
    "\n",
    "## Important\n",
    "- The products must be **unzipped** either manually or by using `extract=True` in the download call. \n",
    "- In the following products, only IW1 and IW2 are relevant as IW3 contains only water pixels."
   ]
  },
  {
   "cell_type": "code",
   "execution_count": 3,
   "metadata": {},
   "outputs": [],
   "source": [
    "data_dir = \"/data/S1\"\n",
    "primary_dir = f\"{data_dir}/{ids[0]}.SAFE\"\n",
    "secondary_dir = f\"{data_dir}/{ids[1]}.SAFE\"\n",
    "out_dir = f\"/data/res/test-remap\"\n",
    "iw = 1 # subswath\n",
    "pol = \"vv\" # polarization (\"vv\"or \"vh\")\n",
    "min_burst = 1\n",
    "max_burst = 3 # Set to None to process all (warning: memory hungry)"
   ]
  },
  {
   "cell_type": "markdown",
   "metadata": {},
   "source": [
    "# Pre-process InSAR pair"
   ]
  },
  {
   "cell_type": "code",
   "execution_count": 5,
   "metadata": {},
   "outputs": [],
   "source": [
    "from eo_tools.S1.process import preprocess_insar_iw, _process_bursts\n",
    "\n",
    "# TODO: use downloaded products\n",
    "# %lprun -u 1 -f _process_bursts preprocess_insar_iw(primary_dir, secondary_dir, out_dir, iw=iw, pol=pol, min_burst=min_burst, max_burst=max_burst, dem_upsampling=1.8, apply_fast_esd=True)"
   ]
  },
  {
   "cell_type": "code",
   "execution_count": 4,
   "metadata": {},
   "outputs": [
    {
     "name": "stderr",
     "output_type": "stream",
     "text": [
      "INFO:eo_tools.S1.core:S1IWSwath Initialization:\n",
      "INFO:eo_tools.S1.core:- Reading metadata file /data/S1/S1A_IW_SLC__1SDV_20230904T063730_20230904T063757_050174_0609E3_DAA1.SAFE/annotation/s1a-iw1-slc-vv-20230904t063731-20230904t063756-050174-0609e3-004.xml\n",
      "INFO:eo_tools.S1.core:- Reading calibration file /data/S1/S1A_IW_SLC__1SDV_20230904T063730_20230904T063757_050174_0609E3_DAA1.SAFE/annotation/calibration/calibration-s1a-iw1-slc-vv-20230904t063731-20230904t063756-050174-0609e3-004.xml\n",
      "INFO:eo_tools.S1.core:- Setting up raster path /data/S1/S1A_IW_SLC__1SDV_20230904T063730_20230904T063757_050174_0609E3_DAA1.SAFE/measurement/s1a-iw1-slc-vv-20230904t063731-20230904t063756-050174-0609e3-004.tiff\n",
      "INFO:eo_tools.S1.core:S1IWSwath Initialization:\n",
      "INFO:eo_tools.S1.core:- Reading metadata file /data/S1/S1A_IW_SLC__1SDV_20230916T063730_20230916T063757_050349_060FCD_6814.SAFE/annotation/s1a-iw1-slc-vv-20230916t063731-20230916t063756-050349-060fcd-004.xml\n",
      "INFO:eo_tools.S1.core:- Reading calibration file /data/S1/S1A_IW_SLC__1SDV_20230916T063730_20230916T063757_050349_060FCD_6814.SAFE/annotation/calibration/calibration-s1a-iw1-slc-vv-20230916t063731-20230916t063756-050349-060fcd-004.xml\n",
      "INFO:eo_tools.S1.core:- Setting up raster path /data/S1/S1A_IW_SLC__1SDV_20230916T063730_20230916T063757_050349_060FCD_6814.SAFE/measurement/s1a-iw1-slc-vv-20230916t063731-20230916t063756-050349-060fcd-004.tiff\n",
      "INFO:eo_tools.S1.process:---- Processing burst 1 ----\n",
      "INFO:eo_tools.S1.core:--DEM already on disk\n",
      "INFO:eo_tools.S1.core:DEM upsampling and extract coordinates\n",
      "INFO:eo_tools.S1.core:Convert latitude, longitude & altitude to ECEF x, y & z\n",
      "INFO:eo_tools.S1.core:Interpolate orbits\n",
      "INFO:eo_tools.S1.core:Terrain correction (index computation)\n",
      "INFO:eo_tools.S1.core:DEM upsampling and extract coordinates\n",
      "INFO:eo_tools.S1.core:Convert latitude, longitude & altitude to ECEF x, y & z\n",
      "INFO:eo_tools.S1.core:Interpolate orbits\n",
      "INFO:eo_tools.S1.core:Terrain correction (index computation)\n",
      "INFO:eo_tools.S1.core:Computing TOPS deramping phase\n",
      "INFO:eo_tools.S1.core:Projecting secondary coordinates onto primary grid.\n"
     ]
    },
    {
     "name": "stdout",
     "output_type": "stream",
     "text": [
      "Function align took 9.1846 seconds\n",
      "Function align took 4.1182 seconds\n"
     ]
    },
    {
     "name": "stderr",
     "output_type": "stream",
     "text": [
      "INFO:eo_tools.S1.core:Computing topographic phase\n",
      "INFO:eo_tools.S1.core:Computing topographic phase\n",
      "INFO:eo_tools.S1.process:---- Processing burst 2 ----\n",
      "INFO:eo_tools.S1.core:--DEM already on disk\n",
      "INFO:eo_tools.S1.core:DEM upsampling and extract coordinates\n",
      "INFO:eo_tools.S1.core:Convert latitude, longitude & altitude to ECEF x, y & z\n",
      "INFO:eo_tools.S1.core:Interpolate orbits\n",
      "INFO:eo_tools.S1.core:Terrain correction (index computation)\n",
      "INFO:eo_tools.S1.core:DEM upsampling and extract coordinates\n",
      "INFO:eo_tools.S1.core:Convert latitude, longitude & altitude to ECEF x, y & z\n",
      "INFO:eo_tools.S1.core:Interpolate orbits\n",
      "INFO:eo_tools.S1.core:Terrain correction (index computation)\n",
      "INFO:eo_tools.S1.core:Computing TOPS deramping phase\n",
      "INFO:eo_tools.S1.core:Projecting secondary coordinates onto primary grid.\n"
     ]
    },
    {
     "name": "stdout",
     "output_type": "stream",
     "text": [
      "Function align took 4.9219 seconds\n",
      "Function align took 2.1511 seconds\n"
     ]
    },
    {
     "name": "stderr",
     "output_type": "stream",
     "text": [
      "INFO:eo_tools.S1.core:Computing topographic phase\n",
      "INFO:eo_tools.S1.core:Computing topographic phase\n",
      "INFO:eo_tools.S1.process:---- Processing burst 3 ----\n",
      "INFO:eo_tools.S1.core:--DEM already on disk\n",
      "INFO:eo_tools.S1.core:DEM upsampling and extract coordinates\n",
      "INFO:eo_tools.S1.core:Convert latitude, longitude & altitude to ECEF x, y & z\n",
      "INFO:eo_tools.S1.core:Interpolate orbits\n",
      "INFO:eo_tools.S1.core:Terrain correction (index computation)\n",
      "INFO:eo_tools.S1.core:DEM upsampling and extract coordinates\n",
      "INFO:eo_tools.S1.core:Convert latitude, longitude & altitude to ECEF x, y & z\n",
      "INFO:eo_tools.S1.core:Interpolate orbits\n",
      "INFO:eo_tools.S1.core:Terrain correction (index computation)\n",
      "INFO:eo_tools.S1.core:Computing TOPS deramping phase\n",
      "INFO:eo_tools.S1.core:Projecting secondary coordinates onto primary grid.\n"
     ]
    },
    {
     "name": "stdout",
     "output_type": "stream",
     "text": [
      "Function align took 4.9545 seconds\n",
      "Function align took 2.2161 seconds\n"
     ]
    },
    {
     "name": "stderr",
     "output_type": "stream",
     "text": [
      "INFO:eo_tools.S1.core:Computing topographic phase\n",
      "INFO:eo_tools.S1.core:Computing topographic phase\n",
      "INFO:eo_tools.S1.process:Fast ESD: computing cross interferograms\n",
      "INFO:eo_tools.S1.process:Fast ESD: applying phase corrections\n",
      "INFO:eo_tools.S1.process:Stitching bursts to make a continuous image\n",
      "INFO:eo_tools.S1.process:Stitching bursts to make a continuous image\n",
      "INFO:eo_tools.S1.process:Merging LUT\n",
      "INFO:eo_tools.S1.process:Cleaning temporary files\n",
      "INFO:eo_tools.S1.process:Done\n"
     ]
    }
   ],
   "source": [
    "from eo_tools.S1.process import preprocess_insar_iw\n",
    "\n",
    "# TODO: use downloaded products\n",
    "preprocess_insar_iw(\n",
    "    primary_dir,\n",
    "    secondary_dir,\n",
    "    out_dir,\n",
    "    iw=iw,\n",
    "    pol=pol,\n",
    "    min_burst=min_burst,\n",
    "    max_burst=max_burst,\n",
    "    dem_upsampling=1.8,\n",
    "    apply_fast_esd=True,\n",
    "    # dem_force_download=True\n",
    ")"
   ]
  },
  {
   "cell_type": "markdown",
   "metadata": {},
   "source": [
    "# Apply geocoding using lookup tables"
   ]
  },
  {
   "cell_type": "code",
   "execution_count": 5,
   "metadata": {},
   "outputs": [
    {
     "name": "stderr",
     "output_type": "stream",
     "text": [
      "INFO:eo_tools.S1.process:Computing coherence\n",
      "INFO:eo_tools.S1.process:Computing amplitude\n",
      "INFO:eo_tools.S1.process:Project image with the lookup table.\n",
      "INFO:eo_tools.S1.process:Project image with the lookup table.\n",
      "INFO:eo_tools.S1.process:Project image with the lookup table.\n"
     ]
    }
   ],
   "source": [
    "from eo_tools.S1.process import slc2geo, coherence, amplitude\n",
    "file_prm = f\"{out_dir}/primary.tif\"\n",
    "file_sec = f\"{out_dir}/secondary.tif\"\n",
    "file_amp = f\"{out_dir}/amp.tif\"\n",
    "file_coh = f\"{out_dir}/coh.tif\"\n",
    "file_phi_geo = f\"{out_dir}/phi_geo.tif\"\n",
    "file_amp_geo = f\"{out_dir}/amp_geo.tif\"\n",
    "file_coh_geo = f\"{out_dir}/coh_geo.tif\"\n",
    "file_lut = f\"{out_dir}/lut.tif\"\n",
    "# computing amplitude and complex coherence  in the radar geometry\n",
    "coherence(file_prm, file_sec, file_coh, box_size=[3,10], magnitude=False)\n",
    "amplitude(file_prm, file_amp)\n",
    "\n",
    "# combined multilooking and geocoding\n",
    "# interferometric coherence\n",
    "slc2geo(file_coh, file_lut, file_coh_geo, 1, 4, 3, write_phase=False, magnitude_only=True)\n",
    "\n",
    "# interferometric phase\n",
    "slc2geo(file_coh, file_lut, file_phi_geo, 1, 4, 3, write_phase=True)\n",
    "\n",
    "# amplitude of the primary image\n",
    "slc2geo(file_amp, file_lut, file_amp_geo, 1, 4, 1, False, True)"
   ]
  },
  {
   "cell_type": "markdown",
   "metadata": {},
   "source": [
    "# Visualize outputs on a folium map"
   ]
  },
  {
   "cell_type": "code",
   "execution_count": 8,
   "metadata": {},
   "outputs": [
    {
     "name": "stderr",
     "output_type": "stream",
     "text": [
      "INFO:httpx:HTTP Request: GET http://localhost:8085/cog/statistics?url=%2Fdata%2Fres%2Ftest-remap%2Famp_geo.tif \"HTTP/1.1 200 OK\"\n",
      "INFO:httpx:HTTP Request: GET http://localhost:8085/cog/info?url=%2Fdata%2Fres%2Ftest-remap%2Famp_geo.tif \"HTTP/1.1 200 OK\"\n",
      "INFO:httpx:HTTP Request: GET http://localhost:8085/cog/tilejson.json?url=%2Fdata%2Fres%2Ftest-remap%2Famp_geo.tif&rescale=0.13940814641595192%2C0.6410361528396606 \"HTTP/1.1 200 OK\"\n"
     ]
    },
    {
     "data": {
      "text/html": [
       "<div style=\"width:100%;\"><div style=\"position:relative;width:100%;height:0;padding-bottom:60%;\"><span style=\"color:#565656\">Make this Notebook Trusted to load map: File -> Trust Notebook</span><iframe srcdoc=\"&lt;!DOCTYPE html&gt;\n",
       "&lt;html&gt;\n",
       "&lt;head&gt;\n",
       "    \n",
       "    &lt;meta http-equiv=&quot;content-type&quot; content=&quot;text/html; charset=UTF-8&quot; /&gt;\n",
       "    \n",
       "        &lt;script&gt;\n",
       "            L_NO_TOUCH = false;\n",
       "            L_DISABLE_3D = false;\n",
       "        &lt;/script&gt;\n",
       "    \n",
       "    &lt;style&gt;html, body {width: 100%;height: 100%;margin: 0;padding: 0;}&lt;/style&gt;\n",
       "    &lt;style&gt;#map {position:absolute;top:0;bottom:0;right:0;left:0;}&lt;/style&gt;\n",
       "    &lt;script src=&quot;https://cdn.jsdelivr.net/npm/leaflet@1.9.3/dist/leaflet.js&quot;&gt;&lt;/script&gt;\n",
       "    &lt;script src=&quot;https://code.jquery.com/jquery-1.12.4.min.js&quot;&gt;&lt;/script&gt;\n",
       "    &lt;script src=&quot;https://cdn.jsdelivr.net/npm/bootstrap@5.2.2/dist/js/bootstrap.bundle.min.js&quot;&gt;&lt;/script&gt;\n",
       "    &lt;script src=&quot;https://cdnjs.cloudflare.com/ajax/libs/Leaflet.awesome-markers/2.0.2/leaflet.awesome-markers.js&quot;&gt;&lt;/script&gt;\n",
       "    &lt;link rel=&quot;stylesheet&quot; href=&quot;https://cdn.jsdelivr.net/npm/leaflet@1.9.3/dist/leaflet.css&quot;/&gt;\n",
       "    &lt;link rel=&quot;stylesheet&quot; href=&quot;https://cdn.jsdelivr.net/npm/bootstrap@5.2.2/dist/css/bootstrap.min.css&quot;/&gt;\n",
       "    &lt;link rel=&quot;stylesheet&quot; href=&quot;https://netdna.bootstrapcdn.com/bootstrap/3.0.0/css/bootstrap.min.css&quot;/&gt;\n",
       "    &lt;link rel=&quot;stylesheet&quot; href=&quot;https://cdn.jsdelivr.net/npm/@fortawesome/fontawesome-free@6.2.0/css/all.min.css&quot;/&gt;\n",
       "    &lt;link rel=&quot;stylesheet&quot; href=&quot;https://cdnjs.cloudflare.com/ajax/libs/Leaflet.awesome-markers/2.0.2/leaflet.awesome-markers.css&quot;/&gt;\n",
       "    &lt;link rel=&quot;stylesheet&quot; href=&quot;https://cdn.jsdelivr.net/gh/python-visualization/folium/folium/templates/leaflet.awesome.rotate.min.css&quot;/&gt;\n",
       "    \n",
       "            &lt;meta name=&quot;viewport&quot; content=&quot;width=device-width,\n",
       "                initial-scale=1.0, maximum-scale=1.0, user-scalable=no&quot; /&gt;\n",
       "            &lt;style&gt;\n",
       "                #map_cb8518ca4c3341270252f16bb6f38378 {\n",
       "                    position: relative;\n",
       "                    width: 100.0%;\n",
       "                    height: 100.0%;\n",
       "                    left: 0.0%;\n",
       "                    top: 0.0%;\n",
       "                }\n",
       "                .leaflet-container { font-size: 1rem; }\n",
       "            &lt;/style&gt;\n",
       "        \n",
       "&lt;/head&gt;\n",
       "&lt;body&gt;\n",
       "    \n",
       "    \n",
       "            &lt;div class=&quot;folium-map&quot; id=&quot;map_cb8518ca4c3341270252f16bb6f38378&quot; &gt;&lt;/div&gt;\n",
       "        \n",
       "&lt;/body&gt;\n",
       "&lt;script&gt;\n",
       "    \n",
       "    \n",
       "            var map_cb8518ca4c3341270252f16bb6f38378 = L.map(\n",
       "                &quot;map_cb8518ca4c3341270252f16bb6f38378&quot;,\n",
       "                {\n",
       "                    center: [31.56351851851852, -8.417373133476787],\n",
       "                    crs: L.CRS.EPSG3857,\n",
       "                    zoom: 10,\n",
       "                    zoomControl: true,\n",
       "                    preferCanvas: false,\n",
       "                }\n",
       "            );\n",
       "\n",
       "            \n",
       "\n",
       "        \n",
       "    \n",
       "            var tile_layer_26f72d90895a37605f6d9860ae18ef0b = L.tileLayer(\n",
       "                &quot;https://{s}.tile.openstreetmap.org/{z}/{x}/{y}.png&quot;,\n",
       "                {&quot;attribution&quot;: &quot;Data by \\u0026copy; \\u003ca target=\\&quot;_blank\\&quot; href=\\&quot;http://openstreetmap.org\\&quot;\\u003eOpenStreetMap\\u003c/a\\u003e, under \\u003ca target=\\&quot;_blank\\&quot; href=\\&quot;http://www.openstreetmap.org/copyright\\&quot;\\u003eODbL\\u003c/a\\u003e.&quot;, &quot;detectRetina&quot;: false, &quot;maxNativeZoom&quot;: 18, &quot;maxZoom&quot;: 18, &quot;minZoom&quot;: 0, &quot;noWrap&quot;: false, &quot;opacity&quot;: 1, &quot;subdomains&quot;: &quot;abc&quot;, &quot;tms&quot;: false}\n",
       "            ).addTo(map_cb8518ca4c3341270252f16bb6f38378);\n",
       "        \n",
       "    \n",
       "            var tile_layer_72903639b7326eb3fab4de1669153b39 = L.tileLayer(\n",
       "                &quot;http://localhost:8085/cog/tiles/WebMercatorQuad/{z}/{x}/{y}@1x?url=%2Fdata%2Fres%2Ftest-remap%2Famp_geo.tif\\u0026rescale=0.13940814641595192%2C0.6410361528396606&quot;,\n",
       "                {&quot;attribution&quot;: &quot;SAR Intensity&quot;, &quot;detectRetina&quot;: false, &quot;maxNativeZoom&quot;: 18, &quot;maxZoom&quot;: 18, &quot;minZoom&quot;: 0, &quot;noWrap&quot;: false, &quot;opacity&quot;: 1, &quot;subdomains&quot;: &quot;abc&quot;, &quot;tms&quot;: false}\n",
       "            ).addTo(map_cb8518ca4c3341270252f16bb6f38378);\n",
       "        \n",
       "    \n",
       "            map_cb8518ca4c3341270252f16bb6f38378.fitBounds(\n",
       "                [[31.22439814814815, -8.982083333333334], [31.90263888888889, -7.85266293362024]],\n",
       "                {}\n",
       "            );\n",
       "        \n",
       "&lt;/script&gt;\n",
       "&lt;/html&gt;\" style=\"position:absolute;width:100%;height:100%;left:0;top:0;border:none !important;\" allowfullscreen webkitallowfullscreen mozallowfullscreen></iframe></div></div>"
      ],
      "text/plain": [
       "<folium.folium.Map at 0x7f7b249e3020>"
      ]
     },
     "execution_count": 8,
     "metadata": {},
     "output_type": "execute_result"
    }
   ],
   "source": [
    "show_sar_int(file_amp_geo)"
   ]
  },
  {
   "cell_type": "code",
   "execution_count": 6,
   "metadata": {},
   "outputs": [
    {
     "name": "stdout",
     "output_type": "stream",
     "text": [
      "file\n"
     ]
    },
    {
     "name": "stderr",
     "output_type": "stream",
     "text": [
      "INFO:httpx:HTTP Request: GET http://localhost:8085/cog/info?url=%2Fdata%2Fres%2Ftest-remap%2Fphi_geo.tif \"HTTP/1.1 200 OK\"\n",
      "INFO:httpx:HTTP Request: GET http://localhost:8085/cog/tilejson.json?url=%2Fdata%2Fres%2Ftest-remap%2Fphi_geo.tif&rescale=-3.141592651861765%2C3.141592653589793&resampling=nearest&colormap=%7B%220%22%3A%20%22%236e3caa%22%2C%20%221%22%3A%20%22%23713caa%22%2C%20%222%22%3A%20%22%23733ca9%22%2C%20%223%22%3A%20%22%23763ca9%22%2C%20%224%22%3A%20%22%23793ca9%22%2C%20%225%22%3A%20%22%237c3ca9%22%2C%20%226%22%3A%20%22%237e3ca8%22%2C%20%227%22%3A%20%22%23813ca8%22%2C%20%228%22%3A%20%22%23843ca8%22%2C%20%229%22%3A%20%22%23873ca8%22%2C%20%2210%22%3A%20%22%23893ca7%22%2C%20%2211%22%3A%20%22%238c3ca7%22%2C%20%2212%22%3A%20%22%238f3ca7%22%2C%20%2213%22%3A%20%22%23923ca6%22%2C%20%2214%22%3A%20%22%23943ca6%22%2C%20%2215%22%3A%20%22%23973ca6%22%2C%20%2216%22%3A%20%22%239a3ca6%22%2C%20%2217%22%3A%20%22%239d3ca5%22%2C%20%2218%22%3A%20%22%239f3ca5%22%2C%20%2219%22%3A%20%22%23a23ca5%22%2C%20%2220%22%3A%20%22%23a53ca5%22%2C%20%2221%22%3A%20%22%23a83ca4%22%2C%20%2222%22%3A%20%22%23aa3ca4%22%2C%20%2223%22%3A%20%22%23ad3ca4%22%2C%20%2224%22%3A%20%22%23b03ca3%22%2C%20%2225%22%3A%20%22%23b33ca3%22%2C%20%2226%22%3A%20%22%23b53ca3%22%2C%20%2227%22%3A%20%22%23b83ca3%22%2C%20%2228%22%3A%20%22%23bb3ca2%22%2C%20%2229%22%3A%20%22%23be3ca2%22%2C%20%2230%22%3A%20%22%23c03ca2%22%2C%20%2231%22%3A%20%22%23c33ca1%22%2C%20%2232%22%3A%20%22%23c63ca1%22%2C%20%2233%22%3A%20%22%23c93ca1%22%2C%20%2234%22%3A%20%22%23cb3ca1%22%2C%20%2235%22%3A%20%22%23ce3ca0%22%2C%20%2236%22%3A%20%22%23d13ca0%22%2C%20%2237%22%3A%20%22%23d33d9f%22%2C%20%2238%22%3A%20%22%23d43e9c%22%2C%20%2239%22%3A%20%22%23d5409a%22%2C%20%2240%22%3A%20%22%23d64197%22%2C%20%2241%22%3A%20%22%23d84295%22%2C%20%2242%22%3A%20%22%23d94492%22%2C%20%2243%22%3A%20%22%23da4590%22%2C%20%2244%22%3A%20%22%23db468d%22%2C%20%2245%22%3A%20%22%23dd488b%22%2C%20%2246%22%3A%20%22%23de4988%22%2C%20%2247%22%3A%20%22%23df4b86%22%2C%20%2248%22%3A%20%22%23e04c83%22%2C%20%2249%22%3A%20%22%23e24d81%22%2C%20%2250%22%3A%20%22%23e34f7e%22%2C%20%2251%22%3A%20%22%23e4507c%22%2C%20%2252%22%3A%20%22%23e5517a%22%2C%20%2253%22%3A%20%22%23e65377%22%2C%20%2254%22%3A%20%22%23e85475%22%2C%20%2255%22%3A%20%22%23e95572%22%2C%20%2256%22%3A%20%22%23ea5770%22%2C%20%2257%22%3A%20%22%23eb586d%22%2C%20%2258%22%3A%20%22%23ed5a6b%22%2C%20%2259%22%3A%20%22%23ee5b68%22%2C%20%2260%22%3A%20%22%23ef5c66%22%2C%20%2261%22%3A%20%22%23f05e63%22%2C%20%2262%22%3A%20%22%23f25f61%22%2C%20%2263%22%3A%20%22%23f3605e%22%2C%20%2264%22%3A%20%22%23f4625c%22%2C%20%2265%22%3A%20%22%23f56359%22%2C%20%2266%22%3A%20%22%23f76557%22%2C%20%2267%22%3A%20%22%23f86654%22%2C%20%2268%22%3A%20%22%23f96752%22%2C%20%2269%22%3A%20%22%23fa6950%22%2C%20%2270%22%3A%20%22%23fb6a4d%22%2C%20%2271%22%3A%20%22%23fd6b4b%22%2C%20%2272%22%3A%20%22%23fe6d48%22%2C%20%2273%22%3A%20%22%23ff6e46%22%2C%20%2274%22%3A%20%22%23fd7145%22%2C%20%2275%22%3A%20%22%23fc7345%22%2C%20%2276%22%3A%20%22%23fa7644%22%2C%20%2277%22%3A%20%22%23f97844%22%2C%20%2278%22%3A%20%22%23f77b43%22%2C%20%2279%22%3A%20%22%23f67d43%22%2C%20%2280%22%3A%20%22%23f48042%22%2C%20%2281%22%3A%20%22%23f38242%22%2C%20%2282%22%3A%20%22%23f18541%22%2C%20%2283%22%3A%20%22%23f08740%22%2C%20%2284%22%3A%20%22%23ee8a40%22%2C%20%2285%22%3A%20%22%23ed8c3f%22%2C%20%2286%22%3A%20%22%23eb8e3f%22%2C%20%2287%22%3A%20%22%23ea913e%22%2C%20%2288%22%3A%20%22%23e8933e%22%2C%20%2289%22%3A%20%22%23e7963d%22%2C%20%2290%22%3A%20%22%23e5983d%22%2C%20%2291%22%3A%20%22%23e49b3c%22%2C%20%2292%22%3A%20%22%23e29d3b%22%2C%20%2293%22%3A%20%22%23e1a03b%22%2C%20%2294%22%3A%20%22%23dfa23a%22%2C%20%2295%22%3A%20%22%23dea53a%22%2C%20%2296%22%3A%20%22%23dca739%22%2C%20%2297%22%3A%20%22%23dbaa39%22%2C%20%2298%22%3A%20%22%23d9ac38%22%2C%20%2299%22%3A%20%22%23d8af38%22%2C%20%22100%22%3A%20%22%23d6b137%22%2C%20%22101%22%3A%20%22%23d5b437%22%2C%20%22102%22%3A%20%22%23d3b636%22%2C%20%22103%22%3A%20%22%23d1b835%22%2C%20%22104%22%3A%20%22%23d0bb35%22%2C%20%22105%22%3A%20%22%23cebd34%22%2C%20%22106%22%3A%20%22%23cdc034%22%2C%20%22107%22%3A%20%22%23cbc233%22%2C%20%22108%22%3A%20%22%23cac533%22%2C%20%22109%22%3A%20%22%23c8c732%22%2C%20%22110%22%3A%20%22%23c6c933%22%2C%20%22111%22%3A%20%22%23c2ca34%22%2C%20%22112%22%3A%20%22%23bfcb36%22%2C%20%22113%22%3A%20%22%23bccd37%22%2C%20%22114%22%3A%20%22%23b8ce38%22%2C%20%22115%22%3A%20%22%23b5cf3a%22%2C%20%22116%22%3A%20%22%23b2d03b%22%2C%20%22117%22%3A%20%22%23afd23d%22%2C%20%22118%22%3A%20%22%23abd33e%22%2C%20%22119%22%3A%20%22%23a8d43f%22%2C%20%22120%22%3A%20%22%23a5d541%22%2C%20%22121%22%3A%20%22%23a1d642%22%2C%20%22122%22%3A%20%22%239ed843%22%2C%20%22123%22%3A%20%22%239bd945%22%2C%20%22124%22%3A%20%22%2398da46%22%2C%20%22125%22%3A%20%22%2394db48%22%2C%20%22126%22%3A%20%22%2391dd49%22%2C%20%22127%22%3A%20%22%238ede4a%22%2C%20%22128%22%3A%20%22%238adf4c%22%2C%20%22129%22%3A%20%22%2387e04d%22%2C%20%22130%22%3A%20%22%2384e24e%22%2C%20%22131%22%3A%20%22%2380e350%22%2C%20%22132%22%3A%20%22%237de451%22%2C%20%22133%22%3A%20%22%237ae553%22%2C%20%22134%22%3A%20%22%2377e754%22%2C%20%22135%22%3A%20%22%2373e855%22%2C%20%22136%22%3A%20%22%2370e957%22%2C%20%22137%22%3A%20%22%236dea58%22%2C%20%22138%22%3A%20%22%2369eb59%22%2C%20%22139%22%3A%20%22%2366ed5b%22%2C%20%22140%22%3A%20%22%2363ee5c%22%2C%20%22141%22%3A%20%22%2360ef5e%22%2C%20%22142%22%3A%20%22%235cf05f%22%2C%20%22143%22%3A%20%22%2359f260%22%2C%20%22144%22%3A%20%22%2356f362%22%2C%20%22145%22%3A%20%22%2352f463%22%2C%20%22146%22%3A%20%22%2350f565%22%2C%20%22147%22%3A%20%22%234ef367%22%2C%20%22148%22%3A%20%22%234df269%22%2C%20%22149%22%3A%20%22%234bf16b%22%2C%20%22150%22%3A%20%22%234af06d%22%2C%20%22151%22%3A%20%22%2348ee70%22%2C%20%22152%22%3A%20%22%2347ed72%22%2C%20%22153%22%3A%20%22%2345ec74%22%2C%20%22154%22%3A%20%22%2343eb76%22%2C%20%22155%22%3A%20%22%2342ea78%22%2C%20%22156%22%3A%20%22%2340e87b%22%2C%20%22157%22%3A%20%22%233fe77d%22%2C%20%22158%22%3A%20%22%233de67f%22%2C%20%22159%22%3A%20%22%233ce581%22%2C%20%22160%22%3A%20%22%233ae383%22%2C%20%22161%22%3A%20%22%2339e286%22%2C%20%22162%22%3A%20%22%2337e188%22%2C%20%22163%22%3A%20%22%2336e08a%22%2C%20%22164%22%3A%20%22%2334de8c%22%2C%20%22165%22%3A%20%22%2333dd8e%22%2C%20%22166%22%3A%20%22%2331dc91%22%2C%20%22167%22%3A%20%22%2330db93%22%2C%20%22168%22%3A%20%22%232ed995%22%2C%20%22169%22%3A%20%22%232dd897%22%2C%20%22170%22%3A%20%22%232bd799%22%2C%20%22171%22%3A%20%22%232ad69c%22%2C%20%22172%22%3A%20%22%2328d59e%22%2C%20%22173%22%3A%20%22%2327d3a0%22%2C%20%22174%22%3A%20%22%2325d2a2%22%2C%20%22175%22%3A%20%22%2324d1a4%22%2C%20%22176%22%3A%20%22%2322d0a7%22%2C%20%22177%22%3A%20%22%2321cea9%22%2C%20%22178%22%3A%20%22%231fcdab%22%2C%20%22179%22%3A%20%22%231eccad%22%2C%20%22180%22%3A%20%22%231ccbaf%22%2C%20%22181%22%3A%20%22%231bc9b1%22%2C%20%22182%22%3A%20%22%2319c8b4%22%2C%20%22183%22%3A%20%22%231ac6b5%22%2C%20%22184%22%3A%20%22%231bc4b6%22%2C%20%22185%22%3A%20%22%231cc3b7%22%2C%20%22186%22%3A%20%22%231dc1b8%22%2C%20%22187%22%3A%20%22%231ebfb9%22%2C%20%22188%22%3A%20%22%231fbdba%22%2C%20%22189%22%3A%20%22%2320bbbc%22%2C%20%22190%22%3A%20%22%2321b9bd%22%2C%20%22191%22%3A%20%22%2322b7be%22%2C%20%22192%22%3A%20%22%2322b5bf%22%2C%20%22193%22%3A%20%22%2323b3c0%22%2C%20%22194%22%3A%20%22%2324b1c1%22%2C%20%22195%22%3A%20%22%2325afc2%22%2C%20%22196%22%3A%20%22%2326adc3%22%2C%20%22197%22%3A%20%22%2327abc4%22%2C%20%22198%22%3A%20%22%2328aac5%22%2C%20%22199%22%3A%20%22%2329a8c7%22%2C%20%22200%22%3A%20%22%232aa6c8%22%2C%20%22201%22%3A%20%22%232ba4c9%22%2C%20%22202%22%3A%20%22%232ca2ca%22%2C%20%22203%22%3A%20%22%232da0cb%22%2C%20%22204%22%3A%20%22%232e9ecc%22%2C%20%22205%22%3A%20%22%232f9ccd%22%2C%20%22206%22%3A%20%22%23309ace%22%2C%20%22207%22%3A%20%22%233198cf%22%2C%20%22208%22%3A%20%22%233296d0%22%2C%20%22209%22%3A%20%22%233394d1%22%2C%20%22210%22%3A%20%22%233492d3%22%2C%20%22211%22%3A%20%22%233591d4%22%2C%20%22212%22%3A%20%22%23368fd5%22%2C%20%22213%22%3A%20%22%23378dd6%22%2C%20%22214%22%3A%20%22%23388bd7%22%2C%20%22215%22%3A%20%22%233989d8%22%2C%20%22216%22%3A%20%22%233a87d9%22%2C%20%22217%22%3A%20%22%233a85da%22%2C%20%22218%22%3A%20%22%233b83db%22%2C%20%22219%22%3A%20%22%233c81dc%22%2C%20%22220%22%3A%20%22%233e80db%22%2C%20%22221%22%3A%20%22%233f7eda%22%2C%20%22222%22%3A%20%22%23407cd9%22%2C%20%22223%22%3A%20%22%23417bd8%22%2C%20%22224%22%3A%20%22%234279d8%22%2C%20%22225%22%3A%20%22%234377d7%22%2C%20%22226%22%3A%20%22%234476d6%22%2C%20%22227%22%3A%20%22%234574d5%22%2C%20%22228%22%3A%20%22%234672d4%22%2C%20%22229%22%3A%20%22%234771d3%22%2C%20%22230%22%3A%20%22%23496fd3%22%2C%20%22231%22%3A%20%22%234a6ed2%22%2C%20%22232%22%3A%20%22%234b6cd1%22%2C%20%22233%22%3A%20%22%234c6ad0%22%2C%20%22234%22%3A%20%22%234d69cf%22%2C%20%22235%22%3A%20%22%234e67ce%22%2C%20%22236%22%3A%20%22%234f65ce%22%2C%20%22237%22%3A%20%22%235064cd%22%2C%20%22238%22%3A%20%22%235162cc%22%2C%20%22239%22%3A%20%22%235260cb%22%2C%20%22240%22%3A%20%22%23545fca%22%2C%20%22241%22%3A%20%22%23555dca%22%2C%20%22242%22%3A%20%22%23565bc9%22%2C%20%22243%22%3A%20%22%23575ac8%22%2C%20%22244%22%3A%20%22%235858c7%22%2C%20%22245%22%3A%20%22%235956c6%22%2C%20%22246%22%3A%20%22%235a55c5%22%2C%20%22247%22%3A%20%22%235b53c5%22%2C%20%22248%22%3A%20%22%235c52c4%22%2C%20%22249%22%3A%20%22%235d50c3%22%2C%20%22250%22%3A%20%22%235f4ec2%22%2C%20%22251%22%3A%20%22%23604dc1%22%2C%20%22252%22%3A%20%22%23614bc0%22%2C%20%22253%22%3A%20%22%236249c0%22%2C%20%22254%22%3A%20%22%236348bf%22%2C%20%22255%22%3A%20%22%236446be%22%7D \"HTTP/1.1 200 OK\"\n"
     ]
    },
    {
     "data": {
      "text/html": [
       "<div style=\"width:100%;\"><div style=\"position:relative;width:100%;height:0;padding-bottom:60%;\"><span style=\"color:#565656\">Make this Notebook Trusted to load map: File -> Trust Notebook</span><iframe srcdoc=\"&lt;!DOCTYPE html&gt;\n",
       "&lt;html&gt;\n",
       "&lt;head&gt;\n",
       "    \n",
       "    &lt;meta http-equiv=&quot;content-type&quot; content=&quot;text/html; charset=UTF-8&quot; /&gt;\n",
       "    \n",
       "        &lt;script&gt;\n",
       "            L_NO_TOUCH = false;\n",
       "            L_DISABLE_3D = false;\n",
       "        &lt;/script&gt;\n",
       "    \n",
       "    &lt;style&gt;html, body {width: 100%;height: 100%;margin: 0;padding: 0;}&lt;/style&gt;\n",
       "    &lt;style&gt;#map {position:absolute;top:0;bottom:0;right:0;left:0;}&lt;/style&gt;\n",
       "    &lt;script src=&quot;https://cdn.jsdelivr.net/npm/leaflet@1.9.3/dist/leaflet.js&quot;&gt;&lt;/script&gt;\n",
       "    &lt;script src=&quot;https://code.jquery.com/jquery-1.12.4.min.js&quot;&gt;&lt;/script&gt;\n",
       "    &lt;script src=&quot;https://cdn.jsdelivr.net/npm/bootstrap@5.2.2/dist/js/bootstrap.bundle.min.js&quot;&gt;&lt;/script&gt;\n",
       "    &lt;script src=&quot;https://cdnjs.cloudflare.com/ajax/libs/Leaflet.awesome-markers/2.0.2/leaflet.awesome-markers.js&quot;&gt;&lt;/script&gt;\n",
       "    &lt;link rel=&quot;stylesheet&quot; href=&quot;https://cdn.jsdelivr.net/npm/leaflet@1.9.3/dist/leaflet.css&quot;/&gt;\n",
       "    &lt;link rel=&quot;stylesheet&quot; href=&quot;https://cdn.jsdelivr.net/npm/bootstrap@5.2.2/dist/css/bootstrap.min.css&quot;/&gt;\n",
       "    &lt;link rel=&quot;stylesheet&quot; href=&quot;https://netdna.bootstrapcdn.com/bootstrap/3.0.0/css/bootstrap.min.css&quot;/&gt;\n",
       "    &lt;link rel=&quot;stylesheet&quot; href=&quot;https://cdn.jsdelivr.net/npm/@fortawesome/fontawesome-free@6.2.0/css/all.min.css&quot;/&gt;\n",
       "    &lt;link rel=&quot;stylesheet&quot; href=&quot;https://cdnjs.cloudflare.com/ajax/libs/Leaflet.awesome-markers/2.0.2/leaflet.awesome-markers.css&quot;/&gt;\n",
       "    &lt;link rel=&quot;stylesheet&quot; href=&quot;https://cdn.jsdelivr.net/gh/python-visualization/folium/folium/templates/leaflet.awesome.rotate.min.css&quot;/&gt;\n",
       "    \n",
       "            &lt;meta name=&quot;viewport&quot; content=&quot;width=device-width,\n",
       "                initial-scale=1.0, maximum-scale=1.0, user-scalable=no&quot; /&gt;\n",
       "            &lt;style&gt;\n",
       "                #map_88d5a4a25e51f7827e6ec2f43a804536 {\n",
       "                    position: relative;\n",
       "                    width: 100.0%;\n",
       "                    height: 100.0%;\n",
       "                    left: 0.0%;\n",
       "                    top: 0.0%;\n",
       "                }\n",
       "                .leaflet-container { font-size: 1rem; }\n",
       "            &lt;/style&gt;\n",
       "        \n",
       "&lt;/head&gt;\n",
       "&lt;body&gt;\n",
       "    \n",
       "    \n",
       "            &lt;div class=&quot;folium-map&quot; id=&quot;map_88d5a4a25e51f7827e6ec2f43a804536&quot; &gt;&lt;/div&gt;\n",
       "        \n",
       "&lt;/body&gt;\n",
       "&lt;script&gt;\n",
       "    \n",
       "    \n",
       "            var map_88d5a4a25e51f7827e6ec2f43a804536 = L.map(\n",
       "                &quot;map_88d5a4a25e51f7827e6ec2f43a804536&quot;,\n",
       "                {\n",
       "                    center: [31.56351851851852, -8.417373133476787],\n",
       "                    crs: L.CRS.EPSG3857,\n",
       "                    zoom: 8,\n",
       "                    zoomControl: true,\n",
       "                    preferCanvas: false,\n",
       "                }\n",
       "            );\n",
       "\n",
       "            \n",
       "\n",
       "        \n",
       "    \n",
       "            var tile_layer_89beabba94dd821d545ca51e31ee0ede = L.tileLayer(\n",
       "                &quot;https://{s}.tile.openstreetmap.org/{z}/{x}/{y}.png&quot;,\n",
       "                {&quot;attribution&quot;: &quot;Data by \\u0026copy; \\u003ca target=\\&quot;_blank\\&quot; href=\\&quot;http://openstreetmap.org\\&quot;\\u003eOpenStreetMap\\u003c/a\\u003e, under \\u003ca target=\\&quot;_blank\\&quot; href=\\&quot;http://www.openstreetmap.org/copyright\\&quot;\\u003eODbL\\u003c/a\\u003e.&quot;, &quot;detectRetina&quot;: false, &quot;maxNativeZoom&quot;: 18, &quot;maxZoom&quot;: 18, &quot;minZoom&quot;: 0, &quot;noWrap&quot;: false, &quot;opacity&quot;: 1, &quot;subdomains&quot;: &quot;abc&quot;, &quot;tms&quot;: false}\n",
       "            ).addTo(map_88d5a4a25e51f7827e6ec2f43a804536);\n",
       "        \n",
       "    \n",
       "            var tile_layer_fb807a1dd7d90bdfc5d13591fc0307bc = L.tileLayer(\n",
       "                &quot;http://localhost:8085/cog/tiles/WebMercatorQuad/{z}/{x}/{y}@1x?url=%2Fdata%2Fres%2Ftest-remap%2Fphi_geo.tif\\u0026rescale=-3.141592651861765%2C3.141592653589793\\u0026resampling=nearest\\u0026colormap=%7B%220%22%3A+%22%236e3caa%22%2C+%221%22%3A+%22%23713caa%22%2C+%222%22%3A+%22%23733ca9%22%2C+%223%22%3A+%22%23763ca9%22%2C+%224%22%3A+%22%23793ca9%22%2C+%225%22%3A+%22%237c3ca9%22%2C+%226%22%3A+%22%237e3ca8%22%2C+%227%22%3A+%22%23813ca8%22%2C+%228%22%3A+%22%23843ca8%22%2C+%229%22%3A+%22%23873ca8%22%2C+%2210%22%3A+%22%23893ca7%22%2C+%2211%22%3A+%22%238c3ca7%22%2C+%2212%22%3A+%22%238f3ca7%22%2C+%2213%22%3A+%22%23923ca6%22%2C+%2214%22%3A+%22%23943ca6%22%2C+%2215%22%3A+%22%23973ca6%22%2C+%2216%22%3A+%22%239a3ca6%22%2C+%2217%22%3A+%22%239d3ca5%22%2C+%2218%22%3A+%22%239f3ca5%22%2C+%2219%22%3A+%22%23a23ca5%22%2C+%2220%22%3A+%22%23a53ca5%22%2C+%2221%22%3A+%22%23a83ca4%22%2C+%2222%22%3A+%22%23aa3ca4%22%2C+%2223%22%3A+%22%23ad3ca4%22%2C+%2224%22%3A+%22%23b03ca3%22%2C+%2225%22%3A+%22%23b33ca3%22%2C+%2226%22%3A+%22%23b53ca3%22%2C+%2227%22%3A+%22%23b83ca3%22%2C+%2228%22%3A+%22%23bb3ca2%22%2C+%2229%22%3A+%22%23be3ca2%22%2C+%2230%22%3A+%22%23c03ca2%22%2C+%2231%22%3A+%22%23c33ca1%22%2C+%2232%22%3A+%22%23c63ca1%22%2C+%2233%22%3A+%22%23c93ca1%22%2C+%2234%22%3A+%22%23cb3ca1%22%2C+%2235%22%3A+%22%23ce3ca0%22%2C+%2236%22%3A+%22%23d13ca0%22%2C+%2237%22%3A+%22%23d33d9f%22%2C+%2238%22%3A+%22%23d43e9c%22%2C+%2239%22%3A+%22%23d5409a%22%2C+%2240%22%3A+%22%23d64197%22%2C+%2241%22%3A+%22%23d84295%22%2C+%2242%22%3A+%22%23d94492%22%2C+%2243%22%3A+%22%23da4590%22%2C+%2244%22%3A+%22%23db468d%22%2C+%2245%22%3A+%22%23dd488b%22%2C+%2246%22%3A+%22%23de4988%22%2C+%2247%22%3A+%22%23df4b86%22%2C+%2248%22%3A+%22%23e04c83%22%2C+%2249%22%3A+%22%23e24d81%22%2C+%2250%22%3A+%22%23e34f7e%22%2C+%2251%22%3A+%22%23e4507c%22%2C+%2252%22%3A+%22%23e5517a%22%2C+%2253%22%3A+%22%23e65377%22%2C+%2254%22%3A+%22%23e85475%22%2C+%2255%22%3A+%22%23e95572%22%2C+%2256%22%3A+%22%23ea5770%22%2C+%2257%22%3A+%22%23eb586d%22%2C+%2258%22%3A+%22%23ed5a6b%22%2C+%2259%22%3A+%22%23ee5b68%22%2C+%2260%22%3A+%22%23ef5c66%22%2C+%2261%22%3A+%22%23f05e63%22%2C+%2262%22%3A+%22%23f25f61%22%2C+%2263%22%3A+%22%23f3605e%22%2C+%2264%22%3A+%22%23f4625c%22%2C+%2265%22%3A+%22%23f56359%22%2C+%2266%22%3A+%22%23f76557%22%2C+%2267%22%3A+%22%23f86654%22%2C+%2268%22%3A+%22%23f96752%22%2C+%2269%22%3A+%22%23fa6950%22%2C+%2270%22%3A+%22%23fb6a4d%22%2C+%2271%22%3A+%22%23fd6b4b%22%2C+%2272%22%3A+%22%23fe6d48%22%2C+%2273%22%3A+%22%23ff6e46%22%2C+%2274%22%3A+%22%23fd7145%22%2C+%2275%22%3A+%22%23fc7345%22%2C+%2276%22%3A+%22%23fa7644%22%2C+%2277%22%3A+%22%23f97844%22%2C+%2278%22%3A+%22%23f77b43%22%2C+%2279%22%3A+%22%23f67d43%22%2C+%2280%22%3A+%22%23f48042%22%2C+%2281%22%3A+%22%23f38242%22%2C+%2282%22%3A+%22%23f18541%22%2C+%2283%22%3A+%22%23f08740%22%2C+%2284%22%3A+%22%23ee8a40%22%2C+%2285%22%3A+%22%23ed8c3f%22%2C+%2286%22%3A+%22%23eb8e3f%22%2C+%2287%22%3A+%22%23ea913e%22%2C+%2288%22%3A+%22%23e8933e%22%2C+%2289%22%3A+%22%23e7963d%22%2C+%2290%22%3A+%22%23e5983d%22%2C+%2291%22%3A+%22%23e49b3c%22%2C+%2292%22%3A+%22%23e29d3b%22%2C+%2293%22%3A+%22%23e1a03b%22%2C+%2294%22%3A+%22%23dfa23a%22%2C+%2295%22%3A+%22%23dea53a%22%2C+%2296%22%3A+%22%23dca739%22%2C+%2297%22%3A+%22%23dbaa39%22%2C+%2298%22%3A+%22%23d9ac38%22%2C+%2299%22%3A+%22%23d8af38%22%2C+%22100%22%3A+%22%23d6b137%22%2C+%22101%22%3A+%22%23d5b437%22%2C+%22102%22%3A+%22%23d3b636%22%2C+%22103%22%3A+%22%23d1b835%22%2C+%22104%22%3A+%22%23d0bb35%22%2C+%22105%22%3A+%22%23cebd34%22%2C+%22106%22%3A+%22%23cdc034%22%2C+%22107%22%3A+%22%23cbc233%22%2C+%22108%22%3A+%22%23cac533%22%2C+%22109%22%3A+%22%23c8c732%22%2C+%22110%22%3A+%22%23c6c933%22%2C+%22111%22%3A+%22%23c2ca34%22%2C+%22112%22%3A+%22%23bfcb36%22%2C+%22113%22%3A+%22%23bccd37%22%2C+%22114%22%3A+%22%23b8ce38%22%2C+%22115%22%3A+%22%23b5cf3a%22%2C+%22116%22%3A+%22%23b2d03b%22%2C+%22117%22%3A+%22%23afd23d%22%2C+%22118%22%3A+%22%23abd33e%22%2C+%22119%22%3A+%22%23a8d43f%22%2C+%22120%22%3A+%22%23a5d541%22%2C+%22121%22%3A+%22%23a1d642%22%2C+%22122%22%3A+%22%239ed843%22%2C+%22123%22%3A+%22%239bd945%22%2C+%22124%22%3A+%22%2398da46%22%2C+%22125%22%3A+%22%2394db48%22%2C+%22126%22%3A+%22%2391dd49%22%2C+%22127%22%3A+%22%238ede4a%22%2C+%22128%22%3A+%22%238adf4c%22%2C+%22129%22%3A+%22%2387e04d%22%2C+%22130%22%3A+%22%2384e24e%22%2C+%22131%22%3A+%22%2380e350%22%2C+%22132%22%3A+%22%237de451%22%2C+%22133%22%3A+%22%237ae553%22%2C+%22134%22%3A+%22%2377e754%22%2C+%22135%22%3A+%22%2373e855%22%2C+%22136%22%3A+%22%2370e957%22%2C+%22137%22%3A+%22%236dea58%22%2C+%22138%22%3A+%22%2369eb59%22%2C+%22139%22%3A+%22%2366ed5b%22%2C+%22140%22%3A+%22%2363ee5c%22%2C+%22141%22%3A+%22%2360ef5e%22%2C+%22142%22%3A+%22%235cf05f%22%2C+%22143%22%3A+%22%2359f260%22%2C+%22144%22%3A+%22%2356f362%22%2C+%22145%22%3A+%22%2352f463%22%2C+%22146%22%3A+%22%2350f565%22%2C+%22147%22%3A+%22%234ef367%22%2C+%22148%22%3A+%22%234df269%22%2C+%22149%22%3A+%22%234bf16b%22%2C+%22150%22%3A+%22%234af06d%22%2C+%22151%22%3A+%22%2348ee70%22%2C+%22152%22%3A+%22%2347ed72%22%2C+%22153%22%3A+%22%2345ec74%22%2C+%22154%22%3A+%22%2343eb76%22%2C+%22155%22%3A+%22%2342ea78%22%2C+%22156%22%3A+%22%2340e87b%22%2C+%22157%22%3A+%22%233fe77d%22%2C+%22158%22%3A+%22%233de67f%22%2C+%22159%22%3A+%22%233ce581%22%2C+%22160%22%3A+%22%233ae383%22%2C+%22161%22%3A+%22%2339e286%22%2C+%22162%22%3A+%22%2337e188%22%2C+%22163%22%3A+%22%2336e08a%22%2C+%22164%22%3A+%22%2334de8c%22%2C+%22165%22%3A+%22%2333dd8e%22%2C+%22166%22%3A+%22%2331dc91%22%2C+%22167%22%3A+%22%2330db93%22%2C+%22168%22%3A+%22%232ed995%22%2C+%22169%22%3A+%22%232dd897%22%2C+%22170%22%3A+%22%232bd799%22%2C+%22171%22%3A+%22%232ad69c%22%2C+%22172%22%3A+%22%2328d59e%22%2C+%22173%22%3A+%22%2327d3a0%22%2C+%22174%22%3A+%22%2325d2a2%22%2C+%22175%22%3A+%22%2324d1a4%22%2C+%22176%22%3A+%22%2322d0a7%22%2C+%22177%22%3A+%22%2321cea9%22%2C+%22178%22%3A+%22%231fcdab%22%2C+%22179%22%3A+%22%231eccad%22%2C+%22180%22%3A+%22%231ccbaf%22%2C+%22181%22%3A+%22%231bc9b1%22%2C+%22182%22%3A+%22%2319c8b4%22%2C+%22183%22%3A+%22%231ac6b5%22%2C+%22184%22%3A+%22%231bc4b6%22%2C+%22185%22%3A+%22%231cc3b7%22%2C+%22186%22%3A+%22%231dc1b8%22%2C+%22187%22%3A+%22%231ebfb9%22%2C+%22188%22%3A+%22%231fbdba%22%2C+%22189%22%3A+%22%2320bbbc%22%2C+%22190%22%3A+%22%2321b9bd%22%2C+%22191%22%3A+%22%2322b7be%22%2C+%22192%22%3A+%22%2322b5bf%22%2C+%22193%22%3A+%22%2323b3c0%22%2C+%22194%22%3A+%22%2324b1c1%22%2C+%22195%22%3A+%22%2325afc2%22%2C+%22196%22%3A+%22%2326adc3%22%2C+%22197%22%3A+%22%2327abc4%22%2C+%22198%22%3A+%22%2328aac5%22%2C+%22199%22%3A+%22%2329a8c7%22%2C+%22200%22%3A+%22%232aa6c8%22%2C+%22201%22%3A+%22%232ba4c9%22%2C+%22202%22%3A+%22%232ca2ca%22%2C+%22203%22%3A+%22%232da0cb%22%2C+%22204%22%3A+%22%232e9ecc%22%2C+%22205%22%3A+%22%232f9ccd%22%2C+%22206%22%3A+%22%23309ace%22%2C+%22207%22%3A+%22%233198cf%22%2C+%22208%22%3A+%22%233296d0%22%2C+%22209%22%3A+%22%233394d1%22%2C+%22210%22%3A+%22%233492d3%22%2C+%22211%22%3A+%22%233591d4%22%2C+%22212%22%3A+%22%23368fd5%22%2C+%22213%22%3A+%22%23378dd6%22%2C+%22214%22%3A+%22%23388bd7%22%2C+%22215%22%3A+%22%233989d8%22%2C+%22216%22%3A+%22%233a87d9%22%2C+%22217%22%3A+%22%233a85da%22%2C+%22218%22%3A+%22%233b83db%22%2C+%22219%22%3A+%22%233c81dc%22%2C+%22220%22%3A+%22%233e80db%22%2C+%22221%22%3A+%22%233f7eda%22%2C+%22222%22%3A+%22%23407cd9%22%2C+%22223%22%3A+%22%23417bd8%22%2C+%22224%22%3A+%22%234279d8%22%2C+%22225%22%3A+%22%234377d7%22%2C+%22226%22%3A+%22%234476d6%22%2C+%22227%22%3A+%22%234574d5%22%2C+%22228%22%3A+%22%234672d4%22%2C+%22229%22%3A+%22%234771d3%22%2C+%22230%22%3A+%22%23496fd3%22%2C+%22231%22%3A+%22%234a6ed2%22%2C+%22232%22%3A+%22%234b6cd1%22%2C+%22233%22%3A+%22%234c6ad0%22%2C+%22234%22%3A+%22%234d69cf%22%2C+%22235%22%3A+%22%234e67ce%22%2C+%22236%22%3A+%22%234f65ce%22%2C+%22237%22%3A+%22%235064cd%22%2C+%22238%22%3A+%22%235162cc%22%2C+%22239%22%3A+%22%235260cb%22%2C+%22240%22%3A+%22%23545fca%22%2C+%22241%22%3A+%22%23555dca%22%2C+%22242%22%3A+%22%23565bc9%22%2C+%22243%22%3A+%22%23575ac8%22%2C+%22244%22%3A+%22%235858c7%22%2C+%22245%22%3A+%22%235956c6%22%2C+%22246%22%3A+%22%235a55c5%22%2C+%22247%22%3A+%22%235b53c5%22%2C+%22248%22%3A+%22%235c52c4%22%2C+%22249%22%3A+%22%235d50c3%22%2C+%22250%22%3A+%22%235f4ec2%22%2C+%22251%22%3A+%22%23604dc1%22%2C+%22252%22%3A+%22%23614bc0%22%2C+%22253%22%3A+%22%236249c0%22%2C+%22254%22%3A+%22%236348bf%22%2C+%22255%22%3A+%22%236446be%22%7D&quot;,\n",
       "                {&quot;attribution&quot;: &quot;InSAR phase&quot;, &quot;detectRetina&quot;: false, &quot;maxNativeZoom&quot;: 18, &quot;maxZoom&quot;: 18, &quot;minZoom&quot;: 0, &quot;noWrap&quot;: false, &quot;opacity&quot;: 1, &quot;subdomains&quot;: &quot;abc&quot;, &quot;tms&quot;: false}\n",
       "            ).addTo(map_88d5a4a25e51f7827e6ec2f43a804536);\n",
       "        \n",
       "    \n",
       "            map_88d5a4a25e51f7827e6ec2f43a804536.fitBounds(\n",
       "                [[31.22439814814815, -8.982083333333334], [31.90263888888889, -7.85266293362024]],\n",
       "                {}\n",
       "            );\n",
       "        \n",
       "&lt;/script&gt;\n",
       "&lt;/html&gt;\" style=\"position:absolute;width:100%;height:100%;left:0;top:0;border:none !important;\" allowfullscreen webkitallowfullscreen mozallowfullscreen></iframe></div></div>"
      ],
      "text/plain": [
       "<folium.folium.Map at 0x7f7b249e3890>"
      ]
     },
     "execution_count": 6,
     "metadata": {},
     "output_type": "execute_result"
    }
   ],
   "source": [
    "show_insar_phi(file_phi_geo)"
   ]
  },
  {
   "cell_type": "code",
   "execution_count": 7,
   "metadata": {},
   "outputs": [
    {
     "name": "stderr",
     "output_type": "stream",
     "text": [
      "INFO:httpx:HTTP Request: GET http://localhost:8085/cog/info?url=%2Fdata%2Fres%2Ftest-remap%2Fcoh_geo.tif \"HTTP/1.1 200 OK\"\n",
      "INFO:httpx:HTTP Request: GET http://localhost:8085/cog/tilejson.json?url=%2Fdata%2Fres%2Ftest-remap%2Fcoh_geo.tif&rescale=9.441161832152463e-09%2C1 \"HTTP/1.1 200 OK\"\n"
     ]
    },
    {
     "data": {
      "text/html": [
       "<div style=\"width:100%;\"><div style=\"position:relative;width:100%;height:0;padding-bottom:60%;\"><span style=\"color:#565656\">Make this Notebook Trusted to load map: File -> Trust Notebook</span><iframe srcdoc=\"&lt;!DOCTYPE html&gt;\n",
       "&lt;html&gt;\n",
       "&lt;head&gt;\n",
       "    \n",
       "    &lt;meta http-equiv=&quot;content-type&quot; content=&quot;text/html; charset=UTF-8&quot; /&gt;\n",
       "    \n",
       "        &lt;script&gt;\n",
       "            L_NO_TOUCH = false;\n",
       "            L_DISABLE_3D = false;\n",
       "        &lt;/script&gt;\n",
       "    \n",
       "    &lt;style&gt;html, body {width: 100%;height: 100%;margin: 0;padding: 0;}&lt;/style&gt;\n",
       "    &lt;style&gt;#map {position:absolute;top:0;bottom:0;right:0;left:0;}&lt;/style&gt;\n",
       "    &lt;script src=&quot;https://cdn.jsdelivr.net/npm/leaflet@1.9.3/dist/leaflet.js&quot;&gt;&lt;/script&gt;\n",
       "    &lt;script src=&quot;https://code.jquery.com/jquery-1.12.4.min.js&quot;&gt;&lt;/script&gt;\n",
       "    &lt;script src=&quot;https://cdn.jsdelivr.net/npm/bootstrap@5.2.2/dist/js/bootstrap.bundle.min.js&quot;&gt;&lt;/script&gt;\n",
       "    &lt;script src=&quot;https://cdnjs.cloudflare.com/ajax/libs/Leaflet.awesome-markers/2.0.2/leaflet.awesome-markers.js&quot;&gt;&lt;/script&gt;\n",
       "    &lt;link rel=&quot;stylesheet&quot; href=&quot;https://cdn.jsdelivr.net/npm/leaflet@1.9.3/dist/leaflet.css&quot;/&gt;\n",
       "    &lt;link rel=&quot;stylesheet&quot; href=&quot;https://cdn.jsdelivr.net/npm/bootstrap@5.2.2/dist/css/bootstrap.min.css&quot;/&gt;\n",
       "    &lt;link rel=&quot;stylesheet&quot; href=&quot;https://netdna.bootstrapcdn.com/bootstrap/3.0.0/css/bootstrap.min.css&quot;/&gt;\n",
       "    &lt;link rel=&quot;stylesheet&quot; href=&quot;https://cdn.jsdelivr.net/npm/@fortawesome/fontawesome-free@6.2.0/css/all.min.css&quot;/&gt;\n",
       "    &lt;link rel=&quot;stylesheet&quot; href=&quot;https://cdnjs.cloudflare.com/ajax/libs/Leaflet.awesome-markers/2.0.2/leaflet.awesome-markers.css&quot;/&gt;\n",
       "    &lt;link rel=&quot;stylesheet&quot; href=&quot;https://cdn.jsdelivr.net/gh/python-visualization/folium/folium/templates/leaflet.awesome.rotate.min.css&quot;/&gt;\n",
       "    \n",
       "            &lt;meta name=&quot;viewport&quot; content=&quot;width=device-width,\n",
       "                initial-scale=1.0, maximum-scale=1.0, user-scalable=no&quot; /&gt;\n",
       "            &lt;style&gt;\n",
       "                #map_818aa7a28a4b3eadf53d573bf21b5436 {\n",
       "                    position: relative;\n",
       "                    width: 100.0%;\n",
       "                    height: 100.0%;\n",
       "                    left: 0.0%;\n",
       "                    top: 0.0%;\n",
       "                }\n",
       "                .leaflet-container { font-size: 1rem; }\n",
       "            &lt;/style&gt;\n",
       "        \n",
       "&lt;/head&gt;\n",
       "&lt;body&gt;\n",
       "    \n",
       "    \n",
       "            &lt;div class=&quot;folium-map&quot; id=&quot;map_818aa7a28a4b3eadf53d573bf21b5436&quot; &gt;&lt;/div&gt;\n",
       "        \n",
       "&lt;/body&gt;\n",
       "&lt;script&gt;\n",
       "    \n",
       "    \n",
       "            var map_818aa7a28a4b3eadf53d573bf21b5436 = L.map(\n",
       "                &quot;map_818aa7a28a4b3eadf53d573bf21b5436&quot;,\n",
       "                {\n",
       "                    center: [31.56351851851852, -8.417373133476787],\n",
       "                    crs: L.CRS.EPSG3857,\n",
       "                    zoom: 8,\n",
       "                    zoomControl: true,\n",
       "                    preferCanvas: false,\n",
       "                }\n",
       "            );\n",
       "\n",
       "            \n",
       "\n",
       "        \n",
       "    \n",
       "            var tile_layer_607639e59aa2e163870864788d770be9 = L.tileLayer(\n",
       "                &quot;https://{s}.tile.openstreetmap.org/{z}/{x}/{y}.png&quot;,\n",
       "                {&quot;attribution&quot;: &quot;Data by \\u0026copy; \\u003ca target=\\&quot;_blank\\&quot; href=\\&quot;http://openstreetmap.org\\&quot;\\u003eOpenStreetMap\\u003c/a\\u003e, under \\u003ca target=\\&quot;_blank\\&quot; href=\\&quot;http://www.openstreetmap.org/copyright\\&quot;\\u003eODbL\\u003c/a\\u003e.&quot;, &quot;detectRetina&quot;: false, &quot;maxNativeZoom&quot;: 18, &quot;maxZoom&quot;: 18, &quot;minZoom&quot;: 0, &quot;noWrap&quot;: false, &quot;opacity&quot;: 1, &quot;subdomains&quot;: &quot;abc&quot;, &quot;tms&quot;: false}\n",
       "            ).addTo(map_818aa7a28a4b3eadf53d573bf21b5436);\n",
       "        \n",
       "    \n",
       "            var tile_layer_d44cd2655ece5026e3caf28c19f35be5 = L.tileLayer(\n",
       "                &quot;http://localhost:8085/cog/tiles/WebMercatorQuad/{z}/{x}/{y}@1x?url=%2Fdata%2Fres%2Ftest-remap%2Fcoh_geo.tif\\u0026rescale=9.441161832152463e-09%2C1&quot;,\n",
       "                {&quot;attribution&quot;: &quot;InSAR Coherence&quot;, &quot;detectRetina&quot;: false, &quot;maxNativeZoom&quot;: 18, &quot;maxZoom&quot;: 18, &quot;minZoom&quot;: 0, &quot;noWrap&quot;: false, &quot;opacity&quot;: 1, &quot;subdomains&quot;: &quot;abc&quot;, &quot;tms&quot;: false}\n",
       "            ).addTo(map_818aa7a28a4b3eadf53d573bf21b5436);\n",
       "        \n",
       "    \n",
       "            map_818aa7a28a4b3eadf53d573bf21b5436.fitBounds(\n",
       "                [[31.22439814814815, -8.982083333333334], [31.90263888888889, -7.85266293362024]],\n",
       "                {}\n",
       "            );\n",
       "        \n",
       "&lt;/script&gt;\n",
       "&lt;/html&gt;\" style=\"position:absolute;width:100%;height:100%;left:0;top:0;border:none !important;\" allowfullscreen webkitallowfullscreen mozallowfullscreen></iframe></div></div>"
      ],
      "text/plain": [
       "<folium.folium.Map at 0x7f7b2487b4a0>"
      ]
     },
     "execution_count": 7,
     "metadata": {},
     "output_type": "execute_result"
    }
   ],
   "source": [
    "show_insar_coh(file_coh_geo)"
   ]
  },
  {
   "cell_type": "code",
   "execution_count": null,
   "metadata": {},
   "outputs": [],
   "source": []
  }
 ],
 "metadata": {
  "kernelspec": {
   "display_name": "Python 3",
   "language": "python",
   "name": "python3"
  },
  "language_info": {
   "codemirror_mode": {
    "name": "ipython",
    "version": 3
   },
   "file_extension": ".py",
   "mimetype": "text/x-python",
   "name": "python",
   "nbconvert_exporter": "python",
   "pygments_lexer": "ipython3",
   "version": "3.12.3"
  }
 },
 "nbformat": 4,
 "nbformat_minor": 2
}
