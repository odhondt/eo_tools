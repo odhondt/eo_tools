{
 "cells": [
  {
   "cell_type": "code",
   "execution_count": null,
   "metadata": {},
   "outputs": [],
   "source": [
    "%load_ext autoreload\n",
    "%autoreload 2\n",
    "import logging\n",
    "logging.basicConfig(level=logging.INFO)\n",
    "import matplotlib.pyplot as plt\n",
    "\n",
    "import geopandas as gpd\n",
    "from eodag import EODataAccessGateway\n",
    "import rioxarray as riox\n",
    "import numpy as np\n",
    "import folium\n",
    "from folium import LayerControl\n",
    "from eo_tools_dev.util import show_cog\n",
    "\n",
    "# credentials need to be stored in the following file (see EODAG docs)\n",
    "confpath = \"/data/eodag_config.yml\"\n",
    "dag = EODataAccessGateway(user_conf_file_path=confpath)\n",
    "# make sure cop_dataspace will be used \n",
    "dag.set_preferred_provider(\"cop_dataspace\")\n",
    "log = logging.getLogger(__name__)"
   ]
  },
  {
   "cell_type": "markdown",
   "metadata": {},
   "source": [
    "## Set up parameters and output dir"
   ]
  },
  {
   "cell_type": "code",
   "execution_count": null,
   "metadata": {},
   "outputs": [],
   "source": [
    "# change to your custom locations\n",
    "data_dir = \"/data/S1\"\n",
    "\n",
    "# Morocco products\n",
    "# ids = [\n",
    "#  \"S1A_IW_SLC__1SDV_20230904T063730_20230904T063757_050174_0609E3_DAA1\", \n",
    "#  \"S1A_IW_SLC__1SDV_20230916T063730_20230916T063757_050349_060FCD_6814\"\n",
    "# ]\n",
    "# Berlin products\n",
    "ids = [\n",
    " \"S1A_IW_SLC__1SDV_20240916T165234_20240916T165301_055693_06CD1B_C701\",\n",
    " \"S1A_IW_SLC__1SDV_20240928T165234_20240928T165301_055868_06D40C_581D\", \n",
    "]\n",
    "primary_dir = f\"{data_dir}/{ids[0]}.zip\"\n",
    "secondary_dir = f\"{data_dir}/{ids[1]}.zip\"\n",
    "outputs_prefix=\"/data/res/test-new-coherence-berlin\""
   ]
  },
  {
   "cell_type": "markdown",
   "metadata": {},
   "source": [
    "## Download S-1 products"
   ]
  },
  {
   "cell_type": "code",
   "execution_count": null,
   "metadata": {},
   "outputs": [],
   "source": [
    "# load a geometry\n",
    "# file_aoi = \"../data/Morocco_AOI.geojson\"\n",
    "file_aoi = \"../data/Berlin.geojson\"\n",
    "shp = gpd.read_file(file_aoi).geometry[0]\n",
    "\n",
    "# search_criteria = {\n",
    "#     \"productType\": \"S1_SAR_SLC\",\n",
    "#     \"start\": \"2023-09-03\",\n",
    "#     \"end\": \"2023-09-17\",\n",
    "#     \"geom\": shp\n",
    "# }\n",
    "\n",
    "# results, _ = dag.search(**search_criteria)\n",
    "# to_dl = [it for it in results if it.properties[\"id\"] in ids]\n",
    "# print(f\"{len(to_dl)} products to download\")\n",
    "# dag.download_all(to_dl, outputs_prefix=\"/data/S1/\", extract=False)"
   ]
  },
  {
   "cell_type": "markdown",
   "metadata": {},
   "source": [
    "## Pre-process InSAR pair"
   ]
  },
  {
   "cell_type": "code",
   "execution_count": null,
   "metadata": {},
   "outputs": [],
   "source": [
    "from eo_tools.S1.process import prepare_insar\n",
    "\n",
    "out_dir = prepare_insar(\n",
    "    dir_prm=primary_dir,\n",
    "    dir_sec=secondary_dir,\n",
    "    outputs_prefix=outputs_prefix,\n",
    "    aoi_name=None,\n",
    "    shp=shp,\n",
    "    pol=\"vh\",\n",
    "    subswaths=[\"IW1\", \"IW2\", \"IW3\"],\n",
    "    cal_type=\"beta\",\n",
    "    apply_fast_esd=False,\n",
    "    dem_upsampling=1.8,\n",
    "    dem_force_download=False,\n",
    "    dem_buffer_arc_sec=40,\n",
    "    warp_kernel=\"bicubic\",\n",
    ")"
   ]
  },
  {
   "cell_type": "markdown",
   "metadata": {},
   "source": [
    "## Apply processing chains: coherence and change detection"
   ]
  },
  {
   "cell_type": "code",
   "execution_count": null,
   "metadata": {},
   "outputs": [],
   "source": [
    "from eo_tools.S1.process import coherence, multilook\n",
    "from eo_tools.S1.process import apply_to_patterns_for_pair, apply_to_patterns_for_single\n",
    "from pathlib import Path\n",
    "\n",
    "out_dir = list(Path(outputs_prefix).glob(\"S1*/sar\"))[0]\n",
    "\n",
    "geo_dir = Path(out_dir).parent\n",
    "\n",
    "# compute interferometric coherence\n",
    "apply_to_patterns_for_pair(\n",
    "    coherence,\n",
    "    out_dir=out_dir,\n",
    "    file_prm_prefix=\"slc_prm\",\n",
    "    file_sec_prefix=\"slc_sec\",\n",
    "    file_out_prefix=\"coh_new\",\n",
    "    box_size=[3, 3],\n",
    "    multilook=[1, 4],\n",
    ")\n",
    "\n",
    "\n",
    "apply_to_patterns_for_pair(\n",
    "    coherence,\n",
    "    out_dir=out_dir,\n",
    "    file_prm_prefix=\"slc_prm\",\n",
    "    file_sec_prefix=\"slc_sec\",\n",
    "    file_out_prefix=\"coh_old\",\n",
    "    box_size=[3, 11],\n",
    "    multilook=[1, 1],\n",
    ")\n",
    "\n",
    "apply_to_patterns_for_single(\n",
    "    multilook,\n",
    "    out_dir=out_dir,\n",
    "    file_in_prefix=\"coh_old\",\n",
    "    file_out_prefix=\"coh_old\",\n",
    "    mlt=[1, 4],\n",
    ")"
   ]
  },
  {
   "cell_type": "markdown",
   "metadata": {},
   "source": [
    "## Apply geocoding, merge and crop subswaths"
   ]
  },
  {
   "cell_type": "code",
   "execution_count": null,
   "metadata": {},
   "outputs": [],
   "source": [
    "from eo_tools.S1.process import geocode_and_merge_iw\n",
    "geo_dir = Path(out_dir).parent\n",
    "geocode_and_merge_iw(geo_dir, shp=shp, var_names=[\"coh_new\",\"coh_old\"])"
   ]
  },
  {
   "cell_type": "markdown",
   "metadata": {},
   "source": [
    "## Visualize\n",
    "Click on top right icon to hide/show layers"
   ]
  },
  {
   "cell_type": "code",
   "execution_count": null,
   "metadata": {},
   "outputs": [],
   "source": [
    "m = folium.Map()\n",
    "# _ = show_cog(f\"{geo_dir}/coh_old_vv.tif\", m, rescale=\"0,1\")\n",
    "_ = show_cog(f\"{geo_dir}/coh_old_vh.tif\", m, rescale=\"0,1\")\n",
    "# _ = show_cog(f\"{geo_dir}/coh_new_vv.tif\", m, rescale=\"0,1\")\n",
    "_ = show_cog(f\"{geo_dir}/coh_new_vh.tif\", m, rescale=\"0,1\")\n",
    "LayerControl().add_to(m)\n",
    "m"
   ]
  }
 ],
 "metadata": {
  "kernelspec": {
   "display_name": "Python 3",
   "language": "python",
   "name": "python3"
  },
  "language_info": {
   "codemirror_mode": {
    "name": "ipython",
    "version": 3
   },
   "file_extension": ".py",
   "mimetype": "text/x-python",
   "name": "python",
   "nbconvert_exporter": "python",
   "pygments_lexer": "ipython3",
   "version": "3.12.7"
  }
 },
 "nbformat": 4,
 "nbformat_minor": 2
}
