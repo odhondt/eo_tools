{
 "cells": [
  {
   "cell_type": "markdown",
   "metadata": {},
   "source": [
    "$$\\phi_{corr}=2\\pi \\left(k_t\\cdot\\left(t_a-t_{ref}\\right)+f_{DC}\\left(t_a;R\\right)\\right)\\Delta t$$\n",
    "\n",
    "$$\\phi_{corr}=2\\pi \\left(k_t\\cdot\\left(t_a-t_{ref}\\right)+f_{DC}\\left(t_a;R\\right)\\right)\\frac{\\Delta \\Phi}{2 \\pi \\Delta f_{DC}} $$"
   ]
  },
  {
   "cell_type": "code",
   "execution_count": null,
   "metadata": {},
   "outputs": [],
   "source": [
    "%load_ext autoreload\n",
    "%autoreload 2\n",
    "from eo_tools.S1.core import S1IWSwath\n",
    "from eo_tools.S1.core import align, coregister, esd_shift, esd_shift_mean_coh\n",
    "from eo_tools.S1.core import ESDShiftEstimator\n",
    "from eo_tools_dev.util import show_insar_phi\n",
    "\n",
    "from eo_tools.S1.util import presum\n",
    "import numpy as np\n",
    "import os\n",
    "import matplotlib.pyplot as plt\n",
    "import logging\n",
    "logging.basicConfig(level=logging.INFO)\n",
    "log = logging.getLogger(__name__)"
   ]
  },
  {
   "cell_type": "markdown",
   "metadata": {},
   "source": [
    "# Parameter setup"
   ]
  },
  {
   "cell_type": "code",
   "execution_count": null,
   "metadata": {},
   "outputs": [],
   "source": [
    "# change with directory containing your S1 products\n",
    "data_dir = \"/data/S1\"\n",
    "# change with directory containing the results\n",
    "out_dir = \"/data/res/ESD-experiments\"\n",
    "if not os.path.isdir(out_dir):\n",
    "    os.mkdir(out_dir)\n",
    "\n",
    "# replace with already downloaded and unzipped products (see the other notebooks to download such products)\n",
    "primary_path = f\"{data_dir}/S1A_IW_SLC__1SDV_20230903T183344_20230903T183412_050167_0609B4_100E.SAFE/\" \n",
    "secondary_path = f\"{data_dir}/S1A_IW_SLC__1SDV_20230915T183345_20230915T183413_050342_060F9F_85A4.SAFE/\"\n",
    "\n",
    "# subswath to process\n",
    "iw = 1\n",
    "# polarization\n",
    "pol = \"vv\"\n",
    "# DEM upsampling\n",
    "up = 1.8\n",
    "\n",
    "min_burst = 1\n",
    "max_burst = 5\n",
    "\n",
    "esd_method = \"mean\"\n",
    "# esd_method = \"weighted_simple\"\n",
    "# esd_method = \"weighted\"\n",
    "# exp = \"v_burst1to5\"\n",
    "descr = \"non-weighted mean over bursts\""
   ]
  },
  {
   "cell_type": "markdown",
   "metadata": {},
   "source": [
    "# Process individual bursts"
   ]
  },
  {
   "cell_type": "code",
   "execution_count": null,
   "metadata": {},
   "outputs": [],
   "source": [
    "ifgs = []\n",
    "lut = []\n",
    "dems = []\n",
    "\n",
    "dts = [] \n",
    "weights = [] \n",
    "\n",
    "prm = S1IWSwath(primary_path, iw=iw, pol=pol)\n",
    "sec = S1IWSwath(secondary_path, iw=iw, pol=pol)\n",
    "overlap = np.round(prm.compute_burst_overlap(2)).astype(int)\n",
    "\n",
    "esd = ESDShiftEstimator(prm, sec, overlap=overlap, method=esd_method)\n",
    "for burst_idx in range(min_burst, max_burst + 1):\n",
    "    log.info(f\"---- Processing burst {burst_idx} ----\")\n",
    "\n",
    "    # compute geocoding LUTs for master and slave bursts\n",
    "    dem_file = prm.fetch_dem_burst(burst_idx, dem_dir=\"/data/tmp\", force_download=False)\n",
    "    az_p2g, rg_p2g = prm.geocode_burst(\n",
    "        dem_file, burst_idx=burst_idx, dem_upsampling=up\n",
    "    )\n",
    "    az_s2g, rg_s2g = sec.geocode_burst(\n",
    "        dem_file, burst_idx=burst_idx, dem_upsampling=up\n",
    "    )\n",
    "\n",
    "    # read primary and secondary burst raster\n",
    "    arr_p = prm.read_burst(burst_idx, True)\n",
    "    arr_s = sec.read_burst(burst_idx, True)\n",
    "\n",
    "    # radiometric calibration \n",
    "    cal_p = prm.calibration_factor(burst_idx, cal_type=\"beta\")\n",
    "    arr_p /= cal_p\n",
    "    cal_s = sec.calibration_factor(burst_idx, cal_type=\"beta\")\n",
    "    arr_s /= cal_s\n",
    "\n",
    "    # deramp secondary\n",
    "    pdb_s = sec.deramp_burst(burst_idx)\n",
    "    arr_s_de = arr_s * np.exp(1j * pdb_s).astype(np.complex64)\n",
    "\n",
    "    # project slave LUT into master grid\n",
    "    az_s2p, rg_s2p = coregister(arr_p, az_p2g, rg_p2g, az_s2g, rg_s2g)\n",
    "\n",
    "    # warp raster slave and deramping phase\n",
    "    arr_s2p = align(arr_s_de, az_s2p, rg_s2p, kernel=\"bicubic\")\n",
    "    pdb_s2p = align(pdb_s, az_s2p, rg_s2p, kernel=\"bicubic\")\n",
    "\n",
    "    # reramp slave\n",
    "    arr_s2p = arr_s2p * np.exp(-1j * pdb_s2p).astype(np.complex64)\n",
    "\n",
    "    # compute topographic phases\n",
    "    rg_p = np.zeros(arr_s.shape[0])[:, None] + np.arange(0, arr_s.shape[1])\n",
    "    pht_p = prm.phi_topo(rg_p).reshape(*arr_p.shape)\n",
    "    pht_s = sec.phi_topo(rg_s2p.ravel()).reshape(*arr_p.shape)\n",
    "    pha_topo = np.exp(-1j * (pht_p - pht_s)).astype(np.complex64)\n",
    "\n",
    "    # remove topographic phase\n",
    "    arr_s2p *= pha_topo\n",
    "\n",
    "\n",
    "    dt, weight = esd.process_burst(burst_idx=burst_idx, arr_p=arr_p, arr_s2p=arr_s2p)\n",
    "    if dt is not None:\n",
    "        print(f\"Burst {burst_idx}: dt = {dt:.4e} s\")\n",
    "        # print(f\"Burst {burst_idx}: dt = {dt2:.4e} s, weight = {weight2:.3f}\")\n",
    "        dts.append(dt)\n",
    "        weights.append(weight)\n",
    "    ifg = arr_s2p.conj() * arr_p\n",
    "\n",
    "    ifgs.append(ifg)\n",
    "    lut.append((az_p2g, rg_p2g))\n",
    "    dems.append(dem_file)\n",
    "\n",
    "ifgs0 = [it.copy() for it in ifgs]"
   ]
  },
  {
   "cell_type": "markdown",
   "metadata": {},
   "source": [
    "# Apply ESD to correct phase jumps"
   ]
  },
  {
   "cell_type": "code",
   "execution_count": null,
   "metadata": {},
   "outputs": [],
   "source": [
    "# with open(f\"{out_dir}/log_{esd_method}_{exp}.txt\", \"w\") as f:\n",
    "with open(f\"{out_dir}/log_{esd_method}.txt\", \"w\") as f:\n",
    "    dts = np.array([dts])\n",
    "\n",
    "    for dt in dts[0]:\n",
    "        f.write(f\"dt: {dt}\\n\")\n",
    "\n",
    "    if esd_method != \"mean\":\n",
    "        weights = np.array([weights])\n",
    "    else:\n",
    "        weights = np.ones_like(dts)\n",
    "    for w in weights[0]:\n",
    "        f.write(f\"mean coh: {w}\\n\")\n",
    "    weights /= np.sum(weights)\n",
    "    for w in weights[0]:\n",
    "        f.write(f\"weight: {w}\\n\")\n",
    "\n",
    "    dt = np.sum(dts*weights)\n",
    "\n",
    "    f.write(f\"mean dt: {dt}\\n\")\n",
    "    f.write(f\"description: {descr}\\n\")\n",
    "\n",
    "# DBG experiment\n",
    "# dt = np.min(dts)\n",
    "\n",
    "ifgs = [it.copy() for it in ifgs0]\n",
    "\n",
    "\n",
    "for burst_idx in range(min_burst, max_burst + 1):\n",
    "    kt, fdc, t = sec.doppler_burst(burst_idx)\n",
    "    phi_esd = np.exp(1j * 2 * np.pi * dt * (kt * t + fdc))\n",
    "    ifgs[burst_idx - min_burst] *= phi_esd"
   ]
  },
  {
   "cell_type": "code",
   "execution_count": null,
   "metadata": {},
   "outputs": [],
   "source": [
    "# from eo_tools.S1.core import fast_esd, fast_esd_2\n",
    "# ifgs = [it.copy() for it in ifgs0]\n",
    "# fast_esd_2(ifgs,kts, fdcs, times, overlap)"
   ]
  },
  {
   "cell_type": "markdown",
   "metadata": {},
   "source": [
    "# Stitch bursts in a single image"
   ]
  },
  {
   "cell_type": "code",
   "execution_count": null,
   "metadata": {},
   "outputs": [],
   "source": [
    "# from eo_tools.S1.core import stitch_bursts\n",
    "# img0 = stitch_bursts(ifgs0, overlap)\n",
    "# plt.figure(figsize=(10, 10))\n",
    "# plt.imshow(np.angle(presum(img0, 1, 8)), interpolation=\"none\", cmap=\"hsv\")\n",
    "# plt.colorbar(fraction=0.046, pad=0.04)"
   ]
  },
  {
   "cell_type": "code",
   "execution_count": null,
   "metadata": {},
   "outputs": [],
   "source": [
    "from eo_tools.S1.core import stitch_bursts\n",
    "img = stitch_bursts(ifgs, overlap)\n",
    "# plt.figure(figsize=(10, 10))\n",
    "# plt.imshow(np.angle(presum(img, 1, 8)), interpolation=\"none\", cmap=\"hsv\")\n",
    "# plt.colorbar(fraction=0.046, pad=0.04)"
   ]
  },
  {
   "cell_type": "markdown",
   "metadata": {},
   "source": [
    "# Reproject and merge complex interferograms"
   ]
  },
  {
   "cell_type": "code",
   "execution_count": null,
   "metadata": {},
   "outputs": [],
   "source": [
    "from eo_tools.S1.core import resample\n",
    "import rioxarray as riox\n",
    "from rioxarray.merge import merge_arrays\n",
    "from eo_tools.auxils import remove\n",
    "\n",
    "mlt_az = 2\n",
    "mlt_rg = 8\n",
    "\n",
    "off = 0\n",
    "H = int(overlap / 2)\n",
    "phi_out = presum(img, mlt_az, mlt_rg)\n",
    "naz = ifgs[0].shape[0]\n",
    "list_ifg = []\n",
    "files_to_remove = []\n",
    "for i in range(min_burst, max_burst + 1):\n",
    "    log.info(f\"Resample burst {i}\")\n",
    "    az_mst, rg_mst = lut[i - min_burst]\n",
    "    dem_file = dems[i - min_burst]\n",
    "    cnd = (az_mst >= H - 4) & (az_mst < naz - H + 4)\n",
    "    az_mst2 = az_mst.copy()\n",
    "    rg_mst2 = rg_mst.copy()\n",
    "    az_mst2[~cnd] = np.nan\n",
    "    rg_mst2[~cnd] = np.nan\n",
    "\n",
    "    ifg_file = f\"{out_dir}/remap_burst_{i}_ifg.tif\"\n",
    "    files_to_remove.append(ifg_file)\n",
    "\n",
    "    # does the job but not very elegant\n",
    "    if i == min_burst:\n",
    "        off2 = off\n",
    "    else:\n",
    "        off2 = off - H\n",
    "    resample(\n",
    "        phi_out,\n",
    "        dem_file,\n",
    "        ifg_file,\n",
    "        (az_mst2 + off2) / mlt_az,\n",
    "        (rg_mst2) / mlt_rg,\n",
    "        kernel=\"bicubic\",\n",
    "    )\n",
    "    if i == min_burst:\n",
    "        off += naz - H\n",
    "    else:\n",
    "        off += naz - 2 * H\n",
    "\n",
    "    list_ifg.append(riox.open_rasterio(ifg_file))\n",
    "\n",
    "merged_ifg = merge_arrays(list_ifg)\n",
    "merged_ifg.rio.to_raster(f\"{out_dir}/merged_ifg.tif\")\n",
    "\n",
    "for fname in files_to_remove:\n",
    "    remove(fname)"
   ]
  },
  {
   "cell_type": "markdown",
   "metadata": {},
   "source": [
    "# Compute phase"
   ]
  },
  {
   "cell_type": "code",
   "execution_count": null,
   "metadata": {},
   "outputs": [],
   "source": [
    "import xarray as xr\n",
    "# Finite no data value for TiTiler\n",
    "nodata = -9999\n",
    "# avoid metadata being lost in arithmetic opetations\n",
    "xr.set_options(keep_attrs=True)\n",
    "ifg = riox.open_rasterio(f\"{out_dir}/merged_ifg.tif\")\n",
    "phi = np.arctan2(ifg[1], ifg[0])\n",
    "phi = phi.fillna(nodata)\n",
    "phi.attrs[\"_FillValue\"] = nodata\n",
    "phi.rio.to_raster(f\"{out_dir}/merged_phi_{esd_method}.tif\", nodata=nodata)\n",
    "# phi.rio.to_raster(f\"{out_dir}/merged_phi_{esd_method}_{exp}.tif\", nodata=nodata)\n",
    "# phi.rio.to_raster(f\"{out_dir}/merged_phi.tif\", nodata=nodata)"
   ]
  },
  {
   "cell_type": "markdown",
   "metadata": {},
   "source": [
    "# Visualize"
   ]
  },
  {
   "cell_type": "code",
   "execution_count": null,
   "metadata": {},
   "outputs": [],
   "source": [
    "# show_insar_phi(f\"{out_dir}/merged_phi_{esd_method}_{exp}.tif\")"
   ]
  }
 ],
 "metadata": {
  "kernelspec": {
   "display_name": "eo_tools",
   "language": "python",
   "name": "python3"
  },
  "language_info": {
   "codemirror_mode": {
    "name": "ipython",
    "version": 3
   },
   "file_extension": ".py",
   "mimetype": "text/x-python",
   "name": "python",
   "nbconvert_exporter": "python",
   "pygments_lexer": "ipython3",
   "version": "3.12.11"
  }
 },
 "nbformat": 4,
 "nbformat_minor": 2
}
