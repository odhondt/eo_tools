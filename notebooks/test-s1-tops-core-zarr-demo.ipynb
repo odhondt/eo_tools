{
 "cells": [
  {
   "cell_type": "code",
   "execution_count": 2,
   "metadata": {},
   "outputs": [],
   "source": [
    "%load_ext autoreload\n",
    "%autoreload 2\n",
    "from eo_tools.S1.core_new import S1IWSwath\n",
    "from eo_tools.S1.core_new import align, coregister\n",
    "from eo_tools_dev.util import show_insar_phi\n",
    "\n",
    "from eo_tools.S1.util import presum\n",
    "import numpy as np\n",
    "import os\n",
    "\n",
    "import logging\n",
    "logging.basicConfig(level=logging.INFO)\n",
    "log = logging.getLogger(__name__)"
   ]
  },
  {
   "cell_type": "markdown",
   "metadata": {},
   "source": [
    "# Parameter setup"
   ]
  },
  {
   "cell_type": "code",
   "execution_count": 4,
   "metadata": {},
   "outputs": [],
   "source": [
    "# change with directory containing your S1 products\n",
    "data_dir = \"/data/S1/partial\"\n",
    "# change with directory containing the results\n",
    "out_dir = \"/data/res/test_insar_partial\"\n",
    "if not os.path.isdir(out_dir):\n",
    "    os.mkdir(out_dir)\n",
    "\n",
    "# replace with already downloaded and unzipped products (see the other notebooks to download such products)\n",
    "ids = ['S1A_IW_SLC__1SDV_20250925T162113_20250925T162140_061146_079F87_FC6E',\n",
    " 'S1A_IW_SLC__1SDV_20250820T162112_20250820T162139_060621_078A99_3F14']\n",
    "\n",
    "primary_path = f\"{data_dir}/{ids[0]}.SAFE\"\n",
    "secondary_path = f\"{data_dir}/{ids[1]}.SAFE\"\n",
    "\n",
    "# subswath to process\n",
    "iw = 1\n",
    "# polarization\n",
    "pol = \"vv\"\n",
    "# DEM upsampling\n",
    "up = 1.8\n",
    "\n",
    "min_burst = 2\n",
    "max_burst = 2"
   ]
  },
  {
   "cell_type": "markdown",
   "metadata": {},
   "source": [
    "# Process individual bursts"
   ]
  },
  {
   "cell_type": "code",
   "execution_count": 7,
   "metadata": {},
   "outputs": [
    {
     "name": "stderr",
     "output_type": "stream",
     "text": [
      "INFO:eo_tools.S1.core_new:Zarr raster found. Burst range from 2 to 2\n",
      "INFO:eo_tools.S1.core_new:S1IWSwath Initialization:\n",
      "INFO:eo_tools.S1.core_new:- Read metadata file /data/S1/partial/S1A_IW_SLC__1SDV_20250925T162113_20250925T162140_061146_079F87_FC6E.SAFE/annotation/s1a-iw1-slc-vv-20250925t162115-20250925t162140-061146-079f87-004.xml\n",
      "INFO:eo_tools.S1.core_new:- Read calibration file /data/S1/partial/S1A_IW_SLC__1SDV_20250925T162113_20250925T162140_061146_079F87_FC6E.SAFE/annotation/calibration/calibration-s1a-iw1-slc-vv-20250925t162115-20250925t162140-061146-079f87-004.xml\n",
      "INFO:eo_tools.S1.core_new:- Set up raster path /data/S1/partial/S1A_IW_SLC__1SDV_20250925T162113_20250925T162140_061146_079F87_FC6E.SAFE/measurement/s1a-iw1-slc-vv-20250925t162115-20250925t162140-061146-079f87-004.zarr\n",
      "INFO:eo_tools.S1.core_new:- Look for available OSV (Orbit State Vectors)\n",
      "INFO:eo_tools.S1.core_new:-- Restituted orbit found\n",
      "INFO:eo_tools.S1.core_new:Zarr raster found. Burst range from 2 to 2\n",
      "INFO:eo_tools.S1.core_new:S1IWSwath Initialization:\n",
      "INFO:eo_tools.S1.core_new:- Read metadata file /data/S1/partial/S1A_IW_SLC__1SDV_20250820T162112_20250820T162139_060621_078A99_3F14.SAFE/annotation/s1a-iw1-slc-vv-20250820t162114-20250820t162139-060621-078a99-004.xml\n",
      "INFO:eo_tools.S1.core_new:- Read calibration file /data/S1/partial/S1A_IW_SLC__1SDV_20250820T162112_20250820T162139_060621_078A99_3F14.SAFE/annotation/calibration/calibration-s1a-iw1-slc-vv-20250820t162114-20250820t162139-060621-078a99-004.xml\n",
      "INFO:eo_tools.S1.core_new:- Set up raster path /data/S1/partial/S1A_IW_SLC__1SDV_20250820T162112_20250820T162139_060621_078A99_3F14.SAFE/measurement/s1a-iw1-slc-vv-20250820t162114-20250820t162139-060621-078a99-004.zarr\n",
      "INFO:eo_tools.S1.core_new:- Look for available OSV (Orbit State Vectors)\n",
      "INFO:eo_tools.S1.core_new:-- Precise orbit found\n",
      "INFO:__main__:---- Processing burst 2 ----\n",
      "INFO:eo_tools.S1.core_new:--DEM already on disk\n",
      "INFO:eo_tools.S1.core_new:Resample DEM and extract coordinates\n",
      "INFO:eo_tools.S1.core_new:Convert latitude, longitude & altitude to ECEF x, y & z\n",
      "INFO:eo_tools.S1.core_new:Interpolate orbit\n",
      "INFO:eo_tools.S1.core_new:Range-Doppler terrain correction (LUT computation)\n",
      "INFO:eo_tools.S1.core_new:Resample DEM and extract coordinates\n",
      "INFO:eo_tools.S1.core_new:Convert latitude, longitude & altitude to ECEF x, y & z\n",
      "INFO:eo_tools.S1.core_new:Interpolate orbit\n",
      "INFO:eo_tools.S1.core_new:Range-Doppler terrain correction (LUT computation)\n",
      "INFO:eo_tools.S1.core_new:Compute beta nought calibration factor.\n",
      "INFO:eo_tools.S1.core_new:Compute beta nought calibration factor.\n",
      "INFO:eo_tools.S1.core_new:Compute TOPS deramping phase\n",
      "INFO:eo_tools.S1.core_new:Project secondary coordinates to primary grid.\n"
     ]
    },
    {
     "ename": "TypingError",
     "evalue": "Failed in nopython mode pipeline (step: nopython frontend)\n\u001b[1m\u001b[1m\u001b[1mnon-precise type pyobject\u001b[0m\n\u001b[0m\u001b[1mDuring: typing of argument at /eo_tools/eo_tools/S1/core_new.py (752)\u001b[0m\n\u001b[1m\nFile \"../eo_tools/S1/core_new.py\", line 752:\u001b[0m\n\u001b[1mdef coregister(arr_p, az_p2g, rg_p2g, az_s2g, rg_s2g):\n    <source elided>\n\n\u001b[1m@njit(nogil=True, parallel=True, cache=True)\n\u001b[0m\u001b[1m^\u001b[0m\u001b[0m\n\n\u001b[0m\u001b[1mDuring: Pass nopython_type_inference\u001b[0m \n\nThis error may have been caused by the following argument(s):\n- argument 0: \u001b[1mCannot determine Numba type of <class 'xarray.core.dataarray.DataArray'>\u001b[0m \n\nThis error may have been caused by the following argument(s):\n- argument 0: \u001b[1mCannot determine Numba type of <class 'dask.array.core.Array'>\u001b[0m \n\nThis error may have been caused by the following argument(s):\n- argument 0: \u001b[1mCannot determine Numba type of <class 'xarray.core.dataarray.DataArray'>\u001b[0m\n",
     "output_type": "error",
     "traceback": [
      "\u001b[31m---------------------------------------------------------------------------\u001b[39m",
      "\u001b[31mTypingError\u001b[39m                               Traceback (most recent call last)",
      "\u001b[36mCell\u001b[39m\u001b[36m \u001b[39m\u001b[32mIn[7]\u001b[39m\u001b[32m, line 36\u001b[39m\n\u001b[32m     33\u001b[39m arr_s_de = arr_s * np.exp(\u001b[32m1\u001b[39mj * pdb_s).astype(np.complex64)\n\u001b[32m     35\u001b[39m \u001b[38;5;66;03m# project slave LUT into master grid\u001b[39;00m\n\u001b[32m---> \u001b[39m\u001b[32m36\u001b[39m az_s2p, rg_s2p = \u001b[43mcoregister\u001b[49m\u001b[43m(\u001b[49m\u001b[43marr_p\u001b[49m\u001b[43m.\u001b[49m\u001b[43mcompute\u001b[49m\u001b[43m(\u001b[49m\u001b[43m)\u001b[49m\u001b[43m,\u001b[49m\u001b[43m \u001b[49m\u001b[43maz_p2g\u001b[49m\u001b[43m,\u001b[49m\u001b[43m \u001b[49m\u001b[43mrg_p2g\u001b[49m\u001b[43m,\u001b[49m\u001b[43m \u001b[49m\u001b[43maz_s2g\u001b[49m\u001b[43m,\u001b[49m\u001b[43m \u001b[49m\u001b[43mrg_s2g\u001b[49m\u001b[43m)\u001b[49m\n\u001b[32m     38\u001b[39m \u001b[38;5;66;03m# warp raster slave and deramping phase\u001b[39;00m\n\u001b[32m     39\u001b[39m arr_s2p = align(arr_s_de.compute(), az_s2p, rg_s2p, kernel=\u001b[33m\"\u001b[39m\u001b[33mbicubic\u001b[39m\u001b[33m\"\u001b[39m)\n",
      "\u001b[36mFile \u001b[39m\u001b[32m/eo_tools/eo_tools/S1/core_new.py:749\u001b[39m, in \u001b[36mcoregister\u001b[39m\u001b[34m(arr_p, az_p2g, rg_p2g, az_s2g, rg_s2g)\u001b[39m\n\u001b[32m    736\u001b[39m \u001b[38;5;250m\u001b[39m\u001b[33;03m\"\"\"Fast parallel coregistration based on lookup-tables in a DEM geometry.\u001b[39;00m\n\u001b[32m    737\u001b[39m \n\u001b[32m    738\u001b[39m \u001b[33;03mArgs:\u001b[39;00m\n\u001b[32m   (...)\u001b[39m\u001b[32m    746\u001b[39m \u001b[33;03m    (array, array): az_co and rg_co are azimuth range of the secondary expressed in the primary geometry\u001b[39;00m\n\u001b[32m    747\u001b[39m \u001b[33;03m\"\"\"\u001b[39;00m\n\u001b[32m    748\u001b[39m log.info(\u001b[33m\"\u001b[39m\u001b[33mProject secondary coordinates to primary grid.\u001b[39m\u001b[33m\"\u001b[39m)\n\u001b[32m--> \u001b[39m\u001b[32m749\u001b[39m \u001b[38;5;28;01mreturn\u001b[39;00m \u001b[43mcoreg_fast\u001b[49m\u001b[43m(\u001b[49m\u001b[43marr_p\u001b[49m\u001b[43m,\u001b[49m\u001b[43m \u001b[49m\u001b[43maz_p2g\u001b[49m\u001b[43m,\u001b[49m\u001b[43m \u001b[49m\u001b[43mrg_p2g\u001b[49m\u001b[43m,\u001b[49m\u001b[43m \u001b[49m\u001b[43maz_s2g\u001b[49m\u001b[43m,\u001b[49m\u001b[43m \u001b[49m\u001b[43mrg_s2g\u001b[49m\u001b[43m)\u001b[49m\n",
      "\u001b[36mFile \u001b[39m\u001b[32m~/micromamba/envs/eo_tools/lib/python3.12/site-packages/numba/core/dispatcher.py:424\u001b[39m, in \u001b[36m_DispatcherBase._compile_for_args\u001b[39m\u001b[34m(self, *args, **kws)\u001b[39m\n\u001b[32m    420\u001b[39m         msg = (\u001b[33mf\u001b[39m\u001b[33m\"\u001b[39m\u001b[38;5;132;01m{\u001b[39;00m\u001b[38;5;28mstr\u001b[39m(e).rstrip()\u001b[38;5;132;01m}\u001b[39;00m\u001b[33m \u001b[39m\u001b[38;5;130;01m\\n\u001b[39;00m\u001b[38;5;130;01m\\n\u001b[39;00m\u001b[33mThis error may have been caused \u001b[39m\u001b[33m\"\u001b[39m\n\u001b[32m    421\u001b[39m                \u001b[33mf\u001b[39m\u001b[33m\"\u001b[39m\u001b[33mby the following argument(s):\u001b[39m\u001b[38;5;130;01m\\n\u001b[39;00m\u001b[38;5;132;01m{\u001b[39;00margs_str\u001b[38;5;132;01m}\u001b[39;00m\u001b[38;5;130;01m\\n\u001b[39;00m\u001b[33m\"\u001b[39m)\n\u001b[32m    422\u001b[39m         e.patch_message(msg)\n\u001b[32m--> \u001b[39m\u001b[32m424\u001b[39m     \u001b[43merror_rewrite\u001b[49m\u001b[43m(\u001b[49m\u001b[43me\u001b[49m\u001b[43m,\u001b[49m\u001b[43m \u001b[49m\u001b[33;43m'\u001b[39;49m\u001b[33;43mtyping\u001b[39;49m\u001b[33;43m'\u001b[39;49m\u001b[43m)\u001b[49m\n\u001b[32m    425\u001b[39m \u001b[38;5;28;01mexcept\u001b[39;00m errors.UnsupportedError \u001b[38;5;28;01mas\u001b[39;00m e:\n\u001b[32m    426\u001b[39m     \u001b[38;5;66;03m# Something unsupported is present in the user code, add help info\u001b[39;00m\n\u001b[32m    427\u001b[39m     error_rewrite(e, \u001b[33m'\u001b[39m\u001b[33munsupported_error\u001b[39m\u001b[33m'\u001b[39m)\n",
      "\u001b[36mFile \u001b[39m\u001b[32m~/micromamba/envs/eo_tools/lib/python3.12/site-packages/numba/core/dispatcher.py:365\u001b[39m, in \u001b[36m_DispatcherBase._compile_for_args.<locals>.error_rewrite\u001b[39m\u001b[34m(e, issue_type)\u001b[39m\n\u001b[32m    363\u001b[39m     \u001b[38;5;28;01mraise\u001b[39;00m e\n\u001b[32m    364\u001b[39m \u001b[38;5;28;01melse\u001b[39;00m:\n\u001b[32m--> \u001b[39m\u001b[32m365\u001b[39m     \u001b[38;5;28;01mraise\u001b[39;00m e.with_traceback(\u001b[38;5;28;01mNone\u001b[39;00m)\n",
      "\u001b[31mTypingError\u001b[39m: Failed in nopython mode pipeline (step: nopython frontend)\n\u001b[1m\u001b[1m\u001b[1mnon-precise type pyobject\u001b[0m\n\u001b[0m\u001b[1mDuring: typing of argument at /eo_tools/eo_tools/S1/core_new.py (752)\u001b[0m\n\u001b[1m\nFile \"../eo_tools/S1/core_new.py\", line 752:\u001b[0m\n\u001b[1mdef coregister(arr_p, az_p2g, rg_p2g, az_s2g, rg_s2g):\n    <source elided>\n\n\u001b[1m@njit(nogil=True, parallel=True, cache=True)\n\u001b[0m\u001b[1m^\u001b[0m\u001b[0m\n\n\u001b[0m\u001b[1mDuring: Pass nopython_type_inference\u001b[0m \n\nThis error may have been caused by the following argument(s):\n- argument 0: \u001b[1mCannot determine Numba type of <class 'xarray.core.dataarray.DataArray'>\u001b[0m \n\nThis error may have been caused by the following argument(s):\n- argument 0: \u001b[1mCannot determine Numba type of <class 'dask.array.core.Array'>\u001b[0m \n\nThis error may have been caused by the following argument(s):\n- argument 0: \u001b[1mCannot determine Numba type of <class 'xarray.core.dataarray.DataArray'>\u001b[0m\n"
     ]
    }
   ],
   "source": [
    "ifgs = []\n",
    "lut = []\n",
    "dems = []\n",
    "\n",
    "prm = S1IWSwath(primary_path, iw=iw, pol=pol)\n",
    "sec = S1IWSwath(secondary_path, iw=iw, pol=pol)\n",
    "# overlap = np.round(prm.compute_burst_overlap(2)).astype(int)\n",
    "\n",
    "for burst_idx in range(min_burst, max_burst + 1):\n",
    "    log.info(f\"---- Processing burst {burst_idx} ----\")\n",
    "\n",
    "    # compute geocoding LUTs for master and slave bursts\n",
    "    dem_file = prm.fetch_dem_burst(burst_idx, dem_dir=\"/data/tmp\", force_download=False)\n",
    "    az_p2g, rg_p2g = prm.geocode_burst(\n",
    "        dem_file, burst_idx=burst_idx, dem_upsampling=up\n",
    "    )\n",
    "    az_s2g, rg_s2g = sec.geocode_burst(\n",
    "        dem_file, burst_idx=burst_idx, dem_upsampling=up\n",
    "    )\n",
    "\n",
    "    # read primary and secondary burst raster\n",
    "    arr_p = prm.read_burst(burst_idx, True)\n",
    "    arr_s = sec.read_burst(burst_idx, True)\n",
    "\n",
    "    # radiometric calibration \n",
    "    cal_p = prm.calibration_factor(burst_idx, cal_type=\"beta\")\n",
    "    arr_p /= cal_p\n",
    "    cal_s = sec.calibration_factor(burst_idx, cal_type=\"beta\")\n",
    "    arr_s /= cal_s\n",
    "\n",
    "    # deramp secondary\n",
    "    pdb_s = sec.deramp_burst(burst_idx)\n",
    "    arr_s_de = arr_s * np.exp(1j * pdb_s).astype(np.complex64)\n",
    "\n",
    "    # project slave LUT into master grid\n",
    "    az_s2p, rg_s2p = coregister(arr_p.compute(), az_p2g, rg_p2g, az_s2g, rg_s2g)\n",
    "\n",
    "    # warp raster slave and deramping phase\n",
    "    arr_s2p = align(arr_s_de.compute(), az_s2p, rg_s2p, kernel=\"bicubic\")\n",
    "    pdb_s2p = align(pdb_s.compute(), az_s2p, rg_s2p, kernel=\"bicubic\")\n",
    "\n",
    "    # reramp slave\n",
    "    arr_s2p = arr_s2p * np.exp(-1j * pdb_s2p).astype(np.complex64)\n",
    "\n",
    "    # compute topographic phases\n",
    "    rg_p = np.zeros(arr_s.shape[0])[:, None] + np.arange(0, arr_s.shape[1])\n",
    "    pht_p = prm.phi_topo(rg_p).reshape(*arr_p.shape)\n",
    "    pht_s = sec.phi_topo(rg_s2p.ravel()).reshape(*arr_p.shape)\n",
    "    pha_topo = np.exp(-1j * (pht_p - pht_s)).astype(np.complex64)\n",
    "\n",
    "    # interferogram without topographic phase\n",
    "    ifg = arr_s2p.conj() * arr_p * pha_topo.conj()\n",
    "\n",
    "    # normalize complex coherences\n",
    "    # ifgs.append(ifg)\n",
    "    # lut.append((az_p2g, rg_p2g))\n",
    "    # dems.append(dem_file)"
   ]
  },
  {
   "cell_type": "markdown",
   "metadata": {},
   "source": [
    "# Apply fast ESD to correct phase jumps"
   ]
  },
  {
   "cell_type": "code",
   "execution_count": null,
   "metadata": {},
   "outputs": [],
   "source": [
    "from eo_tools.S1.core import fast_esd\n",
    "fast_esd(ifgs, overlap)"
   ]
  },
  {
   "cell_type": "markdown",
   "metadata": {},
   "source": [
    "# Stitch bursts in a single image"
   ]
  },
  {
   "cell_type": "code",
   "execution_count": null,
   "metadata": {},
   "outputs": [],
   "source": [
    "from eo_tools.S1.core import stitch_bursts\n",
    "img = stitch_bursts(ifgs, overlap)"
   ]
  },
  {
   "cell_type": "markdown",
   "metadata": {},
   "source": [
    "# Reproject and merge complex interferograms"
   ]
  },
  {
   "cell_type": "code",
   "execution_count": null,
   "metadata": {},
   "outputs": [],
   "source": [
    "from eo_tools.S1.core import resample\n",
    "import rioxarray as riox\n",
    "from rioxarray.merge import merge_arrays\n",
    "from eo_tools.auxils import remove\n",
    "\n",
    "mlt_az = 2\n",
    "mlt_rg = 8\n",
    "\n",
    "off = 0\n",
    "H = int(overlap / 2)\n",
    "phi_out = presum(img, mlt_az, mlt_rg)\n",
    "naz = ifgs[0].shape[0]\n",
    "list_ifg = []\n",
    "files_to_remove = []\n",
    "for i in range(min_burst, max_burst + 1):\n",
    "    log.info(f\"Resample burst {i}\")\n",
    "    az_mst, rg_mst = lut[i - min_burst]\n",
    "    dem_file = dems[i - min_burst]\n",
    "    cnd = (az_mst >= H - 4) & (az_mst < naz - H + 4)\n",
    "    az_mst2 = az_mst.copy()\n",
    "    rg_mst2 = rg_mst.copy()\n",
    "    az_mst2[~cnd] = np.nan\n",
    "    rg_mst2[~cnd] = np.nan\n",
    "\n",
    "    ifg_file = f\"{out_dir}/remap_burst_{i}_ifg.tif\"\n",
    "    files_to_remove.append(ifg_file)\n",
    "\n",
    "    # does the job but not very elegant\n",
    "    if i == min_burst:\n",
    "        off2 = off\n",
    "    else:\n",
    "        off2 = off - H\n",
    "    resample(\n",
    "        phi_out,\n",
    "        dem_file,\n",
    "        ifg_file,\n",
    "        (az_mst2 + off2) / mlt_az,\n",
    "        (rg_mst2) / mlt_rg,\n",
    "        kernel=\"bicubic\",\n",
    "    )\n",
    "    if i == min_burst:\n",
    "        off += naz - H\n",
    "    else:\n",
    "        off += naz - 2 * H\n",
    "\n",
    "    list_ifg.append(riox.open_rasterio(ifg_file))\n",
    "\n",
    "merged_ifg = merge_arrays(list_ifg)\n",
    "merged_ifg.rio.to_raster(f\"{out_dir}/merged_ifg.tif\")\n",
    "\n",
    "for fname in files_to_remove:\n",
    "    remove(fname)"
   ]
  },
  {
   "cell_type": "markdown",
   "metadata": {},
   "source": [
    "# Compute phase"
   ]
  },
  {
   "cell_type": "code",
   "execution_count": null,
   "metadata": {},
   "outputs": [],
   "source": [
    "import xarray as xr\n",
    "# Finite no data value for TiTiler\n",
    "nodata = -9999\n",
    "# avoid metadata being lost in arithmetic opetations\n",
    "xr.set_options(keep_attrs=True)\n",
    "ifg = riox.open_rasterio(f\"{out_dir}/merged_ifg.tif\")\n",
    "phi = np.arctan2(ifg[1], ifg[0])\n",
    "phi = phi.fillna(nodata)\n",
    "phi.attrs[\"_FillValue\"] = nodata\n",
    "phi.rio.to_raster(f\"{out_dir}/merged_phi.tif\", nodata=nodata)"
   ]
  },
  {
   "cell_type": "markdown",
   "metadata": {},
   "source": [
    "# Visualize"
   ]
  },
  {
   "cell_type": "code",
   "execution_count": null,
   "metadata": {},
   "outputs": [],
   "source": [
    "show_insar_phi(f\"{out_dir}/merged_phi.tif\")"
   ]
  }
 ],
 "metadata": {
  "kernelspec": {
   "display_name": "eo_tools",
   "language": "python",
   "name": "python3"
  },
  "language_info": {
   "codemirror_mode": {
    "name": "ipython",
    "version": 3
   },
   "file_extension": ".py",
   "mimetype": "text/x-python",
   "name": "python",
   "nbconvert_exporter": "python",
   "pygments_lexer": "ipython3",
   "version": "3.12.11"
  }
 },
 "nbformat": 4,
 "nbformat_minor": 2
}
