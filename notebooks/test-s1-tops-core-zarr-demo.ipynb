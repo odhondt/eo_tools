{
 "cells": [
  {
   "cell_type": "code",
   "execution_count": null,
   "metadata": {},
   "outputs": [],
   "source": [
    "%load_ext autoreload\n",
    "%autoreload 2\n",
    "from eo_tools.S1.core_new import S1IWSwath\n",
    "from eo_tools.S1.core_new import align, coregister\n",
    "from eo_tools_dev.util import show_insar_phi\n",
    "\n",
    "from eo_tools.S1.util import presum\n",
    "import numpy as np\n",
    "import os\n",
    "\n",
    "import logging\n",
    "logging.basicConfig(level=logging.INFO)\n",
    "log = logging.getLogger(__name__)"
   ]
  },
  {
   "cell_type": "markdown",
   "metadata": {},
   "source": [
    "# Parameter setup"
   ]
  },
  {
   "cell_type": "code",
   "execution_count": null,
   "metadata": {},
   "outputs": [],
   "source": [
    "# change with directory containing your S1 products\n",
    "data_dir = \"/data/res/test_partial_product/\"\n",
    "# change with directory containing the results\n",
    "out_dir = \"/data/res/test-zarr\"\n",
    "if not os.path.isdir(out_dir):\n",
    "    os.mkdir(out_dir)\n",
    "\n",
    "# replace with already downloaded and unzipped products (see the other notebooks to download such products)\n",
    "primary_path = f\"{data_dir}/S1C_IW_SLC__1SDV_20250930T062813_20250930T062840_004350_0089FE_0756.SAFE\"\n",
    "# secondary_path = f\"{data_dir}/S1A_IW_SLC__1SDV_20230916T063730_20230916T063757_050349_060FCD_6814.zip\"\n",
    "\n",
    "# subswath to process\n",
    "iw = 3\n",
    "# polarization\n",
    "pol = \"vv\"\n",
    "# DEM upsampling\n",
    "up = 1.8\n",
    "\n",
    "min_burst = 3\n",
    "max_burst = 4"
   ]
  },
  {
   "cell_type": "markdown",
   "metadata": {},
   "source": [
    "# Process individual bursts"
   ]
  },
  {
   "cell_type": "code",
   "execution_count": null,
   "metadata": {},
   "outputs": [],
   "source": [
    "ifgs = []\n",
    "lut = []\n",
    "dems = []\n",
    "\n",
    "prm = S1IWSwath(primary_path, iw=iw, pol=pol)\n",
    "# sec = S1IWSwath(secondary_path, iw=iw, pol=pol)\n",
    "# overlap = np.round(prm.compute_burst_overlap(2)).astype(int)\n",
    "\n",
    "for burst_idx in range(min_burst, max_burst + 1):\n",
    "    log.info(f\"---- Processing burst {burst_idx} ----\")\n",
    "\n",
    "    # compute geocoding LUTs for master and slave bursts\n",
    "    dem_file = prm.fetch_dem_burst(burst_idx, dem_dir=\"/data/tmp\", force_download=False)\n",
    "    az_p2g, rg_p2g = prm.geocode_burst(\n",
    "        dem_file, burst_idx=burst_idx, dem_upsampling=up\n",
    "    )\n",
    "    # az_s2g, rg_s2g = sec.geocode_burst(\n",
    "        # dem_file, burst_idx=burst_idx, dem_upsampling=up\n",
    "    # )\n",
    "\n",
    "    # read primary and secondary burst raster\n",
    "    arr_p = prm.read_burst(burst_idx, True)\n",
    "    # arr_s = sec.read_burst(burst_idx, True)\n",
    "\n",
    "    # radiometric calibration \n",
    "    cal_p = prm.calibration_factor(burst_idx, cal_type=\"beta\")\n",
    "    arr_p /= cal_p\n",
    "    # cal_s = sec.calibration_factor(burst_idx, cal_type=\"beta\")\n",
    "    # arr_s /= cal_s\n",
    "\n",
    "    # deramp secondary\n",
    "    # pdb_s = sec.deramp_burst(burst_idx)\n",
    "    # arr_s_de = arr_s * np.exp(1j * pdb_s).astype(np.complex64)\n",
    "\n",
    "    # project slave LUT into master grid\n",
    "    # az_s2p, rg_s2p = coregister(arr_p, az_p2g, rg_p2g, az_s2g, rg_s2g)\n",
    "\n",
    "    # warp raster slave and deramping phase\n",
    "    # arr_s2p = align(arr_s_de, az_s2p, rg_s2p, kernel=\"bicubic\")\n",
    "    # pdb_s2p = align(pdb_s, az_s2p, rg_s2p, kernel=\"bicubic\")\n",
    "\n",
    "    # reramp slave\n",
    "    # arr_s2p = arr_s2p * np.exp(-1j * pdb_s2p).astype(np.complex64)\n",
    "\n",
    "    # compute topographic phases\n",
    "    # rg_p = np.zeros(arr_s.shape[0])[:, None] + np.arange(0, arr_s.shape[1])\n",
    "    # pht_p = prm.phi_topo(rg_p).reshape(*arr_p.shape)\n",
    "    # pht_s = sec.phi_topo(rg_s2p.ravel()).reshape(*arr_p.shape)\n",
    "    # pha_topo = np.exp(-1j * (pht_p - pht_s)).astype(np.complex64)\n",
    "\n",
    "    # interferogram without topographic phase\n",
    "    # ifg = arr_s2p.conj() * arr_p * pha_topo.conj()\n",
    "\n",
    "    # normalize complex coherences\n",
    "    # ifgs.append(ifg)\n",
    "    # lut.append((az_p2g, rg_p2g))\n",
    "    # dems.append(dem_file)"
   ]
  },
  {
   "cell_type": "markdown",
   "metadata": {},
   "source": [
    "# Apply fast ESD to correct phase jumps"
   ]
  },
  {
   "cell_type": "code",
   "execution_count": null,
   "metadata": {},
   "outputs": [],
   "source": [
    "from eo_tools.S1.core import fast_esd\n",
    "fast_esd(ifgs, overlap)"
   ]
  },
  {
   "cell_type": "markdown",
   "metadata": {},
   "source": [
    "# Stitch bursts in a single image"
   ]
  },
  {
   "cell_type": "code",
   "execution_count": null,
   "metadata": {},
   "outputs": [],
   "source": [
    "from eo_tools.S1.core import stitch_bursts\n",
    "img = stitch_bursts(ifgs, overlap)"
   ]
  },
  {
   "cell_type": "markdown",
   "metadata": {},
   "source": [
    "# Reproject and merge complex interferograms"
   ]
  },
  {
   "cell_type": "code",
   "execution_count": null,
   "metadata": {},
   "outputs": [],
   "source": [
    "from eo_tools.S1.core import resample\n",
    "import rioxarray as riox\n",
    "from rioxarray.merge import merge_arrays\n",
    "from eo_tools.auxils import remove\n",
    "\n",
    "mlt_az = 2\n",
    "mlt_rg = 8\n",
    "\n",
    "off = 0\n",
    "H = int(overlap / 2)\n",
    "phi_out = presum(img, mlt_az, mlt_rg)\n",
    "naz = ifgs[0].shape[0]\n",
    "list_ifg = []\n",
    "files_to_remove = []\n",
    "for i in range(min_burst, max_burst + 1):\n",
    "    log.info(f\"Resample burst {i}\")\n",
    "    az_mst, rg_mst = lut[i - min_burst]\n",
    "    dem_file = dems[i - min_burst]\n",
    "    cnd = (az_mst >= H - 4) & (az_mst < naz - H + 4)\n",
    "    az_mst2 = az_mst.copy()\n",
    "    rg_mst2 = rg_mst.copy()\n",
    "    az_mst2[~cnd] = np.nan\n",
    "    rg_mst2[~cnd] = np.nan\n",
    "\n",
    "    ifg_file = f\"{out_dir}/remap_burst_{i}_ifg.tif\"\n",
    "    files_to_remove.append(ifg_file)\n",
    "\n",
    "    # does the job but not very elegant\n",
    "    if i == min_burst:\n",
    "        off2 = off\n",
    "    else:\n",
    "        off2 = off - H\n",
    "    resample(\n",
    "        phi_out,\n",
    "        dem_file,\n",
    "        ifg_file,\n",
    "        (az_mst2 + off2) / mlt_az,\n",
    "        (rg_mst2) / mlt_rg,\n",
    "        kernel=\"bicubic\",\n",
    "    )\n",
    "    if i == min_burst:\n",
    "        off += naz - H\n",
    "    else:\n",
    "        off += naz - 2 * H\n",
    "\n",
    "    list_ifg.append(riox.open_rasterio(ifg_file))\n",
    "\n",
    "merged_ifg = merge_arrays(list_ifg)\n",
    "merged_ifg.rio.to_raster(f\"{out_dir}/merged_ifg.tif\")\n",
    "\n",
    "for fname in files_to_remove:\n",
    "    remove(fname)"
   ]
  },
  {
   "cell_type": "markdown",
   "metadata": {},
   "source": [
    "# Compute phase"
   ]
  },
  {
   "cell_type": "code",
   "execution_count": null,
   "metadata": {},
   "outputs": [],
   "source": [
    "import xarray as xr\n",
    "# Finite no data value for TiTiler\n",
    "nodata = -9999\n",
    "# avoid metadata being lost in arithmetic opetations\n",
    "xr.set_options(keep_attrs=True)\n",
    "ifg = riox.open_rasterio(f\"{out_dir}/merged_ifg.tif\")\n",
    "phi = np.arctan2(ifg[1], ifg[0])\n",
    "phi = phi.fillna(nodata)\n",
    "phi.attrs[\"_FillValue\"] = nodata\n",
    "phi.rio.to_raster(f\"{out_dir}/merged_phi.tif\", nodata=nodata)"
   ]
  },
  {
   "cell_type": "markdown",
   "metadata": {},
   "source": [
    "# Visualize"
   ]
  },
  {
   "cell_type": "code",
   "execution_count": null,
   "metadata": {},
   "outputs": [],
   "source": [
    "show_insar_phi(f\"{out_dir}/merged_phi.tif\")"
   ]
  }
 ],
 "metadata": {
  "kernelspec": {
   "display_name": "eo_tools",
   "language": "python",
   "name": "python3"
  },
  "language_info": {
   "codemirror_mode": {
    "name": "ipython",
    "version": 3
   },
   "file_extension": ".py",
   "mimetype": "text/x-python",
   "name": "python",
   "nbconvert_exporter": "python",
   "pygments_lexer": "ipython3",
   "version": "3.12.11"
  }
 },
 "nbformat": 4,
 "nbformat_minor": 2
}
